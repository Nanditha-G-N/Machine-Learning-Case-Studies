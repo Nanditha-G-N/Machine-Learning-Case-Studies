{
 "cells": [
  {
   "cell_type": "markdown",
   "metadata": {},
   "source": [
    "# Market Mix Modelling for an e-commerce firm\n",
    "\n",
    "#### Problem statment:\n",
    "\n",
    "Eleckart, an e-commerce firm based out of Ontario, Canada spends a significant amount of money on marketing. The marketing budget is spent on commercials, online campaigns and pricing & promotion strategies. Eleckart’s CFO feels that the money spent over the last 12 months did not have enough impact and that the budget can be cut or optimally reallocated across marketing levers to improve revenue.\n",
    "\n",
    "#### Goal:\n",
    "As part of the marketing team, which is working on budget optimisation, we need to develop a market mix model with the following objectives:\n",
    "\n",
    "- Observe the actual impact of different marketing variables over the last one year\n",
    "- Recommend the optimal budget allocation for different marketing levers for the next year\n"
   ]
  },
  {
   "cell_type": "code",
   "execution_count": 399,
   "metadata": {},
   "outputs": [],
   "source": [
    "# import libraties\n",
    "import pandas as pd\n",
    "import numpy as np\n",
    "import matplotlib.pyplot as plt\n",
    "\n",
    "# hide warnings\n",
    "import warnings\n",
    "warnings.filterwarnings('ignore')"
   ]
  },
  {
   "cell_type": "markdown",
   "metadata": {},
   "source": [
    "# Phase 1: Understanding the data"
   ]
  },
  {
   "cell_type": "markdown",
   "metadata": {},
   "source": [
    "## 1.1 Understanding order level data - Nanditha"
   ]
  },
  {
   "cell_type": "code",
   "execution_count": 818,
   "metadata": {},
   "outputs": [],
   "source": [
    "products = pd.read_csv('ConsumerElectronics.csv', encoding='ISO-8859-1',dtype={'order_id':'Int64', 'order_item_id':'Int64',\n",
    "                                                                         'cust_id':'str','pincode':'str','gmv':'str'},parse_dates =['order_date'])\n"
   ]
  },
  {
   "cell_type": "code",
   "execution_count": 819,
   "metadata": {},
   "outputs": [
    {
     "data": {
      "text/html": [
       "<div>\n",
       "<style scoped>\n",
       "    .dataframe tbody tr th:only-of-type {\n",
       "        vertical-align: middle;\n",
       "    }\n",
       "\n",
       "    .dataframe tbody tr th {\n",
       "        vertical-align: top;\n",
       "    }\n",
       "\n",
       "    .dataframe thead th {\n",
       "        text-align: right;\n",
       "    }\n",
       "</style>\n",
       "<table border=\"1\" class=\"dataframe\">\n",
       "  <thead>\n",
       "    <tr style=\"text-align: right;\">\n",
       "      <th></th>\n",
       "      <th>fsn_id</th>\n",
       "      <th>order_date</th>\n",
       "      <th>Year</th>\n",
       "      <th>Month</th>\n",
       "      <th>order_id</th>\n",
       "      <th>order_item_id</th>\n",
       "      <th>gmv</th>\n",
       "      <th>units</th>\n",
       "      <th>deliverybdays</th>\n",
       "      <th>deliverycdays</th>\n",
       "      <th>s1_fact.order_payment_type</th>\n",
       "      <th>sla</th>\n",
       "      <th>cust_id</th>\n",
       "      <th>pincode</th>\n",
       "      <th>product_analytic_super_category</th>\n",
       "      <th>product_analytic_category</th>\n",
       "      <th>product_analytic_sub_category</th>\n",
       "      <th>product_analytic_vertical</th>\n",
       "      <th>product_mrp</th>\n",
       "      <th>product_procurement_sla</th>\n",
       "    </tr>\n",
       "  </thead>\n",
       "  <tbody>\n",
       "    <tr>\n",
       "      <th>0</th>\n",
       "      <td>ACCCX3S58G7B5F6P</td>\n",
       "      <td>2015-10-17 15:11:54</td>\n",
       "      <td>2015</td>\n",
       "      <td>10</td>\n",
       "      <td>3419300926147000</td>\n",
       "      <td>3419300926147000</td>\n",
       "      <td>6400</td>\n",
       "      <td>1</td>\n",
       "      <td>\\N</td>\n",
       "      <td>\\N</td>\n",
       "      <td>COD</td>\n",
       "      <td>5</td>\n",
       "      <td>-1.01299130778588E+018</td>\n",
       "      <td>-7.79175582905735E+018</td>\n",
       "      <td>CE</td>\n",
       "      <td>CameraAccessory</td>\n",
       "      <td>CameraAccessory</td>\n",
       "      <td>CameraTripod</td>\n",
       "      <td>7190</td>\n",
       "      <td>0</td>\n",
       "    </tr>\n",
       "    <tr>\n",
       "      <th>1</th>\n",
       "      <td>ACCCX3S58G7B5F6P</td>\n",
       "      <td>2015-10-19 10:07:22</td>\n",
       "      <td>2015</td>\n",
       "      <td>10</td>\n",
       "      <td>1420830839915200</td>\n",
       "      <td>1420830839915200</td>\n",
       "      <td>6900</td>\n",
       "      <td>1</td>\n",
       "      <td>\\N</td>\n",
       "      <td>\\N</td>\n",
       "      <td>COD</td>\n",
       "      <td>7</td>\n",
       "      <td>-8.99032457905512E+018</td>\n",
       "      <td>7.33541149097431E+018</td>\n",
       "      <td>CE</td>\n",
       "      <td>CameraAccessory</td>\n",
       "      <td>CameraAccessory</td>\n",
       "      <td>CameraTripod</td>\n",
       "      <td>7190</td>\n",
       "      <td>0</td>\n",
       "    </tr>\n",
       "    <tr>\n",
       "      <th>2</th>\n",
       "      <td>ACCCX3S5AHMF55FV</td>\n",
       "      <td>2015-10-20 15:45:56</td>\n",
       "      <td>2015</td>\n",
       "      <td>10</td>\n",
       "      <td>2421912925714800</td>\n",
       "      <td>2421912925714800</td>\n",
       "      <td>1990</td>\n",
       "      <td>1</td>\n",
       "      <td>\\N</td>\n",
       "      <td>\\N</td>\n",
       "      <td>COD</td>\n",
       "      <td>10</td>\n",
       "      <td>-1.0404429420466E+018</td>\n",
       "      <td>-7.47768776228657E+018</td>\n",
       "      <td>CE</td>\n",
       "      <td>CameraAccessory</td>\n",
       "      <td>CameraAccessory</td>\n",
       "      <td>CameraTripod</td>\n",
       "      <td>2099</td>\n",
       "      <td>3</td>\n",
       "    </tr>\n",
       "    <tr>\n",
       "      <th>3</th>\n",
       "      <td>ACCCX3S5AHMF55FV</td>\n",
       "      <td>2015-10-14 12:05:15</td>\n",
       "      <td>2015</td>\n",
       "      <td>10</td>\n",
       "      <td>4416592101738400</td>\n",
       "      <td>4416592101738400</td>\n",
       "      <td>1690</td>\n",
       "      <td>1</td>\n",
       "      <td>\\N</td>\n",
       "      <td>\\N</td>\n",
       "      <td>Prepaid</td>\n",
       "      <td>4</td>\n",
       "      <td>-7.60496084352714E+018</td>\n",
       "      <td>-5.83593163877661E+018</td>\n",
       "      <td>CE</td>\n",
       "      <td>CameraAccessory</td>\n",
       "      <td>CameraAccessory</td>\n",
       "      <td>CameraTripod</td>\n",
       "      <td>2099</td>\n",
       "      <td>3</td>\n",
       "    </tr>\n",
       "    <tr>\n",
       "      <th>4</th>\n",
       "      <td>ACCCX3S5AHMF55FV</td>\n",
       "      <td>2015-10-17 21:25:03</td>\n",
       "      <td>2015</td>\n",
       "      <td>10</td>\n",
       "      <td>4419525153426400</td>\n",
       "      <td>4419525153426400</td>\n",
       "      <td>1618</td>\n",
       "      <td>1</td>\n",
       "      <td>\\N</td>\n",
       "      <td>\\N</td>\n",
       "      <td>Prepaid</td>\n",
       "      <td>6</td>\n",
       "      <td>2.8945572083453E+018</td>\n",
       "      <td>5.34735360997242E+017</td>\n",
       "      <td>CE</td>\n",
       "      <td>CameraAccessory</td>\n",
       "      <td>CameraAccessory</td>\n",
       "      <td>CameraTripod</td>\n",
       "      <td>2099</td>\n",
       "      <td>3</td>\n",
       "    </tr>\n",
       "  </tbody>\n",
       "</table>\n",
       "</div>"
      ],
      "text/plain": [
       "             fsn_id          order_date  Year  Month          order_id  \\\n",
       "0  ACCCX3S58G7B5F6P 2015-10-17 15:11:54  2015     10  3419300926147000   \n",
       "1  ACCCX3S58G7B5F6P 2015-10-19 10:07:22  2015     10  1420830839915200   \n",
       "2  ACCCX3S5AHMF55FV 2015-10-20 15:45:56  2015     10  2421912925714800   \n",
       "3  ACCCX3S5AHMF55FV 2015-10-14 12:05:15  2015     10  4416592101738400   \n",
       "4  ACCCX3S5AHMF55FV 2015-10-17 21:25:03  2015     10  4419525153426400   \n",
       "\n",
       "      order_item_id   gmv  units deliverybdays deliverycdays  \\\n",
       "0  3419300926147000  6400      1            \\N            \\N   \n",
       "1  1420830839915200  6900      1            \\N            \\N   \n",
       "2  2421912925714800  1990      1            \\N            \\N   \n",
       "3  4416592101738400  1690      1            \\N            \\N   \n",
       "4  4419525153426400  1618      1            \\N            \\N   \n",
       "\n",
       "  s1_fact.order_payment_type  sla                 cust_id  \\\n",
       "0                        COD    5  -1.01299130778588E+018   \n",
       "1                        COD    7  -8.99032457905512E+018   \n",
       "2                        COD   10   -1.0404429420466E+018   \n",
       "3                    Prepaid    4  -7.60496084352714E+018   \n",
       "4                    Prepaid    6    2.8945572083453E+018   \n",
       "\n",
       "                  pincode product_analytic_super_category  \\\n",
       "0  -7.79175582905735E+018                              CE   \n",
       "1   7.33541149097431E+018                              CE   \n",
       "2  -7.47768776228657E+018                              CE   \n",
       "3  -5.83593163877661E+018                              CE   \n",
       "4   5.34735360997242E+017                              CE   \n",
       "\n",
       "  product_analytic_category product_analytic_sub_category  \\\n",
       "0           CameraAccessory               CameraAccessory   \n",
       "1           CameraAccessory               CameraAccessory   \n",
       "2           CameraAccessory               CameraAccessory   \n",
       "3           CameraAccessory               CameraAccessory   \n",
       "4           CameraAccessory               CameraAccessory   \n",
       "\n",
       "  product_analytic_vertical  product_mrp  product_procurement_sla  \n",
       "0              CameraTripod         7190                        0  \n",
       "1              CameraTripod         7190                        0  \n",
       "2              CameraTripod         2099                        3  \n",
       "3              CameraTripod         2099                        3  \n",
       "4              CameraTripod         2099                        3  "
      ]
     },
     "execution_count": 819,
     "metadata": {},
     "output_type": "execute_result"
    }
   ],
   "source": [
    "products.head()"
   ]
  },
  {
   "cell_type": "code",
   "execution_count": 820,
   "metadata": {},
   "outputs": [
    {
     "data": {
      "text/plain": [
       "4904"
      ]
     },
     "execution_count": 820,
     "metadata": {},
     "output_type": "execute_result"
    }
   ],
   "source": [
    "products['gmv']=pd.to_numeric(products.gmv,errors='coerce')\n",
    "products[products.gmv.isna()].fsn_id.count()"
   ]
  },
  {
   "cell_type": "code",
   "execution_count": 821,
   "metadata": {},
   "outputs": [
    {
     "data": {
      "text/plain": [
       "4904"
      ]
     },
     "execution_count": 821,
     "metadata": {},
     "output_type": "execute_result"
    }
   ],
   "source": [
    "products['cust_id']=pd.to_numeric(products.cust_id,errors='coerce')\n",
    "products[products.cust_id.isna()].fsn_id.count()"
   ]
  },
  {
   "cell_type": "code",
   "execution_count": 822,
   "metadata": {},
   "outputs": [
    {
     "data": {
      "text/plain": [
       "4904"
      ]
     },
     "execution_count": 822,
     "metadata": {},
     "output_type": "execute_result"
    }
   ],
   "source": [
    "products['pincode']=pd.to_numeric(products.pincode,errors='coerce')\n",
    "products[products.pincode.isna()].fsn_id.count()"
   ]
  },
  {
   "cell_type": "code",
   "execution_count": 823,
   "metadata": {},
   "outputs": [
    {
     "data": {
      "text/plain": [
       "1312972"
      ]
     },
     "execution_count": 823,
     "metadata": {},
     "output_type": "execute_result"
    }
   ],
   "source": [
    "products['deliverybdays']=pd.to_numeric(products.deliverybdays,errors='coerce')\n",
    "products[products.deliverybdays.isna()].fsn_id.count()"
   ]
  },
  {
   "cell_type": "code",
   "execution_count": 824,
   "metadata": {},
   "outputs": [
    {
     "data": {
      "text/plain": [
       "1312971"
      ]
     },
     "execution_count": 824,
     "metadata": {},
     "output_type": "execute_result"
    }
   ],
   "source": [
    "products['deliverycdays']=pd.to_numeric(products.deliverycdays,errors='coerce')\n",
    "products[products.deliverycdays.isna()].fsn_id.count()"
   ]
  },
  {
   "cell_type": "code",
   "execution_count": 825,
   "metadata": {},
   "outputs": [
    {
     "data": {
      "text/html": [
       "<div>\n",
       "<style scoped>\n",
       "    .dataframe tbody tr th:only-of-type {\n",
       "        vertical-align: middle;\n",
       "    }\n",
       "\n",
       "    .dataframe tbody tr th {\n",
       "        vertical-align: top;\n",
       "    }\n",
       "\n",
       "    .dataframe thead th {\n",
       "        text-align: right;\n",
       "    }\n",
       "</style>\n",
       "<table border=\"1\" class=\"dataframe\">\n",
       "  <thead>\n",
       "    <tr style=\"text-align: right;\">\n",
       "      <th></th>\n",
       "      <th>fsn_id</th>\n",
       "      <th>order_date</th>\n",
       "      <th>Year</th>\n",
       "      <th>Month</th>\n",
       "      <th>order_id</th>\n",
       "      <th>order_item_id</th>\n",
       "      <th>gmv</th>\n",
       "      <th>units</th>\n",
       "      <th>deliverybdays</th>\n",
       "      <th>deliverycdays</th>\n",
       "      <th>s1_fact.order_payment_type</th>\n",
       "      <th>sla</th>\n",
       "      <th>cust_id</th>\n",
       "      <th>pincode</th>\n",
       "      <th>product_analytic_super_category</th>\n",
       "      <th>product_analytic_category</th>\n",
       "      <th>product_analytic_sub_category</th>\n",
       "      <th>product_analytic_vertical</th>\n",
       "      <th>product_mrp</th>\n",
       "      <th>product_procurement_sla</th>\n",
       "    </tr>\n",
       "  </thead>\n",
       "  <tbody>\n",
       "    <tr>\n",
       "      <th>0</th>\n",
       "      <td>ACCCX3S58G7B5F6P</td>\n",
       "      <td>2015-10-17 15:11:54</td>\n",
       "      <td>2015</td>\n",
       "      <td>10</td>\n",
       "      <td>3419300926147000</td>\n",
       "      <td>3419300926147000</td>\n",
       "      <td>6400.0</td>\n",
       "      <td>1</td>\n",
       "      <td>NaN</td>\n",
       "      <td>NaN</td>\n",
       "      <td>COD</td>\n",
       "      <td>5</td>\n",
       "      <td>-1.012991e+18</td>\n",
       "      <td>-7.791756e+18</td>\n",
       "      <td>CE</td>\n",
       "      <td>CameraAccessory</td>\n",
       "      <td>CameraAccessory</td>\n",
       "      <td>CameraTripod</td>\n",
       "      <td>7190</td>\n",
       "      <td>0</td>\n",
       "    </tr>\n",
       "    <tr>\n",
       "      <th>1</th>\n",
       "      <td>ACCCX3S58G7B5F6P</td>\n",
       "      <td>2015-10-19 10:07:22</td>\n",
       "      <td>2015</td>\n",
       "      <td>10</td>\n",
       "      <td>1420830839915200</td>\n",
       "      <td>1420830839915200</td>\n",
       "      <td>6900.0</td>\n",
       "      <td>1</td>\n",
       "      <td>NaN</td>\n",
       "      <td>NaN</td>\n",
       "      <td>COD</td>\n",
       "      <td>7</td>\n",
       "      <td>-8.990325e+18</td>\n",
       "      <td>7.335411e+18</td>\n",
       "      <td>CE</td>\n",
       "      <td>CameraAccessory</td>\n",
       "      <td>CameraAccessory</td>\n",
       "      <td>CameraTripod</td>\n",
       "      <td>7190</td>\n",
       "      <td>0</td>\n",
       "    </tr>\n",
       "    <tr>\n",
       "      <th>2</th>\n",
       "      <td>ACCCX3S5AHMF55FV</td>\n",
       "      <td>2015-10-20 15:45:56</td>\n",
       "      <td>2015</td>\n",
       "      <td>10</td>\n",
       "      <td>2421912925714800</td>\n",
       "      <td>2421912925714800</td>\n",
       "      <td>1990.0</td>\n",
       "      <td>1</td>\n",
       "      <td>NaN</td>\n",
       "      <td>NaN</td>\n",
       "      <td>COD</td>\n",
       "      <td>10</td>\n",
       "      <td>-1.040443e+18</td>\n",
       "      <td>-7.477688e+18</td>\n",
       "      <td>CE</td>\n",
       "      <td>CameraAccessory</td>\n",
       "      <td>CameraAccessory</td>\n",
       "      <td>CameraTripod</td>\n",
       "      <td>2099</td>\n",
       "      <td>3</td>\n",
       "    </tr>\n",
       "    <tr>\n",
       "      <th>3</th>\n",
       "      <td>ACCCX3S5AHMF55FV</td>\n",
       "      <td>2015-10-14 12:05:15</td>\n",
       "      <td>2015</td>\n",
       "      <td>10</td>\n",
       "      <td>4416592101738400</td>\n",
       "      <td>4416592101738400</td>\n",
       "      <td>1690.0</td>\n",
       "      <td>1</td>\n",
       "      <td>NaN</td>\n",
       "      <td>NaN</td>\n",
       "      <td>Prepaid</td>\n",
       "      <td>4</td>\n",
       "      <td>-7.604961e+18</td>\n",
       "      <td>-5.835932e+18</td>\n",
       "      <td>CE</td>\n",
       "      <td>CameraAccessory</td>\n",
       "      <td>CameraAccessory</td>\n",
       "      <td>CameraTripod</td>\n",
       "      <td>2099</td>\n",
       "      <td>3</td>\n",
       "    </tr>\n",
       "    <tr>\n",
       "      <th>4</th>\n",
       "      <td>ACCCX3S5AHMF55FV</td>\n",
       "      <td>2015-10-17 21:25:03</td>\n",
       "      <td>2015</td>\n",
       "      <td>10</td>\n",
       "      <td>4419525153426400</td>\n",
       "      <td>4419525153426400</td>\n",
       "      <td>1618.0</td>\n",
       "      <td>1</td>\n",
       "      <td>NaN</td>\n",
       "      <td>NaN</td>\n",
       "      <td>Prepaid</td>\n",
       "      <td>6</td>\n",
       "      <td>2.894557e+18</td>\n",
       "      <td>5.347354e+17</td>\n",
       "      <td>CE</td>\n",
       "      <td>CameraAccessory</td>\n",
       "      <td>CameraAccessory</td>\n",
       "      <td>CameraTripod</td>\n",
       "      <td>2099</td>\n",
       "      <td>3</td>\n",
       "    </tr>\n",
       "  </tbody>\n",
       "</table>\n",
       "</div>"
      ],
      "text/plain": [
       "             fsn_id          order_date  Year  Month          order_id  \\\n",
       "0  ACCCX3S58G7B5F6P 2015-10-17 15:11:54  2015     10  3419300926147000   \n",
       "1  ACCCX3S58G7B5F6P 2015-10-19 10:07:22  2015     10  1420830839915200   \n",
       "2  ACCCX3S5AHMF55FV 2015-10-20 15:45:56  2015     10  2421912925714800   \n",
       "3  ACCCX3S5AHMF55FV 2015-10-14 12:05:15  2015     10  4416592101738400   \n",
       "4  ACCCX3S5AHMF55FV 2015-10-17 21:25:03  2015     10  4419525153426400   \n",
       "\n",
       "      order_item_id     gmv  units  deliverybdays  deliverycdays  \\\n",
       "0  3419300926147000  6400.0      1            NaN            NaN   \n",
       "1  1420830839915200  6900.0      1            NaN            NaN   \n",
       "2  2421912925714800  1990.0      1            NaN            NaN   \n",
       "3  4416592101738400  1690.0      1            NaN            NaN   \n",
       "4  4419525153426400  1618.0      1            NaN            NaN   \n",
       "\n",
       "  s1_fact.order_payment_type  sla       cust_id       pincode  \\\n",
       "0                        COD    5 -1.012991e+18 -7.791756e+18   \n",
       "1                        COD    7 -8.990325e+18  7.335411e+18   \n",
       "2                        COD   10 -1.040443e+18 -7.477688e+18   \n",
       "3                    Prepaid    4 -7.604961e+18 -5.835932e+18   \n",
       "4                    Prepaid    6  2.894557e+18  5.347354e+17   \n",
       "\n",
       "  product_analytic_super_category product_analytic_category  \\\n",
       "0                              CE           CameraAccessory   \n",
       "1                              CE           CameraAccessory   \n",
       "2                              CE           CameraAccessory   \n",
       "3                              CE           CameraAccessory   \n",
       "4                              CE           CameraAccessory   \n",
       "\n",
       "  product_analytic_sub_category product_analytic_vertical  product_mrp  \\\n",
       "0               CameraAccessory              CameraTripod         7190   \n",
       "1               CameraAccessory              CameraTripod         7190   \n",
       "2               CameraAccessory              CameraTripod         2099   \n",
       "3               CameraAccessory              CameraTripod         2099   \n",
       "4               CameraAccessory              CameraTripod         2099   \n",
       "\n",
       "   product_procurement_sla  \n",
       "0                        0  \n",
       "1                        0  \n",
       "2                        3  \n",
       "3                        3  \n",
       "4                        3  "
      ]
     },
     "execution_count": 825,
     "metadata": {},
     "output_type": "execute_result"
    }
   ],
   "source": [
    "products.head()"
   ]
  },
  {
   "cell_type": "code",
   "execution_count": 826,
   "metadata": {},
   "outputs": [
    {
     "name": "stdout",
     "output_type": "stream",
     "text": [
      "<class 'pandas.core.frame.DataFrame'>\n",
      "RangeIndex: 1648824 entries, 0 to 1648823\n",
      "Data columns (total 20 columns):\n",
      "fsn_id                             1648824 non-null object\n",
      "order_date                         1648824 non-null datetime64[ns]\n",
      "Year                               1648824 non-null int64\n",
      "Month                              1648824 non-null int64\n",
      "order_id                           1648824 non-null int64\n",
      "order_item_id                      1648824 non-null int64\n",
      "gmv                                1643920 non-null float64\n",
      "units                              1648824 non-null int64\n",
      "deliverybdays                      335852 non-null float64\n",
      "deliverycdays                      335853 non-null float64\n",
      "s1_fact.order_payment_type         1648824 non-null object\n",
      "sla                                1648824 non-null int64\n",
      "cust_id                            1643920 non-null float64\n",
      "pincode                            1643920 non-null float64\n",
      "product_analytic_super_category    1648824 non-null object\n",
      "product_analytic_category          1648824 non-null object\n",
      "product_analytic_sub_category      1648824 non-null object\n",
      "product_analytic_vertical          1648824 non-null object\n",
      "product_mrp                        1648824 non-null int64\n",
      "product_procurement_sla            1648824 non-null int64\n",
      "dtypes: datetime64[ns](1), float64(5), int64(8), object(6)\n",
      "memory usage: 251.6+ MB\n"
     ]
    }
   ],
   "source": [
    "products.info()"
   ]
  },
  {
   "cell_type": "code",
   "execution_count": 827,
   "metadata": {},
   "outputs": [
    {
     "name": "stdout",
     "output_type": "stream",
     "text": [
      "<class 'pandas.core.frame.DataFrame'>\n",
      "Int64Index: 1643920 entries, 0 to 1648823\n",
      "Data columns (total 20 columns):\n",
      "fsn_id                             1643920 non-null object\n",
      "order_date                         1643920 non-null datetime64[ns]\n",
      "Year                               1643920 non-null int64\n",
      "Month                              1643920 non-null int64\n",
      "order_id                           1643920 non-null int64\n",
      "order_item_id                      1643920 non-null int64\n",
      "gmv                                1643920 non-null float64\n",
      "units                              1643920 non-null int64\n",
      "deliverybdays                      335850 non-null float64\n",
      "deliverycdays                      335851 non-null float64\n",
      "s1_fact.order_payment_type         1643920 non-null object\n",
      "sla                                1643920 non-null int64\n",
      "cust_id                            1643920 non-null float64\n",
      "pincode                            1643920 non-null float64\n",
      "product_analytic_super_category    1643920 non-null object\n",
      "product_analytic_category          1643920 non-null object\n",
      "product_analytic_sub_category      1643920 non-null object\n",
      "product_analytic_vertical          1643920 non-null object\n",
      "product_mrp                        1643920 non-null int64\n",
      "product_procurement_sla            1643920 non-null int64\n",
      "dtypes: datetime64[ns](1), float64(5), int64(8), object(6)\n",
      "memory usage: 263.4+ MB\n"
     ]
    }
   ],
   "source": [
    "## Drop all null values in gmv\n",
    "products.dropna(subset=['gmv'],inplace=True)\n",
    "products.info()"
   ]
  },
  {
   "cell_type": "code",
   "execution_count": 828,
   "metadata": {},
   "outputs": [
    {
     "data": {
      "text/plain": [
       "0.798683634240109"
      ]
     },
     "execution_count": 828,
     "metadata": {},
     "output_type": "execute_result"
    }
   ],
   "source": [
    "1312972/1643920"
   ]
  },
  {
   "cell_type": "code",
   "execution_count": 829,
   "metadata": {},
   "outputs": [],
   "source": [
    "products.drop(axis=1,columns=['deliverybdays','deliverycdays'],inplace=True)"
   ]
  },
  {
   "cell_type": "code",
   "execution_count": 830,
   "metadata": {},
   "outputs": [
    {
     "name": "stdout",
     "output_type": "stream",
     "text": [
      "<class 'pandas.core.frame.DataFrame'>\n",
      "Int64Index: 1643920 entries, 0 to 1648823\n",
      "Data columns (total 18 columns):\n",
      "fsn_id                             1643920 non-null object\n",
      "order_date                         1643920 non-null datetime64[ns]\n",
      "Year                               1643920 non-null int64\n",
      "Month                              1643920 non-null int64\n",
      "order_id                           1643920 non-null int64\n",
      "order_item_id                      1643920 non-null int64\n",
      "gmv                                1643920 non-null float64\n",
      "units                              1643920 non-null int64\n",
      "s1_fact.order_payment_type         1643920 non-null object\n",
      "sla                                1643920 non-null int64\n",
      "cust_id                            1643920 non-null float64\n",
      "pincode                            1643920 non-null float64\n",
      "product_analytic_super_category    1643920 non-null object\n",
      "product_analytic_category          1643920 non-null object\n",
      "product_analytic_sub_category      1643920 non-null object\n",
      "product_analytic_vertical          1643920 non-null object\n",
      "product_mrp                        1643920 non-null int64\n",
      "product_procurement_sla            1643920 non-null int64\n",
      "dtypes: datetime64[ns](1), float64(3), int64(8), object(6)\n",
      "memory usage: 238.3+ MB\n"
     ]
    }
   ],
   "source": [
    "products.info()"
   ]
  },
  {
   "cell_type": "code",
   "execution_count": 831,
   "metadata": {},
   "outputs": [
    {
     "data": {
      "text/plain": [
       "ACCE6VGHYKYFX4WB    37406\n",
       "SELDXMC3JNMTQMGV    17801\n",
       "CAMDA6RJERF8HS4G    16706\n",
       "ACCDXEGXG8HJUCSK    14221\n",
       "ACCECYHH4QDNZXEX    13617\n",
       "ACCE9C3WYBMPJ98R    13232\n",
       "CAMDUGSSHXQ9FDHM    12480\n",
       "ACCEBEMGQUZYJBKG    12238\n",
       "ACCEBASUU3ZZRDYV    12192\n",
       "ACCEBEMEWFSDJH72    11732\n",
       "SELE863FGS4HMQWF    10774\n",
       "ACCDVZ83VBHCWFFA    10350\n",
       "ACCEE3JNKNFH5KBG     9034\n",
       "CAMDF4FHEHKYNSHY     8884\n",
       "ACCDH7MFZJGRWJCW     7963\n",
       "ACCE9R3UDGBBE4ZY     7725\n",
       "CAME6FWA7RHNXGPF     7399\n",
       "ACCDQGZS3EK5WVR5     6817\n",
       "ACCE53FQZTN9UNPG     6542\n",
       "AUDDGN3Q2GSCBUSX     6522\n",
       "ACCDVUZFPGSGGYRD     6491\n",
       "ACCE9R3U6DZENXFM     6409\n",
       "SELEH8VYQRNA99BH     6256\n",
       "ACCE58P94S5YVBYG     6240\n",
       "ACCEDHZHERAJFMNT     6061\n",
       "VGLEF3X3KGCZZT3N     6040\n",
       "ACCEAJP64HZ8GZGR     5485\n",
       "ACCE6VGHRPDQR5GD     5100\n",
       "ACCE9R3UCZZGFVVQ     4966\n",
       "ACCDFZEJ6ZGSWRMK     4882\n",
       "                    ...  \n",
       "ACCEDSCYQFGC88JZ        1\n",
       "AVMDCUDG7APYZS58        1\n",
       "ACCEKFVHU58HESVC        1\n",
       "ACCD84KGRZYWQUJZ        1\n",
       "ACCEGXK7QK2CGYAN        1\n",
       "ACCEDV5ZYCN294TC        1\n",
       "ACCEJ2EJEBXMCDJR        1\n",
       "ACCEFSPNKUDVFGHH        1\n",
       "ACCEDSCYNKVHR7FS        1\n",
       "ACCDZYF3RHHUNWBH        1\n",
       "MICEHUFHM5VAVFM6        1\n",
       "PPREEJHM6WM2Y2VT        1\n",
       "ACCE3QEQYBEZ9KJQ        1\n",
       "ACCEFYAJVKJ2YXVP        1\n",
       "ACCE8HVQBT4QHGNG        1\n",
       "ACCEFYAGD88PBNUM        1\n",
       "ACCEEQXXTJ265QVB        1\n",
       "ACCECG5YANSTZUNA        1\n",
       "ACCD2H9JXNWTGG2C        1\n",
       "ACCEFYAJXCFKGQQ4        1\n",
       "ACCDW3UQA8SGJHKC        1\n",
       "FMREGWSFG4SFJQAZ        1\n",
       "ACCEFF6H2VEMAY2H        1\n",
       "ACCEGZ4UQGNZF8HN        1\n",
       "CGEEGHGY6XWVPY8B        1\n",
       "ACCECNF9MG2BX4V9        1\n",
       "ACCEB9QRTDNPGXHX        1\n",
       "ACCD84KGYZBGUXCG        1\n",
       "ACCEH3R8CX8YHJGK        1\n",
       "ACCD55KM94YQFBZW        1\n",
       "Name: fsn_id, Length: 21216, dtype: int64"
      ]
     },
     "execution_count": 831,
     "metadata": {},
     "output_type": "execute_result"
    }
   ],
   "source": [
    "products.fsn_id.value_counts()"
   ]
  },
  {
   "cell_type": "code",
   "execution_count": 832,
   "metadata": {},
   "outputs": [
    {
     "data": {
      "text/plain": [
       "2016    855006\n",
       "2015    788914\n",
       "Name: Year, dtype: int64"
      ]
     },
     "execution_count": 832,
     "metadata": {},
     "output_type": "execute_result"
    }
   ],
   "source": [
    "products.Year.value_counts(dropna=False)"
   ]
  },
  {
   "cell_type": "code",
   "execution_count": 833,
   "metadata": {},
   "outputs": [
    {
     "data": {
      "text/plain": [
       "9     207472\n",
       "10    205730\n",
       "12    158151\n",
       "5     157072\n",
       "3     153299\n",
       "2     144084\n",
       "1     143768\n",
       "4     134390\n",
       "11    129448\n",
       "6     121798\n",
       "7      88439\n",
       "8        269\n",
       "Name: Month, dtype: int64"
      ]
     },
     "execution_count": 833,
     "metadata": {},
     "output_type": "execute_result"
    }
   ],
   "source": [
    "products.Month.value_counts(dropna=False)"
   ]
  },
  {
   "cell_type": "code",
   "execution_count": 834,
   "metadata": {},
   "outputs": [
    {
     "data": {
      "text/plain": [
       "COD        1191443\n",
       "Prepaid     452477\n",
       "Name: s1_fact.order_payment_type, dtype: int64"
      ]
     },
     "execution_count": 834,
     "metadata": {},
     "output_type": "execute_result"
    }
   ],
   "source": [
    "products['s1_fact.order_payment_type'].value_counts(dropna=False)"
   ]
  },
  {
   "cell_type": "code",
   "execution_count": 835,
   "metadata": {},
   "outputs": [
    {
     "data": {
      "text/plain": [
       "-9.031043e+18    13506\n",
       "-9.779010e+17    12055\n",
       " 7.346497e+18     7243\n",
       " 8.649648e+18     7188\n",
       " 6.404913e+18     6398\n",
       " 9.226248e+17     6377\n",
       " 6.513331e+18     6288\n",
       " 2.175163e+18     6146\n",
       "-4.769171e+18     6139\n",
       " 2.222912e+18     6031\n",
       "-3.444751e+18     5377\n",
       " 7.686938e+18     5312\n",
       "-4.317473e+18     4606\n",
       "-7.885152e+18     4435\n",
       " 4.337281e+18     4317\n",
       " 8.424231e+18     4263\n",
       "-9.141541e+18     3929\n",
       " 6.820321e+18     3862\n",
       " 4.705607e+18     3837\n",
       " 6.148223e+18     3785\n",
       " 3.654846e+16     3753\n",
       "-2.498956e+18     3722\n",
       " 6.195476e+18     3438\n",
       "-7.008123e+18     3417\n",
       " 6.280637e+18     3352\n",
       " 2.662204e+18     3318\n",
       "-2.112132e+18     3290\n",
       "-5.922363e+18     3240\n",
       " 1.151368e+18     3214\n",
       "-7.204916e+17     3065\n",
       "                 ...  \n",
       "-5.869364e+18        1\n",
       " 3.353643e+18        1\n",
       " 6.024585e+18        1\n",
       "-8.127330e+18        1\n",
       "-6.010972e+18        1\n",
       "-6.351221e+18        1\n",
       "-5.022779e+18        1\n",
       " 8.380523e+18        1\n",
       " 1.252046e+18        1\n",
       " 4.759496e+18        1\n",
       "-6.526234e+18        1\n",
       "-3.989416e+16        1\n",
       "-1.071054e+17        1\n",
       " 6.567231e+18        1\n",
       " 1.975590e+18        1\n",
       "-4.841806e+18        1\n",
       " 6.143448e+18        1\n",
       "-5.289801e+18        1\n",
       "-2.350609e+18        1\n",
       " 1.592803e+18        1\n",
       " 2.005390e+18        1\n",
       " 5.211570e+18        1\n",
       "-9.183924e+18        1\n",
       "-2.405056e+18        1\n",
       " 8.671600e+18        1\n",
       "-3.345111e+18        1\n",
       " 5.335672e+18        1\n",
       "-1.729475e+18        1\n",
       "-8.062964e+18        1\n",
       " 8.402260e+18        1\n",
       "Name: pincode, Length: 7564, dtype: int64"
      ]
     },
     "execution_count": 835,
     "metadata": {},
     "output_type": "execute_result"
    }
   ],
   "source": [
    "products.pincode.value_counts(dropna=False)"
   ]
  },
  {
   "cell_type": "code",
   "execution_count": 836,
   "metadata": {},
   "outputs": [
    {
     "data": {
      "text/plain": [
       "CE    1643920\n",
       "Name: product_analytic_super_category, dtype: int64"
      ]
     },
     "execution_count": 836,
     "metadata": {},
     "output_type": "execute_result"
    }
   ],
   "source": [
    "products.product_analytic_super_category.value_counts(dropna=False)"
   ]
  },
  {
   "cell_type": "code",
   "execution_count": 837,
   "metadata": {},
   "outputs": [
    {
     "data": {
      "text/plain": [
       "LaptopSpeaker              286665\n",
       "MobileSpeaker              249643\n",
       "AudioMP3Player             112545\n",
       "PhysicalGame               104799\n",
       "HomeAudioSpeaker            85306\n",
       "GamingHeadset               62180\n",
       "GamePad                     58944\n",
       "DSLR                        56514\n",
       "Flash                       48717\n",
       "SelectorBox                 46122\n",
       "CameraBattery               41187\n",
       "RemoteControl               39583\n",
       "Point & Shoot               38618\n",
       "CameraTripod                37770\n",
       "GamingMouse                 37356\n",
       "VideoGlasses                36644\n",
       "Lens                        35367\n",
       "FMRadio                     28147\n",
       "VideoPlayer                 20222\n",
       "HandheldGamingConsole       19344\n",
       "CameraStorageMemoryCard     17943\n",
       "CameraBag                   17465\n",
       "CameraBatteryCharger        15614\n",
       "Binoculars                  14554\n",
       "Filter                      12684\n",
       "GamingConsole                9667\n",
       "GamingAccessoryKit           9474\n",
       "CodeInTheBoxGame             9331\n",
       "Microphone                   9049\n",
       "TVOutCableAccessory          7590\n",
       "                            ...  \n",
       "SportsAndAction              2258\n",
       "Dock                         2156\n",
       "CameraFilmRolls              1901\n",
       "Telescope                    1819\n",
       "Strap                        1675\n",
       "HiFiSystem                   1552\n",
       "MotionController             1180\n",
       "CameraMount                  1129\n",
       "Camcorders                    984\n",
       "GamingSpeaker                 500\n",
       "CameraBatteryGrip             400\n",
       "DockingStation                381\n",
       "DJController                  213\n",
       "CameraEyeCup                   98\n",
       "GameValueCards                 97\n",
       "ExtensionTube                  87\n",
       "SoundMixer                     69\n",
       "CameraMicrophone               51\n",
       "GamingChargingStation          47\n",
       "CoolingPad                     46\n",
       "CameraHousing                  19\n",
       "Softbox                        15\n",
       "SlingBox                        3\n",
       "ReflectorUmbrella               3\n",
       "GamingGun                       3\n",
       "CameraLEDLight                  3\n",
       "KaraokePlayer                   2\n",
       "FlashShoeAdapter                2\n",
       "GameControlMount                1\n",
       "Teleconverter                   1\n",
       "Name: product_analytic_vertical, Length: 74, dtype: int64"
      ]
     },
     "execution_count": 837,
     "metadata": {},
     "output_type": "execute_result"
    }
   ],
   "source": [
    "products.product_analytic_vertical.value_counts(dropna=False)"
   ]
  },
  {
   "cell_type": "code",
   "execution_count": 838,
   "metadata": {},
   "outputs": [
    {
     "data": {
      "text/plain": [
       "Speaker                542122\n",
       "CameraAccessory        238862\n",
       "GamingAccessory        201318\n",
       "TVVideoSmall           142571\n",
       "HomeAudio              124415\n",
       "Game                   114130\n",
       "AudioMP3Player         112545\n",
       "Camera                 100942\n",
       "GamingConsole           29011\n",
       "CameraStorage           17943\n",
       "AudioAccessory          11676\n",
       "HomeTheatre              4245\n",
       "AmplifierReceiver        4043\n",
       "GameMembershipCards        97\n",
       "Name: product_analytic_sub_category, dtype: int64"
      ]
     },
     "execution_count": 838,
     "metadata": {},
     "output_type": "execute_result"
    }
   ],
   "source": [
    "products.product_analytic_sub_category.value_counts(dropna=False)"
   ]
  },
  {
   "cell_type": "code",
   "execution_count": 839,
   "metadata": {},
   "outputs": [
    {
     "data": {
      "text/plain": [
       "999       108339\n",
       "1999       79533\n",
       "499        41141\n",
       "310        40774\n",
       "599        40200\n",
       "4999       37549\n",
       "2999       36491\n",
       "3999       34691\n",
       "500        31292\n",
       "1000       30420\n",
       "1299       29335\n",
       "1990       27359\n",
       "1499       27223\n",
       "799        24815\n",
       "699        24651\n",
       "800        23852\n",
       "3499       23357\n",
       "399        20089\n",
       "2499       18863\n",
       "2990       18537\n",
       "1599       18374\n",
       "34950      16711\n",
       "1199       15813\n",
       "7999       15476\n",
       "950        15411\n",
       "3199       14875\n",
       "1100       14836\n",
       "899        14516\n",
       "400        13973\n",
       "2000       13595\n",
       "           ...  \n",
       "3439           1\n",
       "6517           1\n",
       "113995         1\n",
       "2430           1\n",
       "8580           1\n",
       "63900          1\n",
       "9600           1\n",
       "21890          1\n",
       "4491           1\n",
       "14743          1\n",
       "63885          1\n",
       "8599           1\n",
       "1430           1\n",
       "4504           1\n",
       "2505           1\n",
       "34190          1\n",
       "9632           1\n",
       "51647          1\n",
       "20899          1\n",
       "7598           1\n",
       "434            1\n",
       "2489           1\n",
       "17840          1\n",
       "2488           1\n",
       "6586           1\n",
       "4543           1\n",
       "5564           1\n",
       "15800          1\n",
       "48595          1\n",
       "7670           1\n",
       "Name: product_mrp, Length: 1929, dtype: int64"
      ]
     },
     "execution_count": 839,
     "metadata": {},
     "output_type": "execute_result"
    }
   ],
   "source": [
    "products.product_mrp.value_counts(dropna=False)"
   ]
  },
  {
   "cell_type": "code",
   "execution_count": 840,
   "metadata": {},
   "outputs": [
    {
     "data": {
      "text/plain": [
       " 2       527125\n",
       " 1       307539\n",
       " 3       302481\n",
       " 5       221322\n",
       " 4       119840\n",
       "-1        75611\n",
       " 0        42357\n",
       " 6        18501\n",
       " 7        11719\n",
       " 15        6159\n",
       " 14        5256\n",
       " 1000      4735\n",
       " 13         523\n",
       " 8          522\n",
       " 9           97\n",
       " 10          73\n",
       " 12          60\n",
       "Name: product_procurement_sla, dtype: int64"
      ]
     },
     "execution_count": 840,
     "metadata": {},
     "output_type": "execute_result"
    }
   ],
   "source": [
    "products.product_procurement_sla.value_counts(dropna=False)"
   ]
  },
  {
   "cell_type": "code",
   "execution_count": 841,
   "metadata": {},
   "outputs": [
    {
     "data": {
      "text/plain": [
       "6       236755\n",
       "5       233013\n",
       "4       217226\n",
       "7       201521\n",
       "3       177330\n",
       "8       154897\n",
       "2       109819\n",
       "9        97793\n",
       "1        74083\n",
       "10       57535\n",
       "11       33833\n",
       "12       19554\n",
       "13       11135\n",
       "0         5974\n",
       "14        5938\n",
       "15        3181\n",
       "16        1822\n",
       "17         891\n",
       "18         511\n",
       "19         289\n",
       "20         158\n",
       "21         106\n",
       "25          76\n",
       "22          72\n",
       "24          69\n",
       "23          59\n",
       "26          58\n",
       "27          44\n",
       "28          36\n",
       "30          31\n",
       "29          20\n",
       "31          12\n",
       "32          10\n",
       "35           7\n",
       "38           7\n",
       "33           6\n",
       "42           5\n",
       "39           5\n",
       "34           4\n",
       "44           3\n",
       "41           3\n",
       "40           3\n",
       "61           3\n",
       "36           3\n",
       "37           2\n",
       "239          2\n",
       "45           2\n",
       "47           2\n",
       "184          1\n",
       "175          1\n",
       "145          1\n",
       "68           1\n",
       "1004         1\n",
       "60           1\n",
       "56           1\n",
       "52           1\n",
       "51           1\n",
       "46           1\n",
       "43           1\n",
       "1006         1\n",
       "Name: sla, dtype: int64"
      ]
     },
     "execution_count": 841,
     "metadata": {},
     "output_type": "execute_result"
    }
   ],
   "source": [
    "products.sla.value_counts(dropna=False)"
   ]
  },
  {
   "cell_type": "code",
   "execution_count": 842,
   "metadata": {},
   "outputs": [],
   "source": [
    "products['day']=products.order_date.dt.day"
   ]
  },
  {
   "cell_type": "code",
   "execution_count": 843,
   "metadata": {},
   "outputs": [
    {
     "data": {
      "text/html": [
       "<div>\n",
       "<style scoped>\n",
       "    .dataframe tbody tr th:only-of-type {\n",
       "        vertical-align: middle;\n",
       "    }\n",
       "\n",
       "    .dataframe tbody tr th {\n",
       "        vertical-align: top;\n",
       "    }\n",
       "\n",
       "    .dataframe thead th {\n",
       "        text-align: right;\n",
       "    }\n",
       "</style>\n",
       "<table border=\"1\" class=\"dataframe\">\n",
       "  <thead>\n",
       "    <tr style=\"text-align: right;\">\n",
       "      <th></th>\n",
       "      <th>fsn_id</th>\n",
       "      <th>order_date</th>\n",
       "      <th>Year</th>\n",
       "      <th>Month</th>\n",
       "      <th>order_id</th>\n",
       "      <th>order_item_id</th>\n",
       "      <th>gmv</th>\n",
       "      <th>units</th>\n",
       "      <th>s1_fact.order_payment_type</th>\n",
       "      <th>sla</th>\n",
       "      <th>cust_id</th>\n",
       "      <th>pincode</th>\n",
       "      <th>product_analytic_super_category</th>\n",
       "      <th>product_analytic_category</th>\n",
       "      <th>product_analytic_sub_category</th>\n",
       "      <th>product_analytic_vertical</th>\n",
       "      <th>product_mrp</th>\n",
       "      <th>product_procurement_sla</th>\n",
       "      <th>day</th>\n",
       "    </tr>\n",
       "  </thead>\n",
       "  <tbody>\n",
       "    <tr>\n",
       "      <th>0</th>\n",
       "      <td>ACCCX3S58G7B5F6P</td>\n",
       "      <td>2015-10-17 15:11:54</td>\n",
       "      <td>2015</td>\n",
       "      <td>10</td>\n",
       "      <td>3419300926147000</td>\n",
       "      <td>3419300926147000</td>\n",
       "      <td>6400.0</td>\n",
       "      <td>1</td>\n",
       "      <td>COD</td>\n",
       "      <td>5</td>\n",
       "      <td>-1.012991e+18</td>\n",
       "      <td>-7.791756e+18</td>\n",
       "      <td>CE</td>\n",
       "      <td>CameraAccessory</td>\n",
       "      <td>CameraAccessory</td>\n",
       "      <td>CameraTripod</td>\n",
       "      <td>7190</td>\n",
       "      <td>0</td>\n",
       "      <td>17</td>\n",
       "    </tr>\n",
       "    <tr>\n",
       "      <th>1</th>\n",
       "      <td>ACCCX3S58G7B5F6P</td>\n",
       "      <td>2015-10-19 10:07:22</td>\n",
       "      <td>2015</td>\n",
       "      <td>10</td>\n",
       "      <td>1420830839915200</td>\n",
       "      <td>1420830839915200</td>\n",
       "      <td>6900.0</td>\n",
       "      <td>1</td>\n",
       "      <td>COD</td>\n",
       "      <td>7</td>\n",
       "      <td>-8.990325e+18</td>\n",
       "      <td>7.335411e+18</td>\n",
       "      <td>CE</td>\n",
       "      <td>CameraAccessory</td>\n",
       "      <td>CameraAccessory</td>\n",
       "      <td>CameraTripod</td>\n",
       "      <td>7190</td>\n",
       "      <td>0</td>\n",
       "      <td>19</td>\n",
       "    </tr>\n",
       "    <tr>\n",
       "      <th>2</th>\n",
       "      <td>ACCCX3S5AHMF55FV</td>\n",
       "      <td>2015-10-20 15:45:56</td>\n",
       "      <td>2015</td>\n",
       "      <td>10</td>\n",
       "      <td>2421912925714800</td>\n",
       "      <td>2421912925714800</td>\n",
       "      <td>1990.0</td>\n",
       "      <td>1</td>\n",
       "      <td>COD</td>\n",
       "      <td>10</td>\n",
       "      <td>-1.040443e+18</td>\n",
       "      <td>-7.477688e+18</td>\n",
       "      <td>CE</td>\n",
       "      <td>CameraAccessory</td>\n",
       "      <td>CameraAccessory</td>\n",
       "      <td>CameraTripod</td>\n",
       "      <td>2099</td>\n",
       "      <td>3</td>\n",
       "      <td>20</td>\n",
       "    </tr>\n",
       "    <tr>\n",
       "      <th>3</th>\n",
       "      <td>ACCCX3S5AHMF55FV</td>\n",
       "      <td>2015-10-14 12:05:15</td>\n",
       "      <td>2015</td>\n",
       "      <td>10</td>\n",
       "      <td>4416592101738400</td>\n",
       "      <td>4416592101738400</td>\n",
       "      <td>1690.0</td>\n",
       "      <td>1</td>\n",
       "      <td>Prepaid</td>\n",
       "      <td>4</td>\n",
       "      <td>-7.604961e+18</td>\n",
       "      <td>-5.835932e+18</td>\n",
       "      <td>CE</td>\n",
       "      <td>CameraAccessory</td>\n",
       "      <td>CameraAccessory</td>\n",
       "      <td>CameraTripod</td>\n",
       "      <td>2099</td>\n",
       "      <td>3</td>\n",
       "      <td>14</td>\n",
       "    </tr>\n",
       "    <tr>\n",
       "      <th>4</th>\n",
       "      <td>ACCCX3S5AHMF55FV</td>\n",
       "      <td>2015-10-17 21:25:03</td>\n",
       "      <td>2015</td>\n",
       "      <td>10</td>\n",
       "      <td>4419525153426400</td>\n",
       "      <td>4419525153426400</td>\n",
       "      <td>1618.0</td>\n",
       "      <td>1</td>\n",
       "      <td>Prepaid</td>\n",
       "      <td>6</td>\n",
       "      <td>2.894557e+18</td>\n",
       "      <td>5.347354e+17</td>\n",
       "      <td>CE</td>\n",
       "      <td>CameraAccessory</td>\n",
       "      <td>CameraAccessory</td>\n",
       "      <td>CameraTripod</td>\n",
       "      <td>2099</td>\n",
       "      <td>3</td>\n",
       "      <td>17</td>\n",
       "    </tr>\n",
       "  </tbody>\n",
       "</table>\n",
       "</div>"
      ],
      "text/plain": [
       "             fsn_id          order_date  Year  Month          order_id  \\\n",
       "0  ACCCX3S58G7B5F6P 2015-10-17 15:11:54  2015     10  3419300926147000   \n",
       "1  ACCCX3S58G7B5F6P 2015-10-19 10:07:22  2015     10  1420830839915200   \n",
       "2  ACCCX3S5AHMF55FV 2015-10-20 15:45:56  2015     10  2421912925714800   \n",
       "3  ACCCX3S5AHMF55FV 2015-10-14 12:05:15  2015     10  4416592101738400   \n",
       "4  ACCCX3S5AHMF55FV 2015-10-17 21:25:03  2015     10  4419525153426400   \n",
       "\n",
       "      order_item_id     gmv  units s1_fact.order_payment_type  sla  \\\n",
       "0  3419300926147000  6400.0      1                        COD    5   \n",
       "1  1420830839915200  6900.0      1                        COD    7   \n",
       "2  2421912925714800  1990.0      1                        COD   10   \n",
       "3  4416592101738400  1690.0      1                    Prepaid    4   \n",
       "4  4419525153426400  1618.0      1                    Prepaid    6   \n",
       "\n",
       "        cust_id       pincode product_analytic_super_category  \\\n",
       "0 -1.012991e+18 -7.791756e+18                              CE   \n",
       "1 -8.990325e+18  7.335411e+18                              CE   \n",
       "2 -1.040443e+18 -7.477688e+18                              CE   \n",
       "3 -7.604961e+18 -5.835932e+18                              CE   \n",
       "4  2.894557e+18  5.347354e+17                              CE   \n",
       "\n",
       "  product_analytic_category product_analytic_sub_category  \\\n",
       "0           CameraAccessory               CameraAccessory   \n",
       "1           CameraAccessory               CameraAccessory   \n",
       "2           CameraAccessory               CameraAccessory   \n",
       "3           CameraAccessory               CameraAccessory   \n",
       "4           CameraAccessory               CameraAccessory   \n",
       "\n",
       "  product_analytic_vertical  product_mrp  product_procurement_sla  day  \n",
       "0              CameraTripod         7190                        0   17  \n",
       "1              CameraTripod         7190                        0   19  \n",
       "2              CameraTripod         2099                        3   20  \n",
       "3              CameraTripod         2099                        3   14  \n",
       "4              CameraTripod         2099                        3   17  "
      ]
     },
     "execution_count": 843,
     "metadata": {},
     "output_type": "execute_result"
    }
   ],
   "source": [
    "products.head()"
   ]
  },
  {
   "cell_type": "code",
   "execution_count": 844,
   "metadata": {},
   "outputs": [],
   "source": [
    "### Filter the  camera accessory, home audio and gaming accessory sub-categories\n",
    "products_filtered=pd.DataFrame(products[products.product_analytic_sub_category.isin(['CameraAccessory','GamingAccessory','HomeAudio'])])\n"
   ]
  },
  {
   "cell_type": "code",
   "execution_count": 845,
   "metadata": {},
   "outputs": [
    {
     "name": "stdout",
     "output_type": "stream",
     "text": [
      "<class 'pandas.core.frame.DataFrame'>\n",
      "Int64Index: 564595 entries, 0 to 1647205\n",
      "Data columns (total 19 columns):\n",
      "fsn_id                             564595 non-null object\n",
      "order_date                         564595 non-null datetime64[ns]\n",
      "Year                               564595 non-null int64\n",
      "Month                              564595 non-null int64\n",
      "order_id                           564595 non-null int64\n",
      "order_item_id                      564595 non-null int64\n",
      "gmv                                564595 non-null float64\n",
      "units                              564595 non-null int64\n",
      "s1_fact.order_payment_type         564595 non-null object\n",
      "sla                                564595 non-null int64\n",
      "cust_id                            564595 non-null float64\n",
      "pincode                            564595 non-null float64\n",
      "product_analytic_super_category    564595 non-null object\n",
      "product_analytic_category          564595 non-null object\n",
      "product_analytic_sub_category      564595 non-null object\n",
      "product_analytic_vertical          564595 non-null object\n",
      "product_mrp                        564595 non-null int64\n",
      "product_procurement_sla            564595 non-null int64\n",
      "day                                564595 non-null int64\n",
      "dtypes: datetime64[ns](1), float64(3), int64(9), object(6)\n",
      "memory usage: 86.2+ MB\n"
     ]
    }
   ],
   "source": [
    "products_filtered.info()"
   ]
  },
  {
   "cell_type": "code",
   "execution_count": 846,
   "metadata": {},
   "outputs": [],
   "source": [
    "## Assign week numbers\n",
    "products_filtered['Week_Number'] = products_filtered.order_date.dt.week"
   ]
  },
  {
   "cell_type": "code",
   "execution_count": 847,
   "metadata": {},
   "outputs": [],
   "source": [
    "#Stripping the time part from the order_date as this is not required\n",
    "products_filtered['order_date']=products_filtered['order_date'].apply(lambda x:x.replace(hour=0,minute=0,second=0,microsecond=0))\n"
   ]
  },
  {
   "cell_type": "code",
   "execution_count": 848,
   "metadata": {},
   "outputs": [],
   "source": [
    "products_filtered=pd.DataFrame(products_filtered[~products_filtered.product_procurement_sla.isin([0,-1])])\n",
    "products_filtered=pd.DataFrame(products_filtered[products_filtered.gmv<=3999])\n",
    "products_filtered=pd.DataFrame(products_filtered[products_filtered.gmv>0])"
   ]
  },
  {
   "cell_type": "code",
   "execution_count": 849,
   "metadata": {},
   "outputs": [
    {
     "name": "stdout",
     "output_type": "stream",
     "text": [
      "<class 'pandas.core.frame.DataFrame'>\n",
      "Int64Index: 509512 entries, 2 to 1647171\n",
      "Data columns (total 20 columns):\n",
      "fsn_id                             509512 non-null object\n",
      "order_date                         509512 non-null datetime64[ns]\n",
      "Year                               509512 non-null int64\n",
      "Month                              509512 non-null int64\n",
      "order_id                           509512 non-null int64\n",
      "order_item_id                      509512 non-null int64\n",
      "gmv                                509512 non-null float64\n",
      "units                              509512 non-null int64\n",
      "s1_fact.order_payment_type         509512 non-null object\n",
      "sla                                509512 non-null int64\n",
      "cust_id                            509512 non-null float64\n",
      "pincode                            509512 non-null float64\n",
      "product_analytic_super_category    509512 non-null object\n",
      "product_analytic_category          509512 non-null object\n",
      "product_analytic_sub_category      509512 non-null object\n",
      "product_analytic_vertical          509512 non-null object\n",
      "product_mrp                        509512 non-null int64\n",
      "product_procurement_sla            509512 non-null int64\n",
      "day                                509512 non-null int64\n",
      "Week_Number                        509512 non-null int64\n",
      "dtypes: datetime64[ns](1), float64(3), int64(10), object(6)\n",
      "memory usage: 81.6+ MB\n"
     ]
    }
   ],
   "source": [
    "products_filtered.info()"
   ]
  },
  {
   "cell_type": "code",
   "execution_count": 850,
   "metadata": {},
   "outputs": [
    {
     "data": {
      "text/html": [
       "<div>\n",
       "<style scoped>\n",
       "    .dataframe tbody tr th:only-of-type {\n",
       "        vertical-align: middle;\n",
       "    }\n",
       "\n",
       "    .dataframe tbody tr th {\n",
       "        vertical-align: top;\n",
       "    }\n",
       "\n",
       "    .dataframe thead th {\n",
       "        text-align: right;\n",
       "    }\n",
       "</style>\n",
       "<table border=\"1\" class=\"dataframe\">\n",
       "  <thead>\n",
       "    <tr style=\"text-align: right;\">\n",
       "      <th></th>\n",
       "      <th>fsn_id</th>\n",
       "      <th>order_date</th>\n",
       "      <th>Year</th>\n",
       "      <th>Month</th>\n",
       "      <th>order_id</th>\n",
       "      <th>order_item_id</th>\n",
       "      <th>gmv</th>\n",
       "      <th>units</th>\n",
       "      <th>s1_fact.order_payment_type</th>\n",
       "      <th>sla</th>\n",
       "      <th>cust_id</th>\n",
       "      <th>pincode</th>\n",
       "      <th>product_analytic_super_category</th>\n",
       "      <th>product_analytic_category</th>\n",
       "      <th>product_analytic_sub_category</th>\n",
       "      <th>product_analytic_vertical</th>\n",
       "      <th>product_mrp</th>\n",
       "      <th>product_procurement_sla</th>\n",
       "      <th>day</th>\n",
       "      <th>Week_Number</th>\n",
       "    </tr>\n",
       "  </thead>\n",
       "  <tbody>\n",
       "    <tr>\n",
       "      <th>2</th>\n",
       "      <td>ACCCX3S5AHMF55FV</td>\n",
       "      <td>2015-10-20</td>\n",
       "      <td>2015</td>\n",
       "      <td>10</td>\n",
       "      <td>2421912925714800</td>\n",
       "      <td>2421912925714800</td>\n",
       "      <td>1990.0</td>\n",
       "      <td>1</td>\n",
       "      <td>COD</td>\n",
       "      <td>10</td>\n",
       "      <td>-1.040443e+18</td>\n",
       "      <td>-7.477688e+18</td>\n",
       "      <td>CE</td>\n",
       "      <td>CameraAccessory</td>\n",
       "      <td>CameraAccessory</td>\n",
       "      <td>CameraTripod</td>\n",
       "      <td>2099</td>\n",
       "      <td>3</td>\n",
       "      <td>20</td>\n",
       "      <td>43</td>\n",
       "    </tr>\n",
       "    <tr>\n",
       "      <th>3</th>\n",
       "      <td>ACCCX3S5AHMF55FV</td>\n",
       "      <td>2015-10-14</td>\n",
       "      <td>2015</td>\n",
       "      <td>10</td>\n",
       "      <td>4416592101738400</td>\n",
       "      <td>4416592101738400</td>\n",
       "      <td>1690.0</td>\n",
       "      <td>1</td>\n",
       "      <td>Prepaid</td>\n",
       "      <td>4</td>\n",
       "      <td>-7.604961e+18</td>\n",
       "      <td>-5.835932e+18</td>\n",
       "      <td>CE</td>\n",
       "      <td>CameraAccessory</td>\n",
       "      <td>CameraAccessory</td>\n",
       "      <td>CameraTripod</td>\n",
       "      <td>2099</td>\n",
       "      <td>3</td>\n",
       "      <td>14</td>\n",
       "      <td>42</td>\n",
       "    </tr>\n",
       "    <tr>\n",
       "      <th>4</th>\n",
       "      <td>ACCCX3S5AHMF55FV</td>\n",
       "      <td>2015-10-17</td>\n",
       "      <td>2015</td>\n",
       "      <td>10</td>\n",
       "      <td>4419525153426400</td>\n",
       "      <td>4419525153426400</td>\n",
       "      <td>1618.0</td>\n",
       "      <td>1</td>\n",
       "      <td>Prepaid</td>\n",
       "      <td>6</td>\n",
       "      <td>2.894557e+18</td>\n",
       "      <td>5.347354e+17</td>\n",
       "      <td>CE</td>\n",
       "      <td>CameraAccessory</td>\n",
       "      <td>CameraAccessory</td>\n",
       "      <td>CameraTripod</td>\n",
       "      <td>2099</td>\n",
       "      <td>3</td>\n",
       "      <td>17</td>\n",
       "      <td>42</td>\n",
       "    </tr>\n",
       "    <tr>\n",
       "      <th>5</th>\n",
       "      <td>ACCCX3S5JGAJETYR</td>\n",
       "      <td>2015-10-17</td>\n",
       "      <td>2015</td>\n",
       "      <td>10</td>\n",
       "      <td>3419188825145600</td>\n",
       "      <td>3419188825145600</td>\n",
       "      <td>3324.0</td>\n",
       "      <td>1</td>\n",
       "      <td>Prepaid</td>\n",
       "      <td>5</td>\n",
       "      <td>-7.641546e+18</td>\n",
       "      <td>-1.919053e+18</td>\n",
       "      <td>CE</td>\n",
       "      <td>CameraAccessory</td>\n",
       "      <td>CameraAccessory</td>\n",
       "      <td>CameraTripod</td>\n",
       "      <td>4044</td>\n",
       "      <td>5</td>\n",
       "      <td>17</td>\n",
       "      <td>42</td>\n",
       "    </tr>\n",
       "    <tr>\n",
       "      <th>6</th>\n",
       "      <td>ACCCX3S5JGAJETYR</td>\n",
       "      <td>2015-10-16</td>\n",
       "      <td>2015</td>\n",
       "      <td>10</td>\n",
       "      <td>3418428515041500</td>\n",
       "      <td>3418428515041500</td>\n",
       "      <td>3695.0</td>\n",
       "      <td>1</td>\n",
       "      <td>Prepaid</td>\n",
       "      <td>6</td>\n",
       "      <td>-7.156140e+16</td>\n",
       "      <td>6.404913e+18</td>\n",
       "      <td>CE</td>\n",
       "      <td>CameraAccessory</td>\n",
       "      <td>CameraAccessory</td>\n",
       "      <td>CameraTripod</td>\n",
       "      <td>4044</td>\n",
       "      <td>5</td>\n",
       "      <td>16</td>\n",
       "      <td>42</td>\n",
       "    </tr>\n",
       "  </tbody>\n",
       "</table>\n",
       "</div>"
      ],
      "text/plain": [
       "             fsn_id order_date  Year  Month          order_id  \\\n",
       "2  ACCCX3S5AHMF55FV 2015-10-20  2015     10  2421912925714800   \n",
       "3  ACCCX3S5AHMF55FV 2015-10-14  2015     10  4416592101738400   \n",
       "4  ACCCX3S5AHMF55FV 2015-10-17  2015     10  4419525153426400   \n",
       "5  ACCCX3S5JGAJETYR 2015-10-17  2015     10  3419188825145600   \n",
       "6  ACCCX3S5JGAJETYR 2015-10-16  2015     10  3418428515041500   \n",
       "\n",
       "      order_item_id     gmv  units s1_fact.order_payment_type  sla  \\\n",
       "2  2421912925714800  1990.0      1                        COD   10   \n",
       "3  4416592101738400  1690.0      1                    Prepaid    4   \n",
       "4  4419525153426400  1618.0      1                    Prepaid    6   \n",
       "5  3419188825145600  3324.0      1                    Prepaid    5   \n",
       "6  3418428515041500  3695.0      1                    Prepaid    6   \n",
       "\n",
       "        cust_id       pincode product_analytic_super_category  \\\n",
       "2 -1.040443e+18 -7.477688e+18                              CE   \n",
       "3 -7.604961e+18 -5.835932e+18                              CE   \n",
       "4  2.894557e+18  5.347354e+17                              CE   \n",
       "5 -7.641546e+18 -1.919053e+18                              CE   \n",
       "6 -7.156140e+16  6.404913e+18                              CE   \n",
       "\n",
       "  product_analytic_category product_analytic_sub_category  \\\n",
       "2           CameraAccessory               CameraAccessory   \n",
       "3           CameraAccessory               CameraAccessory   \n",
       "4           CameraAccessory               CameraAccessory   \n",
       "5           CameraAccessory               CameraAccessory   \n",
       "6           CameraAccessory               CameraAccessory   \n",
       "\n",
       "  product_analytic_vertical  product_mrp  product_procurement_sla  day  \\\n",
       "2              CameraTripod         2099                        3   20   \n",
       "3              CameraTripod         2099                        3   14   \n",
       "4              CameraTripod         2099                        3   17   \n",
       "5              CameraTripod         4044                        5   17   \n",
       "6              CameraTripod         4044                        5   16   \n",
       "\n",
       "   Week_Number  \n",
       "2           43  \n",
       "3           42  \n",
       "4           42  \n",
       "5           42  \n",
       "6           42  "
      ]
     },
     "execution_count": 850,
     "metadata": {},
     "output_type": "execute_result"
    }
   ],
   "source": [
    "products_filtered.head()"
   ]
  },
  {
   "cell_type": "code",
   "execution_count": 851,
   "metadata": {},
   "outputs": [
    {
     "data": {
      "text/plain": [
       "<matplotlib.axes._subplots.AxesSubplot at 0x1e5c86b0a90>"
      ]
     },
     "execution_count": 851,
     "metadata": {},
     "output_type": "execute_result"
    },
    {
     "data": {
      "image/png": "[encoded data removed]",
      "text/plain": [
       "<Figure size 432x288 with 1 Axes>"
      ]
     },
     "metadata": {
      "needs_background": "light"
     },
     "output_type": "display_data"
    }
   ],
   "source": [
    "prd_grp=products_filtered.groupby('Week_Number')\n",
    "prd_grp.mean().gmv.plot()"
   ]
  },
  {
   "cell_type": "code",
   "execution_count": 852,
   "metadata": {},
   "outputs": [
    {
     "data": {
      "text/plain": [
       "<matplotlib.axes._subplots.AxesSubplot at 0x1e5e3900a58>"
      ]
     },
     "execution_count": 852,
     "metadata": {},
     "output_type": "execute_result"
    },
    {
     "data": {
      "image/png": "[encoded data removed]",
      "text/plain": [
       "<Figure size 432x288 with 1 Axes>"
      ]
     },
     "metadata": {
      "needs_background": "light"
     },
     "output_type": "display_data"
    }
   ],
   "source": [
    "prd_grp=products_filtered.groupby('Week_Number')\n",
    "prd_grp.count().order_id.plot()"
   ]
  },
  {
   "cell_type": "markdown",
   "metadata": {},
   "source": [
    "## 1.2 Understanding Media Investment (Krishnan)"
   ]
  },
  {
   "cell_type": "code",
   "execution_count": 853,
   "metadata": {},
   "outputs": [
    {
     "name": "stdout",
     "output_type": "stream",
     "text": [
      "Index(['Unnamed: 0', 'Year', 'Month', 'Total Investment', 'TV', 'Digital',\n",
      "       'Sponsorship', 'Content Marketing', 'Online marketing', ' Affiliates',\n",
      "       'SEM', 'Radio', 'Other'],\n",
      "      dtype='object')\n"
     ]
    }
   ],
   "source": [
    "from pandas import ExcelWriter\n",
    "from pandas import ExcelFile\n",
    "\n",
    "media_invest = pd.read_excel('Media data and other information.xlsx', sheet_name='Media Investment',skiprows=2)\n",
    "\n",
    "print(media_invest.columns)"
   ]
  },
  {
   "cell_type": "code",
   "execution_count": 854,
   "metadata": {},
   "outputs": [
    {
     "data": {
      "text/html": [
       "<div>\n",
       "<style scoped>\n",
       "    .dataframe tbody tr th:only-of-type {\n",
       "        vertical-align: middle;\n",
       "    }\n",
       "\n",
       "    .dataframe tbody tr th {\n",
       "        vertical-align: top;\n",
       "    }\n",
       "\n",
       "    .dataframe thead th {\n",
       "        text-align: right;\n",
       "    }\n",
       "</style>\n",
       "<table border=\"1\" class=\"dataframe\">\n",
       "  <thead>\n",
       "    <tr style=\"text-align: right;\">\n",
       "      <th></th>\n",
       "      <th>Unnamed: 0</th>\n",
       "      <th>Year</th>\n",
       "      <th>Month</th>\n",
       "      <th>Total Investment</th>\n",
       "      <th>TV</th>\n",
       "      <th>Digital</th>\n",
       "      <th>Sponsorship</th>\n",
       "      <th>Content Marketing</th>\n",
       "      <th>Online marketing</th>\n",
       "      <th>Affiliates</th>\n",
       "      <th>SEM</th>\n",
       "      <th>Radio</th>\n",
       "      <th>Other</th>\n",
       "    </tr>\n",
       "  </thead>\n",
       "  <tbody>\n",
       "    <tr>\n",
       "      <th>0</th>\n",
       "      <td>NaN</td>\n",
       "      <td>2015.0</td>\n",
       "      <td>7.0</td>\n",
       "      <td>17.061775</td>\n",
       "      <td>0.215330</td>\n",
       "      <td>2.533014</td>\n",
       "      <td>7.414270</td>\n",
       "      <td>0.000933</td>\n",
       "      <td>1.327278</td>\n",
       "      <td>0.547254</td>\n",
       "      <td>5.023697</td>\n",
       "      <td>NaN</td>\n",
       "      <td>NaN</td>\n",
       "    </tr>\n",
       "    <tr>\n",
       "      <th>1</th>\n",
       "      <td>NaN</td>\n",
       "      <td>2015.0</td>\n",
       "      <td>8.0</td>\n",
       "      <td>5.064306</td>\n",
       "      <td>0.006438</td>\n",
       "      <td>1.278074</td>\n",
       "      <td>1.063332</td>\n",
       "      <td>0.000006</td>\n",
       "      <td>0.129244</td>\n",
       "      <td>0.073684</td>\n",
       "      <td>2.513528</td>\n",
       "      <td>NaN</td>\n",
       "      <td>NaN</td>\n",
       "    </tr>\n",
       "    <tr>\n",
       "      <th>2</th>\n",
       "      <td>NaN</td>\n",
       "      <td>2015.0</td>\n",
       "      <td>9.0</td>\n",
       "      <td>96.254380</td>\n",
       "      <td>3.879504</td>\n",
       "      <td>1.356528</td>\n",
       "      <td>62.787651</td>\n",
       "      <td>0.610292</td>\n",
       "      <td>16.379990</td>\n",
       "      <td>5.038266</td>\n",
       "      <td>6.202149</td>\n",
       "      <td>NaN</td>\n",
       "      <td>NaN</td>\n",
       "    </tr>\n",
       "    <tr>\n",
       "      <th>3</th>\n",
       "      <td>NaN</td>\n",
       "      <td>2015.0</td>\n",
       "      <td>10.0</td>\n",
       "      <td>170.156297</td>\n",
       "      <td>6.144711</td>\n",
       "      <td>12.622480</td>\n",
       "      <td>84.672532</td>\n",
       "      <td>3.444075</td>\n",
       "      <td>24.371778</td>\n",
       "      <td>6.973711</td>\n",
       "      <td>31.927011</td>\n",
       "      <td>NaN</td>\n",
       "      <td>NaN</td>\n",
       "    </tr>\n",
       "    <tr>\n",
       "      <th>4</th>\n",
       "      <td>NaN</td>\n",
       "      <td>2015.0</td>\n",
       "      <td>11.0</td>\n",
       "      <td>51.216220</td>\n",
       "      <td>4.220630</td>\n",
       "      <td>1.275469</td>\n",
       "      <td>14.172116</td>\n",
       "      <td>0.168633</td>\n",
       "      <td>19.561574</td>\n",
       "      <td>6.595767</td>\n",
       "      <td>5.222032</td>\n",
       "      <td>NaN</td>\n",
       "      <td>NaN</td>\n",
       "    </tr>\n",
       "  </tbody>\n",
       "</table>\n",
       "</div>"
      ],
      "text/plain": [
       "   Unnamed: 0    Year  Month  Total Investment        TV    Digital  \\\n",
       "0         NaN  2015.0    7.0         17.061775  0.215330   2.533014   \n",
       "1         NaN  2015.0    8.0          5.064306  0.006438   1.278074   \n",
       "2         NaN  2015.0    9.0         96.254380  3.879504   1.356528   \n",
       "3         NaN  2015.0   10.0        170.156297  6.144711  12.622480   \n",
       "4         NaN  2015.0   11.0         51.216220  4.220630   1.275469   \n",
       "\n",
       "   Sponsorship  Content Marketing  Online marketing   Affiliates        SEM  \\\n",
       "0     7.414270           0.000933          1.327278     0.547254   5.023697   \n",
       "1     1.063332           0.000006          0.129244     0.073684   2.513528   \n",
       "2    62.787651           0.610292         16.379990     5.038266   6.202149   \n",
       "3    84.672532           3.444075         24.371778     6.973711  31.927011   \n",
       "4    14.172116           0.168633         19.561574     6.595767   5.222032   \n",
       "\n",
       "   Radio  Other  \n",
       "0    NaN    NaN  \n",
       "1    NaN    NaN  \n",
       "2    NaN    NaN  \n",
       "3    NaN    NaN  \n",
       "4    NaN    NaN  "
      ]
     },
     "execution_count": 854,
     "metadata": {},
     "output_type": "execute_result"
    }
   ],
   "source": [
    "media_invest.head()"
   ]
  },
  {
   "cell_type": "code",
   "execution_count": 855,
   "metadata": {},
   "outputs": [],
   "source": [
    "#Dropping the Unnamed column\n",
    "media_invest.drop(media_invest.columns[[0]],axis=1,inplace=True)"
   ]
  },
  {
   "cell_type": "code",
   "execution_count": 856,
   "metadata": {},
   "outputs": [
    {
     "data": {
      "text/html": [
       "<div>\n",
       "<style scoped>\n",
       "    .dataframe tbody tr th:only-of-type {\n",
       "        vertical-align: middle;\n",
       "    }\n",
       "\n",
       "    .dataframe tbody tr th {\n",
       "        vertical-align: top;\n",
       "    }\n",
       "\n",
       "    .dataframe thead th {\n",
       "        text-align: right;\n",
       "    }\n",
       "</style>\n",
       "<table border=\"1\" class=\"dataframe\">\n",
       "  <thead>\n",
       "    <tr style=\"text-align: right;\">\n",
       "      <th></th>\n",
       "      <th>Year</th>\n",
       "      <th>Month</th>\n",
       "      <th>Total Investment</th>\n",
       "      <th>TV</th>\n",
       "      <th>Digital</th>\n",
       "      <th>Sponsorship</th>\n",
       "      <th>Content Marketing</th>\n",
       "      <th>Online marketing</th>\n",
       "      <th>Affiliates</th>\n",
       "      <th>SEM</th>\n",
       "      <th>Radio</th>\n",
       "      <th>Other</th>\n",
       "    </tr>\n",
       "  </thead>\n",
       "  <tbody>\n",
       "    <tr>\n",
       "      <th>0</th>\n",
       "      <td>2015.0</td>\n",
       "      <td>7.0</td>\n",
       "      <td>17.061775</td>\n",
       "      <td>0.215330</td>\n",
       "      <td>2.533014</td>\n",
       "      <td>7.414270</td>\n",
       "      <td>0.000933</td>\n",
       "      <td>1.327278</td>\n",
       "      <td>0.547254</td>\n",
       "      <td>5.023697</td>\n",
       "      <td>NaN</td>\n",
       "      <td>NaN</td>\n",
       "    </tr>\n",
       "    <tr>\n",
       "      <th>1</th>\n",
       "      <td>2015.0</td>\n",
       "      <td>8.0</td>\n",
       "      <td>5.064306</td>\n",
       "      <td>0.006438</td>\n",
       "      <td>1.278074</td>\n",
       "      <td>1.063332</td>\n",
       "      <td>0.000006</td>\n",
       "      <td>0.129244</td>\n",
       "      <td>0.073684</td>\n",
       "      <td>2.513528</td>\n",
       "      <td>NaN</td>\n",
       "      <td>NaN</td>\n",
       "    </tr>\n",
       "    <tr>\n",
       "      <th>2</th>\n",
       "      <td>2015.0</td>\n",
       "      <td>9.0</td>\n",
       "      <td>96.254380</td>\n",
       "      <td>3.879504</td>\n",
       "      <td>1.356528</td>\n",
       "      <td>62.787651</td>\n",
       "      <td>0.610292</td>\n",
       "      <td>16.379990</td>\n",
       "      <td>5.038266</td>\n",
       "      <td>6.202149</td>\n",
       "      <td>NaN</td>\n",
       "      <td>NaN</td>\n",
       "    </tr>\n",
       "    <tr>\n",
       "      <th>3</th>\n",
       "      <td>2015.0</td>\n",
       "      <td>10.0</td>\n",
       "      <td>170.156297</td>\n",
       "      <td>6.144711</td>\n",
       "      <td>12.622480</td>\n",
       "      <td>84.672532</td>\n",
       "      <td>3.444075</td>\n",
       "      <td>24.371778</td>\n",
       "      <td>6.973711</td>\n",
       "      <td>31.927011</td>\n",
       "      <td>NaN</td>\n",
       "      <td>NaN</td>\n",
       "    </tr>\n",
       "    <tr>\n",
       "      <th>4</th>\n",
       "      <td>2015.0</td>\n",
       "      <td>11.0</td>\n",
       "      <td>51.216220</td>\n",
       "      <td>4.220630</td>\n",
       "      <td>1.275469</td>\n",
       "      <td>14.172116</td>\n",
       "      <td>0.168633</td>\n",
       "      <td>19.561574</td>\n",
       "      <td>6.595767</td>\n",
       "      <td>5.222032</td>\n",
       "      <td>NaN</td>\n",
       "      <td>NaN</td>\n",
       "    </tr>\n",
       "  </tbody>\n",
       "</table>\n",
       "</div>"
      ],
      "text/plain": [
       "     Year  Month  Total Investment        TV    Digital  Sponsorship  \\\n",
       "0  2015.0    7.0         17.061775  0.215330   2.533014     7.414270   \n",
       "1  2015.0    8.0          5.064306  0.006438   1.278074     1.063332   \n",
       "2  2015.0    9.0         96.254380  3.879504   1.356528    62.787651   \n",
       "3  2015.0   10.0        170.156297  6.144711  12.622480    84.672532   \n",
       "4  2015.0   11.0         51.216220  4.220630   1.275469    14.172116   \n",
       "\n",
       "   Content Marketing  Online marketing   Affiliates        SEM  Radio  Other  \n",
       "0           0.000933          1.327278     0.547254   5.023697    NaN    NaN  \n",
       "1           0.000006          0.129244     0.073684   2.513528    NaN    NaN  \n",
       "2           0.610292         16.379990     5.038266   6.202149    NaN    NaN  \n",
       "3           3.444075         24.371778     6.973711  31.927011    NaN    NaN  \n",
       "4           0.168633         19.561574     6.595767   5.222032    NaN    NaN  "
      ]
     },
     "execution_count": 856,
     "metadata": {},
     "output_type": "execute_result"
    }
   ],
   "source": [
    "media_invest.head()"
   ]
  },
  {
   "cell_type": "code",
   "execution_count": 857,
   "metadata": {},
   "outputs": [],
   "source": [
    "#Retaining only the rows corresponding to the 12 months from Jul2015 to Jun2016\n",
    "media_invest.drop(media_invest[media_invest.index > 11].index,inplace=True)"
   ]
  },
  {
   "cell_type": "code",
   "execution_count": 858,
   "metadata": {},
   "outputs": [],
   "source": [
    "#Replacing all the missing values with zeros\n",
    "media_invest.fillna(0,inplace=True)"
   ]
  },
  {
   "cell_type": "code",
   "execution_count": 859,
   "metadata": {},
   "outputs": [],
   "source": [
    "#Converting the year and month values to integer values from floating points\n",
    "media_invest = media_invest.astype({\"Year\":'int64', \"Month\":'int64'}) "
   ]
  },
  {
   "cell_type": "code",
   "execution_count": 860,
   "metadata": {},
   "outputs": [],
   "source": [
    "#Trimming the columns of any white spaces\n",
    "media_invest.columns = media_invest.columns.str.strip()"
   ]
  },
  {
   "cell_type": "code",
   "execution_count": 861,
   "metadata": {},
   "outputs": [
    {
     "data": {
      "text/html": [
       "<div>\n",
       "<style scoped>\n",
       "    .dataframe tbody tr th:only-of-type {\n",
       "        vertical-align: middle;\n",
       "    }\n",
       "\n",
       "    .dataframe tbody tr th {\n",
       "        vertical-align: top;\n",
       "    }\n",
       "\n",
       "    .dataframe thead th {\n",
       "        text-align: right;\n",
       "    }\n",
       "</style>\n",
       "<table border=\"1\" class=\"dataframe\">\n",
       "  <thead>\n",
       "    <tr style=\"text-align: right;\">\n",
       "      <th></th>\n",
       "      <th>Year</th>\n",
       "      <th>Month</th>\n",
       "      <th>Total Investment</th>\n",
       "      <th>TV</th>\n",
       "      <th>Digital</th>\n",
       "      <th>Sponsorship</th>\n",
       "      <th>Content Marketing</th>\n",
       "      <th>Online marketing</th>\n",
       "      <th>Affiliates</th>\n",
       "      <th>SEM</th>\n",
       "      <th>Radio</th>\n",
       "      <th>Other</th>\n",
       "    </tr>\n",
       "  </thead>\n",
       "  <tbody>\n",
       "    <tr>\n",
       "      <th>0</th>\n",
       "      <td>2015</td>\n",
       "      <td>7</td>\n",
       "      <td>17.061775</td>\n",
       "      <td>0.215330</td>\n",
       "      <td>2.533014</td>\n",
       "      <td>7.414270</td>\n",
       "      <td>0.000933</td>\n",
       "      <td>1.327278</td>\n",
       "      <td>0.547254</td>\n",
       "      <td>5.023697</td>\n",
       "      <td>0.00</td>\n",
       "      <td>0.000000</td>\n",
       "    </tr>\n",
       "    <tr>\n",
       "      <th>1</th>\n",
       "      <td>2015</td>\n",
       "      <td>8</td>\n",
       "      <td>5.064306</td>\n",
       "      <td>0.006438</td>\n",
       "      <td>1.278074</td>\n",
       "      <td>1.063332</td>\n",
       "      <td>0.000006</td>\n",
       "      <td>0.129244</td>\n",
       "      <td>0.073684</td>\n",
       "      <td>2.513528</td>\n",
       "      <td>0.00</td>\n",
       "      <td>0.000000</td>\n",
       "    </tr>\n",
       "    <tr>\n",
       "      <th>2</th>\n",
       "      <td>2015</td>\n",
       "      <td>9</td>\n",
       "      <td>96.254380</td>\n",
       "      <td>3.879504</td>\n",
       "      <td>1.356528</td>\n",
       "      <td>62.787651</td>\n",
       "      <td>0.610292</td>\n",
       "      <td>16.379990</td>\n",
       "      <td>5.038266</td>\n",
       "      <td>6.202149</td>\n",
       "      <td>0.00</td>\n",
       "      <td>0.000000</td>\n",
       "    </tr>\n",
       "    <tr>\n",
       "      <th>3</th>\n",
       "      <td>2015</td>\n",
       "      <td>10</td>\n",
       "      <td>170.156297</td>\n",
       "      <td>6.144711</td>\n",
       "      <td>12.622480</td>\n",
       "      <td>84.672532</td>\n",
       "      <td>3.444075</td>\n",
       "      <td>24.371778</td>\n",
       "      <td>6.973711</td>\n",
       "      <td>31.927011</td>\n",
       "      <td>0.00</td>\n",
       "      <td>0.000000</td>\n",
       "    </tr>\n",
       "    <tr>\n",
       "      <th>4</th>\n",
       "      <td>2015</td>\n",
       "      <td>11</td>\n",
       "      <td>51.216220</td>\n",
       "      <td>4.220630</td>\n",
       "      <td>1.275469</td>\n",
       "      <td>14.172116</td>\n",
       "      <td>0.168633</td>\n",
       "      <td>19.561574</td>\n",
       "      <td>6.595767</td>\n",
       "      <td>5.222032</td>\n",
       "      <td>0.00</td>\n",
       "      <td>0.000000</td>\n",
       "    </tr>\n",
       "    <tr>\n",
       "      <th>5</th>\n",
       "      <td>2015</td>\n",
       "      <td>12</td>\n",
       "      <td>106.745312</td>\n",
       "      <td>5.397502</td>\n",
       "      <td>3.063360</td>\n",
       "      <td>56.705419</td>\n",
       "      <td>1.067307</td>\n",
       "      <td>22.503756</td>\n",
       "      <td>6.826938</td>\n",
       "      <td>11.181030</td>\n",
       "      <td>0.00</td>\n",
       "      <td>0.000000</td>\n",
       "    </tr>\n",
       "    <tr>\n",
       "      <th>6</th>\n",
       "      <td>2016</td>\n",
       "      <td>1</td>\n",
       "      <td>74.196000</td>\n",
       "      <td>4.380000</td>\n",
       "      <td>0.456000</td>\n",
       "      <td>4.200000</td>\n",
       "      <td>0.900000</td>\n",
       "      <td>22.900000</td>\n",
       "      <td>7.370000</td>\n",
       "      <td>4.200000</td>\n",
       "      <td>2.70</td>\n",
       "      <td>27.090000</td>\n",
       "    </tr>\n",
       "    <tr>\n",
       "      <th>7</th>\n",
       "      <td>2016</td>\n",
       "      <td>2</td>\n",
       "      <td>48.052000</td>\n",
       "      <td>2.586008</td>\n",
       "      <td>1.912651</td>\n",
       "      <td>11.725555</td>\n",
       "      <td>0.596771</td>\n",
       "      <td>19.892366</td>\n",
       "      <td>6.465019</td>\n",
       "      <td>4.873630</td>\n",
       "      <td>0.00</td>\n",
       "      <td>0.000000</td>\n",
       "    </tr>\n",
       "    <tr>\n",
       "      <th>8</th>\n",
       "      <td>2016</td>\n",
       "      <td>3</td>\n",
       "      <td>100.024621</td>\n",
       "      <td>9.300000</td>\n",
       "      <td>2.100000</td>\n",
       "      <td>41.590000</td>\n",
       "      <td>0.370000</td>\n",
       "      <td>18.437818</td>\n",
       "      <td>6.217667</td>\n",
       "      <td>5.193591</td>\n",
       "      <td>0.87</td>\n",
       "      <td>15.945545</td>\n",
       "    </tr>\n",
       "    <tr>\n",
       "      <th>9</th>\n",
       "      <td>2016</td>\n",
       "      <td>4</td>\n",
       "      <td>56.848241</td>\n",
       "      <td>5.205196</td>\n",
       "      <td>0.871892</td>\n",
       "      <td>24.308354</td>\n",
       "      <td>0.034876</td>\n",
       "      <td>16.514510</td>\n",
       "      <td>5.693456</td>\n",
       "      <td>4.219958</td>\n",
       "      <td>0.00</td>\n",
       "      <td>0.000000</td>\n",
       "    </tr>\n",
       "    <tr>\n",
       "      <th>10</th>\n",
       "      <td>2016</td>\n",
       "      <td>5</td>\n",
       "      <td>78.057000</td>\n",
       "      <td>1.370000</td>\n",
       "      <td>0.770000</td>\n",
       "      <td>31.680000</td>\n",
       "      <td>0.790000</td>\n",
       "      <td>23.650000</td>\n",
       "      <td>6.800000</td>\n",
       "      <td>6.910000</td>\n",
       "      <td>1.10</td>\n",
       "      <td>4.987000</td>\n",
       "    </tr>\n",
       "    <tr>\n",
       "      <th>11</th>\n",
       "      <td>2016</td>\n",
       "      <td>6</td>\n",
       "      <td>42.834216</td>\n",
       "      <td>1.662717</td>\n",
       "      <td>1.420761</td>\n",
       "      <td>25.048541</td>\n",
       "      <td>0.045081</td>\n",
       "      <td>7.971300</td>\n",
       "      <td>2.768023</td>\n",
       "      <td>3.735516</td>\n",
       "      <td>0.00</td>\n",
       "      <td>0.000000</td>\n",
       "    </tr>\n",
       "  </tbody>\n",
       "</table>\n",
       "</div>"
      ],
      "text/plain": [
       "    Year  Month  Total Investment        TV    Digital  Sponsorship  \\\n",
       "0   2015      7         17.061775  0.215330   2.533014     7.414270   \n",
       "1   2015      8          5.064306  0.006438   1.278074     1.063332   \n",
       "2   2015      9         96.254380  3.879504   1.356528    62.787651   \n",
       "3   2015     10        170.156297  6.144711  12.622480    84.672532   \n",
       "4   2015     11         51.216220  4.220630   1.275469    14.172116   \n",
       "5   2015     12        106.745312  5.397502   3.063360    56.705419   \n",
       "6   2016      1         74.196000  4.380000   0.456000     4.200000   \n",
       "7   2016      2         48.052000  2.586008   1.912651    11.725555   \n",
       "8   2016      3        100.024621  9.300000   2.100000    41.590000   \n",
       "9   2016      4         56.848241  5.205196   0.871892    24.308354   \n",
       "10  2016      5         78.057000  1.370000   0.770000    31.680000   \n",
       "11  2016      6         42.834216  1.662717   1.420761    25.048541   \n",
       "\n",
       "    Content Marketing  Online marketing  Affiliates        SEM  Radio  \\\n",
       "0            0.000933          1.327278    0.547254   5.023697   0.00   \n",
       "1            0.000006          0.129244    0.073684   2.513528   0.00   \n",
       "2            0.610292         16.379990    5.038266   6.202149   0.00   \n",
       "3            3.444075         24.371778    6.973711  31.927011   0.00   \n",
       "4            0.168633         19.561574    6.595767   5.222032   0.00   \n",
       "5            1.067307         22.503756    6.826938  11.181030   0.00   \n",
       "6            0.900000         22.900000    7.370000   4.200000   2.70   \n",
       "7            0.596771         19.892366    6.465019   4.873630   0.00   \n",
       "8            0.370000         18.437818    6.217667   5.193591   0.87   \n",
       "9            0.034876         16.514510    5.693456   4.219958   0.00   \n",
       "10           0.790000         23.650000    6.800000   6.910000   1.10   \n",
       "11           0.045081          7.971300    2.768023   3.735516   0.00   \n",
       "\n",
       "        Other  \n",
       "0    0.000000  \n",
       "1    0.000000  \n",
       "2    0.000000  \n",
       "3    0.000000  \n",
       "4    0.000000  \n",
       "5    0.000000  \n",
       "6   27.090000  \n",
       "7    0.000000  \n",
       "8   15.945545  \n",
       "9    0.000000  \n",
       "10   4.987000  \n",
       "11   0.000000  "
      ]
     },
     "execution_count": 861,
     "metadata": {},
     "output_type": "execute_result"
    }
   ],
   "source": [
    "media_invest"
   ]
  },
  {
   "cell_type": "code",
   "execution_count": 862,
   "metadata": {},
   "outputs": [
    {
     "name": "stdout",
     "output_type": "stream",
     "text": [
      "<class 'pandas.core.frame.DataFrame'>\n",
      "Int64Index: 12 entries, 0 to 11\n",
      "Data columns (total 12 columns):\n",
      "Year                 12 non-null int64\n",
      "Month                12 non-null int64\n",
      "Total Investment     12 non-null float64\n",
      "TV                   12 non-null float64\n",
      "Digital              12 non-null float64\n",
      "Sponsorship          12 non-null float64\n",
      "Content Marketing    12 non-null float64\n",
      "Online marketing     12 non-null float64\n",
      "Affiliates           12 non-null float64\n",
      "SEM                  12 non-null float64\n",
      "Radio                12 non-null float64\n",
      "Other                12 non-null float64\n",
      "dtypes: float64(10), int64(2)\n",
      "memory usage: 1.2 KB\n"
     ]
    }
   ],
   "source": [
    "media_invest.info()"
   ]
  },
  {
   "cell_type": "markdown",
   "metadata": {},
   "source": [
    "#### Observations:\n",
    "- media_invest dataframe has 12 columns\n",
    "- `Year` and `month` columns represent the year and month of investment\n",
    "- The other 10 columns represent the monthly investments in 10 different advertising channels during the period Jul2015-Jun2016 \n",
    "\n"
   ]
  },
  {
   "cell_type": "markdown",
   "metadata": {},
   "source": [
    "## 1.3 Understanding monthly NPS score"
   ]
  },
  {
   "cell_type": "code",
   "execution_count": 863,
   "metadata": {},
   "outputs": [
    {
     "name": "stdout",
     "output_type": "stream",
     "text": [
      "Index(['Unnamed: 0', 'July'15', 'Aug'15', 'Sept'15', 'Oct'15', 'Nov'15',\n",
      "       'Dec'15', 'Jan'16', 'Feb'16', 'Mar'16', 'Apr'16', 'May'16', 'June'16'],\n",
      "      dtype='object')\n"
     ]
    }
   ],
   "source": [
    "nps_score = pd.read_excel('Media data and other information.xlsx', sheet_name='Monthly NPS Score')\n",
    "print(nps_score.columns)"
   ]
  },
  {
   "cell_type": "code",
   "execution_count": 864,
   "metadata": {},
   "outputs": [],
   "source": [
    "nps_score = nps_score.T"
   ]
  },
  {
   "cell_type": "code",
   "execution_count": 865,
   "metadata": {},
   "outputs": [],
   "source": [
    "nps_score.columns = ['NPS','Stock Index']"
   ]
  },
  {
   "cell_type": "code",
   "execution_count": 866,
   "metadata": {},
   "outputs": [],
   "source": [
    "nps_score = nps_score.iloc[1:]"
   ]
  },
  {
   "cell_type": "code",
   "execution_count": 867,
   "metadata": {},
   "outputs": [
    {
     "data": {
      "text/html": [
       "<div>\n",
       "<style scoped>\n",
       "    .dataframe tbody tr th:only-of-type {\n",
       "        vertical-align: middle;\n",
       "    }\n",
       "\n",
       "    .dataframe tbody tr th {\n",
       "        vertical-align: top;\n",
       "    }\n",
       "\n",
       "    .dataframe thead th {\n",
       "        text-align: right;\n",
       "    }\n",
       "</style>\n",
       "<table border=\"1\" class=\"dataframe\">\n",
       "  <thead>\n",
       "    <tr style=\"text-align: right;\">\n",
       "      <th></th>\n",
       "      <th>NPS</th>\n",
       "      <th>Stock Index</th>\n",
       "    </tr>\n",
       "  </thead>\n",
       "  <tbody>\n",
       "    <tr>\n",
       "      <th>July'15</th>\n",
       "      <td>54.5996</td>\n",
       "      <td>1177</td>\n",
       "    </tr>\n",
       "    <tr>\n",
       "      <th>Aug'15</th>\n",
       "      <td>59.9871</td>\n",
       "      <td>1206</td>\n",
       "    </tr>\n",
       "    <tr>\n",
       "      <th>Sept'15</th>\n",
       "      <td>46.9254</td>\n",
       "      <td>1101</td>\n",
       "    </tr>\n",
       "    <tr>\n",
       "      <th>Oct'15</th>\n",
       "      <td>44.3984</td>\n",
       "      <td>1210</td>\n",
       "    </tr>\n",
       "    <tr>\n",
       "      <th>Nov'15</th>\n",
       "      <td>47</td>\n",
       "      <td>1233</td>\n",
       "    </tr>\n",
       "    <tr>\n",
       "      <th>Dec'15</th>\n",
       "      <td>45.8</td>\n",
       "      <td>1038</td>\n",
       "    </tr>\n",
       "    <tr>\n",
       "      <th>Jan'16</th>\n",
       "      <td>47.093</td>\n",
       "      <td>1052</td>\n",
       "    </tr>\n",
       "    <tr>\n",
       "      <th>Feb'16</th>\n",
       "      <td>50.3274</td>\n",
       "      <td>1222</td>\n",
       "    </tr>\n",
       "    <tr>\n",
       "      <th>Mar'16</th>\n",
       "      <td>49.0206</td>\n",
       "      <td>1015</td>\n",
       "    </tr>\n",
       "    <tr>\n",
       "      <th>Apr'16</th>\n",
       "      <td>51.8276</td>\n",
       "      <td>1242</td>\n",
       "    </tr>\n",
       "    <tr>\n",
       "      <th>May'16</th>\n",
       "      <td>47.307</td>\n",
       "      <td>1228</td>\n",
       "    </tr>\n",
       "    <tr>\n",
       "      <th>June'16</th>\n",
       "      <td>50.5167</td>\n",
       "      <td>1194</td>\n",
       "    </tr>\n",
       "  </tbody>\n",
       "</table>\n",
       "</div>"
      ],
      "text/plain": [
       "             NPS Stock Index\n",
       "July'15  54.5996        1177\n",
       "Aug'15   59.9871        1206\n",
       "Sept'15  46.9254        1101\n",
       "Oct'15   44.3984        1210\n",
       "Nov'15        47        1233\n",
       "Dec'15      45.8        1038\n",
       "Jan'16    47.093        1052\n",
       "Feb'16   50.3274        1222\n",
       "Mar'16   49.0206        1015\n",
       "Apr'16   51.8276        1242\n",
       "May'16    47.307        1228\n",
       "June'16  50.5167        1194"
      ]
     },
     "execution_count": 867,
     "metadata": {},
     "output_type": "execute_result"
    }
   ],
   "source": [
    "nps_score"
   ]
  },
  {
   "cell_type": "code",
   "execution_count": 868,
   "metadata": {},
   "outputs": [],
   "source": [
    "nps_score.reset_index(level=0, inplace=True)"
   ]
  },
  {
   "cell_type": "code",
   "execution_count": 869,
   "metadata": {},
   "outputs": [],
   "source": [
    "#Replacing the long month names with the shorter month names to help with the datetime parsing\n",
    "nps_score = nps_score.replace('July', 'Jul', regex=True)\n",
    "nps_score = nps_score.replace('Sept', 'Sep', regex=True)\n",
    "nps_score = nps_score.replace('June', 'Jun', regex=True)"
   ]
  },
  {
   "cell_type": "code",
   "execution_count": 870,
   "metadata": {},
   "outputs": [],
   "source": [
    "nps_score['MonthYear'] =  pd.to_datetime(nps_score['index'], format=\"%b'%y\")"
   ]
  },
  {
   "cell_type": "code",
   "execution_count": 871,
   "metadata": {},
   "outputs": [],
   "source": [
    "nps_score.drop(['index'],axis=1,inplace=True)"
   ]
  },
  {
   "cell_type": "code",
   "execution_count": 872,
   "metadata": {},
   "outputs": [
    {
     "name": "stdout",
     "output_type": "stream",
     "text": [
      "<class 'pandas.core.frame.DataFrame'>\n",
      "RangeIndex: 12 entries, 0 to 11\n",
      "Data columns (total 3 columns):\n",
      "NPS            12 non-null float64\n",
      "Stock Index    12 non-null float64\n",
      "MonthYear      12 non-null datetime64[ns]\n",
      "dtypes: datetime64[ns](1), float64(2)\n",
      "memory usage: 368.0 bytes\n"
     ]
    }
   ],
   "source": [
    "nps_score.info()"
   ]
  },
  {
   "cell_type": "code",
   "execution_count": 873,
   "metadata": {},
   "outputs": [
    {
     "data": {
      "text/html": [
       "<div>\n",
       "<style scoped>\n",
       "    .dataframe tbody tr th:only-of-type {\n",
       "        vertical-align: middle;\n",
       "    }\n",
       "\n",
       "    .dataframe tbody tr th {\n",
       "        vertical-align: top;\n",
       "    }\n",
       "\n",
       "    .dataframe thead th {\n",
       "        text-align: right;\n",
       "    }\n",
       "</style>\n",
       "<table border=\"1\" class=\"dataframe\">\n",
       "  <thead>\n",
       "    <tr style=\"text-align: right;\">\n",
       "      <th></th>\n",
       "      <th>NPS</th>\n",
       "      <th>Stock Index</th>\n",
       "      <th>MonthYear</th>\n",
       "    </tr>\n",
       "  </thead>\n",
       "  <tbody>\n",
       "    <tr>\n",
       "      <th>0</th>\n",
       "      <td>54.599588</td>\n",
       "      <td>1177.0</td>\n",
       "      <td>2015-07-01</td>\n",
       "    </tr>\n",
       "    <tr>\n",
       "      <th>1</th>\n",
       "      <td>59.987101</td>\n",
       "      <td>1206.0</td>\n",
       "      <td>2015-08-01</td>\n",
       "    </tr>\n",
       "    <tr>\n",
       "      <th>2</th>\n",
       "      <td>46.925419</td>\n",
       "      <td>1101.0</td>\n",
       "      <td>2015-09-01</td>\n",
       "    </tr>\n",
       "    <tr>\n",
       "      <th>3</th>\n",
       "      <td>44.398389</td>\n",
       "      <td>1210.0</td>\n",
       "      <td>2015-10-01</td>\n",
       "    </tr>\n",
       "    <tr>\n",
       "      <th>4</th>\n",
       "      <td>47.000000</td>\n",
       "      <td>1233.0</td>\n",
       "      <td>2015-11-01</td>\n",
       "    </tr>\n",
       "    <tr>\n",
       "      <th>5</th>\n",
       "      <td>45.800000</td>\n",
       "      <td>1038.0</td>\n",
       "      <td>2015-12-01</td>\n",
       "    </tr>\n",
       "    <tr>\n",
       "      <th>6</th>\n",
       "      <td>47.093031</td>\n",
       "      <td>1052.0</td>\n",
       "      <td>2016-01-01</td>\n",
       "    </tr>\n",
       "    <tr>\n",
       "      <th>7</th>\n",
       "      <td>50.327406</td>\n",
       "      <td>1222.0</td>\n",
       "      <td>2016-02-01</td>\n",
       "    </tr>\n",
       "    <tr>\n",
       "      <th>8</th>\n",
       "      <td>49.020550</td>\n",
       "      <td>1015.0</td>\n",
       "      <td>2016-03-01</td>\n",
       "    </tr>\n",
       "    <tr>\n",
       "      <th>9</th>\n",
       "      <td>51.827605</td>\n",
       "      <td>1242.0</td>\n",
       "      <td>2016-04-01</td>\n",
       "    </tr>\n",
       "    <tr>\n",
       "      <th>10</th>\n",
       "      <td>47.306951</td>\n",
       "      <td>1228.0</td>\n",
       "      <td>2016-05-01</td>\n",
       "    </tr>\n",
       "    <tr>\n",
       "      <th>11</th>\n",
       "      <td>50.516687</td>\n",
       "      <td>1194.0</td>\n",
       "      <td>2016-06-01</td>\n",
       "    </tr>\n",
       "  </tbody>\n",
       "</table>\n",
       "</div>"
      ],
      "text/plain": [
       "          NPS  Stock Index  MonthYear\n",
       "0   54.599588       1177.0 2015-07-01\n",
       "1   59.987101       1206.0 2015-08-01\n",
       "2   46.925419       1101.0 2015-09-01\n",
       "3   44.398389       1210.0 2015-10-01\n",
       "4   47.000000       1233.0 2015-11-01\n",
       "5   45.800000       1038.0 2015-12-01\n",
       "6   47.093031       1052.0 2016-01-01\n",
       "7   50.327406       1222.0 2016-02-01\n",
       "8   49.020550       1015.0 2016-03-01\n",
       "9   51.827605       1242.0 2016-04-01\n",
       "10  47.306951       1228.0 2016-05-01\n",
       "11  50.516687       1194.0 2016-06-01"
      ]
     },
     "execution_count": 873,
     "metadata": {},
     "output_type": "execute_result"
    }
   ],
   "source": [
    "nps_score"
   ]
  },
  {
   "cell_type": "markdown",
   "metadata": {},
   "source": [
    "#### Observations:\n",
    "- nps_score dataframe has 3 columns\n",
    "- `NPS` column represents the NPS score for the corresponding month value reprsented by `MonthYear` column\n",
    "- `Stock Index` column represents the company stock price for the corresponding month value reprsented by `MonthYear` column"
   ]
  },
  {
   "cell_type": "markdown",
   "metadata": {},
   "source": [
    "## 1.4 Understanding Special Sale Calendar (Krishnan)"
   ]
  },
  {
   "cell_type": "code",
   "execution_count": 874,
   "metadata": {},
   "outputs": [
    {
     "data": {
      "text/plain": [
       "Index(['Unnamed: 0', 'Unnamed: 1', 'Sales Calendar'], dtype='object')"
      ]
     },
     "execution_count": 874,
     "metadata": {},
     "output_type": "execute_result"
    }
   ],
   "source": [
    "spl_sales = pd.read_excel('Media data and other information.xlsx', sheet_name='Special Sale Calendar')\n",
    "spl_sales.columns"
   ]
  },
  {
   "cell_type": "code",
   "execution_count": 875,
   "metadata": {},
   "outputs": [],
   "source": [
    "#Dropping the first column \n",
    "spl_sales.drop(['Unnamed: 0'],axis=1,inplace=True)"
   ]
  },
  {
   "cell_type": "code",
   "execution_count": 876,
   "metadata": {},
   "outputs": [],
   "source": [
    "#Renaming the column to Year column as it contains year values\n",
    "spl_sales.rename(columns={\"Unnamed: 1\": \"Year\"},inplace=True)\n",
    "\n",
    "#Replacing all the missing values with zeros\n",
    "spl_sales['Year'].fillna(0,inplace=True)"
   ]
  },
  {
   "cell_type": "code",
   "execution_count": 877,
   "metadata": {},
   "outputs": [],
   "source": [
    "#Retaining only the rows corresponding to the special sale dates\n",
    "spl_sales.drop(spl_sales[spl_sales.index > 11].index,inplace=True)"
   ]
  },
  {
   "cell_type": "code",
   "execution_count": 878,
   "metadata": {},
   "outputs": [],
   "source": [
    "#Converting the year and month values to integer values from floating points\n",
    "spl_sales = spl_sales.astype({\"Year\":'int64'}) "
   ]
  },
  {
   "cell_type": "code",
   "execution_count": 879,
   "metadata": {},
   "outputs": [],
   "source": [
    "#Filling up all the Year column values with the appropriate values\n",
    "spl_sales.at[(spl_sales.index >= 1) & (spl_sales.index<=5),'Year']=2015\n",
    "spl_sales.at[(spl_sales.index >= 7) & (spl_sales.index<=11),'Year']=2016"
   ]
  },
  {
   "cell_type": "code",
   "execution_count": 880,
   "metadata": {},
   "outputs": [],
   "source": [
    "#Creating a column with the row index values\n",
    "spl_sales['rowIndex'] = spl_sales.index"
   ]
  },
  {
   "cell_type": "code",
   "execution_count": 881,
   "metadata": {},
   "outputs": [],
   "source": [
    "import datetime\n",
    "\n",
    "#Custom function for extracting the start and end dates of the sale\n",
    "def extractSaleDates(index, daterange):\n",
    "    \n",
    "    #Removing any trailing/leading white spaces\n",
    "    datestr = daterange.strip()\n",
    "    \n",
    "    if(index != 5):\n",
    "        \n",
    "        if(index < 5):\n",
    "            year=2015\n",
    "        else:\n",
    "            year=2016\n",
    "    \n",
    "        #Replacing 'th' with empty spaces\n",
    "        datestr = datestr.replace(\"th\",\"\")\n",
    "   \n",
    "        #Splitting into day and month parts\n",
    "        datestr = datestr.split(\" \")\n",
    "    \n",
    "        days = datestr[0][1:].split(\"-\")\n",
    "        month = datestr[1][0:3]\n",
    "    \n",
    "        #Converting month name to a number\n",
    "        monthNo = datetime.datetime.strptime(month, '%b').month\n",
    "        startDay = int(days[0])\n",
    "        endDay = int(days[1])\n",
    "          \n",
    "        startDate = datetime.datetime(year=year, month=monthNo, day=startDay)\n",
    "        endDate = datetime.datetime(year=year, month=monthNo, day=endDay)\n",
    "    \n",
    "        if(startDate < endDate):    \n",
    "            dateinfo = [startDate,endDate]\n",
    "        else:\n",
    "            dateinfo = [endDate,startDate]\n",
    "            \n",
    "    else:\n",
    "        # Special case (25th Dec'15 - 3rd Jan'16)\n",
    "        \n",
    "        #Replacing 'th' with empty spaces\n",
    "        datestr = datestr.replace(\"th\",\"\")\n",
    "        datestr = datestr.replace(\"rd\",\"\")\n",
    "        \n",
    "        \n",
    "        #Splitting the string into two parts\n",
    "        datestr = datestr.split(\"-\")\n",
    "        startDatestr = datestr[0].replace(\" \",\"\")[1:]\n",
    "        endDatestr = datestr[1].replace(\" \",\"\")[:-1]\n",
    "        \n",
    "        startDate = datetime.datetime.strptime(startDatestr, \"%d%b'%y\")\n",
    "        endDate = datetime.datetime.strptime(endDatestr, \"%d%b'%y\")\n",
    "        \n",
    "        \n",
    "        dateinfo = [startDate,endDate]\n",
    "           \n",
    "               \n",
    "    return dateinfo\n",
    "    "
   ]
  },
  {
   "cell_type": "code",
   "execution_count": 882,
   "metadata": {},
   "outputs": [],
   "source": [
    "#Creating the \"Start Date\" and \"End Date\" columns to represent the start and end dates of the special sale window\n",
    "spl_sales['Start Date'] = spl_sales.apply(lambda x: extractSaleDates(x['rowIndex'],x['Sales Calendar'])[0],axis=1)\n",
    "spl_sales['End Date'] = spl_sales.apply(lambda x: extractSaleDates(x['rowIndex'],x['Sales Calendar'])[1],axis=1)"
   ]
  },
  {
   "cell_type": "code",
   "execution_count": 883,
   "metadata": {},
   "outputs": [],
   "source": [
    "#Dropping the columns that are no longer required\n",
    "spl_sales.drop(['rowIndex'],axis=1,inplace=True)\n",
    "spl_sales.drop(['Year'],axis=1,inplace=True)\n",
    "spl_sales.drop(['Sales Calendar'],axis=1,inplace=True)"
   ]
  },
  {
   "cell_type": "code",
   "execution_count": 884,
   "metadata": {},
   "outputs": [
    {
     "data": {
      "text/html": [
       "<div>\n",
       "<style scoped>\n",
       "    .dataframe tbody tr th:only-of-type {\n",
       "        vertical-align: middle;\n",
       "    }\n",
       "\n",
       "    .dataframe tbody tr th {\n",
       "        vertical-align: top;\n",
       "    }\n",
       "\n",
       "    .dataframe thead th {\n",
       "        text-align: right;\n",
       "    }\n",
       "</style>\n",
       "<table border=\"1\" class=\"dataframe\">\n",
       "  <thead>\n",
       "    <tr style=\"text-align: right;\">\n",
       "      <th></th>\n",
       "      <th>Start Date</th>\n",
       "      <th>End Date</th>\n",
       "    </tr>\n",
       "  </thead>\n",
       "  <tbody>\n",
       "    <tr>\n",
       "      <th>0</th>\n",
       "      <td>2015-07-18</td>\n",
       "      <td>2015-07-19</td>\n",
       "    </tr>\n",
       "    <tr>\n",
       "      <th>1</th>\n",
       "      <td>2015-08-15</td>\n",
       "      <td>2015-08-17</td>\n",
       "    </tr>\n",
       "    <tr>\n",
       "      <th>2</th>\n",
       "      <td>2015-08-28</td>\n",
       "      <td>2015-08-30</td>\n",
       "    </tr>\n",
       "    <tr>\n",
       "      <th>3</th>\n",
       "      <td>2015-10-15</td>\n",
       "      <td>2015-10-17</td>\n",
       "    </tr>\n",
       "    <tr>\n",
       "      <th>4</th>\n",
       "      <td>2015-11-07</td>\n",
       "      <td>2015-11-14</td>\n",
       "    </tr>\n",
       "    <tr>\n",
       "      <th>5</th>\n",
       "      <td>2015-12-25</td>\n",
       "      <td>2016-01-03</td>\n",
       "    </tr>\n",
       "    <tr>\n",
       "      <th>6</th>\n",
       "      <td>2016-01-20</td>\n",
       "      <td>2016-01-22</td>\n",
       "    </tr>\n",
       "    <tr>\n",
       "      <th>7</th>\n",
       "      <td>2016-02-01</td>\n",
       "      <td>2016-02-02</td>\n",
       "    </tr>\n",
       "    <tr>\n",
       "      <th>8</th>\n",
       "      <td>2016-02-20</td>\n",
       "      <td>2016-02-21</td>\n",
       "    </tr>\n",
       "    <tr>\n",
       "      <th>9</th>\n",
       "      <td>2016-02-14</td>\n",
       "      <td>2016-02-15</td>\n",
       "    </tr>\n",
       "    <tr>\n",
       "      <th>10</th>\n",
       "      <td>2016-03-07</td>\n",
       "      <td>2016-03-09</td>\n",
       "    </tr>\n",
       "    <tr>\n",
       "      <th>11</th>\n",
       "      <td>2016-05-25</td>\n",
       "      <td>2016-05-27</td>\n",
       "    </tr>\n",
       "  </tbody>\n",
       "</table>\n",
       "</div>"
      ],
      "text/plain": [
       "   Start Date   End Date\n",
       "0  2015-07-18 2015-07-19\n",
       "1  2015-08-15 2015-08-17\n",
       "2  2015-08-28 2015-08-30\n",
       "3  2015-10-15 2015-10-17\n",
       "4  2015-11-07 2015-11-14\n",
       "5  2015-12-25 2016-01-03\n",
       "6  2016-01-20 2016-01-22\n",
       "7  2016-02-01 2016-02-02\n",
       "8  2016-02-20 2016-02-21\n",
       "9  2016-02-14 2016-02-15\n",
       "10 2016-03-07 2016-03-09\n",
       "11 2016-05-25 2016-05-27"
      ]
     },
     "execution_count": 884,
     "metadata": {},
     "output_type": "execute_result"
    }
   ],
   "source": [
    "spl_sales"
   ]
  },
  {
   "cell_type": "markdown",
   "metadata": {},
   "source": [
    "#### Observations:\n",
    "- `spl_sales` dataframe contains the special sale calendar between the period July 2015 - Jun 2016\n",
    "- `spl_sales` dataframe contains two columns `Start Date` and `End Date` that contain the start and end dates for each special sale"
   ]
  },
  {
   "cell_type": "markdown",
   "metadata": {},
   "source": [
    "## 1.5 Understanding Climate Data (Krishnan)"
   ]
  },
  {
   "cell_type": "code",
   "execution_count": 885,
   "metadata": {},
   "outputs": [],
   "source": [
    "#Creating climate data frame from the ONTARIO-20xx.xlsx\n",
    "\n",
    "from pandas import ExcelWriter\n",
    "from pandas import ExcelFile\n",
    "\n",
    "climate2015 = pd.read_excel('ONTARIO-2015.xlsx', sheet_name='ONTARIO-2015',skiprows=24)\n",
    "climate2016 = pd.read_excel('ONTARIO-2016.xlsx', sheet_name='ONTARIO-2016',skiprows=24)"
   ]
  },
  {
   "cell_type": "code",
   "execution_count": 886,
   "metadata": {},
   "outputs": [
    {
     "name": "stdout",
     "output_type": "stream",
     "text": [
      "<class 'pandas.core.frame.DataFrame'>\n",
      "RangeIndex: 365 entries, 0 to 364\n",
      "Data columns (total 27 columns):\n",
      "Date/Time                    365 non-null datetime64[ns]\n",
      "Year                         365 non-null int64\n",
      "Month                        365 non-null int64\n",
      "Day                          365 non-null int64\n",
      "Data Quality                 229 non-null object\n",
      "Max Temp (°C)                216 non-null float64\n",
      "Max Temp Flag                13 non-null object\n",
      "Min Temp (°C)                190 non-null float64\n",
      "Min Temp Flag                39 non-null object\n",
      "Mean Temp (°C)               190 non-null float64\n",
      "Mean Temp Flag               39 non-null object\n",
      "Heat Deg Days (°C)           190 non-null float64\n",
      "Heat Deg Days Flag           39 non-null object\n",
      "Cool Deg Days (°C)           190 non-null float64\n",
      "Cool Deg Days Flag           39 non-null object\n",
      "Total Rain (mm)              229 non-null float64\n",
      "Total Rain Flag              7 non-null object\n",
      "Total Snow (cm)              229 non-null float64\n",
      "Total Snow Flag              9 non-null object\n",
      "Total Precip (mm)            229 non-null float64\n",
      "Total Precip Flag            12 non-null object\n",
      "Snow on Grnd (cm)            229 non-null float64\n",
      "Snow on Grnd Flag            2 non-null object\n",
      "Dir of Max Gust (10s deg)    0 non-null float64\n",
      "Dir of Max Gust Flag         0 non-null float64\n",
      "Spd of Max Gust (km/h)       0 non-null float64\n",
      "Spd of Max Gust Flag         0 non-null float64\n",
      "dtypes: datetime64[ns](1), float64(13), int64(3), object(10)\n",
      "memory usage: 77.1+ KB\n"
     ]
    }
   ],
   "source": [
    "climate2015.info()"
   ]
  },
  {
   "cell_type": "code",
   "execution_count": 887,
   "metadata": {},
   "outputs": [
    {
     "name": "stdout",
     "output_type": "stream",
     "text": [
      "<class 'pandas.core.frame.DataFrame'>\n",
      "RangeIndex: 366 entries, 0 to 365\n",
      "Data columns (total 27 columns):\n",
      "Date/Time                    366 non-null datetime64[ns]\n",
      "Year                         366 non-null int64\n",
      "Month                        366 non-null int64\n",
      "Day                          366 non-null int64\n",
      "Data Quality                 227 non-null object\n",
      "Max Temp (°C)                226 non-null float64\n",
      "Max Temp Flag                1 non-null object\n",
      "Min Temp (°C)                219 non-null float64\n",
      "Min Temp Flag                8 non-null object\n",
      "Mean Temp (°C)               219 non-null float64\n",
      "Mean Temp Flag               8 non-null object\n",
      "Heat Deg Days (°C)           219 non-null float64\n",
      "Heat Deg Days Flag           8 non-null object\n",
      "Cool Deg Days (°C)           219 non-null float64\n",
      "Cool Deg Days Flag           8 non-null object\n",
      "Total Rain (mm)              227 non-null float64\n",
      "Total Rain Flag              3 non-null object\n",
      "Total Snow (cm)              227 non-null float64\n",
      "Total Snow Flag              7 non-null object\n",
      "Total Precip (mm)            227 non-null float64\n",
      "Total Precip Flag            7 non-null object\n",
      "Snow on Grnd (cm)            227 non-null float64\n",
      "Snow on Grnd Flag            6 non-null object\n",
      "Dir of Max Gust (10s deg)    0 non-null float64\n",
      "Dir of Max Gust Flag         0 non-null float64\n",
      "Spd of Max Gust (km/h)       0 non-null float64\n",
      "Spd of Max Gust Flag         0 non-null float64\n",
      "dtypes: datetime64[ns](1), float64(13), int64(3), object(10)\n",
      "memory usage: 77.3+ KB\n"
     ]
    }
   ],
   "source": [
    "climate2016.info()"
   ]
  },
  {
   "cell_type": "code",
   "execution_count": 888,
   "metadata": {},
   "outputs": [],
   "source": [
    "climate = climate2015.append(climate2016,ignore_index=True)"
   ]
  },
  {
   "cell_type": "code",
   "execution_count": 889,
   "metadata": {},
   "outputs": [
    {
     "name": "stdout",
     "output_type": "stream",
     "text": [
      "<class 'pandas.core.frame.DataFrame'>\n",
      "RangeIndex: 731 entries, 0 to 730\n",
      "Data columns (total 27 columns):\n",
      "Date/Time                    731 non-null datetime64[ns]\n",
      "Year                         731 non-null int64\n",
      "Month                        731 non-null int64\n",
      "Day                          731 non-null int64\n",
      "Data Quality                 456 non-null object\n",
      "Max Temp (°C)                442 non-null float64\n",
      "Max Temp Flag                14 non-null object\n",
      "Min Temp (°C)                409 non-null float64\n",
      "Min Temp Flag                47 non-null object\n",
      "Mean Temp (°C)               409 non-null float64\n",
      "Mean Temp Flag               47 non-null object\n",
      "Heat Deg Days (°C)           409 non-null float64\n",
      "Heat Deg Days Flag           47 non-null object\n",
      "Cool Deg Days (°C)           409 non-null float64\n",
      "Cool Deg Days Flag           47 non-null object\n",
      "Total Rain (mm)              456 non-null float64\n",
      "Total Rain Flag              10 non-null object\n",
      "Total Snow (cm)              456 non-null float64\n",
      "Total Snow Flag              16 non-null object\n",
      "Total Precip (mm)            456 non-null float64\n",
      "Total Precip Flag            19 non-null object\n",
      "Snow on Grnd (cm)            456 non-null float64\n",
      "Snow on Grnd Flag            8 non-null object\n",
      "Dir of Max Gust (10s deg)    0 non-null float64\n",
      "Dir of Max Gust Flag         0 non-null float64\n",
      "Spd of Max Gust (km/h)       0 non-null float64\n",
      "Spd of Max Gust Flag         0 non-null float64\n",
      "dtypes: datetime64[ns](1), float64(13), int64(3), object(10)\n",
      "memory usage: 154.3+ KB\n"
     ]
    }
   ],
   "source": [
    "climate.info()"
   ]
  },
  {
   "cell_type": "code",
   "execution_count": 890,
   "metadata": {},
   "outputs": [
    {
     "data": {
      "text/html": [
       "<div>\n",
       "<style scoped>\n",
       "    .dataframe tbody tr th:only-of-type {\n",
       "        vertical-align: middle;\n",
       "    }\n",
       "\n",
       "    .dataframe tbody tr th {\n",
       "        vertical-align: top;\n",
       "    }\n",
       "\n",
       "    .dataframe thead th {\n",
       "        text-align: right;\n",
       "    }\n",
       "</style>\n",
       "<table border=\"1\" class=\"dataframe\">\n",
       "  <thead>\n",
       "    <tr style=\"text-align: right;\">\n",
       "      <th></th>\n",
       "      <th>Date/Time</th>\n",
       "      <th>Year</th>\n",
       "      <th>Month</th>\n",
       "      <th>Day</th>\n",
       "      <th>Data Quality</th>\n",
       "      <th>Max Temp (°C)</th>\n",
       "      <th>Max Temp Flag</th>\n",
       "      <th>Min Temp (°C)</th>\n",
       "      <th>Min Temp Flag</th>\n",
       "      <th>Mean Temp (°C)</th>\n",
       "      <th>...</th>\n",
       "      <th>Total Snow (cm)</th>\n",
       "      <th>Total Snow Flag</th>\n",
       "      <th>Total Precip (mm)</th>\n",
       "      <th>Total Precip Flag</th>\n",
       "      <th>Snow on Grnd (cm)</th>\n",
       "      <th>Snow on Grnd Flag</th>\n",
       "      <th>Dir of Max Gust (10s deg)</th>\n",
       "      <th>Dir of Max Gust Flag</th>\n",
       "      <th>Spd of Max Gust (km/h)</th>\n",
       "      <th>Spd of Max Gust Flag</th>\n",
       "    </tr>\n",
       "  </thead>\n",
       "  <tbody>\n",
       "    <tr>\n",
       "      <th>0</th>\n",
       "      <td>2015-07-01</td>\n",
       "      <td>2015</td>\n",
       "      <td>7</td>\n",
       "      <td>1</td>\n",
       "      <td>†</td>\n",
       "      <td>24.5</td>\n",
       "      <td>NaN</td>\n",
       "      <td>17.0</td>\n",
       "      <td>NaN</td>\n",
       "      <td>20.8</td>\n",
       "      <td>...</td>\n",
       "      <td>0.0</td>\n",
       "      <td>NaN</td>\n",
       "      <td>0.0</td>\n",
       "      <td>NaN</td>\n",
       "      <td>0.0</td>\n",
       "      <td>NaN</td>\n",
       "      <td>NaN</td>\n",
       "      <td>NaN</td>\n",
       "      <td>NaN</td>\n",
       "      <td>NaN</td>\n",
       "    </tr>\n",
       "    <tr>\n",
       "      <th>1</th>\n",
       "      <td>2015-07-02</td>\n",
       "      <td>2015</td>\n",
       "      <td>7</td>\n",
       "      <td>2</td>\n",
       "      <td>†</td>\n",
       "      <td>24.0</td>\n",
       "      <td>NaN</td>\n",
       "      <td>14.0</td>\n",
       "      <td>NaN</td>\n",
       "      <td>19.0</td>\n",
       "      <td>...</td>\n",
       "      <td>0.0</td>\n",
       "      <td>NaN</td>\n",
       "      <td>0.0</td>\n",
       "      <td>NaN</td>\n",
       "      <td>0.0</td>\n",
       "      <td>NaN</td>\n",
       "      <td>NaN</td>\n",
       "      <td>NaN</td>\n",
       "      <td>NaN</td>\n",
       "      <td>NaN</td>\n",
       "    </tr>\n",
       "    <tr>\n",
       "      <th>2</th>\n",
       "      <td>2015-07-03</td>\n",
       "      <td>2015</td>\n",
       "      <td>7</td>\n",
       "      <td>3</td>\n",
       "      <td>†</td>\n",
       "      <td>25.0</td>\n",
       "      <td>NaN</td>\n",
       "      <td>10.0</td>\n",
       "      <td>NaN</td>\n",
       "      <td>17.5</td>\n",
       "      <td>...</td>\n",
       "      <td>0.0</td>\n",
       "      <td>NaN</td>\n",
       "      <td>0.0</td>\n",
       "      <td>NaN</td>\n",
       "      <td>0.0</td>\n",
       "      <td>NaN</td>\n",
       "      <td>NaN</td>\n",
       "      <td>NaN</td>\n",
       "      <td>NaN</td>\n",
       "      <td>NaN</td>\n",
       "    </tr>\n",
       "    <tr>\n",
       "      <th>3</th>\n",
       "      <td>2015-07-04</td>\n",
       "      <td>2015</td>\n",
       "      <td>7</td>\n",
       "      <td>4</td>\n",
       "      <td>†</td>\n",
       "      <td>26.0</td>\n",
       "      <td>NaN</td>\n",
       "      <td>11.0</td>\n",
       "      <td>NaN</td>\n",
       "      <td>18.5</td>\n",
       "      <td>...</td>\n",
       "      <td>0.0</td>\n",
       "      <td>NaN</td>\n",
       "      <td>0.0</td>\n",
       "      <td>NaN</td>\n",
       "      <td>0.0</td>\n",
       "      <td>NaN</td>\n",
       "      <td>NaN</td>\n",
       "      <td>NaN</td>\n",
       "      <td>NaN</td>\n",
       "      <td>NaN</td>\n",
       "    </tr>\n",
       "    <tr>\n",
       "      <th>4</th>\n",
       "      <td>2015-07-05</td>\n",
       "      <td>2015</td>\n",
       "      <td>7</td>\n",
       "      <td>5</td>\n",
       "      <td>†</td>\n",
       "      <td>28.0</td>\n",
       "      <td>NaN</td>\n",
       "      <td>14.0</td>\n",
       "      <td>NaN</td>\n",
       "      <td>21.0</td>\n",
       "      <td>...</td>\n",
       "      <td>0.0</td>\n",
       "      <td>NaN</td>\n",
       "      <td>0.0</td>\n",
       "      <td>NaN</td>\n",
       "      <td>0.0</td>\n",
       "      <td>NaN</td>\n",
       "      <td>NaN</td>\n",
       "      <td>NaN</td>\n",
       "      <td>NaN</td>\n",
       "      <td>NaN</td>\n",
       "    </tr>\n",
       "  </tbody>\n",
       "</table>\n",
       "<p>5 rows × 27 columns</p>\n",
       "</div>"
      ],
      "text/plain": [
       "   Date/Time  Year  Month  Day Data Quality  Max Temp (°C) Max Temp Flag  \\\n",
       "0 2015-07-01  2015      7    1            †           24.5           NaN   \n",
       "1 2015-07-02  2015      7    2            †           24.0           NaN   \n",
       "2 2015-07-03  2015      7    3            †           25.0           NaN   \n",
       "3 2015-07-04  2015      7    4            †           26.0           NaN   \n",
       "4 2015-07-05  2015      7    5            †           28.0           NaN   \n",
       "\n",
       "   Min Temp (°C) Min Temp Flag  Mean Temp (°C)          ...           \\\n",
       "0           17.0           NaN            20.8          ...            \n",
       "1           14.0           NaN            19.0          ...            \n",
       "2           10.0           NaN            17.5          ...            \n",
       "3           11.0           NaN            18.5          ...            \n",
       "4           14.0           NaN            21.0          ...            \n",
       "\n",
       "  Total Snow (cm)  Total Snow Flag Total Precip (mm)  Total Precip Flag  \\\n",
       "0             0.0              NaN               0.0                NaN   \n",
       "1             0.0              NaN               0.0                NaN   \n",
       "2             0.0              NaN               0.0                NaN   \n",
       "3             0.0              NaN               0.0                NaN   \n",
       "4             0.0              NaN               0.0                NaN   \n",
       "\n",
       "  Snow on Grnd (cm)  Snow on Grnd Flag Dir of Max Gust (10s deg)  \\\n",
       "0               0.0                NaN                       NaN   \n",
       "1               0.0                NaN                       NaN   \n",
       "2               0.0                NaN                       NaN   \n",
       "3               0.0                NaN                       NaN   \n",
       "4               0.0                NaN                       NaN   \n",
       "\n",
       "   Dir of Max Gust Flag Spd of Max Gust (km/h)  Spd of Max Gust Flag  \n",
       "0                   NaN                    NaN                   NaN  \n",
       "1                   NaN                    NaN                   NaN  \n",
       "2                   NaN                    NaN                   NaN  \n",
       "3                   NaN                    NaN                   NaN  \n",
       "4                   NaN                    NaN                   NaN  \n",
       "\n",
       "[5 rows x 27 columns]"
      ]
     },
     "execution_count": 890,
     "metadata": {},
     "output_type": "execute_result"
    }
   ],
   "source": [
    "#Retaining only the rows corresponding to the period July 2015 - Jun 2016\n",
    "startDate = datetime.datetime(2015, 7, 1)\n",
    "endDate = datetime.datetime(2016,6,30)\n",
    "climate = climate[(climate['Date/Time'] >= startDate) & (climate['Date/Time'] <= endDate)] \n",
    "climate = climate.reset_index(drop=True)\n",
    "climate.head()"
   ]
  },
  {
   "cell_type": "code",
   "execution_count": 891,
   "metadata": {},
   "outputs": [
    {
     "name": "stdout",
     "output_type": "stream",
     "text": [
      "<class 'pandas.core.frame.DataFrame'>\n",
      "RangeIndex: 366 entries, 0 to 365\n",
      "Data columns (total 27 columns):\n",
      "Date/Time                    366 non-null datetime64[ns]\n",
      "Year                         366 non-null int64\n",
      "Month                        366 non-null int64\n",
      "Day                          366 non-null int64\n",
      "Data Quality                 215 non-null object\n",
      "Max Temp (°C)                208 non-null float64\n",
      "Max Temp Flag                7 non-null object\n",
      "Min Temp (°C)                191 non-null float64\n",
      "Min Temp Flag                24 non-null object\n",
      "Mean Temp (°C)               191 non-null float64\n",
      "Mean Temp Flag               24 non-null object\n",
      "Heat Deg Days (°C)           191 non-null float64\n",
      "Heat Deg Days Flag           24 non-null object\n",
      "Cool Deg Days (°C)           191 non-null float64\n",
      "Cool Deg Days Flag           24 non-null object\n",
      "Total Rain (mm)              215 non-null float64\n",
      "Total Rain Flag              7 non-null object\n",
      "Total Snow (cm)              215 non-null float64\n",
      "Total Snow Flag              6 non-null object\n",
      "Total Precip (mm)            215 non-null float64\n",
      "Total Precip Flag            11 non-null object\n",
      "Snow on Grnd (cm)            215 non-null float64\n",
      "Snow on Grnd Flag            6 non-null object\n",
      "Dir of Max Gust (10s deg)    0 non-null float64\n",
      "Dir of Max Gust Flag         0 non-null float64\n",
      "Spd of Max Gust (km/h)       0 non-null float64\n",
      "Spd of Max Gust Flag         0 non-null float64\n",
      "dtypes: datetime64[ns](1), float64(13), int64(3), object(10)\n",
      "memory usage: 77.3+ KB\n"
     ]
    }
   ],
   "source": [
    "climate.info()"
   ]
  },
  {
   "cell_type": "code",
   "execution_count": 892,
   "metadata": {},
   "outputs": [],
   "source": [
    "#Dropping columns that have only null values\n",
    "climate.drop(['Dir of Max Gust (10s deg)','Dir of Max Gust Flag','Spd of Max Gust (km/h)','Spd of Max Gust Flag'],axis=1,inplace=True)\n"
   ]
  },
  {
   "cell_type": "code",
   "execution_count": 893,
   "metadata": {},
   "outputs": [
    {
     "name": "stdout",
     "output_type": "stream",
     "text": [
      "<class 'pandas.core.frame.DataFrame'>\n",
      "RangeIndex: 366 entries, 0 to 365\n",
      "Data columns (total 23 columns):\n",
      "Date/Time             366 non-null datetime64[ns]\n",
      "Year                  366 non-null int64\n",
      "Month                 366 non-null int64\n",
      "Day                   366 non-null int64\n",
      "Data Quality          215 non-null object\n",
      "Max Temp (°C)         208 non-null float64\n",
      "Max Temp Flag         7 non-null object\n",
      "Min Temp (°C)         191 non-null float64\n",
      "Min Temp Flag         24 non-null object\n",
      "Mean Temp (°C)        191 non-null float64\n",
      "Mean Temp Flag        24 non-null object\n",
      "Heat Deg Days (°C)    191 non-null float64\n",
      "Heat Deg Days Flag    24 non-null object\n",
      "Cool Deg Days (°C)    191 non-null float64\n",
      "Cool Deg Days Flag    24 non-null object\n",
      "Total Rain (mm)       215 non-null float64\n",
      "Total Rain Flag       7 non-null object\n",
      "Total Snow (cm)       215 non-null float64\n",
      "Total Snow Flag       6 non-null object\n",
      "Total Precip (mm)     215 non-null float64\n",
      "Total Precip Flag     11 non-null object\n",
      "Snow on Grnd (cm)     215 non-null float64\n",
      "Snow on Grnd Flag     6 non-null object\n",
      "dtypes: datetime64[ns](1), float64(9), int64(3), object(10)\n",
      "memory usage: 65.8+ KB\n"
     ]
    }
   ],
   "source": [
    "climate.info()"
   ]
  },
  {
   "cell_type": "code",
   "execution_count": 894,
   "metadata": {},
   "outputs": [],
   "source": [
    "#Renaming the columns appropriately\n",
    "climate.rename(columns={\"Date/Time\": \"Date\",\n",
    "                        \"Data Quality\":\"Data Quality Review\"\n",
    "                       },inplace=True)"
   ]
  },
  {
   "cell_type": "code",
   "execution_count": 895,
   "metadata": {},
   "outputs": [
    {
     "name": "stdout",
     "output_type": "stream",
     "text": [
      "<class 'pandas.core.frame.DataFrame'>\n",
      "RangeIndex: 366 entries, 0 to 365\n",
      "Data columns (total 23 columns):\n",
      "Date                   366 non-null datetime64[ns]\n",
      "Year                   366 non-null int64\n",
      "Month                  366 non-null int64\n",
      "Day                    366 non-null int64\n",
      "Data Quality Review    215 non-null object\n",
      "Max Temp (°C)          208 non-null float64\n",
      "Max Temp Flag          7 non-null object\n",
      "Min Temp (°C)          191 non-null float64\n",
      "Min Temp Flag          24 non-null object\n",
      "Mean Temp (°C)         191 non-null float64\n",
      "Mean Temp Flag         24 non-null object\n",
      "Heat Deg Days (°C)     191 non-null float64\n",
      "Heat Deg Days Flag     24 non-null object\n",
      "Cool Deg Days (°C)     191 non-null float64\n",
      "Cool Deg Days Flag     24 non-null object\n",
      "Total Rain (mm)        215 non-null float64\n",
      "Total Rain Flag        7 non-null object\n",
      "Total Snow (cm)        215 non-null float64\n",
      "Total Snow Flag        6 non-null object\n",
      "Total Precip (mm)      215 non-null float64\n",
      "Total Precip Flag      11 non-null object\n",
      "Snow on Grnd (cm)      215 non-null float64\n",
      "Snow on Grnd Flag      6 non-null object\n",
      "dtypes: datetime64[ns](1), float64(9), int64(3), object(10)\n",
      "memory usage: 65.8+ KB\n"
     ]
    }
   ],
   "source": [
    "climate.info()"
   ]
  },
  {
   "cell_type": "code",
   "execution_count": 896,
   "metadata": {},
   "outputs": [
    {
     "data": {
      "text/plain": [
       "†      215\n",
       "NaN    151\n",
       "Name: Data Quality Review, dtype: int64"
      ]
     },
     "execution_count": 896,
     "metadata": {},
     "output_type": "execute_result"
    }
   ],
   "source": [
    "climate['Data Quality Review'].astype('category').value_counts(dropna=False)"
   ]
  },
  {
   "cell_type": "code",
   "execution_count": 897,
   "metadata": {},
   "outputs": [
    {
     "data": {
      "text/plain": [
       "No     215\n",
       "Yes    151\n",
       "Name: Data Quality Review, dtype: int64"
      ]
     },
     "execution_count": 897,
     "metadata": {},
     "output_type": "execute_result"
    }
   ],
   "source": [
    "climate['Data Quality Review'].replace(np.nan,\"Yes\",inplace=True)\n",
    "climate['Data Quality Review'].replace('†',\"No\",inplace=True)\n",
    "climate['Data Quality Review'].astype('category').value_counts(dropna=False)"
   ]
  },
  {
   "cell_type": "code",
   "execution_count": 898,
   "metadata": {},
   "outputs": [
    {
     "data": {
      "text/plain": [
       "count    208.000000\n",
       "mean      19.177885\n",
       "std        9.855212\n",
       "min       -8.500000\n",
       "25%       11.500000\n",
       "50%       20.500000\n",
       "75%       27.625000\n",
       "max       35.000000\n",
       "Name: Max Temp (°C), dtype: float64"
      ]
     },
     "execution_count": 898,
     "metadata": {},
     "output_type": "execute_result"
    }
   ],
   "source": [
    "climate['Max Temp (°C)'].describe()"
   ]
  },
  {
   "cell_type": "code",
   "execution_count": 899,
   "metadata": {},
   "outputs": [
    {
     "data": {
      "text/plain": [
       "NaN    359\n",
       "M        7\n",
       "Name: Max Temp Flag, dtype: int64"
      ]
     },
     "execution_count": 899,
     "metadata": {},
     "output_type": "execute_result"
    }
   ],
   "source": [
    "climate['Max Temp Flag'].astype('category').value_counts(dropna=False)"
   ]
  },
  {
   "cell_type": "code",
   "execution_count": 900,
   "metadata": {},
   "outputs": [
    {
     "data": {
      "text/plain": [
       "count    191.000000\n",
       "mean       8.696335\n",
       "std        8.757970\n",
       "min      -18.000000\n",
       "25%        2.750000\n",
       "50%       10.000000\n",
       "75%       16.000000\n",
       "max       22.000000\n",
       "Name: Min Temp (°C), dtype: float64"
      ]
     },
     "execution_count": 900,
     "metadata": {},
     "output_type": "execute_result"
    }
   ],
   "source": [
    "climate['Min Temp (°C)'].describe()"
   ]
  },
  {
   "cell_type": "code",
   "execution_count": 901,
   "metadata": {},
   "outputs": [
    {
     "data": {
      "text/plain": [
       "NaN    342\n",
       "M       24\n",
       "Name: Min Temp Flag, dtype: int64"
      ]
     },
     "execution_count": 901,
     "metadata": {},
     "output_type": "execute_result"
    }
   ],
   "source": [
    "climate['Min Temp Flag'].astype('category').value_counts(dropna=False)"
   ]
  },
  {
   "cell_type": "code",
   "execution_count": 902,
   "metadata": {},
   "outputs": [
    {
     "data": {
      "text/plain": [
       "count    191.000000\n",
       "mean      14.241361\n",
       "std        8.941613\n",
       "min      -12.300000\n",
       "25%        8.000000\n",
       "50%       15.300000\n",
       "75%       21.800000\n",
       "max       27.500000\n",
       "Name: Mean Temp (°C), dtype: float64"
      ]
     },
     "execution_count": 902,
     "metadata": {},
     "output_type": "execute_result"
    }
   ],
   "source": [
    "climate['Mean Temp (°C)'].describe()"
   ]
  },
  {
   "cell_type": "code",
   "execution_count": 903,
   "metadata": {},
   "outputs": [
    {
     "data": {
      "text/plain": [
       "NaN    342\n",
       "M       24\n",
       "Name: Mean Temp Flag, dtype: int64"
      ]
     },
     "execution_count": 903,
     "metadata": {},
     "output_type": "execute_result"
    }
   ],
   "source": [
    "climate['Mean Temp Flag'].astype('category').value_counts(dropna=False)"
   ]
  },
  {
   "cell_type": "code",
   "execution_count": 904,
   "metadata": {},
   "outputs": [
    {
     "data": {
      "text/plain": [
       "count    191.000000\n",
       "mean       5.712042\n",
       "std        7.043183\n",
       "min        0.000000\n",
       "25%        0.000000\n",
       "50%        2.700000\n",
       "75%       10.000000\n",
       "max       30.300000\n",
       "Name: Heat Deg Days (°C), dtype: float64"
      ]
     },
     "execution_count": 904,
     "metadata": {},
     "output_type": "execute_result"
    }
   ],
   "source": [
    "climate['Heat Deg Days (°C)'].describe()"
   ]
  },
  {
   "cell_type": "code",
   "execution_count": 905,
   "metadata": {},
   "outputs": [
    {
     "data": {
      "text/plain": [
       "NaN    342\n",
       "M       24\n",
       "Name: Heat Deg Days Flag, dtype: int64"
      ]
     },
     "execution_count": 905,
     "metadata": {},
     "output_type": "execute_result"
    }
   ],
   "source": [
    "climate['Heat Deg Days Flag'].astype('category').value_counts(dropna=False)"
   ]
  },
  {
   "cell_type": "code",
   "execution_count": 906,
   "metadata": {},
   "outputs": [
    {
     "data": {
      "text/plain": [
       "count    191.000000\n",
       "mean       1.953403\n",
       "std        2.812954\n",
       "min        0.000000\n",
       "25%        0.000000\n",
       "50%        0.000000\n",
       "75%        3.800000\n",
       "max        9.500000\n",
       "Name: Cool Deg Days (°C), dtype: float64"
      ]
     },
     "execution_count": 906,
     "metadata": {},
     "output_type": "execute_result"
    }
   ],
   "source": [
    "climate['Cool Deg Days (°C)'].describe()"
   ]
  },
  {
   "cell_type": "code",
   "execution_count": 907,
   "metadata": {},
   "outputs": [
    {
     "data": {
      "text/plain": [
       "NaN    342\n",
       "M       24\n",
       "Name: Cool Deg Days Flag, dtype: int64"
      ]
     },
     "execution_count": 907,
     "metadata": {},
     "output_type": "execute_result"
    }
   ],
   "source": [
    "climate['Cool Deg Days Flag'].astype('category').value_counts(dropna=False)"
   ]
  },
  {
   "cell_type": "code",
   "execution_count": 908,
   "metadata": {},
   "outputs": [
    {
     "data": {
      "text/plain": [
       "count    215.000000\n",
       "mean       2.583721\n",
       "std        6.684405\n",
       "min        0.000000\n",
       "25%        0.000000\n",
       "50%        0.000000\n",
       "75%        1.400000\n",
       "max       57.200000\n",
       "Name: Total Rain (mm), dtype: float64"
      ]
     },
     "execution_count": 908,
     "metadata": {},
     "output_type": "execute_result"
    }
   ],
   "source": [
    "climate['Total Rain (mm)'].describe()"
   ]
  },
  {
   "cell_type": "code",
   "execution_count": 909,
   "metadata": {},
   "outputs": [
    {
     "data": {
      "text/plain": [
       "NaN    359\n",
       "T        7\n",
       "Name: Total Rain Flag, dtype: int64"
      ]
     },
     "execution_count": 909,
     "metadata": {},
     "output_type": "execute_result"
    }
   ],
   "source": [
    "climate['Total Rain Flag'].astype('category').value_counts(dropna=False)"
   ]
  },
  {
   "cell_type": "code",
   "execution_count": 910,
   "metadata": {},
   "outputs": [
    {
     "data": {
      "text/plain": [
       "count    215.000000\n",
       "mean       0.204651\n",
       "std        1.132104\n",
       "min        0.000000\n",
       "25%        0.000000\n",
       "50%        0.000000\n",
       "75%        0.000000\n",
       "max       10.000000\n",
       "Name: Total Snow (cm), dtype: float64"
      ]
     },
     "execution_count": 910,
     "metadata": {},
     "output_type": "execute_result"
    }
   ],
   "source": [
    "climate['Total Snow (cm)'].describe()"
   ]
  },
  {
   "cell_type": "code",
   "execution_count": 911,
   "metadata": {},
   "outputs": [
    {
     "data": {
      "text/plain": [
       "NaN    360\n",
       "T        6\n",
       "Name: Total Snow Flag, dtype: int64"
      ]
     },
     "execution_count": 911,
     "metadata": {},
     "output_type": "execute_result"
    }
   ],
   "source": [
    "climate['Total Snow Flag'].astype('category').value_counts(dropna=False)"
   ]
  },
  {
   "cell_type": "code",
   "execution_count": 912,
   "metadata": {},
   "outputs": [
    {
     "data": {
      "text/plain": [
       "count    215.000000\n",
       "mean       2.788372\n",
       "std        6.827481\n",
       "min        0.000000\n",
       "25%        0.000000\n",
       "50%        0.000000\n",
       "75%        2.100000\n",
       "max       57.200000\n",
       "Name: Total Precip (mm), dtype: float64"
      ]
     },
     "execution_count": 912,
     "metadata": {},
     "output_type": "execute_result"
    }
   ],
   "source": [
    "climate['Total Precip (mm)'].describe()"
   ]
  },
  {
   "cell_type": "code",
   "execution_count": 913,
   "metadata": {},
   "outputs": [
    {
     "data": {
      "text/plain": [
       "NaN    355\n",
       "T       11\n",
       "Name: Total Precip Flag, dtype: int64"
      ]
     },
     "execution_count": 913,
     "metadata": {},
     "output_type": "execute_result"
    }
   ],
   "source": [
    "climate['Total Precip Flag'].astype('category').value_counts(dropna=False)"
   ]
  },
  {
   "cell_type": "code",
   "execution_count": 914,
   "metadata": {},
   "outputs": [
    {
     "data": {
      "text/plain": [
       "count    215.000000\n",
       "mean       0.288372\n",
       "std        1.497850\n",
       "min        0.000000\n",
       "25%        0.000000\n",
       "50%        0.000000\n",
       "75%        0.000000\n",
       "max       12.000000\n",
       "Name: Snow on Grnd (cm), dtype: float64"
      ]
     },
     "execution_count": 914,
     "metadata": {},
     "output_type": "execute_result"
    }
   ],
   "source": [
    "climate['Snow on Grnd (cm)'].describe()"
   ]
  },
  {
   "cell_type": "code",
   "execution_count": 915,
   "metadata": {},
   "outputs": [
    {
     "data": {
      "text/plain": [
       "NaN    360\n",
       "T        6\n",
       "Name: Snow on Grnd Flag, dtype: int64"
      ]
     },
     "execution_count": 915,
     "metadata": {},
     "output_type": "execute_result"
    }
   ],
   "source": [
    "climate['Snow on Grnd Flag'].astype('category').value_counts(dropna=False)"
   ]
  },
  {
   "cell_type": "markdown",
   "metadata": {},
   "source": [
    "# Phase 2: Data Preparation"
   ]
  },
  {
   "cell_type": "markdown",
   "metadata": {},
   "source": [
    "## 2.1 Data preparation for order level data"
   ]
  },
  {
   "cell_type": "code",
   "execution_count": null,
   "metadata": {},
   "outputs": [],
   "source": []
  },
  {
   "cell_type": "code",
   "execution_count": null,
   "metadata": {},
   "outputs": [],
   "source": []
  },
  {
   "cell_type": "markdown",
   "metadata": {},
   "source": [
    "## 2.2 Data preparation for media investment"
   ]
  },
  {
   "cell_type": "code",
   "execution_count": 916,
   "metadata": {},
   "outputs": [
    {
     "data": {
      "text/html": [
       "<div>\n",
       "<style scoped>\n",
       "    .dataframe tbody tr th:only-of-type {\n",
       "        vertical-align: middle;\n",
       "    }\n",
       "\n",
       "    .dataframe tbody tr th {\n",
       "        vertical-align: top;\n",
       "    }\n",
       "\n",
       "    .dataframe thead th {\n",
       "        text-align: right;\n",
       "    }\n",
       "</style>\n",
       "<table border=\"1\" class=\"dataframe\">\n",
       "  <thead>\n",
       "    <tr style=\"text-align: right;\">\n",
       "      <th></th>\n",
       "      <th>Year</th>\n",
       "      <th>Month</th>\n",
       "      <th>Total Investment</th>\n",
       "      <th>TV</th>\n",
       "      <th>Digital</th>\n",
       "      <th>Sponsorship</th>\n",
       "      <th>Content Marketing</th>\n",
       "      <th>Online marketing</th>\n",
       "      <th>Affiliates</th>\n",
       "      <th>SEM</th>\n",
       "      <th>Radio</th>\n",
       "      <th>Other</th>\n",
       "    </tr>\n",
       "  </thead>\n",
       "  <tbody>\n",
       "    <tr>\n",
       "      <th>0</th>\n",
       "      <td>2015</td>\n",
       "      <td>7</td>\n",
       "      <td>17.061775</td>\n",
       "      <td>0.215330</td>\n",
       "      <td>2.533014</td>\n",
       "      <td>7.414270</td>\n",
       "      <td>0.000933</td>\n",
       "      <td>1.327278</td>\n",
       "      <td>0.547254</td>\n",
       "      <td>5.023697</td>\n",
       "      <td>0.00</td>\n",
       "      <td>0.000000</td>\n",
       "    </tr>\n",
       "    <tr>\n",
       "      <th>1</th>\n",
       "      <td>2015</td>\n",
       "      <td>8</td>\n",
       "      <td>5.064306</td>\n",
       "      <td>0.006438</td>\n",
       "      <td>1.278074</td>\n",
       "      <td>1.063332</td>\n",
       "      <td>0.000006</td>\n",
       "      <td>0.129244</td>\n",
       "      <td>0.073684</td>\n",
       "      <td>2.513528</td>\n",
       "      <td>0.00</td>\n",
       "      <td>0.000000</td>\n",
       "    </tr>\n",
       "    <tr>\n",
       "      <th>2</th>\n",
       "      <td>2015</td>\n",
       "      <td>9</td>\n",
       "      <td>96.254380</td>\n",
       "      <td>3.879504</td>\n",
       "      <td>1.356528</td>\n",
       "      <td>62.787651</td>\n",
       "      <td>0.610292</td>\n",
       "      <td>16.379990</td>\n",
       "      <td>5.038266</td>\n",
       "      <td>6.202149</td>\n",
       "      <td>0.00</td>\n",
       "      <td>0.000000</td>\n",
       "    </tr>\n",
       "    <tr>\n",
       "      <th>3</th>\n",
       "      <td>2015</td>\n",
       "      <td>10</td>\n",
       "      <td>170.156297</td>\n",
       "      <td>6.144711</td>\n",
       "      <td>12.622480</td>\n",
       "      <td>84.672532</td>\n",
       "      <td>3.444075</td>\n",
       "      <td>24.371778</td>\n",
       "      <td>6.973711</td>\n",
       "      <td>31.927011</td>\n",
       "      <td>0.00</td>\n",
       "      <td>0.000000</td>\n",
       "    </tr>\n",
       "    <tr>\n",
       "      <th>4</th>\n",
       "      <td>2015</td>\n",
       "      <td>11</td>\n",
       "      <td>51.216220</td>\n",
       "      <td>4.220630</td>\n",
       "      <td>1.275469</td>\n",
       "      <td>14.172116</td>\n",
       "      <td>0.168633</td>\n",
       "      <td>19.561574</td>\n",
       "      <td>6.595767</td>\n",
       "      <td>5.222032</td>\n",
       "      <td>0.00</td>\n",
       "      <td>0.000000</td>\n",
       "    </tr>\n",
       "    <tr>\n",
       "      <th>5</th>\n",
       "      <td>2015</td>\n",
       "      <td>12</td>\n",
       "      <td>106.745312</td>\n",
       "      <td>5.397502</td>\n",
       "      <td>3.063360</td>\n",
       "      <td>56.705419</td>\n",
       "      <td>1.067307</td>\n",
       "      <td>22.503756</td>\n",
       "      <td>6.826938</td>\n",
       "      <td>11.181030</td>\n",
       "      <td>0.00</td>\n",
       "      <td>0.000000</td>\n",
       "    </tr>\n",
       "    <tr>\n",
       "      <th>6</th>\n",
       "      <td>2016</td>\n",
       "      <td>1</td>\n",
       "      <td>74.196000</td>\n",
       "      <td>4.380000</td>\n",
       "      <td>0.456000</td>\n",
       "      <td>4.200000</td>\n",
       "      <td>0.900000</td>\n",
       "      <td>22.900000</td>\n",
       "      <td>7.370000</td>\n",
       "      <td>4.200000</td>\n",
       "      <td>2.70</td>\n",
       "      <td>27.090000</td>\n",
       "    </tr>\n",
       "    <tr>\n",
       "      <th>7</th>\n",
       "      <td>2016</td>\n",
       "      <td>2</td>\n",
       "      <td>48.052000</td>\n",
       "      <td>2.586008</td>\n",
       "      <td>1.912651</td>\n",
       "      <td>11.725555</td>\n",
       "      <td>0.596771</td>\n",
       "      <td>19.892366</td>\n",
       "      <td>6.465019</td>\n",
       "      <td>4.873630</td>\n",
       "      <td>0.00</td>\n",
       "      <td>0.000000</td>\n",
       "    </tr>\n",
       "    <tr>\n",
       "      <th>8</th>\n",
       "      <td>2016</td>\n",
       "      <td>3</td>\n",
       "      <td>100.024621</td>\n",
       "      <td>9.300000</td>\n",
       "      <td>2.100000</td>\n",
       "      <td>41.590000</td>\n",
       "      <td>0.370000</td>\n",
       "      <td>18.437818</td>\n",
       "      <td>6.217667</td>\n",
       "      <td>5.193591</td>\n",
       "      <td>0.87</td>\n",
       "      <td>15.945545</td>\n",
       "    </tr>\n",
       "    <tr>\n",
       "      <th>9</th>\n",
       "      <td>2016</td>\n",
       "      <td>4</td>\n",
       "      <td>56.848241</td>\n",
       "      <td>5.205196</td>\n",
       "      <td>0.871892</td>\n",
       "      <td>24.308354</td>\n",
       "      <td>0.034876</td>\n",
       "      <td>16.514510</td>\n",
       "      <td>5.693456</td>\n",
       "      <td>4.219958</td>\n",
       "      <td>0.00</td>\n",
       "      <td>0.000000</td>\n",
       "    </tr>\n",
       "    <tr>\n",
       "      <th>10</th>\n",
       "      <td>2016</td>\n",
       "      <td>5</td>\n",
       "      <td>78.057000</td>\n",
       "      <td>1.370000</td>\n",
       "      <td>0.770000</td>\n",
       "      <td>31.680000</td>\n",
       "      <td>0.790000</td>\n",
       "      <td>23.650000</td>\n",
       "      <td>6.800000</td>\n",
       "      <td>6.910000</td>\n",
       "      <td>1.10</td>\n",
       "      <td>4.987000</td>\n",
       "    </tr>\n",
       "    <tr>\n",
       "      <th>11</th>\n",
       "      <td>2016</td>\n",
       "      <td>6</td>\n",
       "      <td>42.834216</td>\n",
       "      <td>1.662717</td>\n",
       "      <td>1.420761</td>\n",
       "      <td>25.048541</td>\n",
       "      <td>0.045081</td>\n",
       "      <td>7.971300</td>\n",
       "      <td>2.768023</td>\n",
       "      <td>3.735516</td>\n",
       "      <td>0.00</td>\n",
       "      <td>0.000000</td>\n",
       "    </tr>\n",
       "  </tbody>\n",
       "</table>\n",
       "</div>"
      ],
      "text/plain": [
       "    Year  Month  Total Investment        TV    Digital  Sponsorship  \\\n",
       "0   2015      7         17.061775  0.215330   2.533014     7.414270   \n",
       "1   2015      8          5.064306  0.006438   1.278074     1.063332   \n",
       "2   2015      9         96.254380  3.879504   1.356528    62.787651   \n",
       "3   2015     10        170.156297  6.144711  12.622480    84.672532   \n",
       "4   2015     11         51.216220  4.220630   1.275469    14.172116   \n",
       "5   2015     12        106.745312  5.397502   3.063360    56.705419   \n",
       "6   2016      1         74.196000  4.380000   0.456000     4.200000   \n",
       "7   2016      2         48.052000  2.586008   1.912651    11.725555   \n",
       "8   2016      3        100.024621  9.300000   2.100000    41.590000   \n",
       "9   2016      4         56.848241  5.205196   0.871892    24.308354   \n",
       "10  2016      5         78.057000  1.370000   0.770000    31.680000   \n",
       "11  2016      6         42.834216  1.662717   1.420761    25.048541   \n",
       "\n",
       "    Content Marketing  Online marketing  Affiliates        SEM  Radio  \\\n",
       "0            0.000933          1.327278    0.547254   5.023697   0.00   \n",
       "1            0.000006          0.129244    0.073684   2.513528   0.00   \n",
       "2            0.610292         16.379990    5.038266   6.202149   0.00   \n",
       "3            3.444075         24.371778    6.973711  31.927011   0.00   \n",
       "4            0.168633         19.561574    6.595767   5.222032   0.00   \n",
       "5            1.067307         22.503756    6.826938  11.181030   0.00   \n",
       "6            0.900000         22.900000    7.370000   4.200000   2.70   \n",
       "7            0.596771         19.892366    6.465019   4.873630   0.00   \n",
       "8            0.370000         18.437818    6.217667   5.193591   0.87   \n",
       "9            0.034876         16.514510    5.693456   4.219958   0.00   \n",
       "10           0.790000         23.650000    6.800000   6.910000   1.10   \n",
       "11           0.045081          7.971300    2.768023   3.735516   0.00   \n",
       "\n",
       "        Other  \n",
       "0    0.000000  \n",
       "1    0.000000  \n",
       "2    0.000000  \n",
       "3    0.000000  \n",
       "4    0.000000  \n",
       "5    0.000000  \n",
       "6   27.090000  \n",
       "7    0.000000  \n",
       "8   15.945545  \n",
       "9    0.000000  \n",
       "10   4.987000  \n",
       "11   0.000000  "
      ]
     },
     "execution_count": 916,
     "metadata": {},
     "output_type": "execute_result"
    }
   ],
   "source": [
    "media_invest"
   ]
  },
  {
   "cell_type": "code",
   "execution_count": 917,
   "metadata": {},
   "outputs": [
    {
     "name": "stdout",
     "output_type": "stream",
     "text": [
      "<class 'pandas.core.frame.DataFrame'>\n",
      "Int64Index: 12 entries, 0 to 11\n",
      "Data columns (total 12 columns):\n",
      "Year                 12 non-null int64\n",
      "Month                12 non-null int64\n",
      "Total Investment     12 non-null float64\n",
      "TV                   12 non-null float64\n",
      "Digital              12 non-null float64\n",
      "Sponsorship          12 non-null float64\n",
      "Content Marketing    12 non-null float64\n",
      "Online marketing     12 non-null float64\n",
      "Affiliates           12 non-null float64\n",
      "SEM                  12 non-null float64\n",
      "Radio                12 non-null float64\n",
      "Other                12 non-null float64\n",
      "dtypes: float64(10), int64(2)\n",
      "memory usage: 1.2 KB\n"
     ]
    }
   ],
   "source": [
    "media_invest.info()"
   ]
  },
  {
   "cell_type": "markdown",
   "metadata": {},
   "source": [
    "#### Observations:\n",
    "- There are no missing values"
   ]
  },
  {
   "cell_type": "markdown",
   "metadata": {},
   "source": [
    "## 2.3 Data preparation for special sale calendar & pay day"
   ]
  },
  {
   "cell_type": "code",
   "execution_count": 918,
   "metadata": {},
   "outputs": [
    {
     "data": {
      "text/html": [
       "<div>\n",
       "<style scoped>\n",
       "    .dataframe tbody tr th:only-of-type {\n",
       "        vertical-align: middle;\n",
       "    }\n",
       "\n",
       "    .dataframe tbody tr th {\n",
       "        vertical-align: top;\n",
       "    }\n",
       "\n",
       "    .dataframe thead th {\n",
       "        text-align: right;\n",
       "    }\n",
       "</style>\n",
       "<table border=\"1\" class=\"dataframe\">\n",
       "  <thead>\n",
       "    <tr style=\"text-align: right;\">\n",
       "      <th></th>\n",
       "      <th>Start Date</th>\n",
       "      <th>End Date</th>\n",
       "    </tr>\n",
       "  </thead>\n",
       "  <tbody>\n",
       "    <tr>\n",
       "      <th>0</th>\n",
       "      <td>2015-07-18</td>\n",
       "      <td>2015-07-19</td>\n",
       "    </tr>\n",
       "    <tr>\n",
       "      <th>1</th>\n",
       "      <td>2015-08-15</td>\n",
       "      <td>2015-08-17</td>\n",
       "    </tr>\n",
       "    <tr>\n",
       "      <th>2</th>\n",
       "      <td>2015-08-28</td>\n",
       "      <td>2015-08-30</td>\n",
       "    </tr>\n",
       "    <tr>\n",
       "      <th>3</th>\n",
       "      <td>2015-10-15</td>\n",
       "      <td>2015-10-17</td>\n",
       "    </tr>\n",
       "    <tr>\n",
       "      <th>4</th>\n",
       "      <td>2015-11-07</td>\n",
       "      <td>2015-11-14</td>\n",
       "    </tr>\n",
       "    <tr>\n",
       "      <th>5</th>\n",
       "      <td>2015-12-25</td>\n",
       "      <td>2016-01-03</td>\n",
       "    </tr>\n",
       "    <tr>\n",
       "      <th>6</th>\n",
       "      <td>2016-01-20</td>\n",
       "      <td>2016-01-22</td>\n",
       "    </tr>\n",
       "    <tr>\n",
       "      <th>7</th>\n",
       "      <td>2016-02-01</td>\n",
       "      <td>2016-02-02</td>\n",
       "    </tr>\n",
       "    <tr>\n",
       "      <th>8</th>\n",
       "      <td>2016-02-20</td>\n",
       "      <td>2016-02-21</td>\n",
       "    </tr>\n",
       "    <tr>\n",
       "      <th>9</th>\n",
       "      <td>2016-02-14</td>\n",
       "      <td>2016-02-15</td>\n",
       "    </tr>\n",
       "    <tr>\n",
       "      <th>10</th>\n",
       "      <td>2016-03-07</td>\n",
       "      <td>2016-03-09</td>\n",
       "    </tr>\n",
       "    <tr>\n",
       "      <th>11</th>\n",
       "      <td>2016-05-25</td>\n",
       "      <td>2016-05-27</td>\n",
       "    </tr>\n",
       "  </tbody>\n",
       "</table>\n",
       "</div>"
      ],
      "text/plain": [
       "   Start Date   End Date\n",
       "0  2015-07-18 2015-07-19\n",
       "1  2015-08-15 2015-08-17\n",
       "2  2015-08-28 2015-08-30\n",
       "3  2015-10-15 2015-10-17\n",
       "4  2015-11-07 2015-11-14\n",
       "5  2015-12-25 2016-01-03\n",
       "6  2016-01-20 2016-01-22\n",
       "7  2016-02-01 2016-02-02\n",
       "8  2016-02-20 2016-02-21\n",
       "9  2016-02-14 2016-02-15\n",
       "10 2016-03-07 2016-03-09\n",
       "11 2016-05-25 2016-05-27"
      ]
     },
     "execution_count": 918,
     "metadata": {},
     "output_type": "execute_result"
    }
   ],
   "source": [
    "spl_sales"
   ]
  },
  {
   "cell_type": "markdown",
   "metadata": {},
   "source": [
    "#### Observations:\n",
    "- spl_sales dataframe contains the special sale calendar between the period July 2015 - Jun 2016\n",
    "- spl_sales dataframe contains two columns Start Date and End Date that contain the start and end dates for each special sale\n",
    "- Data does not containing any missing values"
   ]
  },
  {
   "cell_type": "code",
   "execution_count": 919,
   "metadata": {},
   "outputs": [],
   "source": [
    "#Creating a data frame for storing special sales and pay day info at a daily level\n",
    "startDate = datetime.datetime(2015, 7, 1)\n",
    "endDate = datetime.datetime(2016,6,30)\n",
    "\n",
    "column_names = [\"Week_Number\",\"order_date\", \"Is Special Sale\",\"Is Pay Day\"]\n",
    "sales_pay_daily_info = pd.DataFrame(columns = column_names)\n",
    "\n",
    "i = startDate\n",
    "while (i <= endDate):\n",
    "\n",
    "    isSpecialSale = 0\n",
    "    isPayDay = 0\n",
    "\n",
    "    for ind in spl_sales.index:\n",
    "        if (i >= spl_sales['Start Date'][ind] and i <= spl_sales['End Date'][ind] ):\n",
    "            isSpecialSale = 1\n",
    "            break\n",
    "    \n",
    "    \n",
    "    if(i.day == 1 or i.day == 15):\n",
    "        isPayDay = 1\n",
    "    \n",
    "    sales_pay_daily_info = sales_pay_daily_info.append({'Week_Number': i.isocalendar()[1],\n",
    "                                                         'order_date' : i , \n",
    "                                                         'Is Special Sale' : isSpecialSale,\n",
    "                                                         'Is Pay Day': isPayDay\n",
    "                                                       },\n",
    "                                                       ignore_index=True)\n",
    "    \n",
    "    i += datetime.timedelta(days=1)   "
   ]
  },
  {
   "cell_type": "code",
   "execution_count": 920,
   "metadata": {},
   "outputs": [
    {
     "data": {
      "text/html": [
       "<div>\n",
       "<style scoped>\n",
       "    .dataframe tbody tr th:only-of-type {\n",
       "        vertical-align: middle;\n",
       "    }\n",
       "\n",
       "    .dataframe tbody tr th {\n",
       "        vertical-align: top;\n",
       "    }\n",
       "\n",
       "    .dataframe thead th {\n",
       "        text-align: right;\n",
       "    }\n",
       "</style>\n",
       "<table border=\"1\" class=\"dataframe\">\n",
       "  <thead>\n",
       "    <tr style=\"text-align: right;\">\n",
       "      <th></th>\n",
       "      <th>Week_Number</th>\n",
       "      <th>order_date</th>\n",
       "      <th>Is Special Sale</th>\n",
       "      <th>Is Pay Day</th>\n",
       "    </tr>\n",
       "  </thead>\n",
       "  <tbody>\n",
       "    <tr>\n",
       "      <th>0</th>\n",
       "      <td>27</td>\n",
       "      <td>2015-07-01</td>\n",
       "      <td>0</td>\n",
       "      <td>1</td>\n",
       "    </tr>\n",
       "    <tr>\n",
       "      <th>1</th>\n",
       "      <td>27</td>\n",
       "      <td>2015-07-02</td>\n",
       "      <td>0</td>\n",
       "      <td>0</td>\n",
       "    </tr>\n",
       "    <tr>\n",
       "      <th>2</th>\n",
       "      <td>27</td>\n",
       "      <td>2015-07-03</td>\n",
       "      <td>0</td>\n",
       "      <td>0</td>\n",
       "    </tr>\n",
       "    <tr>\n",
       "      <th>3</th>\n",
       "      <td>27</td>\n",
       "      <td>2015-07-04</td>\n",
       "      <td>0</td>\n",
       "      <td>0</td>\n",
       "    </tr>\n",
       "    <tr>\n",
       "      <th>4</th>\n",
       "      <td>27</td>\n",
       "      <td>2015-07-05</td>\n",
       "      <td>0</td>\n",
       "      <td>0</td>\n",
       "    </tr>\n",
       "  </tbody>\n",
       "</table>\n",
       "</div>"
      ],
      "text/plain": [
       "  Week_Number order_date Is Special Sale Is Pay Day\n",
       "0          27 2015-07-01               0          1\n",
       "1          27 2015-07-02               0          0\n",
       "2          27 2015-07-03               0          0\n",
       "3          27 2015-07-04               0          0\n",
       "4          27 2015-07-05               0          0"
      ]
     },
     "execution_count": 920,
     "metadata": {},
     "output_type": "execute_result"
    }
   ],
   "source": [
    "sales_pay_daily_info.head()"
   ]
  },
  {
   "cell_type": "code",
   "execution_count": 921,
   "metadata": {},
   "outputs": [],
   "source": [
    "#Grouping the data frame by the week number\n",
    "sales_pay_info_by_week = sales_pay_daily_info.groupby(['Week_Number'])"
   ]
  },
  {
   "cell_type": "code",
   "execution_count": 922,
   "metadata": {},
   "outputs": [],
   "source": [
    "#Calculating the no. of special sale days and pay days in each week\n",
    "sspc_week = pd.DataFrame(sales_pay_info_by_week.agg({'Is Special Sale':['sum'],'Is Pay Day':['sum']}).reset_index())"
   ]
  },
  {
   "cell_type": "code",
   "execution_count": 923,
   "metadata": {},
   "outputs": [],
   "source": [
    "sspc_week.columns = ['Week_Number','Special Sale Day Count','Pay Day Count']"
   ]
  },
  {
   "cell_type": "code",
   "execution_count": 924,
   "metadata": {},
   "outputs": [
    {
     "data": {
      "text/html": [
       "<div>\n",
       "<style scoped>\n",
       "    .dataframe tbody tr th:only-of-type {\n",
       "        vertical-align: middle;\n",
       "    }\n",
       "\n",
       "    .dataframe tbody tr th {\n",
       "        vertical-align: top;\n",
       "    }\n",
       "\n",
       "    .dataframe thead th {\n",
       "        text-align: right;\n",
       "    }\n",
       "</style>\n",
       "<table border=\"1\" class=\"dataframe\">\n",
       "  <thead>\n",
       "    <tr style=\"text-align: right;\">\n",
       "      <th></th>\n",
       "      <th>Week_Number</th>\n",
       "      <th>Special Sale Day Count</th>\n",
       "      <th>Pay Day Count</th>\n",
       "    </tr>\n",
       "  </thead>\n",
       "  <tbody>\n",
       "    <tr>\n",
       "      <th>0</th>\n",
       "      <td>1</td>\n",
       "      <td>0</td>\n",
       "      <td>0</td>\n",
       "    </tr>\n",
       "    <tr>\n",
       "      <th>1</th>\n",
       "      <td>2</td>\n",
       "      <td>0</td>\n",
       "      <td>1</td>\n",
       "    </tr>\n",
       "    <tr>\n",
       "      <th>2</th>\n",
       "      <td>3</td>\n",
       "      <td>3</td>\n",
       "      <td>0</td>\n",
       "    </tr>\n",
       "    <tr>\n",
       "      <th>3</th>\n",
       "      <td>4</td>\n",
       "      <td>0</td>\n",
       "      <td>0</td>\n",
       "    </tr>\n",
       "    <tr>\n",
       "      <th>4</th>\n",
       "      <td>5</td>\n",
       "      <td>2</td>\n",
       "      <td>1</td>\n",
       "    </tr>\n",
       "  </tbody>\n",
       "</table>\n",
       "</div>"
      ],
      "text/plain": [
       "   Week_Number  Special Sale Day Count  Pay Day Count\n",
       "0            1                       0              0\n",
       "1            2                       0              1\n",
       "2            3                       3              0\n",
       "3            4                       0              0\n",
       "4            5                       2              1"
      ]
     },
     "execution_count": 924,
     "metadata": {},
     "output_type": "execute_result"
    }
   ],
   "source": [
    "# Dataframe containing the no. of special sale days in each of the 53 weeks\n",
    "sspc_week.head()"
   ]
  },
  {
   "cell_type": "markdown",
   "metadata": {},
   "source": [
    "## 2.4 Data preparation for monthly NPS score"
   ]
  },
  {
   "cell_type": "code",
   "execution_count": 925,
   "metadata": {},
   "outputs": [
    {
     "data": {
      "text/html": [
       "<div>\n",
       "<style scoped>\n",
       "    .dataframe tbody tr th:only-of-type {\n",
       "        vertical-align: middle;\n",
       "    }\n",
       "\n",
       "    .dataframe tbody tr th {\n",
       "        vertical-align: top;\n",
       "    }\n",
       "\n",
       "    .dataframe thead th {\n",
       "        text-align: right;\n",
       "    }\n",
       "</style>\n",
       "<table border=\"1\" class=\"dataframe\">\n",
       "  <thead>\n",
       "    <tr style=\"text-align: right;\">\n",
       "      <th></th>\n",
       "      <th>NPS</th>\n",
       "      <th>Stock Index</th>\n",
       "      <th>MonthYear</th>\n",
       "    </tr>\n",
       "  </thead>\n",
       "  <tbody>\n",
       "    <tr>\n",
       "      <th>0</th>\n",
       "      <td>54.599588</td>\n",
       "      <td>1177.0</td>\n",
       "      <td>2015-07-01</td>\n",
       "    </tr>\n",
       "    <tr>\n",
       "      <th>1</th>\n",
       "      <td>59.987101</td>\n",
       "      <td>1206.0</td>\n",
       "      <td>2015-08-01</td>\n",
       "    </tr>\n",
       "    <tr>\n",
       "      <th>2</th>\n",
       "      <td>46.925419</td>\n",
       "      <td>1101.0</td>\n",
       "      <td>2015-09-01</td>\n",
       "    </tr>\n",
       "    <tr>\n",
       "      <th>3</th>\n",
       "      <td>44.398389</td>\n",
       "      <td>1210.0</td>\n",
       "      <td>2015-10-01</td>\n",
       "    </tr>\n",
       "    <tr>\n",
       "      <th>4</th>\n",
       "      <td>47.000000</td>\n",
       "      <td>1233.0</td>\n",
       "      <td>2015-11-01</td>\n",
       "    </tr>\n",
       "    <tr>\n",
       "      <th>5</th>\n",
       "      <td>45.800000</td>\n",
       "      <td>1038.0</td>\n",
       "      <td>2015-12-01</td>\n",
       "    </tr>\n",
       "    <tr>\n",
       "      <th>6</th>\n",
       "      <td>47.093031</td>\n",
       "      <td>1052.0</td>\n",
       "      <td>2016-01-01</td>\n",
       "    </tr>\n",
       "    <tr>\n",
       "      <th>7</th>\n",
       "      <td>50.327406</td>\n",
       "      <td>1222.0</td>\n",
       "      <td>2016-02-01</td>\n",
       "    </tr>\n",
       "    <tr>\n",
       "      <th>8</th>\n",
       "      <td>49.020550</td>\n",
       "      <td>1015.0</td>\n",
       "      <td>2016-03-01</td>\n",
       "    </tr>\n",
       "    <tr>\n",
       "      <th>9</th>\n",
       "      <td>51.827605</td>\n",
       "      <td>1242.0</td>\n",
       "      <td>2016-04-01</td>\n",
       "    </tr>\n",
       "    <tr>\n",
       "      <th>10</th>\n",
       "      <td>47.306951</td>\n",
       "      <td>1228.0</td>\n",
       "      <td>2016-05-01</td>\n",
       "    </tr>\n",
       "    <tr>\n",
       "      <th>11</th>\n",
       "      <td>50.516687</td>\n",
       "      <td>1194.0</td>\n",
       "      <td>2016-06-01</td>\n",
       "    </tr>\n",
       "  </tbody>\n",
       "</table>\n",
       "</div>"
      ],
      "text/plain": [
       "          NPS  Stock Index  MonthYear\n",
       "0   54.599588       1177.0 2015-07-01\n",
       "1   59.987101       1206.0 2015-08-01\n",
       "2   46.925419       1101.0 2015-09-01\n",
       "3   44.398389       1210.0 2015-10-01\n",
       "4   47.000000       1233.0 2015-11-01\n",
       "5   45.800000       1038.0 2015-12-01\n",
       "6   47.093031       1052.0 2016-01-01\n",
       "7   50.327406       1222.0 2016-02-01\n",
       "8   49.020550       1015.0 2016-03-01\n",
       "9   51.827605       1242.0 2016-04-01\n",
       "10  47.306951       1228.0 2016-05-01\n",
       "11  50.516687       1194.0 2016-06-01"
      ]
     },
     "execution_count": 925,
     "metadata": {},
     "output_type": "execute_result"
    }
   ],
   "source": [
    "nps_score"
   ]
  },
  {
   "cell_type": "markdown",
   "metadata": {},
   "source": [
    "#### Observations:\n",
    "\n",
    "- nps_score dataframe has 3 columns\n",
    "- NPS column represents the NPS score for the corresponding month value reprsented by MonthYear column\n",
    "- Stock Index column represents the company stock price for the corresponding month value reprsented by MonthYear column"
   ]
  },
  {
   "cell_type": "code",
   "execution_count": 926,
   "metadata": {},
   "outputs": [],
   "source": [
    "#Creating a data frame for storing nps and stock price values at a daily level\n",
    "startDate = datetime.datetime(2015, 7, 1)\n",
    "endDate = datetime.datetime(2016,6,30)\n",
    "\n",
    "column_names = [\"Week_Number\",\"order_date\", \"NPS\",\"Stock Index\"]\n",
    "nps_daily_info = pd.DataFrame(columns = column_names)\n",
    "\n",
    "i = startDate\n",
    "while (i <= endDate):\n",
    "\n",
    "\n",
    "    for ind in nps_score.index:\n",
    "        if (i.month == nps_score['MonthYear'][ind].month):\n",
    "            nps_daily_info = nps_daily_info.append({'Week_Number': i.isocalendar()[1],\n",
    "                                                    'order_date' : i, \n",
    "                                                    'NPS' : nps_score['NPS'][ind],\n",
    "                                                    'Stock Index': nps_score['Stock Index'][ind]\n",
    "                                                    },\n",
    "                                                   ignore_index=True)\n",
    "            break\n",
    "    \n",
    "    i += datetime.timedelta(days=1)   "
   ]
  },
  {
   "cell_type": "code",
   "execution_count": 927,
   "metadata": {},
   "outputs": [
    {
     "data": {
      "text/html": [
       "<div>\n",
       "<style scoped>\n",
       "    .dataframe tbody tr th:only-of-type {\n",
       "        vertical-align: middle;\n",
       "    }\n",
       "\n",
       "    .dataframe tbody tr th {\n",
       "        vertical-align: top;\n",
       "    }\n",
       "\n",
       "    .dataframe thead th {\n",
       "        text-align: right;\n",
       "    }\n",
       "</style>\n",
       "<table border=\"1\" class=\"dataframe\">\n",
       "  <thead>\n",
       "    <tr style=\"text-align: right;\">\n",
       "      <th></th>\n",
       "      <th>Week_Number</th>\n",
       "      <th>order_date</th>\n",
       "      <th>NPS</th>\n",
       "      <th>Stock Index</th>\n",
       "    </tr>\n",
       "  </thead>\n",
       "  <tbody>\n",
       "    <tr>\n",
       "      <th>0</th>\n",
       "      <td>27</td>\n",
       "      <td>2015-07-01</td>\n",
       "      <td>54.599588</td>\n",
       "      <td>1177.0</td>\n",
       "    </tr>\n",
       "    <tr>\n",
       "      <th>1</th>\n",
       "      <td>27</td>\n",
       "      <td>2015-07-02</td>\n",
       "      <td>54.599588</td>\n",
       "      <td>1177.0</td>\n",
       "    </tr>\n",
       "    <tr>\n",
       "      <th>2</th>\n",
       "      <td>27</td>\n",
       "      <td>2015-07-03</td>\n",
       "      <td>54.599588</td>\n",
       "      <td>1177.0</td>\n",
       "    </tr>\n",
       "    <tr>\n",
       "      <th>3</th>\n",
       "      <td>27</td>\n",
       "      <td>2015-07-04</td>\n",
       "      <td>54.599588</td>\n",
       "      <td>1177.0</td>\n",
       "    </tr>\n",
       "    <tr>\n",
       "      <th>4</th>\n",
       "      <td>27</td>\n",
       "      <td>2015-07-05</td>\n",
       "      <td>54.599588</td>\n",
       "      <td>1177.0</td>\n",
       "    </tr>\n",
       "    <tr>\n",
       "      <th>5</th>\n",
       "      <td>28</td>\n",
       "      <td>2015-07-06</td>\n",
       "      <td>54.599588</td>\n",
       "      <td>1177.0</td>\n",
       "    </tr>\n",
       "    <tr>\n",
       "      <th>6</th>\n",
       "      <td>28</td>\n",
       "      <td>2015-07-07</td>\n",
       "      <td>54.599588</td>\n",
       "      <td>1177.0</td>\n",
       "    </tr>\n",
       "    <tr>\n",
       "      <th>7</th>\n",
       "      <td>28</td>\n",
       "      <td>2015-07-08</td>\n",
       "      <td>54.599588</td>\n",
       "      <td>1177.0</td>\n",
       "    </tr>\n",
       "    <tr>\n",
       "      <th>8</th>\n",
       "      <td>28</td>\n",
       "      <td>2015-07-09</td>\n",
       "      <td>54.599588</td>\n",
       "      <td>1177.0</td>\n",
       "    </tr>\n",
       "    <tr>\n",
       "      <th>9</th>\n",
       "      <td>28</td>\n",
       "      <td>2015-07-10</td>\n",
       "      <td>54.599588</td>\n",
       "      <td>1177.0</td>\n",
       "    </tr>\n",
       "    <tr>\n",
       "      <th>10</th>\n",
       "      <td>28</td>\n",
       "      <td>2015-07-11</td>\n",
       "      <td>54.599588</td>\n",
       "      <td>1177.0</td>\n",
       "    </tr>\n",
       "    <tr>\n",
       "      <th>11</th>\n",
       "      <td>28</td>\n",
       "      <td>2015-07-12</td>\n",
       "      <td>54.599588</td>\n",
       "      <td>1177.0</td>\n",
       "    </tr>\n",
       "    <tr>\n",
       "      <th>12</th>\n",
       "      <td>29</td>\n",
       "      <td>2015-07-13</td>\n",
       "      <td>54.599588</td>\n",
       "      <td>1177.0</td>\n",
       "    </tr>\n",
       "    <tr>\n",
       "      <th>13</th>\n",
       "      <td>29</td>\n",
       "      <td>2015-07-14</td>\n",
       "      <td>54.599588</td>\n",
       "      <td>1177.0</td>\n",
       "    </tr>\n",
       "    <tr>\n",
       "      <th>14</th>\n",
       "      <td>29</td>\n",
       "      <td>2015-07-15</td>\n",
       "      <td>54.599588</td>\n",
       "      <td>1177.0</td>\n",
       "    </tr>\n",
       "    <tr>\n",
       "      <th>15</th>\n",
       "      <td>29</td>\n",
       "      <td>2015-07-16</td>\n",
       "      <td>54.599588</td>\n",
       "      <td>1177.0</td>\n",
       "    </tr>\n",
       "    <tr>\n",
       "      <th>16</th>\n",
       "      <td>29</td>\n",
       "      <td>2015-07-17</td>\n",
       "      <td>54.599588</td>\n",
       "      <td>1177.0</td>\n",
       "    </tr>\n",
       "    <tr>\n",
       "      <th>17</th>\n",
       "      <td>29</td>\n",
       "      <td>2015-07-18</td>\n",
       "      <td>54.599588</td>\n",
       "      <td>1177.0</td>\n",
       "    </tr>\n",
       "    <tr>\n",
       "      <th>18</th>\n",
       "      <td>29</td>\n",
       "      <td>2015-07-19</td>\n",
       "      <td>54.599588</td>\n",
       "      <td>1177.0</td>\n",
       "    </tr>\n",
       "    <tr>\n",
       "      <th>19</th>\n",
       "      <td>30</td>\n",
       "      <td>2015-07-20</td>\n",
       "      <td>54.599588</td>\n",
       "      <td>1177.0</td>\n",
       "    </tr>\n",
       "  </tbody>\n",
       "</table>\n",
       "</div>"
      ],
      "text/plain": [
       "   Week_Number order_date        NPS  Stock Index\n",
       "0           27 2015-07-01  54.599588       1177.0\n",
       "1           27 2015-07-02  54.599588       1177.0\n",
       "2           27 2015-07-03  54.599588       1177.0\n",
       "3           27 2015-07-04  54.599588       1177.0\n",
       "4           27 2015-07-05  54.599588       1177.0\n",
       "5           28 2015-07-06  54.599588       1177.0\n",
       "6           28 2015-07-07  54.599588       1177.0\n",
       "7           28 2015-07-08  54.599588       1177.0\n",
       "8           28 2015-07-09  54.599588       1177.0\n",
       "9           28 2015-07-10  54.599588       1177.0\n",
       "10          28 2015-07-11  54.599588       1177.0\n",
       "11          28 2015-07-12  54.599588       1177.0\n",
       "12          29 2015-07-13  54.599588       1177.0\n",
       "13          29 2015-07-14  54.599588       1177.0\n",
       "14          29 2015-07-15  54.599588       1177.0\n",
       "15          29 2015-07-16  54.599588       1177.0\n",
       "16          29 2015-07-17  54.599588       1177.0\n",
       "17          29 2015-07-18  54.599588       1177.0\n",
       "18          29 2015-07-19  54.599588       1177.0\n",
       "19          30 2015-07-20  54.599588       1177.0"
      ]
     },
     "execution_count": 927,
     "metadata": {},
     "output_type": "execute_result"
    }
   ],
   "source": [
    "nps_daily_info.head(20)"
   ]
  },
  {
   "cell_type": "code",
   "execution_count": 928,
   "metadata": {},
   "outputs": [],
   "source": [
    "#Grouping the data frame by the week number\n",
    "nps_info_by_week = nps_daily_info.groupby(['Week_Number'])"
   ]
  },
  {
   "cell_type": "code",
   "execution_count": 929,
   "metadata": {},
   "outputs": [],
   "source": [
    "#Calculating the no. of special sale days and pay days in each week\n",
    "nps_week = pd.DataFrame(nps_info_by_week.agg({'NPS':['mean'],'Stock Index':['mean']}).reset_index())"
   ]
  },
  {
   "cell_type": "code",
   "execution_count": 930,
   "metadata": {},
   "outputs": [],
   "source": [
    "nps_week.columns = ['Week_Number','NPS','Stock Index']"
   ]
  },
  {
   "cell_type": "code",
   "execution_count": 931,
   "metadata": {},
   "outputs": [
    {
     "data": {
      "text/html": [
       "<div>\n",
       "<style scoped>\n",
       "    .dataframe tbody tr th:only-of-type {\n",
       "        vertical-align: middle;\n",
       "    }\n",
       "\n",
       "    .dataframe tbody tr th {\n",
       "        vertical-align: top;\n",
       "    }\n",
       "\n",
       "    .dataframe thead th {\n",
       "        text-align: right;\n",
       "    }\n",
       "</style>\n",
       "<table border=\"1\" class=\"dataframe\">\n",
       "  <thead>\n",
       "    <tr style=\"text-align: right;\">\n",
       "      <th></th>\n",
       "      <th>Week_Number</th>\n",
       "      <th>NPS</th>\n",
       "      <th>Stock Index</th>\n",
       "    </tr>\n",
       "  </thead>\n",
       "  <tbody>\n",
       "    <tr>\n",
       "      <th>0</th>\n",
       "      <td>1</td>\n",
       "      <td>47.093031</td>\n",
       "      <td>1052.0</td>\n",
       "    </tr>\n",
       "    <tr>\n",
       "      <th>1</th>\n",
       "      <td>2</td>\n",
       "      <td>47.093031</td>\n",
       "      <td>1052.0</td>\n",
       "    </tr>\n",
       "    <tr>\n",
       "      <th>2</th>\n",
       "      <td>3</td>\n",
       "      <td>47.093031</td>\n",
       "      <td>1052.0</td>\n",
       "    </tr>\n",
       "    <tr>\n",
       "      <th>3</th>\n",
       "      <td>4</td>\n",
       "      <td>47.093031</td>\n",
       "      <td>1052.0</td>\n",
       "    </tr>\n",
       "    <tr>\n",
       "      <th>4</th>\n",
       "      <td>5</td>\n",
       "      <td>50.327406</td>\n",
       "      <td>1222.0</td>\n",
       "    </tr>\n",
       "  </tbody>\n",
       "</table>\n",
       "</div>"
      ],
      "text/plain": [
       "   Week_Number        NPS  Stock Index\n",
       "0            1  47.093031       1052.0\n",
       "1            2  47.093031       1052.0\n",
       "2            3  47.093031       1052.0\n",
       "3            4  47.093031       1052.0\n",
       "4            5  50.327406       1222.0"
      ]
     },
     "execution_count": 931,
     "metadata": {},
     "output_type": "execute_result"
    }
   ],
   "source": [
    "# Dataframe containing the NPS and Stock Index values to be used for each of the 53 weeks\n",
    "nps_week.head()"
   ]
  },
  {
   "cell_type": "markdown",
   "metadata": {},
   "source": [
    "## 2.5 Data preparation for climate data"
   ]
  },
  {
   "cell_type": "code",
   "execution_count": 932,
   "metadata": {},
   "outputs": [
    {
     "name": "stdout",
     "output_type": "stream",
     "text": [
      "<class 'pandas.core.frame.DataFrame'>\n",
      "RangeIndex: 366 entries, 0 to 365\n",
      "Data columns (total 23 columns):\n",
      "Date                   366 non-null datetime64[ns]\n",
      "Year                   366 non-null int64\n",
      "Month                  366 non-null int64\n",
      "Day                    366 non-null int64\n",
      "Data Quality Review    366 non-null object\n",
      "Max Temp (°C)          208 non-null float64\n",
      "Max Temp Flag          7 non-null object\n",
      "Min Temp (°C)          191 non-null float64\n",
      "Min Temp Flag          24 non-null object\n",
      "Mean Temp (°C)         191 non-null float64\n",
      "Mean Temp Flag         24 non-null object\n",
      "Heat Deg Days (°C)     191 non-null float64\n",
      "Heat Deg Days Flag     24 non-null object\n",
      "Cool Deg Days (°C)     191 non-null float64\n",
      "Cool Deg Days Flag     24 non-null object\n",
      "Total Rain (mm)        215 non-null float64\n",
      "Total Rain Flag        7 non-null object\n",
      "Total Snow (cm)        215 non-null float64\n",
      "Total Snow Flag        6 non-null object\n",
      "Total Precip (mm)      215 non-null float64\n",
      "Total Precip Flag      11 non-null object\n",
      "Snow on Grnd (cm)      215 non-null float64\n",
      "Snow on Grnd Flag      6 non-null object\n",
      "dtypes: datetime64[ns](1), float64(9), int64(3), object(10)\n",
      "memory usage: 65.8+ KB\n"
     ]
    }
   ],
   "source": [
    "climate.info()"
   ]
  },
  {
   "cell_type": "code",
   "execution_count": 933,
   "metadata": {},
   "outputs": [
    {
     "data": {
      "text/html": [
       "<div>\n",
       "<style scoped>\n",
       "    .dataframe tbody tr th:only-of-type {\n",
       "        vertical-align: middle;\n",
       "    }\n",
       "\n",
       "    .dataframe tbody tr th {\n",
       "        vertical-align: top;\n",
       "    }\n",
       "\n",
       "    .dataframe thead th {\n",
       "        text-align: right;\n",
       "    }\n",
       "</style>\n",
       "<table border=\"1\" class=\"dataframe\">\n",
       "  <thead>\n",
       "    <tr style=\"text-align: right;\">\n",
       "      <th></th>\n",
       "      <th>Date</th>\n",
       "      <th>Year</th>\n",
       "      <th>Month</th>\n",
       "      <th>Day</th>\n",
       "      <th>Data Quality Review</th>\n",
       "      <th>Max Temp (°C)</th>\n",
       "      <th>Max Temp Flag</th>\n",
       "      <th>Min Temp (°C)</th>\n",
       "      <th>Min Temp Flag</th>\n",
       "      <th>Mean Temp (°C)</th>\n",
       "      <th>...</th>\n",
       "      <th>Cool Deg Days (°C)</th>\n",
       "      <th>Cool Deg Days Flag</th>\n",
       "      <th>Total Rain (mm)</th>\n",
       "      <th>Total Rain Flag</th>\n",
       "      <th>Total Snow (cm)</th>\n",
       "      <th>Total Snow Flag</th>\n",
       "      <th>Total Precip (mm)</th>\n",
       "      <th>Total Precip Flag</th>\n",
       "      <th>Snow on Grnd (cm)</th>\n",
       "      <th>Snow on Grnd Flag</th>\n",
       "    </tr>\n",
       "  </thead>\n",
       "  <tbody>\n",
       "    <tr>\n",
       "      <th>0</th>\n",
       "      <td>2015-07-01</td>\n",
       "      <td>2015</td>\n",
       "      <td>7</td>\n",
       "      <td>1</td>\n",
       "      <td>No</td>\n",
       "      <td>24.5</td>\n",
       "      <td>NaN</td>\n",
       "      <td>17.0</td>\n",
       "      <td>NaN</td>\n",
       "      <td>20.8</td>\n",
       "      <td>...</td>\n",
       "      <td>2.8</td>\n",
       "      <td>NaN</td>\n",
       "      <td>0.0</td>\n",
       "      <td>NaN</td>\n",
       "      <td>0.0</td>\n",
       "      <td>NaN</td>\n",
       "      <td>0.0</td>\n",
       "      <td>NaN</td>\n",
       "      <td>0.0</td>\n",
       "      <td>NaN</td>\n",
       "    </tr>\n",
       "    <tr>\n",
       "      <th>1</th>\n",
       "      <td>2015-07-02</td>\n",
       "      <td>2015</td>\n",
       "      <td>7</td>\n",
       "      <td>2</td>\n",
       "      <td>No</td>\n",
       "      <td>24.0</td>\n",
       "      <td>NaN</td>\n",
       "      <td>14.0</td>\n",
       "      <td>NaN</td>\n",
       "      <td>19.0</td>\n",
       "      <td>...</td>\n",
       "      <td>1.0</td>\n",
       "      <td>NaN</td>\n",
       "      <td>0.0</td>\n",
       "      <td>NaN</td>\n",
       "      <td>0.0</td>\n",
       "      <td>NaN</td>\n",
       "      <td>0.0</td>\n",
       "      <td>NaN</td>\n",
       "      <td>0.0</td>\n",
       "      <td>NaN</td>\n",
       "    </tr>\n",
       "    <tr>\n",
       "      <th>2</th>\n",
       "      <td>2015-07-03</td>\n",
       "      <td>2015</td>\n",
       "      <td>7</td>\n",
       "      <td>3</td>\n",
       "      <td>No</td>\n",
       "      <td>25.0</td>\n",
       "      <td>NaN</td>\n",
       "      <td>10.0</td>\n",
       "      <td>NaN</td>\n",
       "      <td>17.5</td>\n",
       "      <td>...</td>\n",
       "      <td>0.0</td>\n",
       "      <td>NaN</td>\n",
       "      <td>0.0</td>\n",
       "      <td>NaN</td>\n",
       "      <td>0.0</td>\n",
       "      <td>NaN</td>\n",
       "      <td>0.0</td>\n",
       "      <td>NaN</td>\n",
       "      <td>0.0</td>\n",
       "      <td>NaN</td>\n",
       "    </tr>\n",
       "    <tr>\n",
       "      <th>3</th>\n",
       "      <td>2015-07-04</td>\n",
       "      <td>2015</td>\n",
       "      <td>7</td>\n",
       "      <td>4</td>\n",
       "      <td>No</td>\n",
       "      <td>26.0</td>\n",
       "      <td>NaN</td>\n",
       "      <td>11.0</td>\n",
       "      <td>NaN</td>\n",
       "      <td>18.5</td>\n",
       "      <td>...</td>\n",
       "      <td>0.5</td>\n",
       "      <td>NaN</td>\n",
       "      <td>0.0</td>\n",
       "      <td>NaN</td>\n",
       "      <td>0.0</td>\n",
       "      <td>NaN</td>\n",
       "      <td>0.0</td>\n",
       "      <td>NaN</td>\n",
       "      <td>0.0</td>\n",
       "      <td>NaN</td>\n",
       "    </tr>\n",
       "    <tr>\n",
       "      <th>4</th>\n",
       "      <td>2015-07-05</td>\n",
       "      <td>2015</td>\n",
       "      <td>7</td>\n",
       "      <td>5</td>\n",
       "      <td>No</td>\n",
       "      <td>28.0</td>\n",
       "      <td>NaN</td>\n",
       "      <td>14.0</td>\n",
       "      <td>NaN</td>\n",
       "      <td>21.0</td>\n",
       "      <td>...</td>\n",
       "      <td>3.0</td>\n",
       "      <td>NaN</td>\n",
       "      <td>0.0</td>\n",
       "      <td>NaN</td>\n",
       "      <td>0.0</td>\n",
       "      <td>NaN</td>\n",
       "      <td>0.0</td>\n",
       "      <td>NaN</td>\n",
       "      <td>0.0</td>\n",
       "      <td>NaN</td>\n",
       "    </tr>\n",
       "  </tbody>\n",
       "</table>\n",
       "<p>5 rows × 23 columns</p>\n",
       "</div>"
      ],
      "text/plain": [
       "        Date  Year  Month  Day Data Quality Review  Max Temp (°C)  \\\n",
       "0 2015-07-01  2015      7    1                  No           24.5   \n",
       "1 2015-07-02  2015      7    2                  No           24.0   \n",
       "2 2015-07-03  2015      7    3                  No           25.0   \n",
       "3 2015-07-04  2015      7    4                  No           26.0   \n",
       "4 2015-07-05  2015      7    5                  No           28.0   \n",
       "\n",
       "  Max Temp Flag  Min Temp (°C) Min Temp Flag  Mean Temp (°C)  \\\n",
       "0           NaN           17.0           NaN            20.8   \n",
       "1           NaN           14.0           NaN            19.0   \n",
       "2           NaN           10.0           NaN            17.5   \n",
       "3           NaN           11.0           NaN            18.5   \n",
       "4           NaN           14.0           NaN            21.0   \n",
       "\n",
       "         ...         Cool Deg Days (°C)  Cool Deg Days Flag Total Rain (mm)  \\\n",
       "0        ...                        2.8                 NaN             0.0   \n",
       "1        ...                        1.0                 NaN             0.0   \n",
       "2        ...                        0.0                 NaN             0.0   \n",
       "3        ...                        0.5                 NaN             0.0   \n",
       "4        ...                        3.0                 NaN             0.0   \n",
       "\n",
       "   Total Rain Flag Total Snow (cm)  Total Snow Flag Total Precip (mm)  \\\n",
       "0              NaN             0.0              NaN               0.0   \n",
       "1              NaN             0.0              NaN               0.0   \n",
       "2              NaN             0.0              NaN               0.0   \n",
       "3              NaN             0.0              NaN               0.0   \n",
       "4              NaN             0.0              NaN               0.0   \n",
       "\n",
       "   Total Precip Flag Snow on Grnd (cm)  Snow on Grnd Flag  \n",
       "0                NaN               0.0                NaN  \n",
       "1                NaN               0.0                NaN  \n",
       "2                NaN               0.0                NaN  \n",
       "3                NaN               0.0                NaN  \n",
       "4                NaN               0.0                NaN  \n",
       "\n",
       "[5 rows x 23 columns]"
      ]
     },
     "execution_count": 933,
     "metadata": {},
     "output_type": "execute_result"
    }
   ],
   "source": [
    "climate.head()"
   ]
  },
  {
   "cell_type": "markdown",
   "metadata": {},
   "source": [
    "## 2.6 Create aggregated order level data"
   ]
  },
  {
   "cell_type": "code",
   "execution_count": null,
   "metadata": {},
   "outputs": [],
   "source": []
  },
  {
   "cell_type": "code",
   "execution_count": null,
   "metadata": {},
   "outputs": [],
   "source": []
  },
  {
   "cell_type": "code",
   "execution_count": null,
   "metadata": {},
   "outputs": [],
   "source": []
  },
  {
   "cell_type": "markdown",
   "metadata": {},
   "source": [
    "# Phase 3: Exploratory Data Analysis"
   ]
  },
  {
   "cell_type": "code",
   "execution_count": null,
   "metadata": {},
   "outputs": [],
   "source": []
  },
  {
   "cell_type": "code",
   "execution_count": null,
   "metadata": {},
   "outputs": [],
   "source": []
  },
  {
   "cell_type": "markdown",
   "metadata": {},
   "source": [
    "# Phase 4: Feature Engineering"
   ]
  },
  {
   "cell_type": "code",
   "execution_count": 934,
   "metadata": {},
   "outputs": [
    {
     "name": "stdout",
     "output_type": "stream",
     "text": [
      "<class 'pandas.core.frame.DataFrame'>\n",
      "Int64Index: 509512 entries, 2 to 1647171\n",
      "Data columns (total 20 columns):\n",
      "fsn_id                             509512 non-null object\n",
      "order_date                         509512 non-null datetime64[ns]\n",
      "Year                               509512 non-null int64\n",
      "Month                              509512 non-null int64\n",
      "order_id                           509512 non-null int64\n",
      "order_item_id                      509512 non-null int64\n",
      "gmv                                509512 non-null float64\n",
      "units                              509512 non-null int64\n",
      "s1_fact.order_payment_type         509512 non-null object\n",
      "sla                                509512 non-null int64\n",
      "cust_id                            509512 non-null float64\n",
      "pincode                            509512 non-null float64\n",
      "product_analytic_super_category    509512 non-null object\n",
      "product_analytic_category          509512 non-null object\n",
      "product_analytic_sub_category      509512 non-null object\n",
      "product_analytic_vertical          509512 non-null object\n",
      "product_mrp                        509512 non-null int64\n",
      "product_procurement_sla            509512 non-null int64\n",
      "day                                509512 non-null int64\n",
      "Week_Number                        509512 non-null int64\n",
      "dtypes: datetime64[ns](1), float64(3), int64(10), object(6)\n",
      "memory usage: 81.6+ MB\n"
     ]
    }
   ],
   "source": [
    "products_filtered.info()"
   ]
  },
  {
   "cell_type": "markdown",
   "metadata": {},
   "source": [
    "## Weekly Aggregated for each of the 3 sub-categories"
   ]
  },
  {
   "cell_type": "code",
   "execution_count": 935,
   "metadata": {},
   "outputs": [
    {
     "data": {
      "text/plain": [
       "COD        378549\n",
       "Prepaid    130963\n",
       "Name: s1_fact.order_payment_type, dtype: int64"
      ]
     },
     "execution_count": 935,
     "metadata": {},
     "output_type": "execute_result"
    }
   ],
   "source": [
    "products_filtered['s1_fact.order_payment_type'].astype('category').value_counts(dropna=False)"
   ]
  },
  {
   "cell_type": "code",
   "execution_count": 936,
   "metadata": {},
   "outputs": [],
   "source": [
    "products_filtered['Is Prepaid'] = np.where(products_filtered['s1_fact.order_payment_type']=='Prepaid',1,0)\n",
    "products_filtered['Prepaid Count'] = products_filtered['Is Prepaid'] * products_filtered['units']"
   ]
  },
  {
   "cell_type": "code",
   "execution_count": 941,
   "metadata": {},
   "outputs": [],
   "source": [
    "#Creating a column with the percentage discount for each product\n",
    "products_filtered['Discount %'] = (products_filtered['product_mrp'] - (products_filtered['gmv']/products_filtered['units']))*100/products_filtered['product_mrp']\n"
   ]
  },
  {
   "cell_type": "code",
   "execution_count": 942,
   "metadata": {},
   "outputs": [],
   "source": [
    "#Creating separata data frames for each of the 3 product sub-categories\n",
    "\n",
    "order_data_camera_subcatg = products_filtered[products_filtered['product_analytic_sub_category']=='CameraAccessory']\n",
    "order_data_gaming_subcatg = products_filtered[products_filtered['product_analytic_sub_category']=='GamingAccessory']\n",
    "order_data_homeaudio_subcatg = products_filtered[products_filtered['product_analytic_sub_category']=='HomeAudio']"
   ]
  },
  {
   "cell_type": "code",
   "execution_count": 943,
   "metadata": {},
   "outputs": [],
   "source": [
    "order_data_by_subcatg_week = products_filtered.groupby(['product_analytic_sub_category','Week_Number'])\n",
    "\n",
    "od_camera_by_week = order_data_camera_subcatg.groupby(['Week_Number'])\n",
    "od_gaming_by_week = order_data_gaming_subcatg.groupby(['Week_Number'])\n",
    "od_homeaudio_by_week = order_data_homeaudio_subcatg.groupby(['Week_Number'])\n"
   ]
  },
  {
   "cell_type": "markdown",
   "metadata": {},
   "source": [
    "## 4.1 Prepaid Count\n",
    "- Items are either purchased in 2 ways - Prepaid & COD (Cash On Delivery)\n",
    "- A numeric column `Prepaid Count` is created which indicates the number of items purchased via Prepaid mode"
   ]
  },
  {
   "cell_type": "code",
   "execution_count": 944,
   "metadata": {},
   "outputs": [],
   "source": [
    "ppc_camera_by_week = od_camera_by_week.agg({'Prepaid Count':'sum'}).reset_index()\n",
    "ppc_gaming_by_week = od_gaming_by_week.agg({'Prepaid Count':'sum'}).reset_index()\n",
    "ppc_homeaudio_by_week = od_homeaudio_by_week.agg({'Prepaid Count':'sum'}).reset_index()"
   ]
  },
  {
   "cell_type": "code",
   "execution_count": 945,
   "metadata": {},
   "outputs": [
    {
     "name": "stdout",
     "output_type": "stream",
     "text": [
      "<class 'pandas.core.frame.DataFrame'>\n",
      "RangeIndex: 52 entries, 0 to 51\n",
      "Data columns (total 2 columns):\n",
      "Week_Number      52 non-null int64\n",
      "Prepaid Count    52 non-null int64\n",
      "dtypes: int64(2)\n",
      "memory usage: 912.0 bytes\n"
     ]
    }
   ],
   "source": [
    "ppc_camera_by_week.info()"
   ]
  },
  {
   "cell_type": "code",
   "execution_count": 946,
   "metadata": {},
   "outputs": [
    {
     "data": {
      "text/html": [
       "<div>\n",
       "<style scoped>\n",
       "    .dataframe tbody tr th:only-of-type {\n",
       "        vertical-align: middle;\n",
       "    }\n",
       "\n",
       "    .dataframe tbody tr th {\n",
       "        vertical-align: top;\n",
       "    }\n",
       "\n",
       "    .dataframe thead th {\n",
       "        text-align: right;\n",
       "    }\n",
       "</style>\n",
       "<table border=\"1\" class=\"dataframe\">\n",
       "  <thead>\n",
       "    <tr style=\"text-align: right;\">\n",
       "      <th></th>\n",
       "      <th>Week_Number</th>\n",
       "      <th>Prepaid Count</th>\n",
       "    </tr>\n",
       "  </thead>\n",
       "  <tbody>\n",
       "    <tr>\n",
       "      <th>0</th>\n",
       "      <td>1</td>\n",
       "      <td>948</td>\n",
       "    </tr>\n",
       "    <tr>\n",
       "      <th>1</th>\n",
       "      <td>2</td>\n",
       "      <td>752</td>\n",
       "    </tr>\n",
       "    <tr>\n",
       "      <th>2</th>\n",
       "      <td>3</td>\n",
       "      <td>1094</td>\n",
       "    </tr>\n",
       "    <tr>\n",
       "      <th>3</th>\n",
       "      <td>4</td>\n",
       "      <td>658</td>\n",
       "    </tr>\n",
       "    <tr>\n",
       "      <th>4</th>\n",
       "      <td>5</td>\n",
       "      <td>1076</td>\n",
       "    </tr>\n",
       "  </tbody>\n",
       "</table>\n",
       "</div>"
      ],
      "text/plain": [
       "   Week_Number  Prepaid Count\n",
       "0            1            948\n",
       "1            2            752\n",
       "2            3           1094\n",
       "3            4            658\n",
       "4            5           1076"
      ]
     },
     "execution_count": 946,
     "metadata": {},
     "output_type": "execute_result"
    }
   ],
   "source": [
    "ppc_camera_by_week.head()"
   ]
  },
  {
   "cell_type": "code",
   "execution_count": 947,
   "metadata": {},
   "outputs": [
    {
     "data": {
      "text/html": [
       "<div>\n",
       "<style scoped>\n",
       "    .dataframe tbody tr th:only-of-type {\n",
       "        vertical-align: middle;\n",
       "    }\n",
       "\n",
       "    .dataframe tbody tr th {\n",
       "        vertical-align: top;\n",
       "    }\n",
       "\n",
       "    .dataframe thead th {\n",
       "        text-align: right;\n",
       "    }\n",
       "</style>\n",
       "<table border=\"1\" class=\"dataframe\">\n",
       "  <thead>\n",
       "    <tr style=\"text-align: right;\">\n",
       "      <th></th>\n",
       "      <th>Week_Number</th>\n",
       "      <th>Prepaid Count</th>\n",
       "    </tr>\n",
       "  </thead>\n",
       "  <tbody>\n",
       "    <tr>\n",
       "      <th>0</th>\n",
       "      <td>1</td>\n",
       "      <td>698</td>\n",
       "    </tr>\n",
       "    <tr>\n",
       "      <th>1</th>\n",
       "      <td>2</td>\n",
       "      <td>646</td>\n",
       "    </tr>\n",
       "    <tr>\n",
       "      <th>2</th>\n",
       "      <td>3</td>\n",
       "      <td>1060</td>\n",
       "    </tr>\n",
       "    <tr>\n",
       "      <th>3</th>\n",
       "      <td>4</td>\n",
       "      <td>603</td>\n",
       "    </tr>\n",
       "    <tr>\n",
       "      <th>4</th>\n",
       "      <td>5</td>\n",
       "      <td>733</td>\n",
       "    </tr>\n",
       "  </tbody>\n",
       "</table>\n",
       "</div>"
      ],
      "text/plain": [
       "   Week_Number  Prepaid Count\n",
       "0            1            698\n",
       "1            2            646\n",
       "2            3           1060\n",
       "3            4            603\n",
       "4            5            733"
      ]
     },
     "execution_count": 947,
     "metadata": {},
     "output_type": "execute_result"
    }
   ],
   "source": [
    "ppc_gaming_by_week.head()"
   ]
  },
  {
   "cell_type": "code",
   "execution_count": 948,
   "metadata": {},
   "outputs": [
    {
     "data": {
      "text/html": [
       "<div>\n",
       "<style scoped>\n",
       "    .dataframe tbody tr th:only-of-type {\n",
       "        vertical-align: middle;\n",
       "    }\n",
       "\n",
       "    .dataframe tbody tr th {\n",
       "        vertical-align: top;\n",
       "    }\n",
       "\n",
       "    .dataframe thead th {\n",
       "        text-align: right;\n",
       "    }\n",
       "</style>\n",
       "<table border=\"1\" class=\"dataframe\">\n",
       "  <thead>\n",
       "    <tr style=\"text-align: right;\">\n",
       "      <th></th>\n",
       "      <th>Week_Number</th>\n",
       "      <th>Prepaid Count</th>\n",
       "    </tr>\n",
       "  </thead>\n",
       "  <tbody>\n",
       "    <tr>\n",
       "      <th>0</th>\n",
       "      <td>1</td>\n",
       "      <td>416</td>\n",
       "    </tr>\n",
       "    <tr>\n",
       "      <th>1</th>\n",
       "      <td>2</td>\n",
       "      <td>363</td>\n",
       "    </tr>\n",
       "    <tr>\n",
       "      <th>2</th>\n",
       "      <td>3</td>\n",
       "      <td>484</td>\n",
       "    </tr>\n",
       "    <tr>\n",
       "      <th>3</th>\n",
       "      <td>4</td>\n",
       "      <td>358</td>\n",
       "    </tr>\n",
       "    <tr>\n",
       "      <th>4</th>\n",
       "      <td>5</td>\n",
       "      <td>479</td>\n",
       "    </tr>\n",
       "  </tbody>\n",
       "</table>\n",
       "</div>"
      ],
      "text/plain": [
       "   Week_Number  Prepaid Count\n",
       "0            1            416\n",
       "1            2            363\n",
       "2            3            484\n",
       "3            4            358\n",
       "4            5            479"
      ]
     },
     "execution_count": 948,
     "metadata": {},
     "output_type": "execute_result"
    }
   ],
   "source": [
    "ppc_homeaudio_by_week.head()"
   ]
  },
  {
   "cell_type": "markdown",
   "metadata": {},
   "source": [
    "## 4.2 Avg Delivery SLA\n",
    "- `sla` represents the no. of days in which the product is expected to be delivered\n",
    "- A numeric column `Avg Delivery SLA` is created which represents the avg. no. of days in which the product will be delivered"
   ]
  },
  {
   "cell_type": "code",
   "execution_count": 949,
   "metadata": {},
   "outputs": [],
   "source": [
    "avg_del_sla_camera_by_week = od_camera_by_week.agg({'sla':'mean'}).reset_index()\n",
    "avg_del_sla_gaming_by_week = od_gaming_by_week.agg({'sla':'mean'}).reset_index()\n",
    "avg_del_sla_homeaudio_by_week = od_homeaudio_by_week.agg({'sla':'mean'}).reset_index()"
   ]
  },
  {
   "cell_type": "code",
   "execution_count": 950,
   "metadata": {},
   "outputs": [],
   "source": [
    "avg_del_sla_camera_by_week.rename(columns={\"sla\": \"Avg Delivery SLA\"},inplace=True)\n",
    "avg_del_sla_gaming_by_week.rename(columns={\"sla\": \"Avg Delivery SLA\"},inplace=True)\n",
    "avg_del_sla_homeaudio_by_week.rename(columns={\"sla\": \"Avg Delivery SLA\"},inplace=True)"
   ]
  },
  {
   "cell_type": "code",
   "execution_count": 951,
   "metadata": {},
   "outputs": [
    {
     "data": {
      "text/html": [
       "<div>\n",
       "<style scoped>\n",
       "    .dataframe tbody tr th:only-of-type {\n",
       "        vertical-align: middle;\n",
       "    }\n",
       "\n",
       "    .dataframe tbody tr th {\n",
       "        vertical-align: top;\n",
       "    }\n",
       "\n",
       "    .dataframe thead th {\n",
       "        text-align: right;\n",
       "    }\n",
       "</style>\n",
       "<table border=\"1\" class=\"dataframe\">\n",
       "  <thead>\n",
       "    <tr style=\"text-align: right;\">\n",
       "      <th></th>\n",
       "      <th>Week_Number</th>\n",
       "      <th>Avg Delivery SLA</th>\n",
       "    </tr>\n",
       "  </thead>\n",
       "  <tbody>\n",
       "    <tr>\n",
       "      <th>0</th>\n",
       "      <td>1</td>\n",
       "      <td>5.916750</td>\n",
       "    </tr>\n",
       "    <tr>\n",
       "      <th>1</th>\n",
       "      <td>2</td>\n",
       "      <td>6.675721</td>\n",
       "    </tr>\n",
       "    <tr>\n",
       "      <th>2</th>\n",
       "      <td>3</td>\n",
       "      <td>6.452064</td>\n",
       "    </tr>\n",
       "    <tr>\n",
       "      <th>3</th>\n",
       "      <td>4</td>\n",
       "      <td>6.692284</td>\n",
       "    </tr>\n",
       "    <tr>\n",
       "      <th>4</th>\n",
       "      <td>5</td>\n",
       "      <td>6.385951</td>\n",
       "    </tr>\n",
       "  </tbody>\n",
       "</table>\n",
       "</div>"
      ],
      "text/plain": [
       "   Week_Number  Avg Delivery SLA\n",
       "0            1          5.916750\n",
       "1            2          6.675721\n",
       "2            3          6.452064\n",
       "3            4          6.692284\n",
       "4            5          6.385951"
      ]
     },
     "execution_count": 951,
     "metadata": {},
     "output_type": "execute_result"
    }
   ],
   "source": [
    "avg_del_sla_camera_by_week.head()"
   ]
  },
  {
   "cell_type": "code",
   "execution_count": 952,
   "metadata": {},
   "outputs": [
    {
     "data": {
      "text/html": [
       "<div>\n",
       "<style scoped>\n",
       "    .dataframe tbody tr th:only-of-type {\n",
       "        vertical-align: middle;\n",
       "    }\n",
       "\n",
       "    .dataframe tbody tr th {\n",
       "        vertical-align: top;\n",
       "    }\n",
       "\n",
       "    .dataframe thead th {\n",
       "        text-align: right;\n",
       "    }\n",
       "</style>\n",
       "<table border=\"1\" class=\"dataframe\">\n",
       "  <thead>\n",
       "    <tr style=\"text-align: right;\">\n",
       "      <th></th>\n",
       "      <th>Week_Number</th>\n",
       "      <th>Avg Delivery SLA</th>\n",
       "    </tr>\n",
       "  </thead>\n",
       "  <tbody>\n",
       "    <tr>\n",
       "      <th>0</th>\n",
       "      <td>1</td>\n",
       "      <td>5.894093</td>\n",
       "    </tr>\n",
       "    <tr>\n",
       "      <th>1</th>\n",
       "      <td>2</td>\n",
       "      <td>5.921053</td>\n",
       "    </tr>\n",
       "    <tr>\n",
       "      <th>2</th>\n",
       "      <td>3</td>\n",
       "      <td>6.036125</td>\n",
       "    </tr>\n",
       "    <tr>\n",
       "      <th>3</th>\n",
       "      <td>4</td>\n",
       "      <td>6.107896</td>\n",
       "    </tr>\n",
       "    <tr>\n",
       "      <th>4</th>\n",
       "      <td>5</td>\n",
       "      <td>5.978713</td>\n",
       "    </tr>\n",
       "  </tbody>\n",
       "</table>\n",
       "</div>"
      ],
      "text/plain": [
       "   Week_Number  Avg Delivery SLA\n",
       "0            1          5.894093\n",
       "1            2          5.921053\n",
       "2            3          6.036125\n",
       "3            4          6.107896\n",
       "4            5          5.978713"
      ]
     },
     "execution_count": 952,
     "metadata": {},
     "output_type": "execute_result"
    }
   ],
   "source": [
    "avg_del_sla_gaming_by_week.head()"
   ]
  },
  {
   "cell_type": "code",
   "execution_count": 953,
   "metadata": {},
   "outputs": [
    {
     "data": {
      "text/html": [
       "<div>\n",
       "<style scoped>\n",
       "    .dataframe tbody tr th:only-of-type {\n",
       "        vertical-align: middle;\n",
       "    }\n",
       "\n",
       "    .dataframe tbody tr th {\n",
       "        vertical-align: top;\n",
       "    }\n",
       "\n",
       "    .dataframe thead th {\n",
       "        text-align: right;\n",
       "    }\n",
       "</style>\n",
       "<table border=\"1\" class=\"dataframe\">\n",
       "  <thead>\n",
       "    <tr style=\"text-align: right;\">\n",
       "      <th></th>\n",
       "      <th>Week_Number</th>\n",
       "      <th>Avg Delivery SLA</th>\n",
       "    </tr>\n",
       "  </thead>\n",
       "  <tbody>\n",
       "    <tr>\n",
       "      <th>0</th>\n",
       "      <td>1</td>\n",
       "      <td>4.814367</td>\n",
       "    </tr>\n",
       "    <tr>\n",
       "      <th>1</th>\n",
       "      <td>2</td>\n",
       "      <td>5.502844</td>\n",
       "    </tr>\n",
       "    <tr>\n",
       "      <th>2</th>\n",
       "      <td>3</td>\n",
       "      <td>5.798302</td>\n",
       "    </tr>\n",
       "    <tr>\n",
       "      <th>3</th>\n",
       "      <td>4</td>\n",
       "      <td>5.720351</td>\n",
       "    </tr>\n",
       "    <tr>\n",
       "      <th>4</th>\n",
       "      <td>5</td>\n",
       "      <td>4.915834</td>\n",
       "    </tr>\n",
       "  </tbody>\n",
       "</table>\n",
       "</div>"
      ],
      "text/plain": [
       "   Week_Number  Avg Delivery SLA\n",
       "0            1          4.814367\n",
       "1            2          5.502844\n",
       "2            3          5.798302\n",
       "3            4          5.720351\n",
       "4            5          4.915834"
      ]
     },
     "execution_count": 953,
     "metadata": {},
     "output_type": "execute_result"
    }
   ],
   "source": [
    "avg_del_sla_homeaudio_by_week.head()"
   ]
  },
  {
   "cell_type": "markdown",
   "metadata": {},
   "source": [
    "## 4.3 Avg Procurement SLA\n",
    "- `product_procurement_sla` represents the no. of days in which the product will be procured\n",
    "- A numeric column `Avg Proc SLA` is created which represents the avg. no. of days in which the product will be procured"
   ]
  },
  {
   "cell_type": "code",
   "execution_count": 954,
   "metadata": {},
   "outputs": [],
   "source": [
    "avg_proc_sla_camera_by_week = od_camera_by_week.agg({'product_procurement_sla':'mean'}).reset_index()\n",
    "avg_proc_sla_gaming_by_week = od_gaming_by_week.agg({'product_procurement_sla':'mean'}).reset_index()\n",
    "avg_proc_sla_homeaudio_by_week = od_homeaudio_by_week.agg({'product_procurement_sla':'mean'}).reset_index()"
   ]
  },
  {
   "cell_type": "code",
   "execution_count": 955,
   "metadata": {},
   "outputs": [],
   "source": [
    "avg_proc_sla_camera_by_week.rename(columns={\"product_procurement_sla\": \"Avg Proc SLA\"},inplace=True)\n",
    "avg_proc_sla_gaming_by_week.rename(columns={\"product_procurement_sla\": \"Avg Proc SLA\"},inplace=True)\n",
    "avg_proc_sla_homeaudio_by_week.rename(columns={\"product_procurement_sla\": \"Avg Proc SLA\"},inplace=True)"
   ]
  },
  {
   "cell_type": "code",
   "execution_count": 956,
   "metadata": {},
   "outputs": [
    {
     "data": {
      "text/html": [
       "<div>\n",
       "<style scoped>\n",
       "    .dataframe tbody tr th:only-of-type {\n",
       "        vertical-align: middle;\n",
       "    }\n",
       "\n",
       "    .dataframe tbody tr th {\n",
       "        vertical-align: top;\n",
       "    }\n",
       "\n",
       "    .dataframe thead th {\n",
       "        text-align: right;\n",
       "    }\n",
       "</style>\n",
       "<table border=\"1\" class=\"dataframe\">\n",
       "  <thead>\n",
       "    <tr style=\"text-align: right;\">\n",
       "      <th></th>\n",
       "      <th>Week_Number</th>\n",
       "      <th>Avg Proc SLA</th>\n",
       "    </tr>\n",
       "  </thead>\n",
       "  <tbody>\n",
       "    <tr>\n",
       "      <th>0</th>\n",
       "      <td>1</td>\n",
       "      <td>2.863645</td>\n",
       "    </tr>\n",
       "    <tr>\n",
       "      <th>1</th>\n",
       "      <td>2</td>\n",
       "      <td>2.608513</td>\n",
       "    </tr>\n",
       "    <tr>\n",
       "      <th>2</th>\n",
       "      <td>3</td>\n",
       "      <td>2.678633</td>\n",
       "    </tr>\n",
       "    <tr>\n",
       "      <th>3</th>\n",
       "      <td>4</td>\n",
       "      <td>2.611111</td>\n",
       "    </tr>\n",
       "    <tr>\n",
       "      <th>4</th>\n",
       "      <td>5</td>\n",
       "      <td>2.733694</td>\n",
       "    </tr>\n",
       "  </tbody>\n",
       "</table>\n",
       "</div>"
      ],
      "text/plain": [
       "   Week_Number  Avg Proc SLA\n",
       "0            1      2.863645\n",
       "1            2      2.608513\n",
       "2            3      2.678633\n",
       "3            4      2.611111\n",
       "4            5      2.733694"
      ]
     },
     "execution_count": 956,
     "metadata": {},
     "output_type": "execute_result"
    }
   ],
   "source": [
    "avg_proc_sla_camera_by_week.head()"
   ]
  },
  {
   "cell_type": "code",
   "execution_count": 957,
   "metadata": {},
   "outputs": [
    {
     "data": {
      "text/html": [
       "<div>\n",
       "<style scoped>\n",
       "    .dataframe tbody tr th:only-of-type {\n",
       "        vertical-align: middle;\n",
       "    }\n",
       "\n",
       "    .dataframe tbody tr th {\n",
       "        vertical-align: top;\n",
       "    }\n",
       "\n",
       "    .dataframe thead th {\n",
       "        text-align: right;\n",
       "    }\n",
       "</style>\n",
       "<table border=\"1\" class=\"dataframe\">\n",
       "  <thead>\n",
       "    <tr style=\"text-align: right;\">\n",
       "      <th></th>\n",
       "      <th>Week_Number</th>\n",
       "      <th>Avg Proc SLA</th>\n",
       "    </tr>\n",
       "  </thead>\n",
       "  <tbody>\n",
       "    <tr>\n",
       "      <th>0</th>\n",
       "      <td>1</td>\n",
       "      <td>2.732878</td>\n",
       "    </tr>\n",
       "    <tr>\n",
       "      <th>1</th>\n",
       "      <td>2</td>\n",
       "      <td>2.679692</td>\n",
       "    </tr>\n",
       "    <tr>\n",
       "      <th>2</th>\n",
       "      <td>3</td>\n",
       "      <td>2.845574</td>\n",
       "    </tr>\n",
       "    <tr>\n",
       "      <th>3</th>\n",
       "      <td>4</td>\n",
       "      <td>2.726944</td>\n",
       "    </tr>\n",
       "    <tr>\n",
       "      <th>4</th>\n",
       "      <td>5</td>\n",
       "      <td>2.628991</td>\n",
       "    </tr>\n",
       "  </tbody>\n",
       "</table>\n",
       "</div>"
      ],
      "text/plain": [
       "   Week_Number  Avg Proc SLA\n",
       "0            1      2.732878\n",
       "1            2      2.679692\n",
       "2            3      2.845574\n",
       "3            4      2.726944\n",
       "4            5      2.628991"
      ]
     },
     "execution_count": 957,
     "metadata": {},
     "output_type": "execute_result"
    }
   ],
   "source": [
    "avg_proc_sla_gaming_by_week.head()"
   ]
  },
  {
   "cell_type": "code",
   "execution_count": 958,
   "metadata": {},
   "outputs": [
    {
     "data": {
      "text/html": [
       "<div>\n",
       "<style scoped>\n",
       "    .dataframe tbody tr th:only-of-type {\n",
       "        vertical-align: middle;\n",
       "    }\n",
       "\n",
       "    .dataframe tbody tr th {\n",
       "        vertical-align: top;\n",
       "    }\n",
       "\n",
       "    .dataframe thead th {\n",
       "        text-align: right;\n",
       "    }\n",
       "</style>\n",
       "<table border=\"1\" class=\"dataframe\">\n",
       "  <thead>\n",
       "    <tr style=\"text-align: right;\">\n",
       "      <th></th>\n",
       "      <th>Week_Number</th>\n",
       "      <th>Avg Proc SLA</th>\n",
       "    </tr>\n",
       "  </thead>\n",
       "  <tbody>\n",
       "    <tr>\n",
       "      <th>0</th>\n",
       "      <td>1</td>\n",
       "      <td>2.898919</td>\n",
       "    </tr>\n",
       "    <tr>\n",
       "      <th>1</th>\n",
       "      <td>2</td>\n",
       "      <td>2.872038</td>\n",
       "    </tr>\n",
       "    <tr>\n",
       "      <th>2</th>\n",
       "      <td>3</td>\n",
       "      <td>2.716653</td>\n",
       "    </tr>\n",
       "    <tr>\n",
       "      <th>3</th>\n",
       "      <td>4</td>\n",
       "      <td>2.668619</td>\n",
       "    </tr>\n",
       "    <tr>\n",
       "      <th>4</th>\n",
       "      <td>5</td>\n",
       "      <td>2.825863</td>\n",
       "    </tr>\n",
       "  </tbody>\n",
       "</table>\n",
       "</div>"
      ],
      "text/plain": [
       "   Week_Number  Avg Proc SLA\n",
       "0            1      2.898919\n",
       "1            2      2.872038\n",
       "2            3      2.716653\n",
       "3            4      2.668619\n",
       "4            5      2.825863"
      ]
     },
     "execution_count": 958,
     "metadata": {},
     "output_type": "execute_result"
    }
   ],
   "source": [
    "avg_proc_sla_homeaudio_by_week.head()"
   ]
  },
  {
   "cell_type": "markdown",
   "metadata": {},
   "source": [
    "## 4.4 Avg MRP\n",
    "- `product_mrp` represents the mrp of the product\n",
    "- A numeric column `Avg MRP` is created which represents the avg. mrp of all the products"
   ]
  },
  {
   "cell_type": "code",
   "execution_count": 959,
   "metadata": {},
   "outputs": [],
   "source": [
    "avg_mrp_camera_by_week = od_camera_by_week.agg({'product_mrp':'mean'}).reset_index()\n",
    "avg_mrp_gaming_by_week = od_gaming_by_week.agg({'product_mrp':'mean'}).reset_index()\n",
    "avg_mrp_homeaudio_by_week = od_homeaudio_by_week.agg({'product_mrp':'mean'}).reset_index()"
   ]
  },
  {
   "cell_type": "code",
   "execution_count": 960,
   "metadata": {},
   "outputs": [],
   "source": [
    "avg_mrp_camera_by_week.rename(columns={\"product_mrp\": \"Avg MRP\"},inplace=True)\n",
    "avg_mrp_gaming_by_week.rename(columns={\"product_mrp\": \"Avg MRP\"},inplace=True)\n",
    "avg_mrp_homeaudio_by_week.rename(columns={\"product_mrp\": \"Avg MRP\"},inplace=True)"
   ]
  },
  {
   "cell_type": "code",
   "execution_count": 961,
   "metadata": {},
   "outputs": [
    {
     "data": {
      "text/html": [
       "<div>\n",
       "<style scoped>\n",
       "    .dataframe tbody tr th:only-of-type {\n",
       "        vertical-align: middle;\n",
       "    }\n",
       "\n",
       "    .dataframe tbody tr th {\n",
       "        vertical-align: top;\n",
       "    }\n",
       "\n",
       "    .dataframe thead th {\n",
       "        text-align: right;\n",
       "    }\n",
       "</style>\n",
       "<table border=\"1\" class=\"dataframe\">\n",
       "  <thead>\n",
       "    <tr style=\"text-align: right;\">\n",
       "      <th></th>\n",
       "      <th>Week_Number</th>\n",
       "      <th>Avg MRP</th>\n",
       "    </tr>\n",
       "  </thead>\n",
       "  <tbody>\n",
       "    <tr>\n",
       "      <th>0</th>\n",
       "      <td>1</td>\n",
       "      <td>1232.377121</td>\n",
       "    </tr>\n",
       "    <tr>\n",
       "      <th>1</th>\n",
       "      <td>2</td>\n",
       "      <td>1297.492859</td>\n",
       "    </tr>\n",
       "    <tr>\n",
       "      <th>2</th>\n",
       "      <td>3</td>\n",
       "      <td>1234.543207</td>\n",
       "    </tr>\n",
       "    <tr>\n",
       "      <th>3</th>\n",
       "      <td>4</td>\n",
       "      <td>1377.846296</td>\n",
       "    </tr>\n",
       "    <tr>\n",
       "      <th>4</th>\n",
       "      <td>5</td>\n",
       "      <td>1292.669626</td>\n",
       "    </tr>\n",
       "  </tbody>\n",
       "</table>\n",
       "</div>"
      ],
      "text/plain": [
       "   Week_Number      Avg MRP\n",
       "0            1  1232.377121\n",
       "1            2  1297.492859\n",
       "2            3  1234.543207\n",
       "3            4  1377.846296\n",
       "4            5  1292.669626"
      ]
     },
     "execution_count": 961,
     "metadata": {},
     "output_type": "execute_result"
    }
   ],
   "source": [
    "avg_mrp_camera_by_week.head()"
   ]
  },
  {
   "cell_type": "code",
   "execution_count": 962,
   "metadata": {},
   "outputs": [
    {
     "data": {
      "text/html": [
       "<div>\n",
       "<style scoped>\n",
       "    .dataframe tbody tr th:only-of-type {\n",
       "        vertical-align: middle;\n",
       "    }\n",
       "\n",
       "    .dataframe tbody tr th {\n",
       "        vertical-align: top;\n",
       "    }\n",
       "\n",
       "    .dataframe thead th {\n",
       "        text-align: right;\n",
       "    }\n",
       "</style>\n",
       "<table border=\"1\" class=\"dataframe\">\n",
       "  <thead>\n",
       "    <tr style=\"text-align: right;\">\n",
       "      <th></th>\n",
       "      <th>Week_Number</th>\n",
       "      <th>Avg MRP</th>\n",
       "    </tr>\n",
       "  </thead>\n",
       "  <tbody>\n",
       "    <tr>\n",
       "      <th>0</th>\n",
       "      <td>1</td>\n",
       "      <td>2555.836667</td>\n",
       "    </tr>\n",
       "    <tr>\n",
       "      <th>1</th>\n",
       "      <td>2</td>\n",
       "      <td>2303.019670</td>\n",
       "    </tr>\n",
       "    <tr>\n",
       "      <th>2</th>\n",
       "      <td>3</td>\n",
       "      <td>2380.872965</td>\n",
       "    </tr>\n",
       "    <tr>\n",
       "      <th>3</th>\n",
       "      <td>4</td>\n",
       "      <td>1572.798373</td>\n",
       "    </tr>\n",
       "    <tr>\n",
       "      <th>4</th>\n",
       "      <td>5</td>\n",
       "      <td>1311.985048</td>\n",
       "    </tr>\n",
       "  </tbody>\n",
       "</table>\n",
       "</div>"
      ],
      "text/plain": [
       "   Week_Number      Avg MRP\n",
       "0            1  2555.836667\n",
       "1            2  2303.019670\n",
       "2            3  2380.872965\n",
       "3            4  1572.798373\n",
       "4            5  1311.985048"
      ]
     },
     "execution_count": 962,
     "metadata": {},
     "output_type": "execute_result"
    }
   ],
   "source": [
    "avg_mrp_gaming_by_week.head()"
   ]
  },
  {
   "cell_type": "code",
   "execution_count": 963,
   "metadata": {},
   "outputs": [
    {
     "data": {
      "text/html": [
       "<div>\n",
       "<style scoped>\n",
       "    .dataframe tbody tr th:only-of-type {\n",
       "        vertical-align: middle;\n",
       "    }\n",
       "\n",
       "    .dataframe tbody tr th {\n",
       "        vertical-align: top;\n",
       "    }\n",
       "\n",
       "    .dataframe thead th {\n",
       "        text-align: right;\n",
       "    }\n",
       "</style>\n",
       "<table border=\"1\" class=\"dataframe\">\n",
       "  <thead>\n",
       "    <tr style=\"text-align: right;\">\n",
       "      <th></th>\n",
       "      <th>Week_Number</th>\n",
       "      <th>Avg MRP</th>\n",
       "    </tr>\n",
       "  </thead>\n",
       "  <tbody>\n",
       "    <tr>\n",
       "      <th>0</th>\n",
       "      <td>1</td>\n",
       "      <td>4253.120788</td>\n",
       "    </tr>\n",
       "    <tr>\n",
       "      <th>1</th>\n",
       "      <td>2</td>\n",
       "      <td>3783.647393</td>\n",
       "    </tr>\n",
       "    <tr>\n",
       "      <th>2</th>\n",
       "      <td>3</td>\n",
       "      <td>3566.171382</td>\n",
       "    </tr>\n",
       "    <tr>\n",
       "      <th>3</th>\n",
       "      <td>4</td>\n",
       "      <td>3458.745242</td>\n",
       "    </tr>\n",
       "    <tr>\n",
       "      <th>4</th>\n",
       "      <td>5</td>\n",
       "      <td>4009.675911</td>\n",
       "    </tr>\n",
       "  </tbody>\n",
       "</table>\n",
       "</div>"
      ],
      "text/plain": [
       "   Week_Number      Avg MRP\n",
       "0            1  4253.120788\n",
       "1            2  3783.647393\n",
       "2            3  3566.171382\n",
       "3            4  3458.745242\n",
       "4            5  4009.675911"
      ]
     },
     "execution_count": 963,
     "metadata": {},
     "output_type": "execute_result"
    }
   ],
   "source": [
    "avg_mrp_homeaudio_by_week.head()"
   ]
  },
  {
   "cell_type": "markdown",
   "metadata": {},
   "source": [
    "## 4.5 Pay Day\n",
    "- 1st & 15th of every month is a pay day\n",
    "- A numeric column called `Pay Day Count` is created to indicate the number of pay days in the week"
   ]
  },
  {
   "cell_type": "code",
   "execution_count": 964,
   "metadata": {},
   "outputs": [
    {
     "data": {
      "text/html": [
       "<div>\n",
       "<style scoped>\n",
       "    .dataframe tbody tr th:only-of-type {\n",
       "        vertical-align: middle;\n",
       "    }\n",
       "\n",
       "    .dataframe tbody tr th {\n",
       "        vertical-align: top;\n",
       "    }\n",
       "\n",
       "    .dataframe thead th {\n",
       "        text-align: right;\n",
       "    }\n",
       "</style>\n",
       "<table border=\"1\" class=\"dataframe\">\n",
       "  <thead>\n",
       "    <tr style=\"text-align: right;\">\n",
       "      <th></th>\n",
       "      <th>Week_Number</th>\n",
       "      <th>Special Sale Day Count</th>\n",
       "      <th>Pay Day Count</th>\n",
       "    </tr>\n",
       "  </thead>\n",
       "  <tbody>\n",
       "    <tr>\n",
       "      <th>0</th>\n",
       "      <td>1</td>\n",
       "      <td>0</td>\n",
       "      <td>0</td>\n",
       "    </tr>\n",
       "    <tr>\n",
       "      <th>1</th>\n",
       "      <td>2</td>\n",
       "      <td>0</td>\n",
       "      <td>1</td>\n",
       "    </tr>\n",
       "    <tr>\n",
       "      <th>2</th>\n",
       "      <td>3</td>\n",
       "      <td>3</td>\n",
       "      <td>0</td>\n",
       "    </tr>\n",
       "    <tr>\n",
       "      <th>3</th>\n",
       "      <td>4</td>\n",
       "      <td>0</td>\n",
       "      <td>0</td>\n",
       "    </tr>\n",
       "    <tr>\n",
       "      <th>4</th>\n",
       "      <td>5</td>\n",
       "      <td>2</td>\n",
       "      <td>1</td>\n",
       "    </tr>\n",
       "  </tbody>\n",
       "</table>\n",
       "</div>"
      ],
      "text/plain": [
       "   Week_Number  Special Sale Day Count  Pay Day Count\n",
       "0            1                       0              0\n",
       "1            2                       0              1\n",
       "2            3                       3              0\n",
       "3            4                       0              0\n",
       "4            5                       2              1"
      ]
     },
     "execution_count": 964,
     "metadata": {},
     "output_type": "execute_result"
    }
   ],
   "source": [
    "sspc_week.head()"
   ]
  },
  {
   "cell_type": "markdown",
   "metadata": {},
   "source": [
    "## 4.6 Special Sale Day\n",
    "- A numeric column called `Special Sale Day Count` is created to indicate the no. of special sale days in the week\n"
   ]
  },
  {
   "cell_type": "code",
   "execution_count": 965,
   "metadata": {},
   "outputs": [
    {
     "data": {
      "text/html": [
       "<div>\n",
       "<style scoped>\n",
       "    .dataframe tbody tr th:only-of-type {\n",
       "        vertical-align: middle;\n",
       "    }\n",
       "\n",
       "    .dataframe tbody tr th {\n",
       "        vertical-align: top;\n",
       "    }\n",
       "\n",
       "    .dataframe thead th {\n",
       "        text-align: right;\n",
       "    }\n",
       "</style>\n",
       "<table border=\"1\" class=\"dataframe\">\n",
       "  <thead>\n",
       "    <tr style=\"text-align: right;\">\n",
       "      <th></th>\n",
       "      <th>Week_Number</th>\n",
       "      <th>Special Sale Day Count</th>\n",
       "      <th>Pay Day Count</th>\n",
       "    </tr>\n",
       "  </thead>\n",
       "  <tbody>\n",
       "    <tr>\n",
       "      <th>0</th>\n",
       "      <td>1</td>\n",
       "      <td>0</td>\n",
       "      <td>0</td>\n",
       "    </tr>\n",
       "    <tr>\n",
       "      <th>1</th>\n",
       "      <td>2</td>\n",
       "      <td>0</td>\n",
       "      <td>1</td>\n",
       "    </tr>\n",
       "    <tr>\n",
       "      <th>2</th>\n",
       "      <td>3</td>\n",
       "      <td>3</td>\n",
       "      <td>0</td>\n",
       "    </tr>\n",
       "    <tr>\n",
       "      <th>3</th>\n",
       "      <td>4</td>\n",
       "      <td>0</td>\n",
       "      <td>0</td>\n",
       "    </tr>\n",
       "    <tr>\n",
       "      <th>4</th>\n",
       "      <td>5</td>\n",
       "      <td>2</td>\n",
       "      <td>1</td>\n",
       "    </tr>\n",
       "  </tbody>\n",
       "</table>\n",
       "</div>"
      ],
      "text/plain": [
       "   Week_Number  Special Sale Day Count  Pay Day Count\n",
       "0            1                       0              0\n",
       "1            2                       0              1\n",
       "2            3                       3              0\n",
       "3            4                       0              0\n",
       "4            5                       2              1"
      ]
     },
     "execution_count": 965,
     "metadata": {},
     "output_type": "execute_result"
    }
   ],
   "source": [
    "sspc_week.head()"
   ]
  },
  {
   "cell_type": "markdown",
   "metadata": {},
   "source": [
    "## 4.7 NPS & Stock Index Price\n",
    "- It is assumed that the stock index price and NPS values for a given day are equal to corresponding values for the month to which the day belongs\n",
    "- Two columns `Stock Index` and `NPS` are created that represent the avg stock index price and the avg NPS values for the week"
   ]
  },
  {
   "cell_type": "code",
   "execution_count": 966,
   "metadata": {},
   "outputs": [
    {
     "data": {
      "text/html": [
       "<div>\n",
       "<style scoped>\n",
       "    .dataframe tbody tr th:only-of-type {\n",
       "        vertical-align: middle;\n",
       "    }\n",
       "\n",
       "    .dataframe tbody tr th {\n",
       "        vertical-align: top;\n",
       "    }\n",
       "\n",
       "    .dataframe thead th {\n",
       "        text-align: right;\n",
       "    }\n",
       "</style>\n",
       "<table border=\"1\" class=\"dataframe\">\n",
       "  <thead>\n",
       "    <tr style=\"text-align: right;\">\n",
       "      <th></th>\n",
       "      <th>Week_Number</th>\n",
       "      <th>NPS</th>\n",
       "      <th>Stock Index</th>\n",
       "    </tr>\n",
       "  </thead>\n",
       "  <tbody>\n",
       "    <tr>\n",
       "      <th>0</th>\n",
       "      <td>1</td>\n",
       "      <td>47.093031</td>\n",
       "      <td>1052.0</td>\n",
       "    </tr>\n",
       "    <tr>\n",
       "      <th>1</th>\n",
       "      <td>2</td>\n",
       "      <td>47.093031</td>\n",
       "      <td>1052.0</td>\n",
       "    </tr>\n",
       "    <tr>\n",
       "      <th>2</th>\n",
       "      <td>3</td>\n",
       "      <td>47.093031</td>\n",
       "      <td>1052.0</td>\n",
       "    </tr>\n",
       "    <tr>\n",
       "      <th>3</th>\n",
       "      <td>4</td>\n",
       "      <td>47.093031</td>\n",
       "      <td>1052.0</td>\n",
       "    </tr>\n",
       "    <tr>\n",
       "      <th>4</th>\n",
       "      <td>5</td>\n",
       "      <td>50.327406</td>\n",
       "      <td>1222.0</td>\n",
       "    </tr>\n",
       "  </tbody>\n",
       "</table>\n",
       "</div>"
      ],
      "text/plain": [
       "   Week_Number        NPS  Stock Index\n",
       "0            1  47.093031       1052.0\n",
       "1            2  47.093031       1052.0\n",
       "2            3  47.093031       1052.0\n",
       "3            4  47.093031       1052.0\n",
       "4            5  50.327406       1222.0"
      ]
     },
     "execution_count": 966,
     "metadata": {},
     "output_type": "execute_result"
    }
   ],
   "source": [
    "nps_week.head()"
   ]
  },
  {
   "cell_type": "markdown",
   "metadata": {},
   "source": [
    "## 4.8 Discount\n",
    "- A numeric column `Avg Discount %` is created to represent the Avg Discount % for all products"
   ]
  },
  {
   "cell_type": "code",
   "execution_count": 967,
   "metadata": {},
   "outputs": [],
   "source": [
    "avg_discpct_camera_by_week = od_camera_by_week.agg({'Discount %':'mean'}).reset_index()\n",
    "avg_discpct_gaming_by_week = od_gaming_by_week.agg({'Discount %':'mean'}).reset_index()\n",
    "avg_discpct_homeaudio_by_week = od_homeaudio_by_week.agg({'Discount %':'mean'}).reset_index()"
   ]
  },
  {
   "cell_type": "code",
   "execution_count": 968,
   "metadata": {},
   "outputs": [],
   "source": [
    "avg_discpct_camera_by_week.rename(columns={\"Discount %\": \"Avg Discount %\"},inplace=True)\n",
    "avg_discpct_gaming_by_week.rename(columns={\"Discount %\": \"Avg Discount %\"},inplace=True)\n",
    "avg_discpct_homeaudio_by_week.rename(columns={\"Discount %\": \"Avg Discount %\"},inplace=True)"
   ]
  },
  {
   "cell_type": "code",
   "execution_count": 969,
   "metadata": {},
   "outputs": [
    {
     "data": {
      "text/html": [
       "<div>\n",
       "<style scoped>\n",
       "    .dataframe tbody tr th:only-of-type {\n",
       "        vertical-align: middle;\n",
       "    }\n",
       "\n",
       "    .dataframe tbody tr th {\n",
       "        vertical-align: top;\n",
       "    }\n",
       "\n",
       "    .dataframe thead th {\n",
       "        text-align: right;\n",
       "    }\n",
       "</style>\n",
       "<table border=\"1\" class=\"dataframe\">\n",
       "  <thead>\n",
       "    <tr style=\"text-align: right;\">\n",
       "      <th></th>\n",
       "      <th>Week_Number</th>\n",
       "      <th>Avg Discount %</th>\n",
       "    </tr>\n",
       "  </thead>\n",
       "  <tbody>\n",
       "    <tr>\n",
       "      <th>0</th>\n",
       "      <td>1</td>\n",
       "      <td>50.401244</td>\n",
       "    </tr>\n",
       "    <tr>\n",
       "      <th>1</th>\n",
       "      <td>2</td>\n",
       "      <td>49.745695</td>\n",
       "    </tr>\n",
       "    <tr>\n",
       "      <th>2</th>\n",
       "      <td>3</td>\n",
       "      <td>49.652850</td>\n",
       "    </tr>\n",
       "    <tr>\n",
       "      <th>3</th>\n",
       "      <td>4</td>\n",
       "      <td>44.976952</td>\n",
       "    </tr>\n",
       "    <tr>\n",
       "      <th>4</th>\n",
       "      <td>5</td>\n",
       "      <td>52.290783</td>\n",
       "    </tr>\n",
       "  </tbody>\n",
       "</table>\n",
       "</div>"
      ],
      "text/plain": [
       "   Week_Number  Avg Discount %\n",
       "0            1       50.401244\n",
       "1            2       49.745695\n",
       "2            3       49.652850\n",
       "3            4       44.976952\n",
       "4            5       52.290783"
      ]
     },
     "execution_count": 969,
     "metadata": {},
     "output_type": "execute_result"
    }
   ],
   "source": [
    "avg_discpct_camera_by_week.head()"
   ]
  },
  {
   "cell_type": "code",
   "execution_count": 970,
   "metadata": {},
   "outputs": [
    {
     "data": {
      "text/html": [
       "<div>\n",
       "<style scoped>\n",
       "    .dataframe tbody tr th:only-of-type {\n",
       "        vertical-align: middle;\n",
       "    }\n",
       "\n",
       "    .dataframe tbody tr th {\n",
       "        vertical-align: top;\n",
       "    }\n",
       "\n",
       "    .dataframe thead th {\n",
       "        text-align: right;\n",
       "    }\n",
       "</style>\n",
       "<table border=\"1\" class=\"dataframe\">\n",
       "  <thead>\n",
       "    <tr style=\"text-align: right;\">\n",
       "      <th></th>\n",
       "      <th>Week_Number</th>\n",
       "      <th>Avg Discount %</th>\n",
       "    </tr>\n",
       "  </thead>\n",
       "  <tbody>\n",
       "    <tr>\n",
       "      <th>0</th>\n",
       "      <td>1</td>\n",
       "      <td>47.876333</td>\n",
       "    </tr>\n",
       "    <tr>\n",
       "      <th>1</th>\n",
       "      <td>2</td>\n",
       "      <td>45.578609</td>\n",
       "    </tr>\n",
       "    <tr>\n",
       "      <th>2</th>\n",
       "      <td>3</td>\n",
       "      <td>46.309516</td>\n",
       "    </tr>\n",
       "    <tr>\n",
       "      <th>3</th>\n",
       "      <td>4</td>\n",
       "      <td>44.488841</td>\n",
       "    </tr>\n",
       "    <tr>\n",
       "      <th>4</th>\n",
       "      <td>5</td>\n",
       "      <td>45.621655</td>\n",
       "    </tr>\n",
       "  </tbody>\n",
       "</table>\n",
       "</div>"
      ],
      "text/plain": [
       "   Week_Number  Avg Discount %\n",
       "0            1       47.876333\n",
       "1            2       45.578609\n",
       "2            3       46.309516\n",
       "3            4       44.488841\n",
       "4            5       45.621655"
      ]
     },
     "execution_count": 970,
     "metadata": {},
     "output_type": "execute_result"
    }
   ],
   "source": [
    "avg_discpct_gaming_by_week.head()"
   ]
  },
  {
   "cell_type": "code",
   "execution_count": 971,
   "metadata": {},
   "outputs": [
    {
     "data": {
      "text/html": [
       "<div>\n",
       "<style scoped>\n",
       "    .dataframe tbody tr th:only-of-type {\n",
       "        vertical-align: middle;\n",
       "    }\n",
       "\n",
       "    .dataframe tbody tr th {\n",
       "        vertical-align: top;\n",
       "    }\n",
       "\n",
       "    .dataframe thead th {\n",
       "        text-align: right;\n",
       "    }\n",
       "</style>\n",
       "<table border=\"1\" class=\"dataframe\">\n",
       "  <thead>\n",
       "    <tr style=\"text-align: right;\">\n",
       "      <th></th>\n",
       "      <th>Week_Number</th>\n",
       "      <th>Avg Discount %</th>\n",
       "    </tr>\n",
       "  </thead>\n",
       "  <tbody>\n",
       "    <tr>\n",
       "      <th>0</th>\n",
       "      <td>1</td>\n",
       "      <td>45.383762</td>\n",
       "    </tr>\n",
       "    <tr>\n",
       "      <th>1</th>\n",
       "      <td>2</td>\n",
       "      <td>39.548386</td>\n",
       "    </tr>\n",
       "    <tr>\n",
       "      <th>2</th>\n",
       "      <td>3</td>\n",
       "      <td>40.273357</td>\n",
       "    </tr>\n",
       "    <tr>\n",
       "      <th>3</th>\n",
       "      <td>4</td>\n",
       "      <td>37.979152</td>\n",
       "    </tr>\n",
       "    <tr>\n",
       "      <th>4</th>\n",
       "      <td>5</td>\n",
       "      <td>42.683294</td>\n",
       "    </tr>\n",
       "  </tbody>\n",
       "</table>\n",
       "</div>"
      ],
      "text/plain": [
       "   Week_Number  Avg Discount %\n",
       "0            1       45.383762\n",
       "1            2       39.548386\n",
       "2            3       40.273357\n",
       "3            4       37.979152\n",
       "4            5       42.683294"
      ]
     },
     "execution_count": 971,
     "metadata": {},
     "output_type": "execute_result"
    }
   ],
   "source": [
    "avg_discpct_homeaudio_by_week.head()"
   ]
  },
  {
   "cell_type": "code",
   "execution_count": null,
   "metadata": {},
   "outputs": [],
   "source": []
  }
 ],
 "metadata": {
  "kernelspec": {
   "display_name": "Python 3",
   "language": "python",
   "name": "python3"
  },
  "language_info": {
   "codemirror_mode": {
    "name": "ipython",
    "version": 3
   },
   "file_extension": ".py",
   "mimetype": "text/x-python",
   "name": "python",
   "nbconvert_exporter": "python",
   "pygments_lexer": "ipython3",
   "version": "3.7.0"
  }
 },
 "nbformat": 4,
 "nbformat_minor": 2
}
