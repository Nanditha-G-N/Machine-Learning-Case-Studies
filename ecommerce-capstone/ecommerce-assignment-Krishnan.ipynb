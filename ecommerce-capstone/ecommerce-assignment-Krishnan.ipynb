{
 "cells": [
  {
   "cell_type": "markdown",
   "metadata": {},
   "source": [
    "# Market Mix Modelling for an e-commerce firm\n",
    "\n",
    "#### Problem statment:\n",
    "\n",
    "Eleckart, an e-commerce firm based out of Ontario, Canada spends a significant amount of money on marketing. The marketing budget is spent on commercials, online campaigns and pricing & promotion strategies. Eleckart’s CFO feels that the money spent over the last 12 months did not have enough impact and that the budget can be cut or optimally reallocated across marketing levers to improve revenue.\n",
    "\n",
    "#### Goal:\n",
    "As part of the marketing team, which is working on budget optimisation, we need to develop a market mix model with the following objectives:\n",
    "\n",
    "- Observe the actual impact of different marketing variables over the last one year\n",
    "- Recommend the optimal budget allocation for different marketing levers for the next year\n"
   ]
  },
  {
   "cell_type": "code",
   "execution_count": 148,
   "metadata": {},
   "outputs": [],
   "source": [
    "# import libraties\n",
    "import pandas as pd\n",
    "import numpy as np\n",
    "import matplotlib.pyplot as plt\n",
    "\n",
    "# hide warnings\n",
    "import warnings\n",
    "warnings.filterwarnings('ignore')"
   ]
  },
  {
   "cell_type": "markdown",
   "metadata": {},
   "source": [
    "# Phase 1: Understanding the data"
   ]
  },
  {
   "cell_type": "code",
   "execution_count": 149,
   "metadata": {},
   "outputs": [],
   "source": [
    "products = pd.read_csv('ConsumerElectronics.csv')"
   ]
  },
  {
   "cell_type": "code",
   "execution_count": 150,
   "metadata": {},
   "outputs": [
    {
     "data": {
      "text/html": [
       "<div>\n",
       "<style scoped>\n",
       "    .dataframe tbody tr th:only-of-type {\n",
       "        vertical-align: middle;\n",
       "    }\n",
       "\n",
       "    .dataframe tbody tr th {\n",
       "        vertical-align: top;\n",
       "    }\n",
       "\n",
       "    .dataframe thead th {\n",
       "        text-align: right;\n",
       "    }\n",
       "</style>\n",
       "<table border=\"1\" class=\"dataframe\">\n",
       "  <thead>\n",
       "    <tr style=\"text-align: right;\">\n",
       "      <th></th>\n",
       "      <th>fsn_id</th>\n",
       "      <th>order_date</th>\n",
       "      <th>Year</th>\n",
       "      <th>Month</th>\n",
       "      <th>order_id</th>\n",
       "      <th>order_item_id</th>\n",
       "      <th>gmv</th>\n",
       "      <th>units</th>\n",
       "      <th>deliverybdays</th>\n",
       "      <th>deliverycdays</th>\n",
       "      <th>s1_fact.order_payment_type</th>\n",
       "      <th>sla</th>\n",
       "      <th>cust_id</th>\n",
       "      <th>pincode</th>\n",
       "      <th>product_analytic_super_category</th>\n",
       "      <th>product_analytic_category</th>\n",
       "      <th>product_analytic_sub_category</th>\n",
       "      <th>product_analytic_vertical</th>\n",
       "      <th>product_mrp</th>\n",
       "      <th>product_procurement_sla</th>\n",
       "    </tr>\n",
       "  </thead>\n",
       "  <tbody>\n",
       "    <tr>\n",
       "      <th>0</th>\n",
       "      <td>ACCCX3S58G7B5F6P</td>\n",
       "      <td>2015-10-17 15:11:54</td>\n",
       "      <td>2015</td>\n",
       "      <td>10</td>\n",
       "      <td>3.419301e+15</td>\n",
       "      <td>3.419301e+15</td>\n",
       "      <td>6400</td>\n",
       "      <td>1</td>\n",
       "      <td>\\N</td>\n",
       "      <td>\\N</td>\n",
       "      <td>COD</td>\n",
       "      <td>5</td>\n",
       "      <td>-1.01299130778588E+018</td>\n",
       "      <td>-7.79175582905735E+018</td>\n",
       "      <td>CE</td>\n",
       "      <td>CameraAccessory</td>\n",
       "      <td>CameraAccessory</td>\n",
       "      <td>CameraTripod</td>\n",
       "      <td>7190</td>\n",
       "      <td>0</td>\n",
       "    </tr>\n",
       "    <tr>\n",
       "      <th>1</th>\n",
       "      <td>ACCCX3S58G7B5F6P</td>\n",
       "      <td>2015-10-19 10:07:22</td>\n",
       "      <td>2015</td>\n",
       "      <td>10</td>\n",
       "      <td>1.420831e+15</td>\n",
       "      <td>1.420831e+15</td>\n",
       "      <td>6900</td>\n",
       "      <td>1</td>\n",
       "      <td>\\N</td>\n",
       "      <td>\\N</td>\n",
       "      <td>COD</td>\n",
       "      <td>7</td>\n",
       "      <td>-8.99032457905512E+018</td>\n",
       "      <td>7.33541149097431E+018</td>\n",
       "      <td>CE</td>\n",
       "      <td>CameraAccessory</td>\n",
       "      <td>CameraAccessory</td>\n",
       "      <td>CameraTripod</td>\n",
       "      <td>7190</td>\n",
       "      <td>0</td>\n",
       "    </tr>\n",
       "    <tr>\n",
       "      <th>2</th>\n",
       "      <td>ACCCX3S5AHMF55FV</td>\n",
       "      <td>2015-10-20 15:45:56</td>\n",
       "      <td>2015</td>\n",
       "      <td>10</td>\n",
       "      <td>2.421913e+15</td>\n",
       "      <td>2.421913e+15</td>\n",
       "      <td>1990</td>\n",
       "      <td>1</td>\n",
       "      <td>\\N</td>\n",
       "      <td>\\N</td>\n",
       "      <td>COD</td>\n",
       "      <td>10</td>\n",
       "      <td>-1.0404429420466E+018</td>\n",
       "      <td>-7.47768776228657E+018</td>\n",
       "      <td>CE</td>\n",
       "      <td>CameraAccessory</td>\n",
       "      <td>CameraAccessory</td>\n",
       "      <td>CameraTripod</td>\n",
       "      <td>2099</td>\n",
       "      <td>3</td>\n",
       "    </tr>\n",
       "    <tr>\n",
       "      <th>3</th>\n",
       "      <td>ACCCX3S5AHMF55FV</td>\n",
       "      <td>2015-10-14 12:05:15</td>\n",
       "      <td>2015</td>\n",
       "      <td>10</td>\n",
       "      <td>4.416592e+15</td>\n",
       "      <td>4.416592e+15</td>\n",
       "      <td>1690</td>\n",
       "      <td>1</td>\n",
       "      <td>\\N</td>\n",
       "      <td>\\N</td>\n",
       "      <td>Prepaid</td>\n",
       "      <td>4</td>\n",
       "      <td>-7.60496084352714E+018</td>\n",
       "      <td>-5.83593163877661E+018</td>\n",
       "      <td>CE</td>\n",
       "      <td>CameraAccessory</td>\n",
       "      <td>CameraAccessory</td>\n",
       "      <td>CameraTripod</td>\n",
       "      <td>2099</td>\n",
       "      <td>3</td>\n",
       "    </tr>\n",
       "    <tr>\n",
       "      <th>4</th>\n",
       "      <td>ACCCX3S5AHMF55FV</td>\n",
       "      <td>2015-10-17 21:25:03</td>\n",
       "      <td>2015</td>\n",
       "      <td>10</td>\n",
       "      <td>4.419525e+15</td>\n",
       "      <td>4.419525e+15</td>\n",
       "      <td>1618</td>\n",
       "      <td>1</td>\n",
       "      <td>\\N</td>\n",
       "      <td>\\N</td>\n",
       "      <td>Prepaid</td>\n",
       "      <td>6</td>\n",
       "      <td>2.8945572083453E+018</td>\n",
       "      <td>5.34735360997242E+017</td>\n",
       "      <td>CE</td>\n",
       "      <td>CameraAccessory</td>\n",
       "      <td>CameraAccessory</td>\n",
       "      <td>CameraTripod</td>\n",
       "      <td>2099</td>\n",
       "      <td>3</td>\n",
       "    </tr>\n",
       "  </tbody>\n",
       "</table>\n",
       "</div>"
      ],
      "text/plain": [
       "             fsn_id           order_date  Year  Month      order_id  \\\n",
       "0  ACCCX3S58G7B5F6P  2015-10-17 15:11:54  2015     10  3.419301e+15   \n",
       "1  ACCCX3S58G7B5F6P  2015-10-19 10:07:22  2015     10  1.420831e+15   \n",
       "2  ACCCX3S5AHMF55FV  2015-10-20 15:45:56  2015     10  2.421913e+15   \n",
       "3  ACCCX3S5AHMF55FV  2015-10-14 12:05:15  2015     10  4.416592e+15   \n",
       "4  ACCCX3S5AHMF55FV  2015-10-17 21:25:03  2015     10  4.419525e+15   \n",
       "\n",
       "   order_item_id   gmv  units deliverybdays deliverycdays  \\\n",
       "0   3.419301e+15  6400      1            \\N            \\N   \n",
       "1   1.420831e+15  6900      1            \\N            \\N   \n",
       "2   2.421913e+15  1990      1            \\N            \\N   \n",
       "3   4.416592e+15  1690      1            \\N            \\N   \n",
       "4   4.419525e+15  1618      1            \\N            \\N   \n",
       "\n",
       "  s1_fact.order_payment_type  sla                 cust_id  \\\n",
       "0                        COD    5  -1.01299130778588E+018   \n",
       "1                        COD    7  -8.99032457905512E+018   \n",
       "2                        COD   10   -1.0404429420466E+018   \n",
       "3                    Prepaid    4  -7.60496084352714E+018   \n",
       "4                    Prepaid    6    2.8945572083453E+018   \n",
       "\n",
       "                  pincode product_analytic_super_category  \\\n",
       "0  -7.79175582905735E+018                              CE   \n",
       "1   7.33541149097431E+018                              CE   \n",
       "2  -7.47768776228657E+018                              CE   \n",
       "3  -5.83593163877661E+018                              CE   \n",
       "4   5.34735360997242E+017                              CE   \n",
       "\n",
       "  product_analytic_category product_analytic_sub_category  \\\n",
       "0           CameraAccessory               CameraAccessory   \n",
       "1           CameraAccessory               CameraAccessory   \n",
       "2           CameraAccessory               CameraAccessory   \n",
       "3           CameraAccessory               CameraAccessory   \n",
       "4           CameraAccessory               CameraAccessory   \n",
       "\n",
       "  product_analytic_vertical  product_mrp  product_procurement_sla  \n",
       "0              CameraTripod         7190                        0  \n",
       "1              CameraTripod         7190                        0  \n",
       "2              CameraTripod         2099                        3  \n",
       "3              CameraTripod         2099                        3  \n",
       "4              CameraTripod         2099                        3  "
      ]
     },
     "execution_count": 150,
     "metadata": {},
     "output_type": "execute_result"
    }
   ],
   "source": [
    "products.head()"
   ]
  },
  {
   "cell_type": "markdown",
   "metadata": {},
   "source": [
    "## 1.2 Understanding Media Investment (Krishnan)"
   ]
  },
  {
   "cell_type": "code",
   "execution_count": 151,
   "metadata": {},
   "outputs": [
    {
     "name": "stdout",
     "output_type": "stream",
     "text": [
      "Index(['Unnamed: 0', 'Year', 'Month', 'Total Investment', 'TV', 'Digital',\n",
      "       'Sponsorship', 'Content Marketing', 'Online marketing', ' Affiliates',\n",
      "       'SEM', 'Radio', 'Other'],\n",
      "      dtype='object')\n"
     ]
    }
   ],
   "source": [
    "from pandas import ExcelWriter\n",
    "from pandas import ExcelFile\n",
    "\n",
    "media_invest = pd.read_excel('Media data and other information.xlsx', sheet_name='Media Investment',skiprows=2)\n",
    "\n",
    "print(media_invest.columns)"
   ]
  },
  {
   "cell_type": "code",
   "execution_count": 152,
   "metadata": {},
   "outputs": [
    {
     "data": {
      "text/html": [
       "<div>\n",
       "<style scoped>\n",
       "    .dataframe tbody tr th:only-of-type {\n",
       "        vertical-align: middle;\n",
       "    }\n",
       "\n",
       "    .dataframe tbody tr th {\n",
       "        vertical-align: top;\n",
       "    }\n",
       "\n",
       "    .dataframe thead th {\n",
       "        text-align: right;\n",
       "    }\n",
       "</style>\n",
       "<table border=\"1\" class=\"dataframe\">\n",
       "  <thead>\n",
       "    <tr style=\"text-align: right;\">\n",
       "      <th></th>\n",
       "      <th>Unnamed: 0</th>\n",
       "      <th>Year</th>\n",
       "      <th>Month</th>\n",
       "      <th>Total Investment</th>\n",
       "      <th>TV</th>\n",
       "      <th>Digital</th>\n",
       "      <th>Sponsorship</th>\n",
       "      <th>Content Marketing</th>\n",
       "      <th>Online marketing</th>\n",
       "      <th>Affiliates</th>\n",
       "      <th>SEM</th>\n",
       "      <th>Radio</th>\n",
       "      <th>Other</th>\n",
       "    </tr>\n",
       "  </thead>\n",
       "  <tbody>\n",
       "    <tr>\n",
       "      <th>0</th>\n",
       "      <td>NaN</td>\n",
       "      <td>2015.0</td>\n",
       "      <td>7.0</td>\n",
       "      <td>17.061775</td>\n",
       "      <td>0.215330</td>\n",
       "      <td>2.533014</td>\n",
       "      <td>7.414270</td>\n",
       "      <td>0.000933</td>\n",
       "      <td>1.327278</td>\n",
       "      <td>0.547254</td>\n",
       "      <td>5.023697</td>\n",
       "      <td>NaN</td>\n",
       "      <td>NaN</td>\n",
       "    </tr>\n",
       "    <tr>\n",
       "      <th>1</th>\n",
       "      <td>NaN</td>\n",
       "      <td>2015.0</td>\n",
       "      <td>8.0</td>\n",
       "      <td>5.064306</td>\n",
       "      <td>0.006438</td>\n",
       "      <td>1.278074</td>\n",
       "      <td>1.063332</td>\n",
       "      <td>0.000006</td>\n",
       "      <td>0.129244</td>\n",
       "      <td>0.073684</td>\n",
       "      <td>2.513528</td>\n",
       "      <td>NaN</td>\n",
       "      <td>NaN</td>\n",
       "    </tr>\n",
       "    <tr>\n",
       "      <th>2</th>\n",
       "      <td>NaN</td>\n",
       "      <td>2015.0</td>\n",
       "      <td>9.0</td>\n",
       "      <td>96.254380</td>\n",
       "      <td>3.879504</td>\n",
       "      <td>1.356528</td>\n",
       "      <td>62.787651</td>\n",
       "      <td>0.610292</td>\n",
       "      <td>16.379990</td>\n",
       "      <td>5.038266</td>\n",
       "      <td>6.202149</td>\n",
       "      <td>NaN</td>\n",
       "      <td>NaN</td>\n",
       "    </tr>\n",
       "    <tr>\n",
       "      <th>3</th>\n",
       "      <td>NaN</td>\n",
       "      <td>2015.0</td>\n",
       "      <td>10.0</td>\n",
       "      <td>170.156297</td>\n",
       "      <td>6.144711</td>\n",
       "      <td>12.622480</td>\n",
       "      <td>84.672532</td>\n",
       "      <td>3.444075</td>\n",
       "      <td>24.371778</td>\n",
       "      <td>6.973711</td>\n",
       "      <td>31.927011</td>\n",
       "      <td>NaN</td>\n",
       "      <td>NaN</td>\n",
       "    </tr>\n",
       "    <tr>\n",
       "      <th>4</th>\n",
       "      <td>NaN</td>\n",
       "      <td>2015.0</td>\n",
       "      <td>11.0</td>\n",
       "      <td>51.216220</td>\n",
       "      <td>4.220630</td>\n",
       "      <td>1.275469</td>\n",
       "      <td>14.172116</td>\n",
       "      <td>0.168633</td>\n",
       "      <td>19.561574</td>\n",
       "      <td>6.595767</td>\n",
       "      <td>5.222032</td>\n",
       "      <td>NaN</td>\n",
       "      <td>NaN</td>\n",
       "    </tr>\n",
       "  </tbody>\n",
       "</table>\n",
       "</div>"
      ],
      "text/plain": [
       "   Unnamed: 0    Year  Month  Total Investment        TV    Digital  \\\n",
       "0         NaN  2015.0    7.0         17.061775  0.215330   2.533014   \n",
       "1         NaN  2015.0    8.0          5.064306  0.006438   1.278074   \n",
       "2         NaN  2015.0    9.0         96.254380  3.879504   1.356528   \n",
       "3         NaN  2015.0   10.0        170.156297  6.144711  12.622480   \n",
       "4         NaN  2015.0   11.0         51.216220  4.220630   1.275469   \n",
       "\n",
       "   Sponsorship  Content Marketing  Online marketing   Affiliates        SEM  \\\n",
       "0     7.414270           0.000933          1.327278     0.547254   5.023697   \n",
       "1     1.063332           0.000006          0.129244     0.073684   2.513528   \n",
       "2    62.787651           0.610292         16.379990     5.038266   6.202149   \n",
       "3    84.672532           3.444075         24.371778     6.973711  31.927011   \n",
       "4    14.172116           0.168633         19.561574     6.595767   5.222032   \n",
       "\n",
       "   Radio  Other  \n",
       "0    NaN    NaN  \n",
       "1    NaN    NaN  \n",
       "2    NaN    NaN  \n",
       "3    NaN    NaN  \n",
       "4    NaN    NaN  "
      ]
     },
     "execution_count": 152,
     "metadata": {},
     "output_type": "execute_result"
    }
   ],
   "source": [
    "media_invest.head()"
   ]
  },
  {
   "cell_type": "code",
   "execution_count": 153,
   "metadata": {},
   "outputs": [],
   "source": [
    "#Dropping the Unnamed column\n",
    "media_invest.drop(media_invest.columns[[0]],axis=1,inplace=True)"
   ]
  },
  {
   "cell_type": "code",
   "execution_count": 154,
   "metadata": {},
   "outputs": [
    {
     "data": {
      "text/html": [
       "<div>\n",
       "<style scoped>\n",
       "    .dataframe tbody tr th:only-of-type {\n",
       "        vertical-align: middle;\n",
       "    }\n",
       "\n",
       "    .dataframe tbody tr th {\n",
       "        vertical-align: top;\n",
       "    }\n",
       "\n",
       "    .dataframe thead th {\n",
       "        text-align: right;\n",
       "    }\n",
       "</style>\n",
       "<table border=\"1\" class=\"dataframe\">\n",
       "  <thead>\n",
       "    <tr style=\"text-align: right;\">\n",
       "      <th></th>\n",
       "      <th>Year</th>\n",
       "      <th>Month</th>\n",
       "      <th>Total Investment</th>\n",
       "      <th>TV</th>\n",
       "      <th>Digital</th>\n",
       "      <th>Sponsorship</th>\n",
       "      <th>Content Marketing</th>\n",
       "      <th>Online marketing</th>\n",
       "      <th>Affiliates</th>\n",
       "      <th>SEM</th>\n",
       "      <th>Radio</th>\n",
       "      <th>Other</th>\n",
       "    </tr>\n",
       "  </thead>\n",
       "  <tbody>\n",
       "    <tr>\n",
       "      <th>0</th>\n",
       "      <td>2015.0</td>\n",
       "      <td>7.0</td>\n",
       "      <td>17.061775</td>\n",
       "      <td>0.215330</td>\n",
       "      <td>2.533014</td>\n",
       "      <td>7.414270</td>\n",
       "      <td>0.000933</td>\n",
       "      <td>1.327278</td>\n",
       "      <td>0.547254</td>\n",
       "      <td>5.023697</td>\n",
       "      <td>NaN</td>\n",
       "      <td>NaN</td>\n",
       "    </tr>\n",
       "    <tr>\n",
       "      <th>1</th>\n",
       "      <td>2015.0</td>\n",
       "      <td>8.0</td>\n",
       "      <td>5.064306</td>\n",
       "      <td>0.006438</td>\n",
       "      <td>1.278074</td>\n",
       "      <td>1.063332</td>\n",
       "      <td>0.000006</td>\n",
       "      <td>0.129244</td>\n",
       "      <td>0.073684</td>\n",
       "      <td>2.513528</td>\n",
       "      <td>NaN</td>\n",
       "      <td>NaN</td>\n",
       "    </tr>\n",
       "    <tr>\n",
       "      <th>2</th>\n",
       "      <td>2015.0</td>\n",
       "      <td>9.0</td>\n",
       "      <td>96.254380</td>\n",
       "      <td>3.879504</td>\n",
       "      <td>1.356528</td>\n",
       "      <td>62.787651</td>\n",
       "      <td>0.610292</td>\n",
       "      <td>16.379990</td>\n",
       "      <td>5.038266</td>\n",
       "      <td>6.202149</td>\n",
       "      <td>NaN</td>\n",
       "      <td>NaN</td>\n",
       "    </tr>\n",
       "    <tr>\n",
       "      <th>3</th>\n",
       "      <td>2015.0</td>\n",
       "      <td>10.0</td>\n",
       "      <td>170.156297</td>\n",
       "      <td>6.144711</td>\n",
       "      <td>12.622480</td>\n",
       "      <td>84.672532</td>\n",
       "      <td>3.444075</td>\n",
       "      <td>24.371778</td>\n",
       "      <td>6.973711</td>\n",
       "      <td>31.927011</td>\n",
       "      <td>NaN</td>\n",
       "      <td>NaN</td>\n",
       "    </tr>\n",
       "    <tr>\n",
       "      <th>4</th>\n",
       "      <td>2015.0</td>\n",
       "      <td>11.0</td>\n",
       "      <td>51.216220</td>\n",
       "      <td>4.220630</td>\n",
       "      <td>1.275469</td>\n",
       "      <td>14.172116</td>\n",
       "      <td>0.168633</td>\n",
       "      <td>19.561574</td>\n",
       "      <td>6.595767</td>\n",
       "      <td>5.222032</td>\n",
       "      <td>NaN</td>\n",
       "      <td>NaN</td>\n",
       "    </tr>\n",
       "  </tbody>\n",
       "</table>\n",
       "</div>"
      ],
      "text/plain": [
       "     Year  Month  Total Investment        TV    Digital  Sponsorship  \\\n",
       "0  2015.0    7.0         17.061775  0.215330   2.533014     7.414270   \n",
       "1  2015.0    8.0          5.064306  0.006438   1.278074     1.063332   \n",
       "2  2015.0    9.0         96.254380  3.879504   1.356528    62.787651   \n",
       "3  2015.0   10.0        170.156297  6.144711  12.622480    84.672532   \n",
       "4  2015.0   11.0         51.216220  4.220630   1.275469    14.172116   \n",
       "\n",
       "   Content Marketing  Online marketing   Affiliates        SEM  Radio  Other  \n",
       "0           0.000933          1.327278     0.547254   5.023697    NaN    NaN  \n",
       "1           0.000006          0.129244     0.073684   2.513528    NaN    NaN  \n",
       "2           0.610292         16.379990     5.038266   6.202149    NaN    NaN  \n",
       "3           3.444075         24.371778     6.973711  31.927011    NaN    NaN  \n",
       "4           0.168633         19.561574     6.595767   5.222032    NaN    NaN  "
      ]
     },
     "execution_count": 154,
     "metadata": {},
     "output_type": "execute_result"
    }
   ],
   "source": [
    "media_invest.head()"
   ]
  },
  {
   "cell_type": "code",
   "execution_count": 155,
   "metadata": {},
   "outputs": [],
   "source": [
    "#Retaining only the rows corresponding to the 12 months from Jul2015 to Jun2016\n",
    "media_invest.drop(media_invest[media_invest.index > 11].index,inplace=True)"
   ]
  },
  {
   "cell_type": "code",
   "execution_count": 156,
   "metadata": {},
   "outputs": [],
   "source": [
    "#Replacing all the missing values with zeros\n",
    "media_invest.fillna(0,inplace=True)"
   ]
  },
  {
   "cell_type": "code",
   "execution_count": 157,
   "metadata": {},
   "outputs": [],
   "source": [
    "#Converting the year and month values to integer values from floating points\n",
    "media_invest = media_invest.astype({\"Year\":'int64', \"Month\":'int64'}) "
   ]
  },
  {
   "cell_type": "code",
   "execution_count": 158,
   "metadata": {},
   "outputs": [],
   "source": [
    "#Trimming the columns of any white spaces\n",
    "media_invest.columns = media_invest.columns.str.strip()"
   ]
  },
  {
   "cell_type": "code",
   "execution_count": 159,
   "metadata": {},
   "outputs": [
    {
     "data": {
      "text/html": [
       "<div>\n",
       "<style scoped>\n",
       "    .dataframe tbody tr th:only-of-type {\n",
       "        vertical-align: middle;\n",
       "    }\n",
       "\n",
       "    .dataframe tbody tr th {\n",
       "        vertical-align: top;\n",
       "    }\n",
       "\n",
       "    .dataframe thead th {\n",
       "        text-align: right;\n",
       "    }\n",
       "</style>\n",
       "<table border=\"1\" class=\"dataframe\">\n",
       "  <thead>\n",
       "    <tr style=\"text-align: right;\">\n",
       "      <th></th>\n",
       "      <th>Year</th>\n",
       "      <th>Month</th>\n",
       "      <th>Total Investment</th>\n",
       "      <th>TV</th>\n",
       "      <th>Digital</th>\n",
       "      <th>Sponsorship</th>\n",
       "      <th>Content Marketing</th>\n",
       "      <th>Online marketing</th>\n",
       "      <th>Affiliates</th>\n",
       "      <th>SEM</th>\n",
       "      <th>Radio</th>\n",
       "      <th>Other</th>\n",
       "    </tr>\n",
       "  </thead>\n",
       "  <tbody>\n",
       "    <tr>\n",
       "      <th>0</th>\n",
       "      <td>2015</td>\n",
       "      <td>7</td>\n",
       "      <td>17.061775</td>\n",
       "      <td>0.215330</td>\n",
       "      <td>2.533014</td>\n",
       "      <td>7.414270</td>\n",
       "      <td>0.000933</td>\n",
       "      <td>1.327278</td>\n",
       "      <td>0.547254</td>\n",
       "      <td>5.023697</td>\n",
       "      <td>0.00</td>\n",
       "      <td>0.000000</td>\n",
       "    </tr>\n",
       "    <tr>\n",
       "      <th>1</th>\n",
       "      <td>2015</td>\n",
       "      <td>8</td>\n",
       "      <td>5.064306</td>\n",
       "      <td>0.006438</td>\n",
       "      <td>1.278074</td>\n",
       "      <td>1.063332</td>\n",
       "      <td>0.000006</td>\n",
       "      <td>0.129244</td>\n",
       "      <td>0.073684</td>\n",
       "      <td>2.513528</td>\n",
       "      <td>0.00</td>\n",
       "      <td>0.000000</td>\n",
       "    </tr>\n",
       "    <tr>\n",
       "      <th>2</th>\n",
       "      <td>2015</td>\n",
       "      <td>9</td>\n",
       "      <td>96.254380</td>\n",
       "      <td>3.879504</td>\n",
       "      <td>1.356528</td>\n",
       "      <td>62.787651</td>\n",
       "      <td>0.610292</td>\n",
       "      <td>16.379990</td>\n",
       "      <td>5.038266</td>\n",
       "      <td>6.202149</td>\n",
       "      <td>0.00</td>\n",
       "      <td>0.000000</td>\n",
       "    </tr>\n",
       "    <tr>\n",
       "      <th>3</th>\n",
       "      <td>2015</td>\n",
       "      <td>10</td>\n",
       "      <td>170.156297</td>\n",
       "      <td>6.144711</td>\n",
       "      <td>12.622480</td>\n",
       "      <td>84.672532</td>\n",
       "      <td>3.444075</td>\n",
       "      <td>24.371778</td>\n",
       "      <td>6.973711</td>\n",
       "      <td>31.927011</td>\n",
       "      <td>0.00</td>\n",
       "      <td>0.000000</td>\n",
       "    </tr>\n",
       "    <tr>\n",
       "      <th>4</th>\n",
       "      <td>2015</td>\n",
       "      <td>11</td>\n",
       "      <td>51.216220</td>\n",
       "      <td>4.220630</td>\n",
       "      <td>1.275469</td>\n",
       "      <td>14.172116</td>\n",
       "      <td>0.168633</td>\n",
       "      <td>19.561574</td>\n",
       "      <td>6.595767</td>\n",
       "      <td>5.222032</td>\n",
       "      <td>0.00</td>\n",
       "      <td>0.000000</td>\n",
       "    </tr>\n",
       "    <tr>\n",
       "      <th>5</th>\n",
       "      <td>2015</td>\n",
       "      <td>12</td>\n",
       "      <td>106.745312</td>\n",
       "      <td>5.397502</td>\n",
       "      <td>3.063360</td>\n",
       "      <td>56.705419</td>\n",
       "      <td>1.067307</td>\n",
       "      <td>22.503756</td>\n",
       "      <td>6.826938</td>\n",
       "      <td>11.181030</td>\n",
       "      <td>0.00</td>\n",
       "      <td>0.000000</td>\n",
       "    </tr>\n",
       "    <tr>\n",
       "      <th>6</th>\n",
       "      <td>2016</td>\n",
       "      <td>1</td>\n",
       "      <td>74.196000</td>\n",
       "      <td>4.380000</td>\n",
       "      <td>0.456000</td>\n",
       "      <td>4.200000</td>\n",
       "      <td>0.900000</td>\n",
       "      <td>22.900000</td>\n",
       "      <td>7.370000</td>\n",
       "      <td>4.200000</td>\n",
       "      <td>2.70</td>\n",
       "      <td>27.090000</td>\n",
       "    </tr>\n",
       "    <tr>\n",
       "      <th>7</th>\n",
       "      <td>2016</td>\n",
       "      <td>2</td>\n",
       "      <td>48.052000</td>\n",
       "      <td>2.586008</td>\n",
       "      <td>1.912651</td>\n",
       "      <td>11.725555</td>\n",
       "      <td>0.596771</td>\n",
       "      <td>19.892366</td>\n",
       "      <td>6.465019</td>\n",
       "      <td>4.873630</td>\n",
       "      <td>0.00</td>\n",
       "      <td>0.000000</td>\n",
       "    </tr>\n",
       "    <tr>\n",
       "      <th>8</th>\n",
       "      <td>2016</td>\n",
       "      <td>3</td>\n",
       "      <td>100.024621</td>\n",
       "      <td>9.300000</td>\n",
       "      <td>2.100000</td>\n",
       "      <td>41.590000</td>\n",
       "      <td>0.370000</td>\n",
       "      <td>18.437818</td>\n",
       "      <td>6.217667</td>\n",
       "      <td>5.193591</td>\n",
       "      <td>0.87</td>\n",
       "      <td>15.945545</td>\n",
       "    </tr>\n",
       "    <tr>\n",
       "      <th>9</th>\n",
       "      <td>2016</td>\n",
       "      <td>4</td>\n",
       "      <td>56.848241</td>\n",
       "      <td>5.205196</td>\n",
       "      <td>0.871892</td>\n",
       "      <td>24.308354</td>\n",
       "      <td>0.034876</td>\n",
       "      <td>16.514510</td>\n",
       "      <td>5.693456</td>\n",
       "      <td>4.219958</td>\n",
       "      <td>0.00</td>\n",
       "      <td>0.000000</td>\n",
       "    </tr>\n",
       "    <tr>\n",
       "      <th>10</th>\n",
       "      <td>2016</td>\n",
       "      <td>5</td>\n",
       "      <td>78.057000</td>\n",
       "      <td>1.370000</td>\n",
       "      <td>0.770000</td>\n",
       "      <td>31.680000</td>\n",
       "      <td>0.790000</td>\n",
       "      <td>23.650000</td>\n",
       "      <td>6.800000</td>\n",
       "      <td>6.910000</td>\n",
       "      <td>1.10</td>\n",
       "      <td>4.987000</td>\n",
       "    </tr>\n",
       "    <tr>\n",
       "      <th>11</th>\n",
       "      <td>2016</td>\n",
       "      <td>6</td>\n",
       "      <td>42.834216</td>\n",
       "      <td>1.662717</td>\n",
       "      <td>1.420761</td>\n",
       "      <td>25.048541</td>\n",
       "      <td>0.045081</td>\n",
       "      <td>7.971300</td>\n",
       "      <td>2.768023</td>\n",
       "      <td>3.735516</td>\n",
       "      <td>0.00</td>\n",
       "      <td>0.000000</td>\n",
       "    </tr>\n",
       "  </tbody>\n",
       "</table>\n",
       "</div>"
      ],
      "text/plain": [
       "    Year  Month  Total Investment        TV    Digital  Sponsorship  \\\n",
       "0   2015      7         17.061775  0.215330   2.533014     7.414270   \n",
       "1   2015      8          5.064306  0.006438   1.278074     1.063332   \n",
       "2   2015      9         96.254380  3.879504   1.356528    62.787651   \n",
       "3   2015     10        170.156297  6.144711  12.622480    84.672532   \n",
       "4   2015     11         51.216220  4.220630   1.275469    14.172116   \n",
       "5   2015     12        106.745312  5.397502   3.063360    56.705419   \n",
       "6   2016      1         74.196000  4.380000   0.456000     4.200000   \n",
       "7   2016      2         48.052000  2.586008   1.912651    11.725555   \n",
       "8   2016      3        100.024621  9.300000   2.100000    41.590000   \n",
       "9   2016      4         56.848241  5.205196   0.871892    24.308354   \n",
       "10  2016      5         78.057000  1.370000   0.770000    31.680000   \n",
       "11  2016      6         42.834216  1.662717   1.420761    25.048541   \n",
       "\n",
       "    Content Marketing  Online marketing  Affiliates        SEM  Radio  \\\n",
       "0            0.000933          1.327278    0.547254   5.023697   0.00   \n",
       "1            0.000006          0.129244    0.073684   2.513528   0.00   \n",
       "2            0.610292         16.379990    5.038266   6.202149   0.00   \n",
       "3            3.444075         24.371778    6.973711  31.927011   0.00   \n",
       "4            0.168633         19.561574    6.595767   5.222032   0.00   \n",
       "5            1.067307         22.503756    6.826938  11.181030   0.00   \n",
       "6            0.900000         22.900000    7.370000   4.200000   2.70   \n",
       "7            0.596771         19.892366    6.465019   4.873630   0.00   \n",
       "8            0.370000         18.437818    6.217667   5.193591   0.87   \n",
       "9            0.034876         16.514510    5.693456   4.219958   0.00   \n",
       "10           0.790000         23.650000    6.800000   6.910000   1.10   \n",
       "11           0.045081          7.971300    2.768023   3.735516   0.00   \n",
       "\n",
       "        Other  \n",
       "0    0.000000  \n",
       "1    0.000000  \n",
       "2    0.000000  \n",
       "3    0.000000  \n",
       "4    0.000000  \n",
       "5    0.000000  \n",
       "6   27.090000  \n",
       "7    0.000000  \n",
       "8   15.945545  \n",
       "9    0.000000  \n",
       "10   4.987000  \n",
       "11   0.000000  "
      ]
     },
     "execution_count": 159,
     "metadata": {},
     "output_type": "execute_result"
    }
   ],
   "source": [
    "media_invest"
   ]
  },
  {
   "cell_type": "code",
   "execution_count": 160,
   "metadata": {},
   "outputs": [
    {
     "name": "stdout",
     "output_type": "stream",
     "text": [
      "<class 'pandas.core.frame.DataFrame'>\n",
      "Int64Index: 12 entries, 0 to 11\n",
      "Data columns (total 12 columns):\n",
      "Year                 12 non-null int64\n",
      "Month                12 non-null int64\n",
      "Total Investment     12 non-null float64\n",
      "TV                   12 non-null float64\n",
      "Digital              12 non-null float64\n",
      "Sponsorship          12 non-null float64\n",
      "Content Marketing    12 non-null float64\n",
      "Online marketing     12 non-null float64\n",
      "Affiliates           12 non-null float64\n",
      "SEM                  12 non-null float64\n",
      "Radio                12 non-null float64\n",
      "Other                12 non-null float64\n",
      "dtypes: float64(10), int64(2)\n",
      "memory usage: 1.2 KB\n"
     ]
    }
   ],
   "source": [
    "media_invest.info()"
   ]
  },
  {
   "cell_type": "markdown",
   "metadata": {},
   "source": [
    "#### Observations:\n",
    "- media_invest dataframe has 12 columns\n",
    "- `Year` and `month` columns represent the year and month of investment\n",
    "- The other 10 columns represent the monthly investments in 10 different advertising channels during the period Jul2015-Jun2016 \n",
    "\n"
   ]
  },
  {
   "cell_type": "markdown",
   "metadata": {},
   "source": [
    "## 1.3 Understanding monthly NPS score"
   ]
  },
  {
   "cell_type": "code",
   "execution_count": 161,
   "metadata": {},
   "outputs": [
    {
     "name": "stdout",
     "output_type": "stream",
     "text": [
      "Index(['Unnamed: 0', 'July'15', 'Aug'15', 'Sept'15', 'Oct'15', 'Nov'15',\n",
      "       'Dec'15', 'Jan'16', 'Feb'16', 'Mar'16', 'Apr'16', 'May'16', 'June'16'],\n",
      "      dtype='object')\n"
     ]
    }
   ],
   "source": [
    "nps_score = pd.read_excel('Media data and other information.xlsx', sheet_name='Monthly NPS Score')\n",
    "print(nps_score.columns)"
   ]
  },
  {
   "cell_type": "code",
   "execution_count": 162,
   "metadata": {},
   "outputs": [],
   "source": [
    "nps_score = nps_score.T"
   ]
  },
  {
   "cell_type": "code",
   "execution_count": 163,
   "metadata": {},
   "outputs": [],
   "source": [
    "nps_score.columns = ['NPS','Stock Index']"
   ]
  },
  {
   "cell_type": "code",
   "execution_count": 164,
   "metadata": {},
   "outputs": [],
   "source": [
    "nps_score = nps_score.iloc[1:]"
   ]
  },
  {
   "cell_type": "code",
   "execution_count": 165,
   "metadata": {},
   "outputs": [
    {
     "data": {
      "text/html": [
       "<div>\n",
       "<style scoped>\n",
       "    .dataframe tbody tr th:only-of-type {\n",
       "        vertical-align: middle;\n",
       "    }\n",
       "\n",
       "    .dataframe tbody tr th {\n",
       "        vertical-align: top;\n",
       "    }\n",
       "\n",
       "    .dataframe thead th {\n",
       "        text-align: right;\n",
       "    }\n",
       "</style>\n",
       "<table border=\"1\" class=\"dataframe\">\n",
       "  <thead>\n",
       "    <tr style=\"text-align: right;\">\n",
       "      <th></th>\n",
       "      <th>NPS</th>\n",
       "      <th>Stock Index</th>\n",
       "    </tr>\n",
       "  </thead>\n",
       "  <tbody>\n",
       "    <tr>\n",
       "      <th>July'15</th>\n",
       "      <td>54.5996</td>\n",
       "      <td>1177</td>\n",
       "    </tr>\n",
       "    <tr>\n",
       "      <th>Aug'15</th>\n",
       "      <td>59.9871</td>\n",
       "      <td>1206</td>\n",
       "    </tr>\n",
       "    <tr>\n",
       "      <th>Sept'15</th>\n",
       "      <td>46.9254</td>\n",
       "      <td>1101</td>\n",
       "    </tr>\n",
       "    <tr>\n",
       "      <th>Oct'15</th>\n",
       "      <td>44.3984</td>\n",
       "      <td>1210</td>\n",
       "    </tr>\n",
       "    <tr>\n",
       "      <th>Nov'15</th>\n",
       "      <td>47</td>\n",
       "      <td>1233</td>\n",
       "    </tr>\n",
       "    <tr>\n",
       "      <th>Dec'15</th>\n",
       "      <td>45.8</td>\n",
       "      <td>1038</td>\n",
       "    </tr>\n",
       "    <tr>\n",
       "      <th>Jan'16</th>\n",
       "      <td>47.093</td>\n",
       "      <td>1052</td>\n",
       "    </tr>\n",
       "    <tr>\n",
       "      <th>Feb'16</th>\n",
       "      <td>50.3274</td>\n",
       "      <td>1222</td>\n",
       "    </tr>\n",
       "    <tr>\n",
       "      <th>Mar'16</th>\n",
       "      <td>49.0206</td>\n",
       "      <td>1015</td>\n",
       "    </tr>\n",
       "    <tr>\n",
       "      <th>Apr'16</th>\n",
       "      <td>51.8276</td>\n",
       "      <td>1242</td>\n",
       "    </tr>\n",
       "    <tr>\n",
       "      <th>May'16</th>\n",
       "      <td>47.307</td>\n",
       "      <td>1228</td>\n",
       "    </tr>\n",
       "    <tr>\n",
       "      <th>June'16</th>\n",
       "      <td>50.5167</td>\n",
       "      <td>1194</td>\n",
       "    </tr>\n",
       "  </tbody>\n",
       "</table>\n",
       "</div>"
      ],
      "text/plain": [
       "             NPS Stock Index\n",
       "July'15  54.5996        1177\n",
       "Aug'15   59.9871        1206\n",
       "Sept'15  46.9254        1101\n",
       "Oct'15   44.3984        1210\n",
       "Nov'15        47        1233\n",
       "Dec'15      45.8        1038\n",
       "Jan'16    47.093        1052\n",
       "Feb'16   50.3274        1222\n",
       "Mar'16   49.0206        1015\n",
       "Apr'16   51.8276        1242\n",
       "May'16    47.307        1228\n",
       "June'16  50.5167        1194"
      ]
     },
     "execution_count": 165,
     "metadata": {},
     "output_type": "execute_result"
    }
   ],
   "source": [
    "nps_score"
   ]
  },
  {
   "cell_type": "code",
   "execution_count": 166,
   "metadata": {},
   "outputs": [],
   "source": [
    "nps_score.reset_index(level=0, inplace=True)"
   ]
  },
  {
   "cell_type": "code",
   "execution_count": 167,
   "metadata": {},
   "outputs": [],
   "source": [
    "#Replacing the long month names with the shorter month names to help with the datetime parsing\n",
    "nps_score = nps_score.replace('July', 'Jul', regex=True)\n",
    "nps_score = nps_score.replace('Sept', 'Sep', regex=True)\n",
    "nps_score = nps_score.replace('June', 'Jun', regex=True)"
   ]
  },
  {
   "cell_type": "code",
   "execution_count": 168,
   "metadata": {},
   "outputs": [],
   "source": [
    "nps_score['MonthYear'] =  pd.to_datetime(nps_score['index'], format=\"%b'%y\")"
   ]
  },
  {
   "cell_type": "code",
   "execution_count": 169,
   "metadata": {},
   "outputs": [],
   "source": [
    "nps_score.drop(['index'],axis=1,inplace=True)"
   ]
  },
  {
   "cell_type": "code",
   "execution_count": 170,
   "metadata": {},
   "outputs": [
    {
     "name": "stdout",
     "output_type": "stream",
     "text": [
      "<class 'pandas.core.frame.DataFrame'>\n",
      "RangeIndex: 12 entries, 0 to 11\n",
      "Data columns (total 3 columns):\n",
      "NPS            12 non-null float64\n",
      "Stock Index    12 non-null float64\n",
      "MonthYear      12 non-null datetime64[ns]\n",
      "dtypes: datetime64[ns](1), float64(2)\n",
      "memory usage: 368.0 bytes\n"
     ]
    }
   ],
   "source": [
    "nps_score.info()"
   ]
  },
  {
   "cell_type": "code",
   "execution_count": 171,
   "metadata": {},
   "outputs": [
    {
     "data": {
      "text/html": [
       "<div>\n",
       "<style scoped>\n",
       "    .dataframe tbody tr th:only-of-type {\n",
       "        vertical-align: middle;\n",
       "    }\n",
       "\n",
       "    .dataframe tbody tr th {\n",
       "        vertical-align: top;\n",
       "    }\n",
       "\n",
       "    .dataframe thead th {\n",
       "        text-align: right;\n",
       "    }\n",
       "</style>\n",
       "<table border=\"1\" class=\"dataframe\">\n",
       "  <thead>\n",
       "    <tr style=\"text-align: right;\">\n",
       "      <th></th>\n",
       "      <th>NPS</th>\n",
       "      <th>Stock Index</th>\n",
       "      <th>MonthYear</th>\n",
       "    </tr>\n",
       "  </thead>\n",
       "  <tbody>\n",
       "    <tr>\n",
       "      <th>0</th>\n",
       "      <td>54.599588</td>\n",
       "      <td>1177.0</td>\n",
       "      <td>2015-07-01</td>\n",
       "    </tr>\n",
       "    <tr>\n",
       "      <th>1</th>\n",
       "      <td>59.987101</td>\n",
       "      <td>1206.0</td>\n",
       "      <td>2015-08-01</td>\n",
       "    </tr>\n",
       "    <tr>\n",
       "      <th>2</th>\n",
       "      <td>46.925419</td>\n",
       "      <td>1101.0</td>\n",
       "      <td>2015-09-01</td>\n",
       "    </tr>\n",
       "    <tr>\n",
       "      <th>3</th>\n",
       "      <td>44.398389</td>\n",
       "      <td>1210.0</td>\n",
       "      <td>2015-10-01</td>\n",
       "    </tr>\n",
       "    <tr>\n",
       "      <th>4</th>\n",
       "      <td>47.000000</td>\n",
       "      <td>1233.0</td>\n",
       "      <td>2015-11-01</td>\n",
       "    </tr>\n",
       "    <tr>\n",
       "      <th>5</th>\n",
       "      <td>45.800000</td>\n",
       "      <td>1038.0</td>\n",
       "      <td>2015-12-01</td>\n",
       "    </tr>\n",
       "    <tr>\n",
       "      <th>6</th>\n",
       "      <td>47.093031</td>\n",
       "      <td>1052.0</td>\n",
       "      <td>2016-01-01</td>\n",
       "    </tr>\n",
       "    <tr>\n",
       "      <th>7</th>\n",
       "      <td>50.327406</td>\n",
       "      <td>1222.0</td>\n",
       "      <td>2016-02-01</td>\n",
       "    </tr>\n",
       "    <tr>\n",
       "      <th>8</th>\n",
       "      <td>49.020550</td>\n",
       "      <td>1015.0</td>\n",
       "      <td>2016-03-01</td>\n",
       "    </tr>\n",
       "    <tr>\n",
       "      <th>9</th>\n",
       "      <td>51.827605</td>\n",
       "      <td>1242.0</td>\n",
       "      <td>2016-04-01</td>\n",
       "    </tr>\n",
       "    <tr>\n",
       "      <th>10</th>\n",
       "      <td>47.306951</td>\n",
       "      <td>1228.0</td>\n",
       "      <td>2016-05-01</td>\n",
       "    </tr>\n",
       "    <tr>\n",
       "      <th>11</th>\n",
       "      <td>50.516687</td>\n",
       "      <td>1194.0</td>\n",
       "      <td>2016-06-01</td>\n",
       "    </tr>\n",
       "  </tbody>\n",
       "</table>\n",
       "</div>"
      ],
      "text/plain": [
       "          NPS  Stock Index  MonthYear\n",
       "0   54.599588       1177.0 2015-07-01\n",
       "1   59.987101       1206.0 2015-08-01\n",
       "2   46.925419       1101.0 2015-09-01\n",
       "3   44.398389       1210.0 2015-10-01\n",
       "4   47.000000       1233.0 2015-11-01\n",
       "5   45.800000       1038.0 2015-12-01\n",
       "6   47.093031       1052.0 2016-01-01\n",
       "7   50.327406       1222.0 2016-02-01\n",
       "8   49.020550       1015.0 2016-03-01\n",
       "9   51.827605       1242.0 2016-04-01\n",
       "10  47.306951       1228.0 2016-05-01\n",
       "11  50.516687       1194.0 2016-06-01"
      ]
     },
     "execution_count": 171,
     "metadata": {},
     "output_type": "execute_result"
    }
   ],
   "source": [
    "nps_score"
   ]
  },
  {
   "cell_type": "markdown",
   "metadata": {},
   "source": [
    "#### Observations:\n",
    "- nps_score dataframe has 3 columns\n",
    "- `NPS` column represents the NPS score for the corresponding month value reprsented by `MonthYear` column\n",
    "- `Stock Index` column represents the company stock price for the corresponding month value reprsented by `MonthYear` column"
   ]
  },
  {
   "cell_type": "markdown",
   "metadata": {},
   "source": [
    "## 1.4 Understanding Special Sale Calendar (Krishnan)"
   ]
  },
  {
   "cell_type": "code",
   "execution_count": 172,
   "metadata": {},
   "outputs": [
    {
     "data": {
      "text/plain": [
       "Index(['Unnamed: 0', 'Unnamed: 1', 'Sales Calendar'], dtype='object')"
      ]
     },
     "execution_count": 172,
     "metadata": {},
     "output_type": "execute_result"
    }
   ],
   "source": [
    "spl_sales = pd.read_excel('Media data and other information.xlsx', sheet_name='Special Sale Calendar')\n",
    "spl_sales.columns"
   ]
  },
  {
   "cell_type": "code",
   "execution_count": 173,
   "metadata": {},
   "outputs": [],
   "source": [
    "#Dropping the first column \n",
    "spl_sales.drop(['Unnamed: 0'],axis=1,inplace=True)"
   ]
  },
  {
   "cell_type": "code",
   "execution_count": 174,
   "metadata": {},
   "outputs": [],
   "source": [
    "#Renaming the column to Year column as it contains year values\n",
    "spl_sales.rename(columns={\"Unnamed: 1\": \"Year\"},inplace=True)\n",
    "\n",
    "#Replacing all the missing values with zeros\n",
    "spl_sales['Year'].fillna(0,inplace=True)"
   ]
  },
  {
   "cell_type": "code",
   "execution_count": 175,
   "metadata": {},
   "outputs": [],
   "source": [
    "#Retaining only the rows corresponding to the special sale dates\n",
    "spl_sales.drop(spl_sales[spl_sales.index > 11].index,inplace=True)"
   ]
  },
  {
   "cell_type": "code",
   "execution_count": 176,
   "metadata": {},
   "outputs": [],
   "source": [
    "#Converting the year and month values to integer values from floating points\n",
    "spl_sales = spl_sales.astype({\"Year\":'int64'}) "
   ]
  },
  {
   "cell_type": "code",
   "execution_count": 177,
   "metadata": {},
   "outputs": [],
   "source": [
    "#Filling up all the Year column values with the appropriate values\n",
    "spl_sales.at[(spl_sales.index >= 1) & (spl_sales.index<=5),'Year']=2015\n",
    "spl_sales.at[(spl_sales.index >= 7) & (spl_sales.index<=11),'Year']=2016"
   ]
  },
  {
   "cell_type": "code",
   "execution_count": 178,
   "metadata": {},
   "outputs": [],
   "source": [
    "#Creating a column with the row index values\n",
    "spl_sales['rowIndex'] = spl_sales.index"
   ]
  },
  {
   "cell_type": "code",
   "execution_count": 179,
   "metadata": {},
   "outputs": [],
   "source": [
    "import datetime\n",
    "\n",
    "#Custom function for extracting the start and end dates of the sale\n",
    "def extractSaleDates(index, daterange):\n",
    "    \n",
    "    #Removing any trailing/leading white spaces\n",
    "    datestr = daterange.strip()\n",
    "    \n",
    "    if(index != 5):\n",
    "        \n",
    "        if(index < 5):\n",
    "            year=2015\n",
    "        else:\n",
    "            year=2016\n",
    "    \n",
    "        #Replacing 'th' with empty spaces\n",
    "        datestr = datestr.replace(\"th\",\"\")\n",
    "   \n",
    "        #Splitting into day and month parts\n",
    "        datestr = datestr.split(\" \")\n",
    "    \n",
    "        days = datestr[0][1:].split(\"-\")\n",
    "        month = datestr[1][0:3]\n",
    "    \n",
    "        #Converting month name to a number\n",
    "        monthNo = datetime.datetime.strptime(month, '%b').month\n",
    "        startDay = int(days[0])\n",
    "        endDay = int(days[1])\n",
    "          \n",
    "        startDate = datetime.datetime(year=year, month=monthNo, day=startDay)\n",
    "        endDate = datetime.datetime(year=year, month=monthNo, day=endDay)\n",
    "    \n",
    "        if(startDate < endDate):    \n",
    "            dateinfo = [startDate,endDate]\n",
    "        else:\n",
    "            dateinfo = [endDate,startDate]\n",
    "            \n",
    "    else:\n",
    "        # Special case (25th Dec'15 - 3rd Jan'16)\n",
    "        \n",
    "        #Replacing 'th' with empty spaces\n",
    "        datestr = datestr.replace(\"th\",\"\")\n",
    "        datestr = datestr.replace(\"rd\",\"\")\n",
    "        \n",
    "        \n",
    "        #Splitting the string into two parts\n",
    "        datestr = datestr.split(\"-\")\n",
    "        startDatestr = datestr[0].replace(\" \",\"\")[1:]\n",
    "        endDatestr = datestr[1].replace(\" \",\"\")[:-1]\n",
    "        \n",
    "        startDate = datetime.datetime.strptime(startDatestr, \"%d%b'%y\")\n",
    "        endDate = datetime.datetime.strptime(endDatestr, \"%d%b'%y\")\n",
    "        \n",
    "        \n",
    "        dateinfo = [startDate,endDate]\n",
    "           \n",
    "               \n",
    "    return dateinfo\n",
    "    "
   ]
  },
  {
   "cell_type": "code",
   "execution_count": 180,
   "metadata": {},
   "outputs": [],
   "source": [
    "#Creating the \"Start Date\" and \"End Date\" columns to represent the start and end dates of the special sale window\n",
    "spl_sales['Start Date'] = spl_sales.apply(lambda x: extractSaleDates(x['rowIndex'],x['Sales Calendar'])[0],axis=1)\n",
    "spl_sales['End Date'] = spl_sales.apply(lambda x: extractSaleDates(x['rowIndex'],x['Sales Calendar'])[1],axis=1)"
   ]
  },
  {
   "cell_type": "code",
   "execution_count": 181,
   "metadata": {},
   "outputs": [],
   "source": [
    "#Dropping the columns that are no longer required\n",
    "spl_sales.drop(['rowIndex'],axis=1,inplace=True)\n",
    "spl_sales.drop(['Year'],axis=1,inplace=True)\n",
    "spl_sales.drop(['Sales Calendar'],axis=1,inplace=True)"
   ]
  },
  {
   "cell_type": "code",
   "execution_count": 182,
   "metadata": {},
   "outputs": [
    {
     "data": {
      "text/html": [
       "<div>\n",
       "<style scoped>\n",
       "    .dataframe tbody tr th:only-of-type {\n",
       "        vertical-align: middle;\n",
       "    }\n",
       "\n",
       "    .dataframe tbody tr th {\n",
       "        vertical-align: top;\n",
       "    }\n",
       "\n",
       "    .dataframe thead th {\n",
       "        text-align: right;\n",
       "    }\n",
       "</style>\n",
       "<table border=\"1\" class=\"dataframe\">\n",
       "  <thead>\n",
       "    <tr style=\"text-align: right;\">\n",
       "      <th></th>\n",
       "      <th>Start Date</th>\n",
       "      <th>End Date</th>\n",
       "    </tr>\n",
       "  </thead>\n",
       "  <tbody>\n",
       "    <tr>\n",
       "      <th>0</th>\n",
       "      <td>2015-07-18</td>\n",
       "      <td>2015-07-19</td>\n",
       "    </tr>\n",
       "    <tr>\n",
       "      <th>1</th>\n",
       "      <td>2015-08-15</td>\n",
       "      <td>2015-08-17</td>\n",
       "    </tr>\n",
       "    <tr>\n",
       "      <th>2</th>\n",
       "      <td>2015-08-28</td>\n",
       "      <td>2015-08-30</td>\n",
       "    </tr>\n",
       "    <tr>\n",
       "      <th>3</th>\n",
       "      <td>2015-10-15</td>\n",
       "      <td>2015-10-17</td>\n",
       "    </tr>\n",
       "    <tr>\n",
       "      <th>4</th>\n",
       "      <td>2015-11-07</td>\n",
       "      <td>2015-11-14</td>\n",
       "    </tr>\n",
       "    <tr>\n",
       "      <th>5</th>\n",
       "      <td>2015-12-25</td>\n",
       "      <td>2016-01-03</td>\n",
       "    </tr>\n",
       "    <tr>\n",
       "      <th>6</th>\n",
       "      <td>2016-01-20</td>\n",
       "      <td>2016-01-22</td>\n",
       "    </tr>\n",
       "    <tr>\n",
       "      <th>7</th>\n",
       "      <td>2016-02-01</td>\n",
       "      <td>2016-02-02</td>\n",
       "    </tr>\n",
       "    <tr>\n",
       "      <th>8</th>\n",
       "      <td>2016-02-20</td>\n",
       "      <td>2016-02-21</td>\n",
       "    </tr>\n",
       "    <tr>\n",
       "      <th>9</th>\n",
       "      <td>2016-02-14</td>\n",
       "      <td>2016-02-15</td>\n",
       "    </tr>\n",
       "    <tr>\n",
       "      <th>10</th>\n",
       "      <td>2016-03-07</td>\n",
       "      <td>2016-03-09</td>\n",
       "    </tr>\n",
       "    <tr>\n",
       "      <th>11</th>\n",
       "      <td>2016-05-25</td>\n",
       "      <td>2016-05-27</td>\n",
       "    </tr>\n",
       "  </tbody>\n",
       "</table>\n",
       "</div>"
      ],
      "text/plain": [
       "   Start Date   End Date\n",
       "0  2015-07-18 2015-07-19\n",
       "1  2015-08-15 2015-08-17\n",
       "2  2015-08-28 2015-08-30\n",
       "3  2015-10-15 2015-10-17\n",
       "4  2015-11-07 2015-11-14\n",
       "5  2015-12-25 2016-01-03\n",
       "6  2016-01-20 2016-01-22\n",
       "7  2016-02-01 2016-02-02\n",
       "8  2016-02-20 2016-02-21\n",
       "9  2016-02-14 2016-02-15\n",
       "10 2016-03-07 2016-03-09\n",
       "11 2016-05-25 2016-05-27"
      ]
     },
     "execution_count": 182,
     "metadata": {},
     "output_type": "execute_result"
    }
   ],
   "source": [
    "spl_sales"
   ]
  },
  {
   "cell_type": "markdown",
   "metadata": {},
   "source": [
    "#### Observations:\n",
    "- `spl_sales` dataframe contains the special sale calendar between the period July 2015 - Jun 2016\n",
    "- `spl_sales` dataframe contains two columns `Start Date` and `End Date` that contain the start and end dates for each special sale"
   ]
  },
  {
   "cell_type": "markdown",
   "metadata": {},
   "source": [
    "## 1.5 Understanding Climate Data (Krishnan)"
   ]
  },
  {
   "cell_type": "code",
   "execution_count": 183,
   "metadata": {},
   "outputs": [],
   "source": [
    "#Creating climate data frame from the ONTARIO-20xx.xlsx\n",
    "\n",
    "from pandas import ExcelWriter\n",
    "from pandas import ExcelFile\n",
    "\n",
    "climate2015 = pd.read_excel('ONTARIO-2015.xlsx', sheet_name='ONTARIO-2015',skiprows=24)\n",
    "climate2016 = pd.read_excel('ONTARIO-2016.xlsx', sheet_name='ONTARIO-2016',skiprows=24)"
   ]
  },
  {
   "cell_type": "code",
   "execution_count": 184,
   "metadata": {},
   "outputs": [
    {
     "name": "stdout",
     "output_type": "stream",
     "text": [
      "<class 'pandas.core.frame.DataFrame'>\n",
      "RangeIndex: 365 entries, 0 to 364\n",
      "Data columns (total 27 columns):\n",
      "Date/Time                    365 non-null datetime64[ns]\n",
      "Year                         365 non-null int64\n",
      "Month                        365 non-null int64\n",
      "Day                          365 non-null int64\n",
      "Data Quality                 229 non-null object\n",
      "Max Temp (°C)                216 non-null float64\n",
      "Max Temp Flag                13 non-null object\n",
      "Min Temp (°C)                190 non-null float64\n",
      "Min Temp Flag                39 non-null object\n",
      "Mean Temp (°C)               190 non-null float64\n",
      "Mean Temp Flag               39 non-null object\n",
      "Heat Deg Days (°C)           190 non-null float64\n",
      "Heat Deg Days Flag           39 non-null object\n",
      "Cool Deg Days (°C)           190 non-null float64\n",
      "Cool Deg Days Flag           39 non-null object\n",
      "Total Rain (mm)              229 non-null float64\n",
      "Total Rain Flag              7 non-null object\n",
      "Total Snow (cm)              229 non-null float64\n",
      "Total Snow Flag              9 non-null object\n",
      "Total Precip (mm)            229 non-null float64\n",
      "Total Precip Flag            12 non-null object\n",
      "Snow on Grnd (cm)            229 non-null float64\n",
      "Snow on Grnd Flag            2 non-null object\n",
      "Dir of Max Gust (10s deg)    0 non-null float64\n",
      "Dir of Max Gust Flag         0 non-null float64\n",
      "Spd of Max Gust (km/h)       0 non-null float64\n",
      "Spd of Max Gust Flag         0 non-null float64\n",
      "dtypes: datetime64[ns](1), float64(13), int64(3), object(10)\n",
      "memory usage: 77.1+ KB\n"
     ]
    }
   ],
   "source": [
    "climate2015.info()"
   ]
  },
  {
   "cell_type": "code",
   "execution_count": 185,
   "metadata": {},
   "outputs": [
    {
     "name": "stdout",
     "output_type": "stream",
     "text": [
      "<class 'pandas.core.frame.DataFrame'>\n",
      "RangeIndex: 366 entries, 0 to 365\n",
      "Data columns (total 27 columns):\n",
      "Date/Time                    366 non-null datetime64[ns]\n",
      "Year                         366 non-null int64\n",
      "Month                        366 non-null int64\n",
      "Day                          366 non-null int64\n",
      "Data Quality                 227 non-null object\n",
      "Max Temp (°C)                226 non-null float64\n",
      "Max Temp Flag                1 non-null object\n",
      "Min Temp (°C)                219 non-null float64\n",
      "Min Temp Flag                8 non-null object\n",
      "Mean Temp (°C)               219 non-null float64\n",
      "Mean Temp Flag               8 non-null object\n",
      "Heat Deg Days (°C)           219 non-null float64\n",
      "Heat Deg Days Flag           8 non-null object\n",
      "Cool Deg Days (°C)           219 non-null float64\n",
      "Cool Deg Days Flag           8 non-null object\n",
      "Total Rain (mm)              227 non-null float64\n",
      "Total Rain Flag              3 non-null object\n",
      "Total Snow (cm)              227 non-null float64\n",
      "Total Snow Flag              7 non-null object\n",
      "Total Precip (mm)            227 non-null float64\n",
      "Total Precip Flag            7 non-null object\n",
      "Snow on Grnd (cm)            227 non-null float64\n",
      "Snow on Grnd Flag            6 non-null object\n",
      "Dir of Max Gust (10s deg)    0 non-null float64\n",
      "Dir of Max Gust Flag         0 non-null float64\n",
      "Spd of Max Gust (km/h)       0 non-null float64\n",
      "Spd of Max Gust Flag         0 non-null float64\n",
      "dtypes: datetime64[ns](1), float64(13), int64(3), object(10)\n",
      "memory usage: 77.3+ KB\n"
     ]
    }
   ],
   "source": [
    "climate2016.info()"
   ]
  },
  {
   "cell_type": "code",
   "execution_count": 212,
   "metadata": {},
   "outputs": [],
   "source": [
    "climate = climate2015.append(climate2016,ignore_index=True)"
   ]
  },
  {
   "cell_type": "code",
   "execution_count": 213,
   "metadata": {},
   "outputs": [
    {
     "name": "stdout",
     "output_type": "stream",
     "text": [
      "<class 'pandas.core.frame.DataFrame'>\n",
      "RangeIndex: 731 entries, 0 to 730\n",
      "Data columns (total 27 columns):\n",
      "Date/Time                    731 non-null datetime64[ns]\n",
      "Year                         731 non-null int64\n",
      "Month                        731 non-null int64\n",
      "Day                          731 non-null int64\n",
      "Data Quality                 456 non-null object\n",
      "Max Temp (°C)                442 non-null float64\n",
      "Max Temp Flag                14 non-null object\n",
      "Min Temp (°C)                409 non-null float64\n",
      "Min Temp Flag                47 non-null object\n",
      "Mean Temp (°C)               409 non-null float64\n",
      "Mean Temp Flag               47 non-null object\n",
      "Heat Deg Days (°C)           409 non-null float64\n",
      "Heat Deg Days Flag           47 non-null object\n",
      "Cool Deg Days (°C)           409 non-null float64\n",
      "Cool Deg Days Flag           47 non-null object\n",
      "Total Rain (mm)              456 non-null float64\n",
      "Total Rain Flag              10 non-null object\n",
      "Total Snow (cm)              456 non-null float64\n",
      "Total Snow Flag              16 non-null object\n",
      "Total Precip (mm)            456 non-null float64\n",
      "Total Precip Flag            19 non-null object\n",
      "Snow on Grnd (cm)            456 non-null float64\n",
      "Snow on Grnd Flag            8 non-null object\n",
      "Dir of Max Gust (10s deg)    0 non-null float64\n",
      "Dir of Max Gust Flag         0 non-null float64\n",
      "Spd of Max Gust (km/h)       0 non-null float64\n",
      "Spd of Max Gust Flag         0 non-null float64\n",
      "dtypes: datetime64[ns](1), float64(13), int64(3), object(10)\n",
      "memory usage: 154.3+ KB\n"
     ]
    }
   ],
   "source": [
    "climate.info()"
   ]
  },
  {
   "cell_type": "code",
   "execution_count": 214,
   "metadata": {},
   "outputs": [
    {
     "data": {
      "text/html": [
       "<div>\n",
       "<style scoped>\n",
       "    .dataframe tbody tr th:only-of-type {\n",
       "        vertical-align: middle;\n",
       "    }\n",
       "\n",
       "    .dataframe tbody tr th {\n",
       "        vertical-align: top;\n",
       "    }\n",
       "\n",
       "    .dataframe thead th {\n",
       "        text-align: right;\n",
       "    }\n",
       "</style>\n",
       "<table border=\"1\" class=\"dataframe\">\n",
       "  <thead>\n",
       "    <tr style=\"text-align: right;\">\n",
       "      <th></th>\n",
       "      <th>Date/Time</th>\n",
       "      <th>Year</th>\n",
       "      <th>Month</th>\n",
       "      <th>Day</th>\n",
       "      <th>Data Quality</th>\n",
       "      <th>Max Temp (°C)</th>\n",
       "      <th>Max Temp Flag</th>\n",
       "      <th>Min Temp (°C)</th>\n",
       "      <th>Min Temp Flag</th>\n",
       "      <th>Mean Temp (°C)</th>\n",
       "      <th>...</th>\n",
       "      <th>Total Snow (cm)</th>\n",
       "      <th>Total Snow Flag</th>\n",
       "      <th>Total Precip (mm)</th>\n",
       "      <th>Total Precip Flag</th>\n",
       "      <th>Snow on Grnd (cm)</th>\n",
       "      <th>Snow on Grnd Flag</th>\n",
       "      <th>Dir of Max Gust (10s deg)</th>\n",
       "      <th>Dir of Max Gust Flag</th>\n",
       "      <th>Spd of Max Gust (km/h)</th>\n",
       "      <th>Spd of Max Gust Flag</th>\n",
       "    </tr>\n",
       "  </thead>\n",
       "  <tbody>\n",
       "    <tr>\n",
       "      <th>0</th>\n",
       "      <td>2015-07-01</td>\n",
       "      <td>2015</td>\n",
       "      <td>7</td>\n",
       "      <td>1</td>\n",
       "      <td>†</td>\n",
       "      <td>24.5</td>\n",
       "      <td>NaN</td>\n",
       "      <td>17.0</td>\n",
       "      <td>NaN</td>\n",
       "      <td>20.8</td>\n",
       "      <td>...</td>\n",
       "      <td>0.0</td>\n",
       "      <td>NaN</td>\n",
       "      <td>0.0</td>\n",
       "      <td>NaN</td>\n",
       "      <td>0.0</td>\n",
       "      <td>NaN</td>\n",
       "      <td>NaN</td>\n",
       "      <td>NaN</td>\n",
       "      <td>NaN</td>\n",
       "      <td>NaN</td>\n",
       "    </tr>\n",
       "    <tr>\n",
       "      <th>1</th>\n",
       "      <td>2015-07-02</td>\n",
       "      <td>2015</td>\n",
       "      <td>7</td>\n",
       "      <td>2</td>\n",
       "      <td>†</td>\n",
       "      <td>24.0</td>\n",
       "      <td>NaN</td>\n",
       "      <td>14.0</td>\n",
       "      <td>NaN</td>\n",
       "      <td>19.0</td>\n",
       "      <td>...</td>\n",
       "      <td>0.0</td>\n",
       "      <td>NaN</td>\n",
       "      <td>0.0</td>\n",
       "      <td>NaN</td>\n",
       "      <td>0.0</td>\n",
       "      <td>NaN</td>\n",
       "      <td>NaN</td>\n",
       "      <td>NaN</td>\n",
       "      <td>NaN</td>\n",
       "      <td>NaN</td>\n",
       "    </tr>\n",
       "    <tr>\n",
       "      <th>2</th>\n",
       "      <td>2015-07-03</td>\n",
       "      <td>2015</td>\n",
       "      <td>7</td>\n",
       "      <td>3</td>\n",
       "      <td>†</td>\n",
       "      <td>25.0</td>\n",
       "      <td>NaN</td>\n",
       "      <td>10.0</td>\n",
       "      <td>NaN</td>\n",
       "      <td>17.5</td>\n",
       "      <td>...</td>\n",
       "      <td>0.0</td>\n",
       "      <td>NaN</td>\n",
       "      <td>0.0</td>\n",
       "      <td>NaN</td>\n",
       "      <td>0.0</td>\n",
       "      <td>NaN</td>\n",
       "      <td>NaN</td>\n",
       "      <td>NaN</td>\n",
       "      <td>NaN</td>\n",
       "      <td>NaN</td>\n",
       "    </tr>\n",
       "    <tr>\n",
       "      <th>3</th>\n",
       "      <td>2015-07-04</td>\n",
       "      <td>2015</td>\n",
       "      <td>7</td>\n",
       "      <td>4</td>\n",
       "      <td>†</td>\n",
       "      <td>26.0</td>\n",
       "      <td>NaN</td>\n",
       "      <td>11.0</td>\n",
       "      <td>NaN</td>\n",
       "      <td>18.5</td>\n",
       "      <td>...</td>\n",
       "      <td>0.0</td>\n",
       "      <td>NaN</td>\n",
       "      <td>0.0</td>\n",
       "      <td>NaN</td>\n",
       "      <td>0.0</td>\n",
       "      <td>NaN</td>\n",
       "      <td>NaN</td>\n",
       "      <td>NaN</td>\n",
       "      <td>NaN</td>\n",
       "      <td>NaN</td>\n",
       "    </tr>\n",
       "    <tr>\n",
       "      <th>4</th>\n",
       "      <td>2015-07-05</td>\n",
       "      <td>2015</td>\n",
       "      <td>7</td>\n",
       "      <td>5</td>\n",
       "      <td>†</td>\n",
       "      <td>28.0</td>\n",
       "      <td>NaN</td>\n",
       "      <td>14.0</td>\n",
       "      <td>NaN</td>\n",
       "      <td>21.0</td>\n",
       "      <td>...</td>\n",
       "      <td>0.0</td>\n",
       "      <td>NaN</td>\n",
       "      <td>0.0</td>\n",
       "      <td>NaN</td>\n",
       "      <td>0.0</td>\n",
       "      <td>NaN</td>\n",
       "      <td>NaN</td>\n",
       "      <td>NaN</td>\n",
       "      <td>NaN</td>\n",
       "      <td>NaN</td>\n",
       "    </tr>\n",
       "  </tbody>\n",
       "</table>\n",
       "<p>5 rows × 27 columns</p>\n",
       "</div>"
      ],
      "text/plain": [
       "   Date/Time  Year  Month  Day Data Quality  Max Temp (°C) Max Temp Flag  \\\n",
       "0 2015-07-01  2015      7    1            †           24.5           NaN   \n",
       "1 2015-07-02  2015      7    2            †           24.0           NaN   \n",
       "2 2015-07-03  2015      7    3            †           25.0           NaN   \n",
       "3 2015-07-04  2015      7    4            †           26.0           NaN   \n",
       "4 2015-07-05  2015      7    5            †           28.0           NaN   \n",
       "\n",
       "   Min Temp (°C) Min Temp Flag  Mean Temp (°C)          ...           \\\n",
       "0           17.0           NaN            20.8          ...            \n",
       "1           14.0           NaN            19.0          ...            \n",
       "2           10.0           NaN            17.5          ...            \n",
       "3           11.0           NaN            18.5          ...            \n",
       "4           14.0           NaN            21.0          ...            \n",
       "\n",
       "  Total Snow (cm)  Total Snow Flag Total Precip (mm)  Total Precip Flag  \\\n",
       "0             0.0              NaN               0.0                NaN   \n",
       "1             0.0              NaN               0.0                NaN   \n",
       "2             0.0              NaN               0.0                NaN   \n",
       "3             0.0              NaN               0.0                NaN   \n",
       "4             0.0              NaN               0.0                NaN   \n",
       "\n",
       "  Snow on Grnd (cm)  Snow on Grnd Flag Dir of Max Gust (10s deg)  \\\n",
       "0               0.0                NaN                       NaN   \n",
       "1               0.0                NaN                       NaN   \n",
       "2               0.0                NaN                       NaN   \n",
       "3               0.0                NaN                       NaN   \n",
       "4               0.0                NaN                       NaN   \n",
       "\n",
       "   Dir of Max Gust Flag Spd of Max Gust (km/h)  Spd of Max Gust Flag  \n",
       "0                   NaN                    NaN                   NaN  \n",
       "1                   NaN                    NaN                   NaN  \n",
       "2                   NaN                    NaN                   NaN  \n",
       "3                   NaN                    NaN                   NaN  \n",
       "4                   NaN                    NaN                   NaN  \n",
       "\n",
       "[5 rows x 27 columns]"
      ]
     },
     "execution_count": 214,
     "metadata": {},
     "output_type": "execute_result"
    }
   ],
   "source": [
    "#Retaining only the rows corresponding to the period July 2015 - Jun 2016\n",
    "startDate = datetime.datetime(2015, 7, 1)\n",
    "endDate = datetime.datetime(2016,6,30)\n",
    "climate = climate[(climate['Date/Time'] >= startDate) & (climate['Date/Time'] <= endDate)] \n",
    "climate = climate.reset_index(drop=True)\n",
    "climate.head()"
   ]
  },
  {
   "cell_type": "code",
   "execution_count": 215,
   "metadata": {},
   "outputs": [
    {
     "name": "stdout",
     "output_type": "stream",
     "text": [
      "<class 'pandas.core.frame.DataFrame'>\n",
      "RangeIndex: 366 entries, 0 to 365\n",
      "Data columns (total 27 columns):\n",
      "Date/Time                    366 non-null datetime64[ns]\n",
      "Year                         366 non-null int64\n",
      "Month                        366 non-null int64\n",
      "Day                          366 non-null int64\n",
      "Data Quality                 215 non-null object\n",
      "Max Temp (°C)                208 non-null float64\n",
      "Max Temp Flag                7 non-null object\n",
      "Min Temp (°C)                191 non-null float64\n",
      "Min Temp Flag                24 non-null object\n",
      "Mean Temp (°C)               191 non-null float64\n",
      "Mean Temp Flag               24 non-null object\n",
      "Heat Deg Days (°C)           191 non-null float64\n",
      "Heat Deg Days Flag           24 non-null object\n",
      "Cool Deg Days (°C)           191 non-null float64\n",
      "Cool Deg Days Flag           24 non-null object\n",
      "Total Rain (mm)              215 non-null float64\n",
      "Total Rain Flag              7 non-null object\n",
      "Total Snow (cm)              215 non-null float64\n",
      "Total Snow Flag              6 non-null object\n",
      "Total Precip (mm)            215 non-null float64\n",
      "Total Precip Flag            11 non-null object\n",
      "Snow on Grnd (cm)            215 non-null float64\n",
      "Snow on Grnd Flag            6 non-null object\n",
      "Dir of Max Gust (10s deg)    0 non-null float64\n",
      "Dir of Max Gust Flag         0 non-null float64\n",
      "Spd of Max Gust (km/h)       0 non-null float64\n",
      "Spd of Max Gust Flag         0 non-null float64\n",
      "dtypes: datetime64[ns](1), float64(13), int64(3), object(10)\n",
      "memory usage: 77.3+ KB\n"
     ]
    }
   ],
   "source": [
    "climate.info()"
   ]
  },
  {
   "cell_type": "code",
   "execution_count": 216,
   "metadata": {},
   "outputs": [],
   "source": [
    "#Dropping columns that have only null values\n",
    "climate.drop(['Dir of Max Gust (10s deg)','Dir of Max Gust Flag','Spd of Max Gust (km/h)','Spd of Max Gust Flag'],axis=1,inplace=True)\n"
   ]
  },
  {
   "cell_type": "code",
   "execution_count": 217,
   "metadata": {},
   "outputs": [
    {
     "name": "stdout",
     "output_type": "stream",
     "text": [
      "<class 'pandas.core.frame.DataFrame'>\n",
      "RangeIndex: 366 entries, 0 to 365\n",
      "Data columns (total 23 columns):\n",
      "Date/Time             366 non-null datetime64[ns]\n",
      "Year                  366 non-null int64\n",
      "Month                 366 non-null int64\n",
      "Day                   366 non-null int64\n",
      "Data Quality          215 non-null object\n",
      "Max Temp (°C)         208 non-null float64\n",
      "Max Temp Flag         7 non-null object\n",
      "Min Temp (°C)         191 non-null float64\n",
      "Min Temp Flag         24 non-null object\n",
      "Mean Temp (°C)        191 non-null float64\n",
      "Mean Temp Flag        24 non-null object\n",
      "Heat Deg Days (°C)    191 non-null float64\n",
      "Heat Deg Days Flag    24 non-null object\n",
      "Cool Deg Days (°C)    191 non-null float64\n",
      "Cool Deg Days Flag    24 non-null object\n",
      "Total Rain (mm)       215 non-null float64\n",
      "Total Rain Flag       7 non-null object\n",
      "Total Snow (cm)       215 non-null float64\n",
      "Total Snow Flag       6 non-null object\n",
      "Total Precip (mm)     215 non-null float64\n",
      "Total Precip Flag     11 non-null object\n",
      "Snow on Grnd (cm)     215 non-null float64\n",
      "Snow on Grnd Flag     6 non-null object\n",
      "dtypes: datetime64[ns](1), float64(9), int64(3), object(10)\n",
      "memory usage: 65.8+ KB\n"
     ]
    }
   ],
   "source": [
    "climate.info()"
   ]
  },
  {
   "cell_type": "code",
   "execution_count": 218,
   "metadata": {},
   "outputs": [],
   "source": [
    "#Renaming the columns appropriately\n",
    "climate.rename(columns={\"Date/Time\": \"Date\",\n",
    "                        \"Data Quality\":\"Data Quality Review\"\n",
    "                       },inplace=True)"
   ]
  },
  {
   "cell_type": "code",
   "execution_count": 219,
   "metadata": {},
   "outputs": [
    {
     "name": "stdout",
     "output_type": "stream",
     "text": [
      "<class 'pandas.core.frame.DataFrame'>\n",
      "RangeIndex: 366 entries, 0 to 365\n",
      "Data columns (total 23 columns):\n",
      "Date                   366 non-null datetime64[ns]\n",
      "Year                   366 non-null int64\n",
      "Month                  366 non-null int64\n",
      "Day                    366 non-null int64\n",
      "Data Quality Review    215 non-null object\n",
      "Max Temp (°C)          208 non-null float64\n",
      "Max Temp Flag          7 non-null object\n",
      "Min Temp (°C)          191 non-null float64\n",
      "Min Temp Flag          24 non-null object\n",
      "Mean Temp (°C)         191 non-null float64\n",
      "Mean Temp Flag         24 non-null object\n",
      "Heat Deg Days (°C)     191 non-null float64\n",
      "Heat Deg Days Flag     24 non-null object\n",
      "Cool Deg Days (°C)     191 non-null float64\n",
      "Cool Deg Days Flag     24 non-null object\n",
      "Total Rain (mm)        215 non-null float64\n",
      "Total Rain Flag        7 non-null object\n",
      "Total Snow (cm)        215 non-null float64\n",
      "Total Snow Flag        6 non-null object\n",
      "Total Precip (mm)      215 non-null float64\n",
      "Total Precip Flag      11 non-null object\n",
      "Snow on Grnd (cm)      215 non-null float64\n",
      "Snow on Grnd Flag      6 non-null object\n",
      "dtypes: datetime64[ns](1), float64(9), int64(3), object(10)\n",
      "memory usage: 65.8+ KB\n"
     ]
    }
   ],
   "source": [
    "climate.info()"
   ]
  },
  {
   "cell_type": "code",
   "execution_count": 220,
   "metadata": {},
   "outputs": [
    {
     "data": {
      "text/plain": [
       "†      215\n",
       "NaN    151\n",
       "Name: Data Quality Review, dtype: int64"
      ]
     },
     "execution_count": 220,
     "metadata": {},
     "output_type": "execute_result"
    }
   ],
   "source": [
    "climate['Data Quality Review'].astype('category').value_counts(dropna=False)"
   ]
  },
  {
   "cell_type": "code",
   "execution_count": 221,
   "metadata": {},
   "outputs": [
    {
     "data": {
      "text/plain": [
       "No     215\n",
       "Yes    151\n",
       "Name: Data Quality Review, dtype: int64"
      ]
     },
     "execution_count": 221,
     "metadata": {},
     "output_type": "execute_result"
    }
   ],
   "source": [
    "climate['Data Quality Review'].replace(np.nan,\"Yes\",inplace=True)\n",
    "climate['Data Quality Review'].replace('†',\"No\",inplace=True)\n",
    "climate['Data Quality Review'].astype('category').value_counts(dropna=False)"
   ]
  },
  {
   "cell_type": "code",
   "execution_count": 223,
   "metadata": {},
   "outputs": [
    {
     "data": {
      "text/plain": [
       "count    208.000000\n",
       "mean      19.177885\n",
       "std        9.855212\n",
       "min       -8.500000\n",
       "25%       11.500000\n",
       "50%       20.500000\n",
       "75%       27.625000\n",
       "max       35.000000\n",
       "Name: Max Temp (°C), dtype: float64"
      ]
     },
     "execution_count": 223,
     "metadata": {},
     "output_type": "execute_result"
    }
   ],
   "source": [
    "climate['Max Temp (°C)'].describe()"
   ]
  },
  {
   "cell_type": "code",
   "execution_count": 224,
   "metadata": {},
   "outputs": [
    {
     "data": {
      "text/plain": [
       "NaN    359\n",
       "M        7\n",
       "Name: Max Temp Flag, dtype: int64"
      ]
     },
     "execution_count": 224,
     "metadata": {},
     "output_type": "execute_result"
    }
   ],
   "source": [
    "climate['Max Temp Flag'].astype('category').value_counts(dropna=False)"
   ]
  },
  {
   "cell_type": "code",
   "execution_count": 225,
   "metadata": {},
   "outputs": [
    {
     "data": {
      "text/plain": [
       "count    191.000000\n",
       "mean       8.696335\n",
       "std        8.757970\n",
       "min      -18.000000\n",
       "25%        2.750000\n",
       "50%       10.000000\n",
       "75%       16.000000\n",
       "max       22.000000\n",
       "Name: Min Temp (°C), dtype: float64"
      ]
     },
     "execution_count": 225,
     "metadata": {},
     "output_type": "execute_result"
    }
   ],
   "source": [
    "climate['Min Temp (°C)'].describe()"
   ]
  },
  {
   "cell_type": "code",
   "execution_count": 226,
   "metadata": {},
   "outputs": [
    {
     "data": {
      "text/plain": [
       "NaN    342\n",
       "M       24\n",
       "Name: Min Temp Flag, dtype: int64"
      ]
     },
     "execution_count": 226,
     "metadata": {},
     "output_type": "execute_result"
    }
   ],
   "source": [
    "climate['Min Temp Flag'].astype('category').value_counts(dropna=False)"
   ]
  },
  {
   "cell_type": "code",
   "execution_count": 227,
   "metadata": {},
   "outputs": [
    {
     "data": {
      "text/plain": [
       "count    191.000000\n",
       "mean      14.241361\n",
       "std        8.941613\n",
       "min      -12.300000\n",
       "25%        8.000000\n",
       "50%       15.300000\n",
       "75%       21.800000\n",
       "max       27.500000\n",
       "Name: Mean Temp (°C), dtype: float64"
      ]
     },
     "execution_count": 227,
     "metadata": {},
     "output_type": "execute_result"
    }
   ],
   "source": [
    "climate['Mean Temp (°C)'].describe()"
   ]
  },
  {
   "cell_type": "code",
   "execution_count": 228,
   "metadata": {},
   "outputs": [
    {
     "data": {
      "text/plain": [
       "NaN    342\n",
       "M       24\n",
       "Name: Mean Temp Flag, dtype: int64"
      ]
     },
     "execution_count": 228,
     "metadata": {},
     "output_type": "execute_result"
    }
   ],
   "source": [
    "climate['Mean Temp Flag'].astype('category').value_counts(dropna=False)"
   ]
  },
  {
   "cell_type": "code",
   "execution_count": 229,
   "metadata": {},
   "outputs": [
    {
     "data": {
      "text/plain": [
       "count    191.000000\n",
       "mean       5.712042\n",
       "std        7.043183\n",
       "min        0.000000\n",
       "25%        0.000000\n",
       "50%        2.700000\n",
       "75%       10.000000\n",
       "max       30.300000\n",
       "Name: Heat Deg Days (°C), dtype: float64"
      ]
     },
     "execution_count": 229,
     "metadata": {},
     "output_type": "execute_result"
    }
   ],
   "source": [
    "climate['Heat Deg Days (°C)'].describe()"
   ]
  },
  {
   "cell_type": "code",
   "execution_count": 230,
   "metadata": {},
   "outputs": [
    {
     "data": {
      "text/plain": [
       "NaN    342\n",
       "M       24\n",
       "Name: Heat Deg Days Flag, dtype: int64"
      ]
     },
     "execution_count": 230,
     "metadata": {},
     "output_type": "execute_result"
    }
   ],
   "source": [
    "climate['Heat Deg Days Flag'].astype('category').value_counts(dropna=False)"
   ]
  },
  {
   "cell_type": "code",
   "execution_count": 231,
   "metadata": {},
   "outputs": [
    {
     "data": {
      "text/plain": [
       "count    191.000000\n",
       "mean       1.953403\n",
       "std        2.812954\n",
       "min        0.000000\n",
       "25%        0.000000\n",
       "50%        0.000000\n",
       "75%        3.800000\n",
       "max        9.500000\n",
       "Name: Cool Deg Days (°C), dtype: float64"
      ]
     },
     "execution_count": 231,
     "metadata": {},
     "output_type": "execute_result"
    }
   ],
   "source": [
    "climate['Cool Deg Days (°C)'].describe()"
   ]
  },
  {
   "cell_type": "code",
   "execution_count": 232,
   "metadata": {},
   "outputs": [
    {
     "data": {
      "text/plain": [
       "NaN    342\n",
       "M       24\n",
       "Name: Cool Deg Days Flag, dtype: int64"
      ]
     },
     "execution_count": 232,
     "metadata": {},
     "output_type": "execute_result"
    }
   ],
   "source": [
    "climate['Cool Deg Days Flag'].astype('category').value_counts(dropna=False)"
   ]
  },
  {
   "cell_type": "code",
   "execution_count": 233,
   "metadata": {},
   "outputs": [
    {
     "data": {
      "text/plain": [
       "count    215.000000\n",
       "mean       2.583721\n",
       "std        6.684405\n",
       "min        0.000000\n",
       "25%        0.000000\n",
       "50%        0.000000\n",
       "75%        1.400000\n",
       "max       57.200000\n",
       "Name: Total Rain (mm), dtype: float64"
      ]
     },
     "execution_count": 233,
     "metadata": {},
     "output_type": "execute_result"
    }
   ],
   "source": [
    "climate['Total Rain (mm)'].describe()"
   ]
  },
  {
   "cell_type": "code",
   "execution_count": 234,
   "metadata": {},
   "outputs": [
    {
     "data": {
      "text/plain": [
       "NaN    359\n",
       "T        7\n",
       "Name: Total Rain Flag, dtype: int64"
      ]
     },
     "execution_count": 234,
     "metadata": {},
     "output_type": "execute_result"
    }
   ],
   "source": [
    "climate['Total Rain Flag'].astype('category').value_counts(dropna=False)"
   ]
  },
  {
   "cell_type": "code",
   "execution_count": 236,
   "metadata": {},
   "outputs": [
    {
     "data": {
      "text/plain": [
       "count    215.000000\n",
       "mean       0.204651\n",
       "std        1.132104\n",
       "min        0.000000\n",
       "25%        0.000000\n",
       "50%        0.000000\n",
       "75%        0.000000\n",
       "max       10.000000\n",
       "Name: Total Snow (cm), dtype: float64"
      ]
     },
     "execution_count": 236,
     "metadata": {},
     "output_type": "execute_result"
    }
   ],
   "source": [
    "climate['Total Snow (cm)'].describe()"
   ]
  },
  {
   "cell_type": "code",
   "execution_count": 237,
   "metadata": {},
   "outputs": [
    {
     "data": {
      "text/plain": [
       "NaN    360\n",
       "T        6\n",
       "Name: Total Snow Flag, dtype: int64"
      ]
     },
     "execution_count": 237,
     "metadata": {},
     "output_type": "execute_result"
    }
   ],
   "source": [
    "climate['Total Snow Flag'].astype('category').value_counts(dropna=False)"
   ]
  },
  {
   "cell_type": "code",
   "execution_count": 238,
   "metadata": {},
   "outputs": [
    {
     "data": {
      "text/plain": [
       "count    215.000000\n",
       "mean       2.788372\n",
       "std        6.827481\n",
       "min        0.000000\n",
       "25%        0.000000\n",
       "50%        0.000000\n",
       "75%        2.100000\n",
       "max       57.200000\n",
       "Name: Total Precip (mm), dtype: float64"
      ]
     },
     "execution_count": 238,
     "metadata": {},
     "output_type": "execute_result"
    }
   ],
   "source": [
    "climate['Total Precip (mm)'].describe()"
   ]
  },
  {
   "cell_type": "code",
   "execution_count": 239,
   "metadata": {},
   "outputs": [
    {
     "data": {
      "text/plain": [
       "NaN    355\n",
       "T       11\n",
       "Name: Total Precip Flag, dtype: int64"
      ]
     },
     "execution_count": 239,
     "metadata": {},
     "output_type": "execute_result"
    }
   ],
   "source": [
    "climate['Total Precip Flag'].astype('category').value_counts(dropna=False)"
   ]
  },
  {
   "cell_type": "code",
   "execution_count": 240,
   "metadata": {},
   "outputs": [
    {
     "data": {
      "text/plain": [
       "count    215.000000\n",
       "mean       0.288372\n",
       "std        1.497850\n",
       "min        0.000000\n",
       "25%        0.000000\n",
       "50%        0.000000\n",
       "75%        0.000000\n",
       "max       12.000000\n",
       "Name: Snow on Grnd (cm), dtype: float64"
      ]
     },
     "execution_count": 240,
     "metadata": {},
     "output_type": "execute_result"
    }
   ],
   "source": [
    "climate['Snow on Grnd (cm)'].describe()"
   ]
  },
  {
   "cell_type": "code",
   "execution_count": 241,
   "metadata": {},
   "outputs": [
    {
     "data": {
      "text/plain": [
       "NaN    360\n",
       "T        6\n",
       "Name: Snow on Grnd Flag, dtype: int64"
      ]
     },
     "execution_count": 241,
     "metadata": {},
     "output_type": "execute_result"
    }
   ],
   "source": [
    "climate['Snow on Grnd Flag'].astype('category').value_counts(dropna=False)"
   ]
  },
  {
   "cell_type": "markdown",
   "metadata": {},
   "source": [
    "# Phase 2: Data Preparation"
   ]
  },
  {
   "cell_type": "markdown",
   "metadata": {},
   "source": [
    "## 2.1 Data preparation for order level data"
   ]
  },
  {
   "cell_type": "code",
   "execution_count": null,
   "metadata": {},
   "outputs": [],
   "source": []
  },
  {
   "cell_type": "code",
   "execution_count": null,
   "metadata": {},
   "outputs": [],
   "source": []
  },
  {
   "cell_type": "markdown",
   "metadata": {},
   "source": []
  },
  {
   "cell_type": "markdown",
   "metadata": {},
   "source": [
    "## 2.2 Data preparation for media investment"
   ]
  },
  {
   "cell_type": "code",
   "execution_count": 244,
   "metadata": {},
   "outputs": [
    {
     "data": {
      "text/html": [
       "<div>\n",
       "<style scoped>\n",
       "    .dataframe tbody tr th:only-of-type {\n",
       "        vertical-align: middle;\n",
       "    }\n",
       "\n",
       "    .dataframe tbody tr th {\n",
       "        vertical-align: top;\n",
       "    }\n",
       "\n",
       "    .dataframe thead th {\n",
       "        text-align: right;\n",
       "    }\n",
       "</style>\n",
       "<table border=\"1\" class=\"dataframe\">\n",
       "  <thead>\n",
       "    <tr style=\"text-align: right;\">\n",
       "      <th></th>\n",
       "      <th>Year</th>\n",
       "      <th>Month</th>\n",
       "      <th>Total Investment</th>\n",
       "      <th>TV</th>\n",
       "      <th>Digital</th>\n",
       "      <th>Sponsorship</th>\n",
       "      <th>Content Marketing</th>\n",
       "      <th>Online marketing</th>\n",
       "      <th>Affiliates</th>\n",
       "      <th>SEM</th>\n",
       "      <th>Radio</th>\n",
       "      <th>Other</th>\n",
       "    </tr>\n",
       "  </thead>\n",
       "  <tbody>\n",
       "    <tr>\n",
       "      <th>0</th>\n",
       "      <td>2015</td>\n",
       "      <td>7</td>\n",
       "      <td>17.061775</td>\n",
       "      <td>0.215330</td>\n",
       "      <td>2.533014</td>\n",
       "      <td>7.414270</td>\n",
       "      <td>0.000933</td>\n",
       "      <td>1.327278</td>\n",
       "      <td>0.547254</td>\n",
       "      <td>5.023697</td>\n",
       "      <td>0.00</td>\n",
       "      <td>0.000000</td>\n",
       "    </tr>\n",
       "    <tr>\n",
       "      <th>1</th>\n",
       "      <td>2015</td>\n",
       "      <td>8</td>\n",
       "      <td>5.064306</td>\n",
       "      <td>0.006438</td>\n",
       "      <td>1.278074</td>\n",
       "      <td>1.063332</td>\n",
       "      <td>0.000006</td>\n",
       "      <td>0.129244</td>\n",
       "      <td>0.073684</td>\n",
       "      <td>2.513528</td>\n",
       "      <td>0.00</td>\n",
       "      <td>0.000000</td>\n",
       "    </tr>\n",
       "    <tr>\n",
       "      <th>2</th>\n",
       "      <td>2015</td>\n",
       "      <td>9</td>\n",
       "      <td>96.254380</td>\n",
       "      <td>3.879504</td>\n",
       "      <td>1.356528</td>\n",
       "      <td>62.787651</td>\n",
       "      <td>0.610292</td>\n",
       "      <td>16.379990</td>\n",
       "      <td>5.038266</td>\n",
       "      <td>6.202149</td>\n",
       "      <td>0.00</td>\n",
       "      <td>0.000000</td>\n",
       "    </tr>\n",
       "    <tr>\n",
       "      <th>3</th>\n",
       "      <td>2015</td>\n",
       "      <td>10</td>\n",
       "      <td>170.156297</td>\n",
       "      <td>6.144711</td>\n",
       "      <td>12.622480</td>\n",
       "      <td>84.672532</td>\n",
       "      <td>3.444075</td>\n",
       "      <td>24.371778</td>\n",
       "      <td>6.973711</td>\n",
       "      <td>31.927011</td>\n",
       "      <td>0.00</td>\n",
       "      <td>0.000000</td>\n",
       "    </tr>\n",
       "    <tr>\n",
       "      <th>4</th>\n",
       "      <td>2015</td>\n",
       "      <td>11</td>\n",
       "      <td>51.216220</td>\n",
       "      <td>4.220630</td>\n",
       "      <td>1.275469</td>\n",
       "      <td>14.172116</td>\n",
       "      <td>0.168633</td>\n",
       "      <td>19.561574</td>\n",
       "      <td>6.595767</td>\n",
       "      <td>5.222032</td>\n",
       "      <td>0.00</td>\n",
       "      <td>0.000000</td>\n",
       "    </tr>\n",
       "    <tr>\n",
       "      <th>5</th>\n",
       "      <td>2015</td>\n",
       "      <td>12</td>\n",
       "      <td>106.745312</td>\n",
       "      <td>5.397502</td>\n",
       "      <td>3.063360</td>\n",
       "      <td>56.705419</td>\n",
       "      <td>1.067307</td>\n",
       "      <td>22.503756</td>\n",
       "      <td>6.826938</td>\n",
       "      <td>11.181030</td>\n",
       "      <td>0.00</td>\n",
       "      <td>0.000000</td>\n",
       "    </tr>\n",
       "    <tr>\n",
       "      <th>6</th>\n",
       "      <td>2016</td>\n",
       "      <td>1</td>\n",
       "      <td>74.196000</td>\n",
       "      <td>4.380000</td>\n",
       "      <td>0.456000</td>\n",
       "      <td>4.200000</td>\n",
       "      <td>0.900000</td>\n",
       "      <td>22.900000</td>\n",
       "      <td>7.370000</td>\n",
       "      <td>4.200000</td>\n",
       "      <td>2.70</td>\n",
       "      <td>27.090000</td>\n",
       "    </tr>\n",
       "    <tr>\n",
       "      <th>7</th>\n",
       "      <td>2016</td>\n",
       "      <td>2</td>\n",
       "      <td>48.052000</td>\n",
       "      <td>2.586008</td>\n",
       "      <td>1.912651</td>\n",
       "      <td>11.725555</td>\n",
       "      <td>0.596771</td>\n",
       "      <td>19.892366</td>\n",
       "      <td>6.465019</td>\n",
       "      <td>4.873630</td>\n",
       "      <td>0.00</td>\n",
       "      <td>0.000000</td>\n",
       "    </tr>\n",
       "    <tr>\n",
       "      <th>8</th>\n",
       "      <td>2016</td>\n",
       "      <td>3</td>\n",
       "      <td>100.024621</td>\n",
       "      <td>9.300000</td>\n",
       "      <td>2.100000</td>\n",
       "      <td>41.590000</td>\n",
       "      <td>0.370000</td>\n",
       "      <td>18.437818</td>\n",
       "      <td>6.217667</td>\n",
       "      <td>5.193591</td>\n",
       "      <td>0.87</td>\n",
       "      <td>15.945545</td>\n",
       "    </tr>\n",
       "    <tr>\n",
       "      <th>9</th>\n",
       "      <td>2016</td>\n",
       "      <td>4</td>\n",
       "      <td>56.848241</td>\n",
       "      <td>5.205196</td>\n",
       "      <td>0.871892</td>\n",
       "      <td>24.308354</td>\n",
       "      <td>0.034876</td>\n",
       "      <td>16.514510</td>\n",
       "      <td>5.693456</td>\n",
       "      <td>4.219958</td>\n",
       "      <td>0.00</td>\n",
       "      <td>0.000000</td>\n",
       "    </tr>\n",
       "    <tr>\n",
       "      <th>10</th>\n",
       "      <td>2016</td>\n",
       "      <td>5</td>\n",
       "      <td>78.057000</td>\n",
       "      <td>1.370000</td>\n",
       "      <td>0.770000</td>\n",
       "      <td>31.680000</td>\n",
       "      <td>0.790000</td>\n",
       "      <td>23.650000</td>\n",
       "      <td>6.800000</td>\n",
       "      <td>6.910000</td>\n",
       "      <td>1.10</td>\n",
       "      <td>4.987000</td>\n",
       "    </tr>\n",
       "    <tr>\n",
       "      <th>11</th>\n",
       "      <td>2016</td>\n",
       "      <td>6</td>\n",
       "      <td>42.834216</td>\n",
       "      <td>1.662717</td>\n",
       "      <td>1.420761</td>\n",
       "      <td>25.048541</td>\n",
       "      <td>0.045081</td>\n",
       "      <td>7.971300</td>\n",
       "      <td>2.768023</td>\n",
       "      <td>3.735516</td>\n",
       "      <td>0.00</td>\n",
       "      <td>0.000000</td>\n",
       "    </tr>\n",
       "  </tbody>\n",
       "</table>\n",
       "</div>"
      ],
      "text/plain": [
       "    Year  Month  Total Investment        TV    Digital  Sponsorship  \\\n",
       "0   2015      7         17.061775  0.215330   2.533014     7.414270   \n",
       "1   2015      8          5.064306  0.006438   1.278074     1.063332   \n",
       "2   2015      9         96.254380  3.879504   1.356528    62.787651   \n",
       "3   2015     10        170.156297  6.144711  12.622480    84.672532   \n",
       "4   2015     11         51.216220  4.220630   1.275469    14.172116   \n",
       "5   2015     12        106.745312  5.397502   3.063360    56.705419   \n",
       "6   2016      1         74.196000  4.380000   0.456000     4.200000   \n",
       "7   2016      2         48.052000  2.586008   1.912651    11.725555   \n",
       "8   2016      3        100.024621  9.300000   2.100000    41.590000   \n",
       "9   2016      4         56.848241  5.205196   0.871892    24.308354   \n",
       "10  2016      5         78.057000  1.370000   0.770000    31.680000   \n",
       "11  2016      6         42.834216  1.662717   1.420761    25.048541   \n",
       "\n",
       "    Content Marketing  Online marketing  Affiliates        SEM  Radio  \\\n",
       "0            0.000933          1.327278    0.547254   5.023697   0.00   \n",
       "1            0.000006          0.129244    0.073684   2.513528   0.00   \n",
       "2            0.610292         16.379990    5.038266   6.202149   0.00   \n",
       "3            3.444075         24.371778    6.973711  31.927011   0.00   \n",
       "4            0.168633         19.561574    6.595767   5.222032   0.00   \n",
       "5            1.067307         22.503756    6.826938  11.181030   0.00   \n",
       "6            0.900000         22.900000    7.370000   4.200000   2.70   \n",
       "7            0.596771         19.892366    6.465019   4.873630   0.00   \n",
       "8            0.370000         18.437818    6.217667   5.193591   0.87   \n",
       "9            0.034876         16.514510    5.693456   4.219958   0.00   \n",
       "10           0.790000         23.650000    6.800000   6.910000   1.10   \n",
       "11           0.045081          7.971300    2.768023   3.735516   0.00   \n",
       "\n",
       "        Other  \n",
       "0    0.000000  \n",
       "1    0.000000  \n",
       "2    0.000000  \n",
       "3    0.000000  \n",
       "4    0.000000  \n",
       "5    0.000000  \n",
       "6   27.090000  \n",
       "7    0.000000  \n",
       "8   15.945545  \n",
       "9    0.000000  \n",
       "10   4.987000  \n",
       "11   0.000000  "
      ]
     },
     "execution_count": 244,
     "metadata": {},
     "output_type": "execute_result"
    }
   ],
   "source": [
    "media_invest"
   ]
  },
  {
   "cell_type": "code",
   "execution_count": 245,
   "metadata": {},
   "outputs": [
    {
     "name": "stdout",
     "output_type": "stream",
     "text": [
      "<class 'pandas.core.frame.DataFrame'>\n",
      "Int64Index: 12 entries, 0 to 11\n",
      "Data columns (total 12 columns):\n",
      "Year                 12 non-null int64\n",
      "Month                12 non-null int64\n",
      "Total Investment     12 non-null float64\n",
      "TV                   12 non-null float64\n",
      "Digital              12 non-null float64\n",
      "Sponsorship          12 non-null float64\n",
      "Content Marketing    12 non-null float64\n",
      "Online marketing     12 non-null float64\n",
      "Affiliates           12 non-null float64\n",
      "SEM                  12 non-null float64\n",
      "Radio                12 non-null float64\n",
      "Other                12 non-null float64\n",
      "dtypes: float64(10), int64(2)\n",
      "memory usage: 1.2 KB\n"
     ]
    }
   ],
   "source": [
    "media_invest.info()"
   ]
  },
  {
   "cell_type": "markdown",
   "metadata": {},
   "source": [
    "#### Observations:\n",
    "- There are no missing values"
   ]
  },
  {
   "cell_type": "markdown",
   "metadata": {},
   "source": [
    "## 2.3 Data preparation for special sale calendar"
   ]
  },
  {
   "cell_type": "code",
   "execution_count": 246,
   "metadata": {},
   "outputs": [
    {
     "data": {
      "text/html": [
       "<div>\n",
       "<style scoped>\n",
       "    .dataframe tbody tr th:only-of-type {\n",
       "        vertical-align: middle;\n",
       "    }\n",
       "\n",
       "    .dataframe tbody tr th {\n",
       "        vertical-align: top;\n",
       "    }\n",
       "\n",
       "    .dataframe thead th {\n",
       "        text-align: right;\n",
       "    }\n",
       "</style>\n",
       "<table border=\"1\" class=\"dataframe\">\n",
       "  <thead>\n",
       "    <tr style=\"text-align: right;\">\n",
       "      <th></th>\n",
       "      <th>Start Date</th>\n",
       "      <th>End Date</th>\n",
       "    </tr>\n",
       "  </thead>\n",
       "  <tbody>\n",
       "    <tr>\n",
       "      <th>0</th>\n",
       "      <td>2015-07-18</td>\n",
       "      <td>2015-07-19</td>\n",
       "    </tr>\n",
       "    <tr>\n",
       "      <th>1</th>\n",
       "      <td>2015-08-15</td>\n",
       "      <td>2015-08-17</td>\n",
       "    </tr>\n",
       "    <tr>\n",
       "      <th>2</th>\n",
       "      <td>2015-08-28</td>\n",
       "      <td>2015-08-30</td>\n",
       "    </tr>\n",
       "    <tr>\n",
       "      <th>3</th>\n",
       "      <td>2015-10-15</td>\n",
       "      <td>2015-10-17</td>\n",
       "    </tr>\n",
       "    <tr>\n",
       "      <th>4</th>\n",
       "      <td>2015-11-07</td>\n",
       "      <td>2015-11-14</td>\n",
       "    </tr>\n",
       "    <tr>\n",
       "      <th>5</th>\n",
       "      <td>2015-12-25</td>\n",
       "      <td>2016-01-03</td>\n",
       "    </tr>\n",
       "    <tr>\n",
       "      <th>6</th>\n",
       "      <td>2016-01-20</td>\n",
       "      <td>2016-01-22</td>\n",
       "    </tr>\n",
       "    <tr>\n",
       "      <th>7</th>\n",
       "      <td>2016-02-01</td>\n",
       "      <td>2016-02-02</td>\n",
       "    </tr>\n",
       "    <tr>\n",
       "      <th>8</th>\n",
       "      <td>2016-02-20</td>\n",
       "      <td>2016-02-21</td>\n",
       "    </tr>\n",
       "    <tr>\n",
       "      <th>9</th>\n",
       "      <td>2016-02-14</td>\n",
       "      <td>2016-02-15</td>\n",
       "    </tr>\n",
       "    <tr>\n",
       "      <th>10</th>\n",
       "      <td>2016-03-07</td>\n",
       "      <td>2016-03-09</td>\n",
       "    </tr>\n",
       "    <tr>\n",
       "      <th>11</th>\n",
       "      <td>2016-05-25</td>\n",
       "      <td>2016-05-27</td>\n",
       "    </tr>\n",
       "  </tbody>\n",
       "</table>\n",
       "</div>"
      ],
      "text/plain": [
       "   Start Date   End Date\n",
       "0  2015-07-18 2015-07-19\n",
       "1  2015-08-15 2015-08-17\n",
       "2  2015-08-28 2015-08-30\n",
       "3  2015-10-15 2015-10-17\n",
       "4  2015-11-07 2015-11-14\n",
       "5  2015-12-25 2016-01-03\n",
       "6  2016-01-20 2016-01-22\n",
       "7  2016-02-01 2016-02-02\n",
       "8  2016-02-20 2016-02-21\n",
       "9  2016-02-14 2016-02-15\n",
       "10 2016-03-07 2016-03-09\n",
       "11 2016-05-25 2016-05-27"
      ]
     },
     "execution_count": 246,
     "metadata": {},
     "output_type": "execute_result"
    }
   ],
   "source": [
    "spl_sales"
   ]
  },
  {
   "cell_type": "markdown",
   "metadata": {},
   "source": [
    "#### Observations:\n",
    "- spl_sales dataframe contains the special sale calendar between the period July 2015 - Jun 2016\n",
    "- spl_sales dataframe contains two columns Start Date and End Date that contain the start and end dates for each special sale\n",
    "- Data does not containing any missing values"
   ]
  },
  {
   "cell_type": "markdown",
   "metadata": {},
   "source": [
    "## 2.4 Data preparation for monthly NPS score"
   ]
  },
  {
   "cell_type": "code",
   "execution_count": 247,
   "metadata": {},
   "outputs": [
    {
     "data": {
      "text/html": [
       "<div>\n",
       "<style scoped>\n",
       "    .dataframe tbody tr th:only-of-type {\n",
       "        vertical-align: middle;\n",
       "    }\n",
       "\n",
       "    .dataframe tbody tr th {\n",
       "        vertical-align: top;\n",
       "    }\n",
       "\n",
       "    .dataframe thead th {\n",
       "        text-align: right;\n",
       "    }\n",
       "</style>\n",
       "<table border=\"1\" class=\"dataframe\">\n",
       "  <thead>\n",
       "    <tr style=\"text-align: right;\">\n",
       "      <th></th>\n",
       "      <th>NPS</th>\n",
       "      <th>Stock Index</th>\n",
       "      <th>MonthYear</th>\n",
       "    </tr>\n",
       "  </thead>\n",
       "  <tbody>\n",
       "    <tr>\n",
       "      <th>0</th>\n",
       "      <td>54.599588</td>\n",
       "      <td>1177.0</td>\n",
       "      <td>2015-07-01</td>\n",
       "    </tr>\n",
       "    <tr>\n",
       "      <th>1</th>\n",
       "      <td>59.987101</td>\n",
       "      <td>1206.0</td>\n",
       "      <td>2015-08-01</td>\n",
       "    </tr>\n",
       "    <tr>\n",
       "      <th>2</th>\n",
       "      <td>46.925419</td>\n",
       "      <td>1101.0</td>\n",
       "      <td>2015-09-01</td>\n",
       "    </tr>\n",
       "    <tr>\n",
       "      <th>3</th>\n",
       "      <td>44.398389</td>\n",
       "      <td>1210.0</td>\n",
       "      <td>2015-10-01</td>\n",
       "    </tr>\n",
       "    <tr>\n",
       "      <th>4</th>\n",
       "      <td>47.000000</td>\n",
       "      <td>1233.0</td>\n",
       "      <td>2015-11-01</td>\n",
       "    </tr>\n",
       "    <tr>\n",
       "      <th>5</th>\n",
       "      <td>45.800000</td>\n",
       "      <td>1038.0</td>\n",
       "      <td>2015-12-01</td>\n",
       "    </tr>\n",
       "    <tr>\n",
       "      <th>6</th>\n",
       "      <td>47.093031</td>\n",
       "      <td>1052.0</td>\n",
       "      <td>2016-01-01</td>\n",
       "    </tr>\n",
       "    <tr>\n",
       "      <th>7</th>\n",
       "      <td>50.327406</td>\n",
       "      <td>1222.0</td>\n",
       "      <td>2016-02-01</td>\n",
       "    </tr>\n",
       "    <tr>\n",
       "      <th>8</th>\n",
       "      <td>49.020550</td>\n",
       "      <td>1015.0</td>\n",
       "      <td>2016-03-01</td>\n",
       "    </tr>\n",
       "    <tr>\n",
       "      <th>9</th>\n",
       "      <td>51.827605</td>\n",
       "      <td>1242.0</td>\n",
       "      <td>2016-04-01</td>\n",
       "    </tr>\n",
       "    <tr>\n",
       "      <th>10</th>\n",
       "      <td>47.306951</td>\n",
       "      <td>1228.0</td>\n",
       "      <td>2016-05-01</td>\n",
       "    </tr>\n",
       "    <tr>\n",
       "      <th>11</th>\n",
       "      <td>50.516687</td>\n",
       "      <td>1194.0</td>\n",
       "      <td>2016-06-01</td>\n",
       "    </tr>\n",
       "  </tbody>\n",
       "</table>\n",
       "</div>"
      ],
      "text/plain": [
       "          NPS  Stock Index  MonthYear\n",
       "0   54.599588       1177.0 2015-07-01\n",
       "1   59.987101       1206.0 2015-08-01\n",
       "2   46.925419       1101.0 2015-09-01\n",
       "3   44.398389       1210.0 2015-10-01\n",
       "4   47.000000       1233.0 2015-11-01\n",
       "5   45.800000       1038.0 2015-12-01\n",
       "6   47.093031       1052.0 2016-01-01\n",
       "7   50.327406       1222.0 2016-02-01\n",
       "8   49.020550       1015.0 2016-03-01\n",
       "9   51.827605       1242.0 2016-04-01\n",
       "10  47.306951       1228.0 2016-05-01\n",
       "11  50.516687       1194.0 2016-06-01"
      ]
     },
     "execution_count": 247,
     "metadata": {},
     "output_type": "execute_result"
    }
   ],
   "source": [
    "nps_score"
   ]
  },
  {
   "cell_type": "markdown",
   "metadata": {},
   "source": [
    "#### Observations:\n",
    "\n",
    "- nps_score dataframe has 3 columns\n",
    "- NPS column represents the NPS score for the corresponding month value reprsented by MonthYear column\n",
    "- Stock Index column represents the company stock price for the corresponding month value reprsented by MonthYear column"
   ]
  },
  {
   "cell_type": "markdown",
   "metadata": {},
   "source": [
    "## 2.5 Data preparation for climate data"
   ]
  },
  {
   "cell_type": "code",
   "execution_count": 248,
   "metadata": {},
   "outputs": [
    {
     "name": "stdout",
     "output_type": "stream",
     "text": [
      "<class 'pandas.core.frame.DataFrame'>\n",
      "RangeIndex: 366 entries, 0 to 365\n",
      "Data columns (total 23 columns):\n",
      "Date                   366 non-null datetime64[ns]\n",
      "Year                   366 non-null int64\n",
      "Month                  366 non-null int64\n",
      "Day                    366 non-null int64\n",
      "Data Quality Review    366 non-null object\n",
      "Max Temp (°C)          208 non-null float64\n",
      "Max Temp Flag          7 non-null object\n",
      "Min Temp (°C)          191 non-null float64\n",
      "Min Temp Flag          24 non-null object\n",
      "Mean Temp (°C)         191 non-null float64\n",
      "Mean Temp Flag         24 non-null object\n",
      "Heat Deg Days (°C)     191 non-null float64\n",
      "Heat Deg Days Flag     24 non-null object\n",
      "Cool Deg Days (°C)     191 non-null float64\n",
      "Cool Deg Days Flag     24 non-null object\n",
      "Total Rain (mm)        215 non-null float64\n",
      "Total Rain Flag        7 non-null object\n",
      "Total Snow (cm)        215 non-null float64\n",
      "Total Snow Flag        6 non-null object\n",
      "Total Precip (mm)      215 non-null float64\n",
      "Total Precip Flag      11 non-null object\n",
      "Snow on Grnd (cm)      215 non-null float64\n",
      "Snow on Grnd Flag      6 non-null object\n",
      "dtypes: datetime64[ns](1), float64(9), int64(3), object(10)\n",
      "memory usage: 65.8+ KB\n"
     ]
    }
   ],
   "source": [
    "climate.info()"
   ]
  },
  {
   "cell_type": "code",
   "execution_count": 249,
   "metadata": {},
   "outputs": [
    {
     "data": {
      "text/html": [
       "<div>\n",
       "<style scoped>\n",
       "    .dataframe tbody tr th:only-of-type {\n",
       "        vertical-align: middle;\n",
       "    }\n",
       "\n",
       "    .dataframe tbody tr th {\n",
       "        vertical-align: top;\n",
       "    }\n",
       "\n",
       "    .dataframe thead th {\n",
       "        text-align: right;\n",
       "    }\n",
       "</style>\n",
       "<table border=\"1\" class=\"dataframe\">\n",
       "  <thead>\n",
       "    <tr style=\"text-align: right;\">\n",
       "      <th></th>\n",
       "      <th>Date</th>\n",
       "      <th>Year</th>\n",
       "      <th>Month</th>\n",
       "      <th>Day</th>\n",
       "      <th>Data Quality Review</th>\n",
       "      <th>Max Temp (°C)</th>\n",
       "      <th>Max Temp Flag</th>\n",
       "      <th>Min Temp (°C)</th>\n",
       "      <th>Min Temp Flag</th>\n",
       "      <th>Mean Temp (°C)</th>\n",
       "      <th>...</th>\n",
       "      <th>Cool Deg Days (°C)</th>\n",
       "      <th>Cool Deg Days Flag</th>\n",
       "      <th>Total Rain (mm)</th>\n",
       "      <th>Total Rain Flag</th>\n",
       "      <th>Total Snow (cm)</th>\n",
       "      <th>Total Snow Flag</th>\n",
       "      <th>Total Precip (mm)</th>\n",
       "      <th>Total Precip Flag</th>\n",
       "      <th>Snow on Grnd (cm)</th>\n",
       "      <th>Snow on Grnd Flag</th>\n",
       "    </tr>\n",
       "  </thead>\n",
       "  <tbody>\n",
       "    <tr>\n",
       "      <th>0</th>\n",
       "      <td>2015-07-01</td>\n",
       "      <td>2015</td>\n",
       "      <td>7</td>\n",
       "      <td>1</td>\n",
       "      <td>No</td>\n",
       "      <td>24.5</td>\n",
       "      <td>NaN</td>\n",
       "      <td>17.0</td>\n",
       "      <td>NaN</td>\n",
       "      <td>20.8</td>\n",
       "      <td>...</td>\n",
       "      <td>2.8</td>\n",
       "      <td>NaN</td>\n",
       "      <td>0.0</td>\n",
       "      <td>NaN</td>\n",
       "      <td>0.0</td>\n",
       "      <td>NaN</td>\n",
       "      <td>0.0</td>\n",
       "      <td>NaN</td>\n",
       "      <td>0.0</td>\n",
       "      <td>NaN</td>\n",
       "    </tr>\n",
       "    <tr>\n",
       "      <th>1</th>\n",
       "      <td>2015-07-02</td>\n",
       "      <td>2015</td>\n",
       "      <td>7</td>\n",
       "      <td>2</td>\n",
       "      <td>No</td>\n",
       "      <td>24.0</td>\n",
       "      <td>NaN</td>\n",
       "      <td>14.0</td>\n",
       "      <td>NaN</td>\n",
       "      <td>19.0</td>\n",
       "      <td>...</td>\n",
       "      <td>1.0</td>\n",
       "      <td>NaN</td>\n",
       "      <td>0.0</td>\n",
       "      <td>NaN</td>\n",
       "      <td>0.0</td>\n",
       "      <td>NaN</td>\n",
       "      <td>0.0</td>\n",
       "      <td>NaN</td>\n",
       "      <td>0.0</td>\n",
       "      <td>NaN</td>\n",
       "    </tr>\n",
       "    <tr>\n",
       "      <th>2</th>\n",
       "      <td>2015-07-03</td>\n",
       "      <td>2015</td>\n",
       "      <td>7</td>\n",
       "      <td>3</td>\n",
       "      <td>No</td>\n",
       "      <td>25.0</td>\n",
       "      <td>NaN</td>\n",
       "      <td>10.0</td>\n",
       "      <td>NaN</td>\n",
       "      <td>17.5</td>\n",
       "      <td>...</td>\n",
       "      <td>0.0</td>\n",
       "      <td>NaN</td>\n",
       "      <td>0.0</td>\n",
       "      <td>NaN</td>\n",
       "      <td>0.0</td>\n",
       "      <td>NaN</td>\n",
       "      <td>0.0</td>\n",
       "      <td>NaN</td>\n",
       "      <td>0.0</td>\n",
       "      <td>NaN</td>\n",
       "    </tr>\n",
       "    <tr>\n",
       "      <th>3</th>\n",
       "      <td>2015-07-04</td>\n",
       "      <td>2015</td>\n",
       "      <td>7</td>\n",
       "      <td>4</td>\n",
       "      <td>No</td>\n",
       "      <td>26.0</td>\n",
       "      <td>NaN</td>\n",
       "      <td>11.0</td>\n",
       "      <td>NaN</td>\n",
       "      <td>18.5</td>\n",
       "      <td>...</td>\n",
       "      <td>0.5</td>\n",
       "      <td>NaN</td>\n",
       "      <td>0.0</td>\n",
       "      <td>NaN</td>\n",
       "      <td>0.0</td>\n",
       "      <td>NaN</td>\n",
       "      <td>0.0</td>\n",
       "      <td>NaN</td>\n",
       "      <td>0.0</td>\n",
       "      <td>NaN</td>\n",
       "    </tr>\n",
       "    <tr>\n",
       "      <th>4</th>\n",
       "      <td>2015-07-05</td>\n",
       "      <td>2015</td>\n",
       "      <td>7</td>\n",
       "      <td>5</td>\n",
       "      <td>No</td>\n",
       "      <td>28.0</td>\n",
       "      <td>NaN</td>\n",
       "      <td>14.0</td>\n",
       "      <td>NaN</td>\n",
       "      <td>21.0</td>\n",
       "      <td>...</td>\n",
       "      <td>3.0</td>\n",
       "      <td>NaN</td>\n",
       "      <td>0.0</td>\n",
       "      <td>NaN</td>\n",
       "      <td>0.0</td>\n",
       "      <td>NaN</td>\n",
       "      <td>0.0</td>\n",
       "      <td>NaN</td>\n",
       "      <td>0.0</td>\n",
       "      <td>NaN</td>\n",
       "    </tr>\n",
       "  </tbody>\n",
       "</table>\n",
       "<p>5 rows × 23 columns</p>\n",
       "</div>"
      ],
      "text/plain": [
       "        Date  Year  Month  Day Data Quality Review  Max Temp (°C)  \\\n",
       "0 2015-07-01  2015      7    1                  No           24.5   \n",
       "1 2015-07-02  2015      7    2                  No           24.0   \n",
       "2 2015-07-03  2015      7    3                  No           25.0   \n",
       "3 2015-07-04  2015      7    4                  No           26.0   \n",
       "4 2015-07-05  2015      7    5                  No           28.0   \n",
       "\n",
       "  Max Temp Flag  Min Temp (°C) Min Temp Flag  Mean Temp (°C)  \\\n",
       "0           NaN           17.0           NaN            20.8   \n",
       "1           NaN           14.0           NaN            19.0   \n",
       "2           NaN           10.0           NaN            17.5   \n",
       "3           NaN           11.0           NaN            18.5   \n",
       "4           NaN           14.0           NaN            21.0   \n",
       "\n",
       "         ...         Cool Deg Days (°C)  Cool Deg Days Flag Total Rain (mm)  \\\n",
       "0        ...                        2.8                 NaN             0.0   \n",
       "1        ...                        1.0                 NaN             0.0   \n",
       "2        ...                        0.0                 NaN             0.0   \n",
       "3        ...                        0.5                 NaN             0.0   \n",
       "4        ...                        3.0                 NaN             0.0   \n",
       "\n",
       "   Total Rain Flag Total Snow (cm)  Total Snow Flag Total Precip (mm)  \\\n",
       "0              NaN             0.0              NaN               0.0   \n",
       "1              NaN             0.0              NaN               0.0   \n",
       "2              NaN             0.0              NaN               0.0   \n",
       "3              NaN             0.0              NaN               0.0   \n",
       "4              NaN             0.0              NaN               0.0   \n",
       "\n",
       "   Total Precip Flag Snow on Grnd (cm)  Snow on Grnd Flag  \n",
       "0                NaN               0.0                NaN  \n",
       "1                NaN               0.0                NaN  \n",
       "2                NaN               0.0                NaN  \n",
       "3                NaN               0.0                NaN  \n",
       "4                NaN               0.0                NaN  \n",
       "\n",
       "[5 rows x 23 columns]"
      ]
     },
     "execution_count": 249,
     "metadata": {},
     "output_type": "execute_result"
    }
   ],
   "source": [
    "climate.head()"
   ]
  },
  {
   "cell_type": "markdown",
   "metadata": {},
   "source": [
    "## 2.6 Create aggregated order level data"
   ]
  },
  {
   "cell_type": "code",
   "execution_count": null,
   "metadata": {},
   "outputs": [],
   "source": []
  }
 ],
 "metadata": {
  "kernelspec": {
   "display_name": "Python 3",
   "language": "python",
   "name": "python3"
  },
  "language_info": {
   "codemirror_mode": {
    "name": "ipython",
    "version": 3
   },
   "file_extension": ".py",
   "mimetype": "text/x-python",
   "name": "python",
   "nbconvert_exporter": "python",
   "pygments_lexer": "ipython3",
   "version": "3.7.0"
  }
 },
 "nbformat": 4,
 "nbformat_minor": 2
}
