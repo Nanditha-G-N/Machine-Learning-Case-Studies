{
 "cells": [
  {
   "cell_type": "markdown",
   "metadata": {},
   "source": [
    "# Market Mix Modelling for an e-commerce firm\n",
    "\n",
    "#### Problem statment:\n",
    "\n",
    "Eleckart, an e-commerce firm based out of Ontario, Canada spends a significant amount of money on marketing. The marketing budget is spent on commercials, online campaigns and pricing & promotion strategies. Eleckart’s CFO feels that the money spent over the last 12 months did not have enough impact and that the budget can be cut or optimally reallocated across marketing levers to improve revenue.\n",
    "\n",
    "#### Goal:\n",
    "As part of the marketing team, which is working on budget optimisation, we need to develop a market mix model with the following objectives:\n",
    "\n",
    "- Observe the actual impact of different marketing variables over the last one year\n",
    "- Recommend the optimal budget allocation for different marketing levers for the next year\n"
   ]
  },
  {
   "cell_type": "code",
   "execution_count": 1,
   "metadata": {},
   "outputs": [],
   "source": [
    "# import libraties\n",
    "import pandas as pd\n",
    "import numpy as np\n",
    "import matplotlib.pyplot as plt\n",
    "import seaborn as sns\n",
    "\n",
    "# hide warnings\n",
    "import warnings\n",
    "warnings.filterwarnings('ignore')"
   ]
  },
  {
   "cell_type": "markdown",
   "metadata": {},
   "source": [
    "# Phase 1: Understanding the data"
   ]
  },
  {
   "cell_type": "markdown",
   "metadata": {},
   "source": [
    "## 1.1 Understanding order level data - Nanditha"
   ]
  },
  {
   "cell_type": "code",
   "execution_count": 2,
   "metadata": {},
   "outputs": [],
   "source": [
    "products = pd.read_csv('ConsumerElectronics.csv', \n",
    "                        encoding='ISO-8859-1',\n",
    "                        dtype={'order_id':'Int64', 'order_item_id':'Int64','cust_id':'str','pincode':'str','gmv':'str'},\n",
    "                        parse_dates =['order_date'])"
   ]
  },
  {
   "cell_type": "code",
   "execution_count": 3,
   "metadata": {},
   "outputs": [
    {
     "data": {
      "text/html": [
       "<div>\n",
       "<style scoped>\n",
       "    .dataframe tbody tr th:only-of-type {\n",
       "        vertical-align: middle;\n",
       "    }\n",
       "\n",
       "    .dataframe tbody tr th {\n",
       "        vertical-align: top;\n",
       "    }\n",
       "\n",
       "    .dataframe thead th {\n",
       "        text-align: right;\n",
       "    }\n",
       "</style>\n",
       "<table border=\"1\" class=\"dataframe\">\n",
       "  <thead>\n",
       "    <tr style=\"text-align: right;\">\n",
       "      <th></th>\n",
       "      <th>fsn_id</th>\n",
       "      <th>order_date</th>\n",
       "      <th>Year</th>\n",
       "      <th>Month</th>\n",
       "      <th>order_id</th>\n",
       "      <th>order_item_id</th>\n",
       "      <th>gmv</th>\n",
       "      <th>units</th>\n",
       "      <th>deliverybdays</th>\n",
       "      <th>deliverycdays</th>\n",
       "      <th>s1_fact.order_payment_type</th>\n",
       "      <th>sla</th>\n",
       "      <th>cust_id</th>\n",
       "      <th>pincode</th>\n",
       "      <th>product_analytic_super_category</th>\n",
       "      <th>product_analytic_category</th>\n",
       "      <th>product_analytic_sub_category</th>\n",
       "      <th>product_analytic_vertical</th>\n",
       "      <th>product_mrp</th>\n",
       "      <th>product_procurement_sla</th>\n",
       "    </tr>\n",
       "  </thead>\n",
       "  <tbody>\n",
       "    <tr>\n",
       "      <th>0</th>\n",
       "      <td>ACCCX3S58G7B5F6P</td>\n",
       "      <td>2015-10-17 15:11:54</td>\n",
       "      <td>2015</td>\n",
       "      <td>10</td>\n",
       "      <td>3419300926147000</td>\n",
       "      <td>3419300926147000</td>\n",
       "      <td>6400</td>\n",
       "      <td>1</td>\n",
       "      <td>\\N</td>\n",
       "      <td>\\N</td>\n",
       "      <td>COD</td>\n",
       "      <td>5</td>\n",
       "      <td>-1.01299130778588E+018</td>\n",
       "      <td>-7.79175582905735E+018</td>\n",
       "      <td>CE</td>\n",
       "      <td>CameraAccessory</td>\n",
       "      <td>CameraAccessory</td>\n",
       "      <td>CameraTripod</td>\n",
       "      <td>7190</td>\n",
       "      <td>0</td>\n",
       "    </tr>\n",
       "    <tr>\n",
       "      <th>1</th>\n",
       "      <td>ACCCX3S58G7B5F6P</td>\n",
       "      <td>2015-10-19 10:07:22</td>\n",
       "      <td>2015</td>\n",
       "      <td>10</td>\n",
       "      <td>1420830839915200</td>\n",
       "      <td>1420830839915200</td>\n",
       "      <td>6900</td>\n",
       "      <td>1</td>\n",
       "      <td>\\N</td>\n",
       "      <td>\\N</td>\n",
       "      <td>COD</td>\n",
       "      <td>7</td>\n",
       "      <td>-8.99032457905512E+018</td>\n",
       "      <td>7.33541149097431E+018</td>\n",
       "      <td>CE</td>\n",
       "      <td>CameraAccessory</td>\n",
       "      <td>CameraAccessory</td>\n",
       "      <td>CameraTripod</td>\n",
       "      <td>7190</td>\n",
       "      <td>0</td>\n",
       "    </tr>\n",
       "    <tr>\n",
       "      <th>2</th>\n",
       "      <td>ACCCX3S5AHMF55FV</td>\n",
       "      <td>2015-10-20 15:45:56</td>\n",
       "      <td>2015</td>\n",
       "      <td>10</td>\n",
       "      <td>2421912925714800</td>\n",
       "      <td>2421912925714800</td>\n",
       "      <td>1990</td>\n",
       "      <td>1</td>\n",
       "      <td>\\N</td>\n",
       "      <td>\\N</td>\n",
       "      <td>COD</td>\n",
       "      <td>10</td>\n",
       "      <td>-1.0404429420466E+018</td>\n",
       "      <td>-7.47768776228657E+018</td>\n",
       "      <td>CE</td>\n",
       "      <td>CameraAccessory</td>\n",
       "      <td>CameraAccessory</td>\n",
       "      <td>CameraTripod</td>\n",
       "      <td>2099</td>\n",
       "      <td>3</td>\n",
       "    </tr>\n",
       "    <tr>\n",
       "      <th>3</th>\n",
       "      <td>ACCCX3S5AHMF55FV</td>\n",
       "      <td>2015-10-14 12:05:15</td>\n",
       "      <td>2015</td>\n",
       "      <td>10</td>\n",
       "      <td>4416592101738400</td>\n",
       "      <td>4416592101738400</td>\n",
       "      <td>1690</td>\n",
       "      <td>1</td>\n",
       "      <td>\\N</td>\n",
       "      <td>\\N</td>\n",
       "      <td>Prepaid</td>\n",
       "      <td>4</td>\n",
       "      <td>-7.60496084352714E+018</td>\n",
       "      <td>-5.83593163877661E+018</td>\n",
       "      <td>CE</td>\n",
       "      <td>CameraAccessory</td>\n",
       "      <td>CameraAccessory</td>\n",
       "      <td>CameraTripod</td>\n",
       "      <td>2099</td>\n",
       "      <td>3</td>\n",
       "    </tr>\n",
       "    <tr>\n",
       "      <th>4</th>\n",
       "      <td>ACCCX3S5AHMF55FV</td>\n",
       "      <td>2015-10-17 21:25:03</td>\n",
       "      <td>2015</td>\n",
       "      <td>10</td>\n",
       "      <td>4419525153426400</td>\n",
       "      <td>4419525153426400</td>\n",
       "      <td>1618</td>\n",
       "      <td>1</td>\n",
       "      <td>\\N</td>\n",
       "      <td>\\N</td>\n",
       "      <td>Prepaid</td>\n",
       "      <td>6</td>\n",
       "      <td>2.8945572083453E+018</td>\n",
       "      <td>5.34735360997242E+017</td>\n",
       "      <td>CE</td>\n",
       "      <td>CameraAccessory</td>\n",
       "      <td>CameraAccessory</td>\n",
       "      <td>CameraTripod</td>\n",
       "      <td>2099</td>\n",
       "      <td>3</td>\n",
       "    </tr>\n",
       "  </tbody>\n",
       "</table>\n",
       "</div>"
      ],
      "text/plain": [
       "             fsn_id          order_date  Year  Month          order_id  \\\n",
       "0  ACCCX3S58G7B5F6P 2015-10-17 15:11:54  2015     10  3419300926147000   \n",
       "1  ACCCX3S58G7B5F6P 2015-10-19 10:07:22  2015     10  1420830839915200   \n",
       "2  ACCCX3S5AHMF55FV 2015-10-20 15:45:56  2015     10  2421912925714800   \n",
       "3  ACCCX3S5AHMF55FV 2015-10-14 12:05:15  2015     10  4416592101738400   \n",
       "4  ACCCX3S5AHMF55FV 2015-10-17 21:25:03  2015     10  4419525153426400   \n",
       "\n",
       "      order_item_id   gmv  units deliverybdays deliverycdays  \\\n",
       "0  3419300926147000  6400      1            \\N            \\N   \n",
       "1  1420830839915200  6900      1            \\N            \\N   \n",
       "2  2421912925714800  1990      1            \\N            \\N   \n",
       "3  4416592101738400  1690      1            \\N            \\N   \n",
       "4  4419525153426400  1618      1            \\N            \\N   \n",
       "\n",
       "  s1_fact.order_payment_type  sla                 cust_id  \\\n",
       "0                        COD    5  -1.01299130778588E+018   \n",
       "1                        COD    7  -8.99032457905512E+018   \n",
       "2                        COD   10   -1.0404429420466E+018   \n",
       "3                    Prepaid    4  -7.60496084352714E+018   \n",
       "4                    Prepaid    6    2.8945572083453E+018   \n",
       "\n",
       "                  pincode product_analytic_super_category  \\\n",
       "0  -7.79175582905735E+018                              CE   \n",
       "1   7.33541149097431E+018                              CE   \n",
       "2  -7.47768776228657E+018                              CE   \n",
       "3  -5.83593163877661E+018                              CE   \n",
       "4   5.34735360997242E+017                              CE   \n",
       "\n",
       "  product_analytic_category product_analytic_sub_category  \\\n",
       "0           CameraAccessory               CameraAccessory   \n",
       "1           CameraAccessory               CameraAccessory   \n",
       "2           CameraAccessory               CameraAccessory   \n",
       "3           CameraAccessory               CameraAccessory   \n",
       "4           CameraAccessory               CameraAccessory   \n",
       "\n",
       "  product_analytic_vertical  product_mrp  product_procurement_sla  \n",
       "0              CameraTripod         7190                        0  \n",
       "1              CameraTripod         7190                        0  \n",
       "2              CameraTripod         2099                        3  \n",
       "3              CameraTripod         2099                        3  \n",
       "4              CameraTripod         2099                        3  "
      ]
     },
     "execution_count": 3,
     "metadata": {},
     "output_type": "execute_result"
    }
   ],
   "source": [
    "products.head()"
   ]
  },
  {
   "cell_type": "code",
   "execution_count": 4,
   "metadata": {},
   "outputs": [
    {
     "data": {
      "text/plain": [
       "4904"
      ]
     },
     "execution_count": 4,
     "metadata": {},
     "output_type": "execute_result"
    }
   ],
   "source": [
    "products['gmv']=pd.to_numeric(products.gmv,errors='coerce')\n",
    "products[products.gmv.isna()].fsn_id.count()"
   ]
  },
  {
   "cell_type": "code",
   "execution_count": 5,
   "metadata": {},
   "outputs": [
    {
     "data": {
      "text/plain": [
       "4904"
      ]
     },
     "execution_count": 5,
     "metadata": {},
     "output_type": "execute_result"
    }
   ],
   "source": [
    "products['cust_id']=pd.to_numeric(products.cust_id,errors='coerce')\n",
    "products[products.cust_id.isna()].fsn_id.count()"
   ]
  },
  {
   "cell_type": "code",
   "execution_count": 6,
   "metadata": {},
   "outputs": [
    {
     "data": {
      "text/plain": [
       "4904"
      ]
     },
     "execution_count": 6,
     "metadata": {},
     "output_type": "execute_result"
    }
   ],
   "source": [
    "products['pincode']=pd.to_numeric(products.pincode,errors='coerce')\n",
    "products[products.pincode.isna()].fsn_id.count()"
   ]
  },
  {
   "cell_type": "code",
   "execution_count": 7,
   "metadata": {},
   "outputs": [
    {
     "data": {
      "text/plain": [
       "1312972"
      ]
     },
     "execution_count": 7,
     "metadata": {},
     "output_type": "execute_result"
    }
   ],
   "source": [
    "products['deliverybdays']=pd.to_numeric(products.deliverybdays,errors='coerce')\n",
    "products[products.deliverybdays.isna()].fsn_id.count()"
   ]
  },
  {
   "cell_type": "code",
   "execution_count": 8,
   "metadata": {},
   "outputs": [
    {
     "data": {
      "text/plain": [
       "1312971"
      ]
     },
     "execution_count": 8,
     "metadata": {},
     "output_type": "execute_result"
    }
   ],
   "source": [
    "products['deliverycdays']=pd.to_numeric(products.deliverycdays,errors='coerce')\n",
    "products[products.deliverycdays.isna()].fsn_id.count()"
   ]
  },
  {
   "cell_type": "code",
   "execution_count": 9,
   "metadata": {},
   "outputs": [
    {
     "data": {
      "text/html": [
       "<div>\n",
       "<style scoped>\n",
       "    .dataframe tbody tr th:only-of-type {\n",
       "        vertical-align: middle;\n",
       "    }\n",
       "\n",
       "    .dataframe tbody tr th {\n",
       "        vertical-align: top;\n",
       "    }\n",
       "\n",
       "    .dataframe thead th {\n",
       "        text-align: right;\n",
       "    }\n",
       "</style>\n",
       "<table border=\"1\" class=\"dataframe\">\n",
       "  <thead>\n",
       "    <tr style=\"text-align: right;\">\n",
       "      <th></th>\n",
       "      <th>fsn_id</th>\n",
       "      <th>order_date</th>\n",
       "      <th>Year</th>\n",
       "      <th>Month</th>\n",
       "      <th>order_id</th>\n",
       "      <th>order_item_id</th>\n",
       "      <th>gmv</th>\n",
       "      <th>units</th>\n",
       "      <th>deliverybdays</th>\n",
       "      <th>deliverycdays</th>\n",
       "      <th>s1_fact.order_payment_type</th>\n",
       "      <th>sla</th>\n",
       "      <th>cust_id</th>\n",
       "      <th>pincode</th>\n",
       "      <th>product_analytic_super_category</th>\n",
       "      <th>product_analytic_category</th>\n",
       "      <th>product_analytic_sub_category</th>\n",
       "      <th>product_analytic_vertical</th>\n",
       "      <th>product_mrp</th>\n",
       "      <th>product_procurement_sla</th>\n",
       "    </tr>\n",
       "  </thead>\n",
       "  <tbody>\n",
       "    <tr>\n",
       "      <th>0</th>\n",
       "      <td>ACCCX3S58G7B5F6P</td>\n",
       "      <td>2015-10-17 15:11:54</td>\n",
       "      <td>2015</td>\n",
       "      <td>10</td>\n",
       "      <td>3419300926147000</td>\n",
       "      <td>3419300926147000</td>\n",
       "      <td>6400.0</td>\n",
       "      <td>1</td>\n",
       "      <td>NaN</td>\n",
       "      <td>NaN</td>\n",
       "      <td>COD</td>\n",
       "      <td>5</td>\n",
       "      <td>-1.012991e+18</td>\n",
       "      <td>-7.791756e+18</td>\n",
       "      <td>CE</td>\n",
       "      <td>CameraAccessory</td>\n",
       "      <td>CameraAccessory</td>\n",
       "      <td>CameraTripod</td>\n",
       "      <td>7190</td>\n",
       "      <td>0</td>\n",
       "    </tr>\n",
       "    <tr>\n",
       "      <th>1</th>\n",
       "      <td>ACCCX3S58G7B5F6P</td>\n",
       "      <td>2015-10-19 10:07:22</td>\n",
       "      <td>2015</td>\n",
       "      <td>10</td>\n",
       "      <td>1420830839915200</td>\n",
       "      <td>1420830839915200</td>\n",
       "      <td>6900.0</td>\n",
       "      <td>1</td>\n",
       "      <td>NaN</td>\n",
       "      <td>NaN</td>\n",
       "      <td>COD</td>\n",
       "      <td>7</td>\n",
       "      <td>-8.990325e+18</td>\n",
       "      <td>7.335411e+18</td>\n",
       "      <td>CE</td>\n",
       "      <td>CameraAccessory</td>\n",
       "      <td>CameraAccessory</td>\n",
       "      <td>CameraTripod</td>\n",
       "      <td>7190</td>\n",
       "      <td>0</td>\n",
       "    </tr>\n",
       "    <tr>\n",
       "      <th>2</th>\n",
       "      <td>ACCCX3S5AHMF55FV</td>\n",
       "      <td>2015-10-20 15:45:56</td>\n",
       "      <td>2015</td>\n",
       "      <td>10</td>\n",
       "      <td>2421912925714800</td>\n",
       "      <td>2421912925714800</td>\n",
       "      <td>1990.0</td>\n",
       "      <td>1</td>\n",
       "      <td>NaN</td>\n",
       "      <td>NaN</td>\n",
       "      <td>COD</td>\n",
       "      <td>10</td>\n",
       "      <td>-1.040443e+18</td>\n",
       "      <td>-7.477688e+18</td>\n",
       "      <td>CE</td>\n",
       "      <td>CameraAccessory</td>\n",
       "      <td>CameraAccessory</td>\n",
       "      <td>CameraTripod</td>\n",
       "      <td>2099</td>\n",
       "      <td>3</td>\n",
       "    </tr>\n",
       "    <tr>\n",
       "      <th>3</th>\n",
       "      <td>ACCCX3S5AHMF55FV</td>\n",
       "      <td>2015-10-14 12:05:15</td>\n",
       "      <td>2015</td>\n",
       "      <td>10</td>\n",
       "      <td>4416592101738400</td>\n",
       "      <td>4416592101738400</td>\n",
       "      <td>1690.0</td>\n",
       "      <td>1</td>\n",
       "      <td>NaN</td>\n",
       "      <td>NaN</td>\n",
       "      <td>Prepaid</td>\n",
       "      <td>4</td>\n",
       "      <td>-7.604961e+18</td>\n",
       "      <td>-5.835932e+18</td>\n",
       "      <td>CE</td>\n",
       "      <td>CameraAccessory</td>\n",
       "      <td>CameraAccessory</td>\n",
       "      <td>CameraTripod</td>\n",
       "      <td>2099</td>\n",
       "      <td>3</td>\n",
       "    </tr>\n",
       "    <tr>\n",
       "      <th>4</th>\n",
       "      <td>ACCCX3S5AHMF55FV</td>\n",
       "      <td>2015-10-17 21:25:03</td>\n",
       "      <td>2015</td>\n",
       "      <td>10</td>\n",
       "      <td>4419525153426400</td>\n",
       "      <td>4419525153426400</td>\n",
       "      <td>1618.0</td>\n",
       "      <td>1</td>\n",
       "      <td>NaN</td>\n",
       "      <td>NaN</td>\n",
       "      <td>Prepaid</td>\n",
       "      <td>6</td>\n",
       "      <td>2.894557e+18</td>\n",
       "      <td>5.347354e+17</td>\n",
       "      <td>CE</td>\n",
       "      <td>CameraAccessory</td>\n",
       "      <td>CameraAccessory</td>\n",
       "      <td>CameraTripod</td>\n",
       "      <td>2099</td>\n",
       "      <td>3</td>\n",
       "    </tr>\n",
       "  </tbody>\n",
       "</table>\n",
       "</div>"
      ],
      "text/plain": [
       "             fsn_id          order_date  Year  Month          order_id  \\\n",
       "0  ACCCX3S58G7B5F6P 2015-10-17 15:11:54  2015     10  3419300926147000   \n",
       "1  ACCCX3S58G7B5F6P 2015-10-19 10:07:22  2015     10  1420830839915200   \n",
       "2  ACCCX3S5AHMF55FV 2015-10-20 15:45:56  2015     10  2421912925714800   \n",
       "3  ACCCX3S5AHMF55FV 2015-10-14 12:05:15  2015     10  4416592101738400   \n",
       "4  ACCCX3S5AHMF55FV 2015-10-17 21:25:03  2015     10  4419525153426400   \n",
       "\n",
       "      order_item_id     gmv  units  deliverybdays  deliverycdays  \\\n",
       "0  3419300926147000  6400.0      1            NaN            NaN   \n",
       "1  1420830839915200  6900.0      1            NaN            NaN   \n",
       "2  2421912925714800  1990.0      1            NaN            NaN   \n",
       "3  4416592101738400  1690.0      1            NaN            NaN   \n",
       "4  4419525153426400  1618.0      1            NaN            NaN   \n",
       "\n",
       "  s1_fact.order_payment_type  sla       cust_id       pincode  \\\n",
       "0                        COD    5 -1.012991e+18 -7.791756e+18   \n",
       "1                        COD    7 -8.990325e+18  7.335411e+18   \n",
       "2                        COD   10 -1.040443e+18 -7.477688e+18   \n",
       "3                    Prepaid    4 -7.604961e+18 -5.835932e+18   \n",
       "4                    Prepaid    6  2.894557e+18  5.347354e+17   \n",
       "\n",
       "  product_analytic_super_category product_analytic_category  \\\n",
       "0                              CE           CameraAccessory   \n",
       "1                              CE           CameraAccessory   \n",
       "2                              CE           CameraAccessory   \n",
       "3                              CE           CameraAccessory   \n",
       "4                              CE           CameraAccessory   \n",
       "\n",
       "  product_analytic_sub_category product_analytic_vertical  product_mrp  \\\n",
       "0               CameraAccessory              CameraTripod         7190   \n",
       "1               CameraAccessory              CameraTripod         7190   \n",
       "2               CameraAccessory              CameraTripod         2099   \n",
       "3               CameraAccessory              CameraTripod         2099   \n",
       "4               CameraAccessory              CameraTripod         2099   \n",
       "\n",
       "   product_procurement_sla  \n",
       "0                        0  \n",
       "1                        0  \n",
       "2                        3  \n",
       "3                        3  \n",
       "4                        3  "
      ]
     },
     "execution_count": 9,
     "metadata": {},
     "output_type": "execute_result"
    }
   ],
   "source": [
    "products.head()"
   ]
  },
  {
   "cell_type": "code",
   "execution_count": 10,
   "metadata": {},
   "outputs": [
    {
     "name": "stdout",
     "output_type": "stream",
     "text": [
      "<class 'pandas.core.frame.DataFrame'>\n",
      "RangeIndex: 1648824 entries, 0 to 1648823\n",
      "Data columns (total 20 columns):\n",
      "fsn_id                             1648824 non-null object\n",
      "order_date                         1648824 non-null datetime64[ns]\n",
      "Year                               1648824 non-null int64\n",
      "Month                              1648824 non-null int64\n",
      "order_id                           1648824 non-null int64\n",
      "order_item_id                      1648824 non-null int64\n",
      "gmv                                1643920 non-null float64\n",
      "units                              1648824 non-null int64\n",
      "deliverybdays                      335852 non-null float64\n",
      "deliverycdays                      335853 non-null float64\n",
      "s1_fact.order_payment_type         1648824 non-null object\n",
      "sla                                1648824 non-null int64\n",
      "cust_id                            1643920 non-null float64\n",
      "pincode                            1643920 non-null float64\n",
      "product_analytic_super_category    1648824 non-null object\n",
      "product_analytic_category          1648824 non-null object\n",
      "product_analytic_sub_category      1648824 non-null object\n",
      "product_analytic_vertical          1648824 non-null object\n",
      "product_mrp                        1648824 non-null int64\n",
      "product_procurement_sla            1648824 non-null int64\n",
      "dtypes: datetime64[ns](1), float64(5), int64(8), object(6)\n",
      "memory usage: 251.6+ MB\n"
     ]
    }
   ],
   "source": [
    "products.info()"
   ]
  },
  {
   "cell_type": "code",
   "execution_count": 11,
   "metadata": {},
   "outputs": [
    {
     "name": "stdout",
     "output_type": "stream",
     "text": [
      "<class 'pandas.core.frame.DataFrame'>\n",
      "Int64Index: 1643920 entries, 0 to 1648823\n",
      "Data columns (total 20 columns):\n",
      "fsn_id                             1643920 non-null object\n",
      "order_date                         1643920 non-null datetime64[ns]\n",
      "Year                               1643920 non-null int64\n",
      "Month                              1643920 non-null int64\n",
      "order_id                           1643920 non-null int64\n",
      "order_item_id                      1643920 non-null int64\n",
      "gmv                                1643920 non-null float64\n",
      "units                              1643920 non-null int64\n",
      "deliverybdays                      335850 non-null float64\n",
      "deliverycdays                      335851 non-null float64\n",
      "s1_fact.order_payment_type         1643920 non-null object\n",
      "sla                                1643920 non-null int64\n",
      "cust_id                            1643920 non-null float64\n",
      "pincode                            1643920 non-null float64\n",
      "product_analytic_super_category    1643920 non-null object\n",
      "product_analytic_category          1643920 non-null object\n",
      "product_analytic_sub_category      1643920 non-null object\n",
      "product_analytic_vertical          1643920 non-null object\n",
      "product_mrp                        1643920 non-null int64\n",
      "product_procurement_sla            1643920 non-null int64\n",
      "dtypes: datetime64[ns](1), float64(5), int64(8), object(6)\n",
      "memory usage: 263.4+ MB\n"
     ]
    }
   ],
   "source": [
    "## Drop all null values in gmv\n",
    "products.dropna(subset=['gmv'],inplace=True)\n",
    "products.info()"
   ]
  },
  {
   "cell_type": "code",
   "execution_count": 12,
   "metadata": {},
   "outputs": [
    {
     "data": {
      "text/plain": [
       "0.798683634240109"
      ]
     },
     "execution_count": 12,
     "metadata": {},
     "output_type": "execute_result"
    }
   ],
   "source": [
    "1312972/1643920"
   ]
  },
  {
   "cell_type": "code",
   "execution_count": 13,
   "metadata": {},
   "outputs": [],
   "source": [
    "products.drop(axis=1,columns=['deliverybdays','deliverycdays'],inplace=True)"
   ]
  },
  {
   "cell_type": "code",
   "execution_count": 14,
   "metadata": {},
   "outputs": [
    {
     "name": "stdout",
     "output_type": "stream",
     "text": [
      "<class 'pandas.core.frame.DataFrame'>\n",
      "Int64Index: 1643920 entries, 0 to 1648823\n",
      "Data columns (total 18 columns):\n",
      "fsn_id                             1643920 non-null object\n",
      "order_date                         1643920 non-null datetime64[ns]\n",
      "Year                               1643920 non-null int64\n",
      "Month                              1643920 non-null int64\n",
      "order_id                           1643920 non-null int64\n",
      "order_item_id                      1643920 non-null int64\n",
      "gmv                                1643920 non-null float64\n",
      "units                              1643920 non-null int64\n",
      "s1_fact.order_payment_type         1643920 non-null object\n",
      "sla                                1643920 non-null int64\n",
      "cust_id                            1643920 non-null float64\n",
      "pincode                            1643920 non-null float64\n",
      "product_analytic_super_category    1643920 non-null object\n",
      "product_analytic_category          1643920 non-null object\n",
      "product_analytic_sub_category      1643920 non-null object\n",
      "product_analytic_vertical          1643920 non-null object\n",
      "product_mrp                        1643920 non-null int64\n",
      "product_procurement_sla            1643920 non-null int64\n",
      "dtypes: datetime64[ns](1), float64(3), int64(8), object(6)\n",
      "memory usage: 238.3+ MB\n"
     ]
    }
   ],
   "source": [
    "products.info()"
   ]
  },
  {
   "cell_type": "code",
   "execution_count": 15,
   "metadata": {},
   "outputs": [
    {
     "data": {
      "text/plain": [
       "ACCE6VGHYKYFX4WB    37406\n",
       "SELDXMC3JNMTQMGV    17801\n",
       "CAMDA6RJERF8HS4G    16706\n",
       "ACCDXEGXG8HJUCSK    14221\n",
       "ACCECYHH4QDNZXEX    13617\n",
       "ACCE9C3WYBMPJ98R    13232\n",
       "CAMDUGSSHXQ9FDHM    12480\n",
       "ACCEBEMGQUZYJBKG    12238\n",
       "ACCEBASUU3ZZRDYV    12192\n",
       "ACCEBEMEWFSDJH72    11732\n",
       "SELE863FGS4HMQWF    10774\n",
       "ACCDVZ83VBHCWFFA    10350\n",
       "ACCEE3JNKNFH5KBG     9034\n",
       "CAMDF4FHEHKYNSHY     8884\n",
       "ACCDH7MFZJGRWJCW     7963\n",
       "ACCE9R3UDGBBE4ZY     7725\n",
       "CAME6FWA7RHNXGPF     7399\n",
       "ACCDQGZS3EK5WVR5     6817\n",
       "ACCE53FQZTN9UNPG     6542\n",
       "AUDDGN3Q2GSCBUSX     6522\n",
       "ACCDVUZFPGSGGYRD     6491\n",
       "ACCE9R3U6DZENXFM     6409\n",
       "SELEH8VYQRNA99BH     6256\n",
       "ACCE58P94S5YVBYG     6240\n",
       "ACCEDHZHERAJFMNT     6061\n",
       "VGLEF3X3KGCZZT3N     6040\n",
       "ACCEAJP64HZ8GZGR     5485\n",
       "ACCE6VGHRPDQR5GD     5100\n",
       "ACCE9R3UCZZGFVVQ     4966\n",
       "ACCDFZEJ6ZGSWRMK     4882\n",
       "                    ...  \n",
       "ACCEGJH9GWS3HME2        1\n",
       "ACCEFZFRVRRPARYP        1\n",
       "ACCDNFCHZTUGBNZG        1\n",
       "ACCDZBZGJ5WHYQKF        1\n",
       "ACCDRHAH5CVWAH4A        1\n",
       "ACCEYHWYYDPRQ2EQ        1\n",
       "ACCE9R3SYNKYE9JR        1\n",
       "ACCEJTWHFSAGJFZZ        1\n",
       "ACCEDSCYQSKDUPRW        1\n",
       "ACCE5V8THMPHH2WW        1\n",
       "ACCDNFS9ZXBFSWCC        1\n",
       "ACCEFSPNQXR26FR9        1\n",
       "ACCEGHK9WBVZDMHY        1\n",
       "ACCE86XAEGBEZUUP        1\n",
       "ACCD4YZP7AAS6GU4        1\n",
       "SELEGRY5NEFYS7MP        1\n",
       "ACCEEGVRR52YDU95        1\n",
       "ACCEFSPN53SD75MY        1\n",
       "ACCDNFS9SMWQPX77        1\n",
       "ACCDHQM3AW8PGACQ        1\n",
       "ACCEDNY4FBY4YADD        1\n",
       "AMRE3SHGWZQSYUPM        1\n",
       "ACCDNFCHJF9ZAV5G        1\n",
       "ACCDD487GWVV4Y4G        1\n",
       "ACCDEGCRZMXDPB3E        1\n",
       "ACCEAHNYK8MGPA8V        1\n",
       "ACCEGBHG9FNHWE8M        1\n",
       "ACCEDKU4TJZQTKXG        1\n",
       "ACCEFSPNCT7FVXNG        1\n",
       "REME9VTZQSZUPSMD        1\n",
       "Name: fsn_id, Length: 21216, dtype: int64"
      ]
     },
     "execution_count": 15,
     "metadata": {},
     "output_type": "execute_result"
    }
   ],
   "source": [
    "products.fsn_id.value_counts()"
   ]
  },
  {
   "cell_type": "code",
   "execution_count": 16,
   "metadata": {},
   "outputs": [
    {
     "data": {
      "text/plain": [
       "2016    855006\n",
       "2015    788914\n",
       "Name: Year, dtype: int64"
      ]
     },
     "execution_count": 16,
     "metadata": {},
     "output_type": "execute_result"
    }
   ],
   "source": [
    "products.Year.value_counts(dropna=False)"
   ]
  },
  {
   "cell_type": "code",
   "execution_count": 17,
   "metadata": {},
   "outputs": [
    {
     "data": {
      "text/plain": [
       "9     207472\n",
       "10    205730\n",
       "12    158151\n",
       "5     157072\n",
       "3     153299\n",
       "2     144084\n",
       "1     143768\n",
       "4     134390\n",
       "11    129448\n",
       "6     121798\n",
       "7      88439\n",
       "8        269\n",
       "Name: Month, dtype: int64"
      ]
     },
     "execution_count": 17,
     "metadata": {},
     "output_type": "execute_result"
    }
   ],
   "source": [
    "products.Month.value_counts(dropna=False)"
   ]
  },
  {
   "cell_type": "code",
   "execution_count": 18,
   "metadata": {},
   "outputs": [
    {
     "data": {
      "text/plain": [
       "COD        1191443\n",
       "Prepaid     452477\n",
       "Name: s1_fact.order_payment_type, dtype: int64"
      ]
     },
     "execution_count": 18,
     "metadata": {},
     "output_type": "execute_result"
    }
   ],
   "source": [
    "products['s1_fact.order_payment_type'].value_counts(dropna=False)"
   ]
  },
  {
   "cell_type": "code",
   "execution_count": 19,
   "metadata": {},
   "outputs": [
    {
     "data": {
      "text/plain": [
       "-9.031043e+18    13506\n",
       "-9.779010e+17    12055\n",
       " 7.346497e+18     7243\n",
       " 8.649648e+18     7188\n",
       " 6.404913e+18     6398\n",
       " 9.226248e+17     6377\n",
       " 6.513331e+18     6288\n",
       " 2.175163e+18     6146\n",
       "-4.769171e+18     6139\n",
       " 2.222912e+18     6031\n",
       "-3.444751e+18     5377\n",
       " 7.686938e+18     5312\n",
       "-4.317473e+18     4606\n",
       "-7.885152e+18     4435\n",
       " 4.337281e+18     4317\n",
       " 8.424231e+18     4263\n",
       "-9.141541e+18     3929\n",
       " 6.820321e+18     3862\n",
       " 4.705607e+18     3837\n",
       " 6.148223e+18     3785\n",
       " 3.654846e+16     3753\n",
       "-2.498956e+18     3722\n",
       " 6.195476e+18     3438\n",
       "-7.008123e+18     3417\n",
       " 6.280637e+18     3352\n",
       " 2.662204e+18     3318\n",
       "-2.112132e+18     3290\n",
       "-5.922363e+18     3240\n",
       " 1.151368e+18     3214\n",
       "-7.204916e+17     3065\n",
       "                 ...  \n",
       "-5.869364e+18        1\n",
       " 3.353643e+18        1\n",
       " 6.024585e+18        1\n",
       "-8.127330e+18        1\n",
       "-6.010972e+18        1\n",
       "-6.351221e+18        1\n",
       "-5.022779e+18        1\n",
       " 8.380523e+18        1\n",
       " 1.252046e+18        1\n",
       " 4.759496e+18        1\n",
       "-6.526234e+18        1\n",
       "-3.989416e+16        1\n",
       "-1.071054e+17        1\n",
       " 6.567231e+18        1\n",
       " 1.975590e+18        1\n",
       "-4.841806e+18        1\n",
       " 6.143448e+18        1\n",
       "-5.289801e+18        1\n",
       "-2.350609e+18        1\n",
       " 1.592803e+18        1\n",
       " 2.005390e+18        1\n",
       " 5.211570e+18        1\n",
       "-9.183924e+18        1\n",
       "-2.405056e+18        1\n",
       " 8.671600e+18        1\n",
       "-3.345111e+18        1\n",
       " 5.335672e+18        1\n",
       "-1.729475e+18        1\n",
       "-8.062964e+18        1\n",
       " 8.402260e+18        1\n",
       "Name: pincode, Length: 7564, dtype: int64"
      ]
     },
     "execution_count": 19,
     "metadata": {},
     "output_type": "execute_result"
    }
   ],
   "source": [
    "products.pincode.value_counts(dropna=False)"
   ]
  },
  {
   "cell_type": "code",
   "execution_count": 20,
   "metadata": {},
   "outputs": [
    {
     "data": {
      "text/plain": [
       "CE    1643920\n",
       "Name: product_analytic_super_category, dtype: int64"
      ]
     },
     "execution_count": 20,
     "metadata": {},
     "output_type": "execute_result"
    }
   ],
   "source": [
    "products.product_analytic_super_category.value_counts(dropna=False)"
   ]
  },
  {
   "cell_type": "code",
   "execution_count": 21,
   "metadata": {},
   "outputs": [
    {
     "data": {
      "text/plain": [
       "LaptopSpeaker              286665\n",
       "MobileSpeaker              249643\n",
       "AudioMP3Player             112545\n",
       "PhysicalGame               104799\n",
       "HomeAudioSpeaker            85306\n",
       "GamingHeadset               62180\n",
       "GamePad                     58944\n",
       "DSLR                        56514\n",
       "Flash                       48717\n",
       "SelectorBox                 46122\n",
       "CameraBattery               41187\n",
       "RemoteControl               39583\n",
       "Point & Shoot               38618\n",
       "CameraTripod                37770\n",
       "GamingMouse                 37356\n",
       "VideoGlasses                36644\n",
       "Lens                        35367\n",
       "FMRadio                     28147\n",
       "VideoPlayer                 20222\n",
       "HandheldGamingConsole       19344\n",
       "CameraStorageMemoryCard     17943\n",
       "CameraBag                   17465\n",
       "CameraBatteryCharger        15614\n",
       "Binoculars                  14554\n",
       "Filter                      12684\n",
       "GamingConsole                9667\n",
       "GamingAccessoryKit           9474\n",
       "CodeInTheBoxGame             9331\n",
       "Microphone                   9049\n",
       "TVOutCableAccessory          7590\n",
       "                            ...  \n",
       "SportsAndAction              2258\n",
       "Dock                         2156\n",
       "CameraFilmRolls              1901\n",
       "Telescope                    1819\n",
       "Strap                        1675\n",
       "HiFiSystem                   1552\n",
       "MotionController             1180\n",
       "CameraMount                  1129\n",
       "Camcorders                    984\n",
       "GamingSpeaker                 500\n",
       "CameraBatteryGrip             400\n",
       "DockingStation                381\n",
       "DJController                  213\n",
       "CameraEyeCup                   98\n",
       "GameValueCards                 97\n",
       "ExtensionTube                  87\n",
       "SoundMixer                     69\n",
       "CameraMicrophone               51\n",
       "GamingChargingStation          47\n",
       "CoolingPad                     46\n",
       "CameraHousing                  19\n",
       "Softbox                        15\n",
       "ReflectorUmbrella               3\n",
       "SlingBox                        3\n",
       "CameraLEDLight                  3\n",
       "GamingGun                       3\n",
       "FlashShoeAdapter                2\n",
       "KaraokePlayer                   2\n",
       "Teleconverter                   1\n",
       "GameControlMount                1\n",
       "Name: product_analytic_vertical, Length: 74, dtype: int64"
      ]
     },
     "execution_count": 21,
     "metadata": {},
     "output_type": "execute_result"
    }
   ],
   "source": [
    "products.product_analytic_vertical.value_counts(dropna=False)"
   ]
  },
  {
   "cell_type": "code",
   "execution_count": 22,
   "metadata": {},
   "outputs": [
    {
     "data": {
      "text/plain": [
       "Speaker                542122\n",
       "CameraAccessory        238862\n",
       "GamingAccessory        201318\n",
       "TVVideoSmall           142571\n",
       "HomeAudio              124415\n",
       "Game                   114130\n",
       "AudioMP3Player         112545\n",
       "Camera                 100942\n",
       "GamingConsole           29011\n",
       "CameraStorage           17943\n",
       "AudioAccessory          11676\n",
       "HomeTheatre              4245\n",
       "AmplifierReceiver        4043\n",
       "GameMembershipCards        97\n",
       "Name: product_analytic_sub_category, dtype: int64"
      ]
     },
     "execution_count": 22,
     "metadata": {},
     "output_type": "execute_result"
    }
   ],
   "source": [
    "products.product_analytic_sub_category.value_counts(dropna=False)"
   ]
  },
  {
   "cell_type": "code",
   "execution_count": 23,
   "metadata": {},
   "outputs": [
    {
     "data": {
      "text/plain": [
       "999       108339\n",
       "1999       79533\n",
       "499        41141\n",
       "310        40774\n",
       "599        40200\n",
       "4999       37549\n",
       "2999       36491\n",
       "3999       34691\n",
       "500        31292\n",
       "1000       30420\n",
       "1299       29335\n",
       "1990       27359\n",
       "1499       27223\n",
       "799        24815\n",
       "699        24651\n",
       "800        23852\n",
       "3499       23357\n",
       "399        20089\n",
       "2499       18863\n",
       "2990       18537\n",
       "1599       18374\n",
       "34950      16711\n",
       "1199       15813\n",
       "7999       15476\n",
       "950        15411\n",
       "3199       14875\n",
       "1100       14836\n",
       "899        14516\n",
       "400        13973\n",
       "2000       13595\n",
       "           ...  \n",
       "3439           1\n",
       "6517           1\n",
       "113995         1\n",
       "2430           1\n",
       "8580           1\n",
       "63900          1\n",
       "9600           1\n",
       "21890          1\n",
       "4491           1\n",
       "14743          1\n",
       "63885          1\n",
       "8599           1\n",
       "1430           1\n",
       "4504           1\n",
       "2505           1\n",
       "34190          1\n",
       "9632           1\n",
       "51647          1\n",
       "20899          1\n",
       "7598           1\n",
       "434            1\n",
       "2489           1\n",
       "17840          1\n",
       "2488           1\n",
       "6586           1\n",
       "4543           1\n",
       "5564           1\n",
       "15800          1\n",
       "48595          1\n",
       "7670           1\n",
       "Name: product_mrp, Length: 1929, dtype: int64"
      ]
     },
     "execution_count": 23,
     "metadata": {},
     "output_type": "execute_result"
    }
   ],
   "source": [
    "products.product_mrp.value_counts(dropna=False)"
   ]
  },
  {
   "cell_type": "code",
   "execution_count": 24,
   "metadata": {},
   "outputs": [
    {
     "data": {
      "text/plain": [
       " 2       527125\n",
       " 1       307539\n",
       " 3       302481\n",
       " 5       221322\n",
       " 4       119840\n",
       "-1        75611\n",
       " 0        42357\n",
       " 6        18501\n",
       " 7        11719\n",
       " 15        6159\n",
       " 14        5256\n",
       " 1000      4735\n",
       " 13         523\n",
       " 8          522\n",
       " 9           97\n",
       " 10          73\n",
       " 12          60\n",
       "Name: product_procurement_sla, dtype: int64"
      ]
     },
     "execution_count": 24,
     "metadata": {},
     "output_type": "execute_result"
    }
   ],
   "source": [
    "products.product_procurement_sla.value_counts(dropna=False)"
   ]
  },
  {
   "cell_type": "code",
   "execution_count": 25,
   "metadata": {},
   "outputs": [
    {
     "data": {
      "text/plain": [
       "6       236755\n",
       "5       233013\n",
       "4       217226\n",
       "7       201521\n",
       "3       177330\n",
       "8       154897\n",
       "2       109819\n",
       "9        97793\n",
       "1        74083\n",
       "10       57535\n",
       "11       33833\n",
       "12       19554\n",
       "13       11135\n",
       "0         5974\n",
       "14        5938\n",
       "15        3181\n",
       "16        1822\n",
       "17         891\n",
       "18         511\n",
       "19         289\n",
       "20         158\n",
       "21         106\n",
       "25          76\n",
       "22          72\n",
       "24          69\n",
       "23          59\n",
       "26          58\n",
       "27          44\n",
       "28          36\n",
       "30          31\n",
       "29          20\n",
       "31          12\n",
       "32          10\n",
       "35           7\n",
       "38           7\n",
       "33           6\n",
       "42           5\n",
       "39           5\n",
       "34           4\n",
       "44           3\n",
       "41           3\n",
       "40           3\n",
       "61           3\n",
       "36           3\n",
       "37           2\n",
       "239          2\n",
       "45           2\n",
       "47           2\n",
       "184          1\n",
       "175          1\n",
       "145          1\n",
       "68           1\n",
       "1004         1\n",
       "60           1\n",
       "56           1\n",
       "52           1\n",
       "51           1\n",
       "46           1\n",
       "43           1\n",
       "1006         1\n",
       "Name: sla, dtype: int64"
      ]
     },
     "execution_count": 25,
     "metadata": {},
     "output_type": "execute_result"
    }
   ],
   "source": [
    "products.sla.value_counts(dropna=False)"
   ]
  },
  {
   "cell_type": "code",
   "execution_count": 26,
   "metadata": {},
   "outputs": [],
   "source": [
    "products['day']=products.order_date.dt.day"
   ]
  },
  {
   "cell_type": "code",
   "execution_count": 27,
   "metadata": {},
   "outputs": [
    {
     "data": {
      "text/html": [
       "<div>\n",
       "<style scoped>\n",
       "    .dataframe tbody tr th:only-of-type {\n",
       "        vertical-align: middle;\n",
       "    }\n",
       "\n",
       "    .dataframe tbody tr th {\n",
       "        vertical-align: top;\n",
       "    }\n",
       "\n",
       "    .dataframe thead th {\n",
       "        text-align: right;\n",
       "    }\n",
       "</style>\n",
       "<table border=\"1\" class=\"dataframe\">\n",
       "  <thead>\n",
       "    <tr style=\"text-align: right;\">\n",
       "      <th></th>\n",
       "      <th>fsn_id</th>\n",
       "      <th>order_date</th>\n",
       "      <th>Year</th>\n",
       "      <th>Month</th>\n",
       "      <th>order_id</th>\n",
       "      <th>order_item_id</th>\n",
       "      <th>gmv</th>\n",
       "      <th>units</th>\n",
       "      <th>s1_fact.order_payment_type</th>\n",
       "      <th>sla</th>\n",
       "      <th>cust_id</th>\n",
       "      <th>pincode</th>\n",
       "      <th>product_analytic_super_category</th>\n",
       "      <th>product_analytic_category</th>\n",
       "      <th>product_analytic_sub_category</th>\n",
       "      <th>product_analytic_vertical</th>\n",
       "      <th>product_mrp</th>\n",
       "      <th>product_procurement_sla</th>\n",
       "      <th>day</th>\n",
       "    </tr>\n",
       "  </thead>\n",
       "  <tbody>\n",
       "    <tr>\n",
       "      <th>0</th>\n",
       "      <td>ACCCX3S58G7B5F6P</td>\n",
       "      <td>2015-10-17 15:11:54</td>\n",
       "      <td>2015</td>\n",
       "      <td>10</td>\n",
       "      <td>3419300926147000</td>\n",
       "      <td>3419300926147000</td>\n",
       "      <td>6400.0</td>\n",
       "      <td>1</td>\n",
       "      <td>COD</td>\n",
       "      <td>5</td>\n",
       "      <td>-1.012991e+18</td>\n",
       "      <td>-7.791756e+18</td>\n",
       "      <td>CE</td>\n",
       "      <td>CameraAccessory</td>\n",
       "      <td>CameraAccessory</td>\n",
       "      <td>CameraTripod</td>\n",
       "      <td>7190</td>\n",
       "      <td>0</td>\n",
       "      <td>17</td>\n",
       "    </tr>\n",
       "    <tr>\n",
       "      <th>1</th>\n",
       "      <td>ACCCX3S58G7B5F6P</td>\n",
       "      <td>2015-10-19 10:07:22</td>\n",
       "      <td>2015</td>\n",
       "      <td>10</td>\n",
       "      <td>1420830839915200</td>\n",
       "      <td>1420830839915200</td>\n",
       "      <td>6900.0</td>\n",
       "      <td>1</td>\n",
       "      <td>COD</td>\n",
       "      <td>7</td>\n",
       "      <td>-8.990325e+18</td>\n",
       "      <td>7.335411e+18</td>\n",
       "      <td>CE</td>\n",
       "      <td>CameraAccessory</td>\n",
       "      <td>CameraAccessory</td>\n",
       "      <td>CameraTripod</td>\n",
       "      <td>7190</td>\n",
       "      <td>0</td>\n",
       "      <td>19</td>\n",
       "    </tr>\n",
       "    <tr>\n",
       "      <th>2</th>\n",
       "      <td>ACCCX3S5AHMF55FV</td>\n",
       "      <td>2015-10-20 15:45:56</td>\n",
       "      <td>2015</td>\n",
       "      <td>10</td>\n",
       "      <td>2421912925714800</td>\n",
       "      <td>2421912925714800</td>\n",
       "      <td>1990.0</td>\n",
       "      <td>1</td>\n",
       "      <td>COD</td>\n",
       "      <td>10</td>\n",
       "      <td>-1.040443e+18</td>\n",
       "      <td>-7.477688e+18</td>\n",
       "      <td>CE</td>\n",
       "      <td>CameraAccessory</td>\n",
       "      <td>CameraAccessory</td>\n",
       "      <td>CameraTripod</td>\n",
       "      <td>2099</td>\n",
       "      <td>3</td>\n",
       "      <td>20</td>\n",
       "    </tr>\n",
       "    <tr>\n",
       "      <th>3</th>\n",
       "      <td>ACCCX3S5AHMF55FV</td>\n",
       "      <td>2015-10-14 12:05:15</td>\n",
       "      <td>2015</td>\n",
       "      <td>10</td>\n",
       "      <td>4416592101738400</td>\n",
       "      <td>4416592101738400</td>\n",
       "      <td>1690.0</td>\n",
       "      <td>1</td>\n",
       "      <td>Prepaid</td>\n",
       "      <td>4</td>\n",
       "      <td>-7.604961e+18</td>\n",
       "      <td>-5.835932e+18</td>\n",
       "      <td>CE</td>\n",
       "      <td>CameraAccessory</td>\n",
       "      <td>CameraAccessory</td>\n",
       "      <td>CameraTripod</td>\n",
       "      <td>2099</td>\n",
       "      <td>3</td>\n",
       "      <td>14</td>\n",
       "    </tr>\n",
       "    <tr>\n",
       "      <th>4</th>\n",
       "      <td>ACCCX3S5AHMF55FV</td>\n",
       "      <td>2015-10-17 21:25:03</td>\n",
       "      <td>2015</td>\n",
       "      <td>10</td>\n",
       "      <td>4419525153426400</td>\n",
       "      <td>4419525153426400</td>\n",
       "      <td>1618.0</td>\n",
       "      <td>1</td>\n",
       "      <td>Prepaid</td>\n",
       "      <td>6</td>\n",
       "      <td>2.894557e+18</td>\n",
       "      <td>5.347354e+17</td>\n",
       "      <td>CE</td>\n",
       "      <td>CameraAccessory</td>\n",
       "      <td>CameraAccessory</td>\n",
       "      <td>CameraTripod</td>\n",
       "      <td>2099</td>\n",
       "      <td>3</td>\n",
       "      <td>17</td>\n",
       "    </tr>\n",
       "  </tbody>\n",
       "</table>\n",
       "</div>"
      ],
      "text/plain": [
       "             fsn_id          order_date  Year  Month          order_id  \\\n",
       "0  ACCCX3S58G7B5F6P 2015-10-17 15:11:54  2015     10  3419300926147000   \n",
       "1  ACCCX3S58G7B5F6P 2015-10-19 10:07:22  2015     10  1420830839915200   \n",
       "2  ACCCX3S5AHMF55FV 2015-10-20 15:45:56  2015     10  2421912925714800   \n",
       "3  ACCCX3S5AHMF55FV 2015-10-14 12:05:15  2015     10  4416592101738400   \n",
       "4  ACCCX3S5AHMF55FV 2015-10-17 21:25:03  2015     10  4419525153426400   \n",
       "\n",
       "      order_item_id     gmv  units s1_fact.order_payment_type  sla  \\\n",
       "0  3419300926147000  6400.0      1                        COD    5   \n",
       "1  1420830839915200  6900.0      1                        COD    7   \n",
       "2  2421912925714800  1990.0      1                        COD   10   \n",
       "3  4416592101738400  1690.0      1                    Prepaid    4   \n",
       "4  4419525153426400  1618.0      1                    Prepaid    6   \n",
       "\n",
       "        cust_id       pincode product_analytic_super_category  \\\n",
       "0 -1.012991e+18 -7.791756e+18                              CE   \n",
       "1 -8.990325e+18  7.335411e+18                              CE   \n",
       "2 -1.040443e+18 -7.477688e+18                              CE   \n",
       "3 -7.604961e+18 -5.835932e+18                              CE   \n",
       "4  2.894557e+18  5.347354e+17                              CE   \n",
       "\n",
       "  product_analytic_category product_analytic_sub_category  \\\n",
       "0           CameraAccessory               CameraAccessory   \n",
       "1           CameraAccessory               CameraAccessory   \n",
       "2           CameraAccessory               CameraAccessory   \n",
       "3           CameraAccessory               CameraAccessory   \n",
       "4           CameraAccessory               CameraAccessory   \n",
       "\n",
       "  product_analytic_vertical  product_mrp  product_procurement_sla  day  \n",
       "0              CameraTripod         7190                        0   17  \n",
       "1              CameraTripod         7190                        0   19  \n",
       "2              CameraTripod         2099                        3   20  \n",
       "3              CameraTripod         2099                        3   14  \n",
       "4              CameraTripod         2099                        3   17  "
      ]
     },
     "execution_count": 27,
     "metadata": {},
     "output_type": "execute_result"
    }
   ],
   "source": [
    "products.head()"
   ]
  },
  {
   "cell_type": "code",
   "execution_count": 28,
   "metadata": {},
   "outputs": [],
   "source": [
    "### Filter the  camera accessory, home audio and gaming accessory sub-categories\n",
    "products_filtered=pd.DataFrame(products[products.product_analytic_sub_category.isin(['CameraAccessory','GamingAccessory','HomeAudio'])])\n"
   ]
  },
  {
   "cell_type": "code",
   "execution_count": 29,
   "metadata": {},
   "outputs": [
    {
     "name": "stdout",
     "output_type": "stream",
     "text": [
      "<class 'pandas.core.frame.DataFrame'>\n",
      "Int64Index: 564595 entries, 0 to 1647205\n",
      "Data columns (total 19 columns):\n",
      "fsn_id                             564595 non-null object\n",
      "order_date                         564595 non-null datetime64[ns]\n",
      "Year                               564595 non-null int64\n",
      "Month                              564595 non-null int64\n",
      "order_id                           564595 non-null int64\n",
      "order_item_id                      564595 non-null int64\n",
      "gmv                                564595 non-null float64\n",
      "units                              564595 non-null int64\n",
      "s1_fact.order_payment_type         564595 non-null object\n",
      "sla                                564595 non-null int64\n",
      "cust_id                            564595 non-null float64\n",
      "pincode                            564595 non-null float64\n",
      "product_analytic_super_category    564595 non-null object\n",
      "product_analytic_category          564595 non-null object\n",
      "product_analytic_sub_category      564595 non-null object\n",
      "product_analytic_vertical          564595 non-null object\n",
      "product_mrp                        564595 non-null int64\n",
      "product_procurement_sla            564595 non-null int64\n",
      "day                                564595 non-null int64\n",
      "dtypes: datetime64[ns](1), float64(3), int64(9), object(6)\n",
      "memory usage: 86.2+ MB\n"
     ]
    }
   ],
   "source": [
    "products_filtered.info()"
   ]
  },
  {
   "cell_type": "code",
   "execution_count": 30,
   "metadata": {},
   "outputs": [],
   "source": [
    "## Assign week numbers\n",
    "products_filtered['Week_Number'] = products_filtered.order_date.dt.week"
   ]
  },
  {
   "cell_type": "code",
   "execution_count": 31,
   "metadata": {},
   "outputs": [],
   "source": [
    "#Stripping the time part from the order_date as this is not required\n",
    "products_filtered['order_date']=products_filtered['order_date'].apply(lambda x:x.replace(hour=0,minute=0,second=0,microsecond=0))\n"
   ]
  },
  {
   "cell_type": "code",
   "execution_count": 32,
   "metadata": {},
   "outputs": [],
   "source": [
    "#Removing some outlier values\n",
    "products_filtered=pd.DataFrame(products_filtered[~products_filtered.product_procurement_sla.isin([0,-1])])\n",
    "products_filtered=pd.DataFrame(products_filtered[products_filtered.gmv<=3999])\n",
    "products_filtered=pd.DataFrame(products_filtered[products_filtered.gmv>0])"
   ]
  },
  {
   "cell_type": "code",
   "execution_count": 33,
   "metadata": {},
   "outputs": [
    {
     "name": "stdout",
     "output_type": "stream",
     "text": [
      "<class 'pandas.core.frame.DataFrame'>\n",
      "Int64Index: 509512 entries, 2 to 1647171\n",
      "Data columns (total 20 columns):\n",
      "fsn_id                             509512 non-null object\n",
      "order_date                         509512 non-null datetime64[ns]\n",
      "Year                               509512 non-null int64\n",
      "Month                              509512 non-null int64\n",
      "order_id                           509512 non-null int64\n",
      "order_item_id                      509512 non-null int64\n",
      "gmv                                509512 non-null float64\n",
      "units                              509512 non-null int64\n",
      "s1_fact.order_payment_type         509512 non-null object\n",
      "sla                                509512 non-null int64\n",
      "cust_id                            509512 non-null float64\n",
      "pincode                            509512 non-null float64\n",
      "product_analytic_super_category    509512 non-null object\n",
      "product_analytic_category          509512 non-null object\n",
      "product_analytic_sub_category      509512 non-null object\n",
      "product_analytic_vertical          509512 non-null object\n",
      "product_mrp                        509512 non-null int64\n",
      "product_procurement_sla            509512 non-null int64\n",
      "day                                509512 non-null int64\n",
      "Week_Number                        509512 non-null int64\n",
      "dtypes: datetime64[ns](1), float64(3), int64(10), object(6)\n",
      "memory usage: 81.6+ MB\n"
     ]
    }
   ],
   "source": [
    "products_filtered.info()"
   ]
  },
  {
   "cell_type": "code",
   "execution_count": 34,
   "metadata": {},
   "outputs": [
    {
     "data": {
      "text/html": [
       "<div>\n",
       "<style scoped>\n",
       "    .dataframe tbody tr th:only-of-type {\n",
       "        vertical-align: middle;\n",
       "    }\n",
       "\n",
       "    .dataframe tbody tr th {\n",
       "        vertical-align: top;\n",
       "    }\n",
       "\n",
       "    .dataframe thead th {\n",
       "        text-align: right;\n",
       "    }\n",
       "</style>\n",
       "<table border=\"1\" class=\"dataframe\">\n",
       "  <thead>\n",
       "    <tr style=\"text-align: right;\">\n",
       "      <th></th>\n",
       "      <th>fsn_id</th>\n",
       "      <th>order_date</th>\n",
       "      <th>Year</th>\n",
       "      <th>Month</th>\n",
       "      <th>order_id</th>\n",
       "      <th>order_item_id</th>\n",
       "      <th>gmv</th>\n",
       "      <th>units</th>\n",
       "      <th>s1_fact.order_payment_type</th>\n",
       "      <th>sla</th>\n",
       "      <th>cust_id</th>\n",
       "      <th>pincode</th>\n",
       "      <th>product_analytic_super_category</th>\n",
       "      <th>product_analytic_category</th>\n",
       "      <th>product_analytic_sub_category</th>\n",
       "      <th>product_analytic_vertical</th>\n",
       "      <th>product_mrp</th>\n",
       "      <th>product_procurement_sla</th>\n",
       "      <th>day</th>\n",
       "      <th>Week_Number</th>\n",
       "    </tr>\n",
       "  </thead>\n",
       "  <tbody>\n",
       "    <tr>\n",
       "      <th>2</th>\n",
       "      <td>ACCCX3S5AHMF55FV</td>\n",
       "      <td>2015-10-20</td>\n",
       "      <td>2015</td>\n",
       "      <td>10</td>\n",
       "      <td>2421912925714800</td>\n",
       "      <td>2421912925714800</td>\n",
       "      <td>1990.0</td>\n",
       "      <td>1</td>\n",
       "      <td>COD</td>\n",
       "      <td>10</td>\n",
       "      <td>-1.040443e+18</td>\n",
       "      <td>-7.477688e+18</td>\n",
       "      <td>CE</td>\n",
       "      <td>CameraAccessory</td>\n",
       "      <td>CameraAccessory</td>\n",
       "      <td>CameraTripod</td>\n",
       "      <td>2099</td>\n",
       "      <td>3</td>\n",
       "      <td>20</td>\n",
       "      <td>43</td>\n",
       "    </tr>\n",
       "    <tr>\n",
       "      <th>3</th>\n",
       "      <td>ACCCX3S5AHMF55FV</td>\n",
       "      <td>2015-10-14</td>\n",
       "      <td>2015</td>\n",
       "      <td>10</td>\n",
       "      <td>4416592101738400</td>\n",
       "      <td>4416592101738400</td>\n",
       "      <td>1690.0</td>\n",
       "      <td>1</td>\n",
       "      <td>Prepaid</td>\n",
       "      <td>4</td>\n",
       "      <td>-7.604961e+18</td>\n",
       "      <td>-5.835932e+18</td>\n",
       "      <td>CE</td>\n",
       "      <td>CameraAccessory</td>\n",
       "      <td>CameraAccessory</td>\n",
       "      <td>CameraTripod</td>\n",
       "      <td>2099</td>\n",
       "      <td>3</td>\n",
       "      <td>14</td>\n",
       "      <td>42</td>\n",
       "    </tr>\n",
       "    <tr>\n",
       "      <th>4</th>\n",
       "      <td>ACCCX3S5AHMF55FV</td>\n",
       "      <td>2015-10-17</td>\n",
       "      <td>2015</td>\n",
       "      <td>10</td>\n",
       "      <td>4419525153426400</td>\n",
       "      <td>4419525153426400</td>\n",
       "      <td>1618.0</td>\n",
       "      <td>1</td>\n",
       "      <td>Prepaid</td>\n",
       "      <td>6</td>\n",
       "      <td>2.894557e+18</td>\n",
       "      <td>5.347354e+17</td>\n",
       "      <td>CE</td>\n",
       "      <td>CameraAccessory</td>\n",
       "      <td>CameraAccessory</td>\n",
       "      <td>CameraTripod</td>\n",
       "      <td>2099</td>\n",
       "      <td>3</td>\n",
       "      <td>17</td>\n",
       "      <td>42</td>\n",
       "    </tr>\n",
       "    <tr>\n",
       "      <th>5</th>\n",
       "      <td>ACCCX3S5JGAJETYR</td>\n",
       "      <td>2015-10-17</td>\n",
       "      <td>2015</td>\n",
       "      <td>10</td>\n",
       "      <td>3419188825145600</td>\n",
       "      <td>3419188825145600</td>\n",
       "      <td>3324.0</td>\n",
       "      <td>1</td>\n",
       "      <td>Prepaid</td>\n",
       "      <td>5</td>\n",
       "      <td>-7.641546e+18</td>\n",
       "      <td>-1.919053e+18</td>\n",
       "      <td>CE</td>\n",
       "      <td>CameraAccessory</td>\n",
       "      <td>CameraAccessory</td>\n",
       "      <td>CameraTripod</td>\n",
       "      <td>4044</td>\n",
       "      <td>5</td>\n",
       "      <td>17</td>\n",
       "      <td>42</td>\n",
       "    </tr>\n",
       "    <tr>\n",
       "      <th>6</th>\n",
       "      <td>ACCCX3S5JGAJETYR</td>\n",
       "      <td>2015-10-16</td>\n",
       "      <td>2015</td>\n",
       "      <td>10</td>\n",
       "      <td>3418428515041500</td>\n",
       "      <td>3418428515041500</td>\n",
       "      <td>3695.0</td>\n",
       "      <td>1</td>\n",
       "      <td>Prepaid</td>\n",
       "      <td>6</td>\n",
       "      <td>-7.156140e+16</td>\n",
       "      <td>6.404913e+18</td>\n",
       "      <td>CE</td>\n",
       "      <td>CameraAccessory</td>\n",
       "      <td>CameraAccessory</td>\n",
       "      <td>CameraTripod</td>\n",
       "      <td>4044</td>\n",
       "      <td>5</td>\n",
       "      <td>16</td>\n",
       "      <td>42</td>\n",
       "    </tr>\n",
       "  </tbody>\n",
       "</table>\n",
       "</div>"
      ],
      "text/plain": [
       "             fsn_id order_date  Year  Month          order_id  \\\n",
       "2  ACCCX3S5AHMF55FV 2015-10-20  2015     10  2421912925714800   \n",
       "3  ACCCX3S5AHMF55FV 2015-10-14  2015     10  4416592101738400   \n",
       "4  ACCCX3S5AHMF55FV 2015-10-17  2015     10  4419525153426400   \n",
       "5  ACCCX3S5JGAJETYR 2015-10-17  2015     10  3419188825145600   \n",
       "6  ACCCX3S5JGAJETYR 2015-10-16  2015     10  3418428515041500   \n",
       "\n",
       "      order_item_id     gmv  units s1_fact.order_payment_type  sla  \\\n",
       "2  2421912925714800  1990.0      1                        COD   10   \n",
       "3  4416592101738400  1690.0      1                    Prepaid    4   \n",
       "4  4419525153426400  1618.0      1                    Prepaid    6   \n",
       "5  3419188825145600  3324.0      1                    Prepaid    5   \n",
       "6  3418428515041500  3695.0      1                    Prepaid    6   \n",
       "\n",
       "        cust_id       pincode product_analytic_super_category  \\\n",
       "2 -1.040443e+18 -7.477688e+18                              CE   \n",
       "3 -7.604961e+18 -5.835932e+18                              CE   \n",
       "4  2.894557e+18  5.347354e+17                              CE   \n",
       "5 -7.641546e+18 -1.919053e+18                              CE   \n",
       "6 -7.156140e+16  6.404913e+18                              CE   \n",
       "\n",
       "  product_analytic_category product_analytic_sub_category  \\\n",
       "2           CameraAccessory               CameraAccessory   \n",
       "3           CameraAccessory               CameraAccessory   \n",
       "4           CameraAccessory               CameraAccessory   \n",
       "5           CameraAccessory               CameraAccessory   \n",
       "6           CameraAccessory               CameraAccessory   \n",
       "\n",
       "  product_analytic_vertical  product_mrp  product_procurement_sla  day  \\\n",
       "2              CameraTripod         2099                        3   20   \n",
       "3              CameraTripod         2099                        3   14   \n",
       "4              CameraTripod         2099                        3   17   \n",
       "5              CameraTripod         4044                        5   17   \n",
       "6              CameraTripod         4044                        5   16   \n",
       "\n",
       "   Week_Number  \n",
       "2           43  \n",
       "3           42  \n",
       "4           42  \n",
       "5           42  \n",
       "6           42  "
      ]
     },
     "execution_count": 34,
     "metadata": {},
     "output_type": "execute_result"
    }
   ],
   "source": [
    "products_filtered.head()"
   ]
  },
  {
   "cell_type": "code",
   "execution_count": 35,
   "metadata": {},
   "outputs": [
    {
     "data": {
      "text/plain": [
       "<matplotlib.axes._subplots.AxesSubplot at 0x213a26008d0>"
      ]
     },
     "execution_count": 35,
     "metadata": {},
     "output_type": "execute_result"
    },
    {
     "data": {
      "image/png": "[encoded data removed]",
      "text/plain": [
       "<Figure size 432x288 with 1 Axes>"
      ]
     },
     "metadata": {
      "needs_background": "light"
     },
     "output_type": "display_data"
    }
   ],
   "source": [
    "prd_grp=products_filtered.groupby('Week_Number')\n",
    "prd_grp.mean().gmv.plot()"
   ]
  },
  {
   "cell_type": "code",
   "execution_count": 36,
   "metadata": {},
   "outputs": [
    {
     "data": {
      "text/plain": [
       "<matplotlib.axes._subplots.AxesSubplot at 0x213b886eba8>"
      ]
     },
     "execution_count": 36,
     "metadata": {},
     "output_type": "execute_result"
    },
    {
     "data": {
      "image/png": "[encoded data removed]",
      "text/plain": [
       "<Figure size 432x288 with 1 Axes>"
      ]
     },
     "metadata": {
      "needs_background": "light"
     },
     "output_type": "display_data"
    }
   ],
   "source": [
    "prd_grp=products_filtered.groupby('Week_Number')\n",
    "prd_grp.count().order_id.plot()"
   ]
  },
  {
   "cell_type": "code",
   "execution_count": 37,
   "metadata": {},
   "outputs": [
    {
     "data": {
      "text/plain": [
       "{'whiskers': [<matplotlib.lines.Line2D at 0x2139c421518>,\n",
       "  <matplotlib.lines.Line2D at 0x2139c421940>],\n",
       " 'caps': [<matplotlib.lines.Line2D at 0x2139c421d68>,\n",
       "  <matplotlib.lines.Line2D at 0x2139c421e10>],\n",
       " 'boxes': [<matplotlib.lines.Line2D at 0x2139c42bf98>],\n",
       " 'medians': [<matplotlib.lines.Line2D at 0x213b2fd75f8>],\n",
       " 'fliers': [<matplotlib.lines.Line2D at 0x213b2fd7a20>],\n",
       " 'means': []}"
      ]
     },
     "execution_count": 37,
     "metadata": {},
     "output_type": "execute_result"
    },
    {
     "data": {
      "image/png": "[encoded data removed]",
      "text/plain": [
       "<Figure size 432x288 with 1 Axes>"
      ]
     },
     "metadata": {
      "needs_background": "light"
     },
     "output_type": "display_data"
    }
   ],
   "source": [
    "import matplotlib.pyplot as plt\n",
    "import seaborn as sns\n",
    "plt.boxplot(products_filtered.gmv)"
   ]
  },
  {
   "cell_type": "code",
   "execution_count": 38,
   "metadata": {},
   "outputs": [
    {
     "data": {
      "text/plain": [
       "array([ 174.,  199.,  259.,  499.,  970., 1540., 2319., 2799., 3649.,\n",
       "       3999.])"
      ]
     },
     "execution_count": 38,
     "metadata": {},
     "output_type": "execute_result"
    }
   ],
   "source": [
    "np.percentile(products_filtered.gmv,[5,10,20,50,70,80,90,95,99,100])"
   ]
  },
  {
   "cell_type": "code",
   "execution_count": 39,
   "metadata": {},
   "outputs": [
    {
     "data": {
      "text/plain": [
       "count    509512.000000\n",
       "mean       1988.421649\n",
       "std        3728.635695\n",
       "min          63.000000\n",
       "25%         699.000000\n",
       "50%        1099.000000\n",
       "75%        2000.000000\n",
       "max       50000.000000\n",
       "Name: product_mrp, dtype: float64"
      ]
     },
     "execution_count": 39,
     "metadata": {},
     "output_type": "execute_result"
    }
   ],
   "source": [
    "products_filtered.product_mrp.describe()"
   ]
  },
  {
   "cell_type": "markdown",
   "metadata": {},
   "source": [
    "## 1.2 Understanding Media Investment (Krishnan)"
   ]
  },
  {
   "cell_type": "code",
   "execution_count": 40,
   "metadata": {},
   "outputs": [
    {
     "name": "stdout",
     "output_type": "stream",
     "text": [
      "Index(['Unnamed: 0', 'Year', 'Month', 'Total Investment', 'TV', 'Digital',\n",
      "       'Sponsorship', 'Content Marketing', 'Online marketing', ' Affiliates',\n",
      "       'SEM', 'Radio', 'Other'],\n",
      "      dtype='object')\n"
     ]
    }
   ],
   "source": [
    "from pandas import ExcelWriter\n",
    "from pandas import ExcelFile\n",
    "\n",
    "media_invest = pd.read_excel('Media data and other information.xlsx', sheet_name='Media Investment',skiprows=2)\n",
    "\n",
    "print(media_invest.columns)"
   ]
  },
  {
   "cell_type": "code",
   "execution_count": 41,
   "metadata": {},
   "outputs": [
    {
     "data": {
      "text/html": [
       "<div>\n",
       "<style scoped>\n",
       "    .dataframe tbody tr th:only-of-type {\n",
       "        vertical-align: middle;\n",
       "    }\n",
       "\n",
       "    .dataframe tbody tr th {\n",
       "        vertical-align: top;\n",
       "    }\n",
       "\n",
       "    .dataframe thead th {\n",
       "        text-align: right;\n",
       "    }\n",
       "</style>\n",
       "<table border=\"1\" class=\"dataframe\">\n",
       "  <thead>\n",
       "    <tr style=\"text-align: right;\">\n",
       "      <th></th>\n",
       "      <th>Unnamed: 0</th>\n",
       "      <th>Year</th>\n",
       "      <th>Month</th>\n",
       "      <th>Total Investment</th>\n",
       "      <th>TV</th>\n",
       "      <th>Digital</th>\n",
       "      <th>Sponsorship</th>\n",
       "      <th>Content Marketing</th>\n",
       "      <th>Online marketing</th>\n",
       "      <th>Affiliates</th>\n",
       "      <th>SEM</th>\n",
       "      <th>Radio</th>\n",
       "      <th>Other</th>\n",
       "    </tr>\n",
       "  </thead>\n",
       "  <tbody>\n",
       "    <tr>\n",
       "      <th>0</th>\n",
       "      <td>NaN</td>\n",
       "      <td>2015.0</td>\n",
       "      <td>7.0</td>\n",
       "      <td>17.061775</td>\n",
       "      <td>0.215330</td>\n",
       "      <td>2.533014</td>\n",
       "      <td>7.414270</td>\n",
       "      <td>0.000933</td>\n",
       "      <td>1.327278</td>\n",
       "      <td>0.547254</td>\n",
       "      <td>5.023697</td>\n",
       "      <td>NaN</td>\n",
       "      <td>NaN</td>\n",
       "    </tr>\n",
       "    <tr>\n",
       "      <th>1</th>\n",
       "      <td>NaN</td>\n",
       "      <td>2015.0</td>\n",
       "      <td>8.0</td>\n",
       "      <td>5.064306</td>\n",
       "      <td>0.006438</td>\n",
       "      <td>1.278074</td>\n",
       "      <td>1.063332</td>\n",
       "      <td>0.000006</td>\n",
       "      <td>0.129244</td>\n",
       "      <td>0.073684</td>\n",
       "      <td>2.513528</td>\n",
       "      <td>NaN</td>\n",
       "      <td>NaN</td>\n",
       "    </tr>\n",
       "    <tr>\n",
       "      <th>2</th>\n",
       "      <td>NaN</td>\n",
       "      <td>2015.0</td>\n",
       "      <td>9.0</td>\n",
       "      <td>96.254380</td>\n",
       "      <td>3.879504</td>\n",
       "      <td>1.356528</td>\n",
       "      <td>62.787651</td>\n",
       "      <td>0.610292</td>\n",
       "      <td>16.379990</td>\n",
       "      <td>5.038266</td>\n",
       "      <td>6.202149</td>\n",
       "      <td>NaN</td>\n",
       "      <td>NaN</td>\n",
       "    </tr>\n",
       "    <tr>\n",
       "      <th>3</th>\n",
       "      <td>NaN</td>\n",
       "      <td>2015.0</td>\n",
       "      <td>10.0</td>\n",
       "      <td>170.156297</td>\n",
       "      <td>6.144711</td>\n",
       "      <td>12.622480</td>\n",
       "      <td>84.672532</td>\n",
       "      <td>3.444075</td>\n",
       "      <td>24.371778</td>\n",
       "      <td>6.973711</td>\n",
       "      <td>31.927011</td>\n",
       "      <td>NaN</td>\n",
       "      <td>NaN</td>\n",
       "    </tr>\n",
       "    <tr>\n",
       "      <th>4</th>\n",
       "      <td>NaN</td>\n",
       "      <td>2015.0</td>\n",
       "      <td>11.0</td>\n",
       "      <td>51.216220</td>\n",
       "      <td>4.220630</td>\n",
       "      <td>1.275469</td>\n",
       "      <td>14.172116</td>\n",
       "      <td>0.168633</td>\n",
       "      <td>19.561574</td>\n",
       "      <td>6.595767</td>\n",
       "      <td>5.222032</td>\n",
       "      <td>NaN</td>\n",
       "      <td>NaN</td>\n",
       "    </tr>\n",
       "  </tbody>\n",
       "</table>\n",
       "</div>"
      ],
      "text/plain": [
       "   Unnamed: 0    Year  Month  Total Investment        TV    Digital  \\\n",
       "0         NaN  2015.0    7.0         17.061775  0.215330   2.533014   \n",
       "1         NaN  2015.0    8.0          5.064306  0.006438   1.278074   \n",
       "2         NaN  2015.0    9.0         96.254380  3.879504   1.356528   \n",
       "3         NaN  2015.0   10.0        170.156297  6.144711  12.622480   \n",
       "4         NaN  2015.0   11.0         51.216220  4.220630   1.275469   \n",
       "\n",
       "   Sponsorship  Content Marketing  Online marketing   Affiliates        SEM  \\\n",
       "0     7.414270           0.000933          1.327278     0.547254   5.023697   \n",
       "1     1.063332           0.000006          0.129244     0.073684   2.513528   \n",
       "2    62.787651           0.610292         16.379990     5.038266   6.202149   \n",
       "3    84.672532           3.444075         24.371778     6.973711  31.927011   \n",
       "4    14.172116           0.168633         19.561574     6.595767   5.222032   \n",
       "\n",
       "   Radio  Other  \n",
       "0    NaN    NaN  \n",
       "1    NaN    NaN  \n",
       "2    NaN    NaN  \n",
       "3    NaN    NaN  \n",
       "4    NaN    NaN  "
      ]
     },
     "execution_count": 41,
     "metadata": {},
     "output_type": "execute_result"
    }
   ],
   "source": [
    "media_invest.head()"
   ]
  },
  {
   "cell_type": "code",
   "execution_count": 42,
   "metadata": {},
   "outputs": [],
   "source": [
    "#Dropping the Unnamed column\n",
    "media_invest.drop(media_invest.columns[[0]],axis=1,inplace=True)"
   ]
  },
  {
   "cell_type": "code",
   "execution_count": 43,
   "metadata": {},
   "outputs": [
    {
     "data": {
      "text/html": [
       "<div>\n",
       "<style scoped>\n",
       "    .dataframe tbody tr th:only-of-type {\n",
       "        vertical-align: middle;\n",
       "    }\n",
       "\n",
       "    .dataframe tbody tr th {\n",
       "        vertical-align: top;\n",
       "    }\n",
       "\n",
       "    .dataframe thead th {\n",
       "        text-align: right;\n",
       "    }\n",
       "</style>\n",
       "<table border=\"1\" class=\"dataframe\">\n",
       "  <thead>\n",
       "    <tr style=\"text-align: right;\">\n",
       "      <th></th>\n",
       "      <th>Year</th>\n",
       "      <th>Month</th>\n",
       "      <th>Total Investment</th>\n",
       "      <th>TV</th>\n",
       "      <th>Digital</th>\n",
       "      <th>Sponsorship</th>\n",
       "      <th>Content Marketing</th>\n",
       "      <th>Online marketing</th>\n",
       "      <th>Affiliates</th>\n",
       "      <th>SEM</th>\n",
       "      <th>Radio</th>\n",
       "      <th>Other</th>\n",
       "    </tr>\n",
       "  </thead>\n",
       "  <tbody>\n",
       "    <tr>\n",
       "      <th>0</th>\n",
       "      <td>2015.0</td>\n",
       "      <td>7.0</td>\n",
       "      <td>17.061775</td>\n",
       "      <td>0.215330</td>\n",
       "      <td>2.533014</td>\n",
       "      <td>7.414270</td>\n",
       "      <td>0.000933</td>\n",
       "      <td>1.327278</td>\n",
       "      <td>0.547254</td>\n",
       "      <td>5.023697</td>\n",
       "      <td>NaN</td>\n",
       "      <td>NaN</td>\n",
       "    </tr>\n",
       "    <tr>\n",
       "      <th>1</th>\n",
       "      <td>2015.0</td>\n",
       "      <td>8.0</td>\n",
       "      <td>5.064306</td>\n",
       "      <td>0.006438</td>\n",
       "      <td>1.278074</td>\n",
       "      <td>1.063332</td>\n",
       "      <td>0.000006</td>\n",
       "      <td>0.129244</td>\n",
       "      <td>0.073684</td>\n",
       "      <td>2.513528</td>\n",
       "      <td>NaN</td>\n",
       "      <td>NaN</td>\n",
       "    </tr>\n",
       "    <tr>\n",
       "      <th>2</th>\n",
       "      <td>2015.0</td>\n",
       "      <td>9.0</td>\n",
       "      <td>96.254380</td>\n",
       "      <td>3.879504</td>\n",
       "      <td>1.356528</td>\n",
       "      <td>62.787651</td>\n",
       "      <td>0.610292</td>\n",
       "      <td>16.379990</td>\n",
       "      <td>5.038266</td>\n",
       "      <td>6.202149</td>\n",
       "      <td>NaN</td>\n",
       "      <td>NaN</td>\n",
       "    </tr>\n",
       "    <tr>\n",
       "      <th>3</th>\n",
       "      <td>2015.0</td>\n",
       "      <td>10.0</td>\n",
       "      <td>170.156297</td>\n",
       "      <td>6.144711</td>\n",
       "      <td>12.622480</td>\n",
       "      <td>84.672532</td>\n",
       "      <td>3.444075</td>\n",
       "      <td>24.371778</td>\n",
       "      <td>6.973711</td>\n",
       "      <td>31.927011</td>\n",
       "      <td>NaN</td>\n",
       "      <td>NaN</td>\n",
       "    </tr>\n",
       "    <tr>\n",
       "      <th>4</th>\n",
       "      <td>2015.0</td>\n",
       "      <td>11.0</td>\n",
       "      <td>51.216220</td>\n",
       "      <td>4.220630</td>\n",
       "      <td>1.275469</td>\n",
       "      <td>14.172116</td>\n",
       "      <td>0.168633</td>\n",
       "      <td>19.561574</td>\n",
       "      <td>6.595767</td>\n",
       "      <td>5.222032</td>\n",
       "      <td>NaN</td>\n",
       "      <td>NaN</td>\n",
       "    </tr>\n",
       "  </tbody>\n",
       "</table>\n",
       "</div>"
      ],
      "text/plain": [
       "     Year  Month  Total Investment        TV    Digital  Sponsorship  \\\n",
       "0  2015.0    7.0         17.061775  0.215330   2.533014     7.414270   \n",
       "1  2015.0    8.0          5.064306  0.006438   1.278074     1.063332   \n",
       "2  2015.0    9.0         96.254380  3.879504   1.356528    62.787651   \n",
       "3  2015.0   10.0        170.156297  6.144711  12.622480    84.672532   \n",
       "4  2015.0   11.0         51.216220  4.220630   1.275469    14.172116   \n",
       "\n",
       "   Content Marketing  Online marketing   Affiliates        SEM  Radio  Other  \n",
       "0           0.000933          1.327278     0.547254   5.023697    NaN    NaN  \n",
       "1           0.000006          0.129244     0.073684   2.513528    NaN    NaN  \n",
       "2           0.610292         16.379990     5.038266   6.202149    NaN    NaN  \n",
       "3           3.444075         24.371778     6.973711  31.927011    NaN    NaN  \n",
       "4           0.168633         19.561574     6.595767   5.222032    NaN    NaN  "
      ]
     },
     "execution_count": 43,
     "metadata": {},
     "output_type": "execute_result"
    }
   ],
   "source": [
    "media_invest.head()"
   ]
  },
  {
   "cell_type": "code",
   "execution_count": 44,
   "metadata": {},
   "outputs": [],
   "source": [
    "#Retaining only the rows corresponding to the 12 months from Jul2015 to Jun2016\n",
    "media_invest.drop(media_invest[media_invest.index > 11].index,inplace=True)"
   ]
  },
  {
   "cell_type": "code",
   "execution_count": 45,
   "metadata": {},
   "outputs": [],
   "source": [
    "#Replacing all the missing values with zeros\n",
    "media_invest.fillna(0,inplace=True)"
   ]
  },
  {
   "cell_type": "code",
   "execution_count": 46,
   "metadata": {},
   "outputs": [],
   "source": [
    "#Converting the year and month values to integer values from floating points\n",
    "media_invest = media_invest.astype({\"Year\":'int64', \"Month\":'int64'}) "
   ]
  },
  {
   "cell_type": "code",
   "execution_count": 47,
   "metadata": {},
   "outputs": [],
   "source": [
    "#Trimming the columns of any white spaces\n",
    "media_invest.columns = media_invest.columns.str.strip()"
   ]
  },
  {
   "cell_type": "code",
   "execution_count": 48,
   "metadata": {},
   "outputs": [
    {
     "data": {
      "text/html": [
       "<div>\n",
       "<style scoped>\n",
       "    .dataframe tbody tr th:only-of-type {\n",
       "        vertical-align: middle;\n",
       "    }\n",
       "\n",
       "    .dataframe tbody tr th {\n",
       "        vertical-align: top;\n",
       "    }\n",
       "\n",
       "    .dataframe thead th {\n",
       "        text-align: right;\n",
       "    }\n",
       "</style>\n",
       "<table border=\"1\" class=\"dataframe\">\n",
       "  <thead>\n",
       "    <tr style=\"text-align: right;\">\n",
       "      <th></th>\n",
       "      <th>Year</th>\n",
       "      <th>Month</th>\n",
       "      <th>Total Investment</th>\n",
       "      <th>TV</th>\n",
       "      <th>Digital</th>\n",
       "      <th>Sponsorship</th>\n",
       "      <th>Content Marketing</th>\n",
       "      <th>Online marketing</th>\n",
       "      <th>Affiliates</th>\n",
       "      <th>SEM</th>\n",
       "      <th>Radio</th>\n",
       "      <th>Other</th>\n",
       "    </tr>\n",
       "  </thead>\n",
       "  <tbody>\n",
       "    <tr>\n",
       "      <th>0</th>\n",
       "      <td>2015</td>\n",
       "      <td>7</td>\n",
       "      <td>17.061775</td>\n",
       "      <td>0.215330</td>\n",
       "      <td>2.533014</td>\n",
       "      <td>7.414270</td>\n",
       "      <td>0.000933</td>\n",
       "      <td>1.327278</td>\n",
       "      <td>0.547254</td>\n",
       "      <td>5.023697</td>\n",
       "      <td>0.00</td>\n",
       "      <td>0.000000</td>\n",
       "    </tr>\n",
       "    <tr>\n",
       "      <th>1</th>\n",
       "      <td>2015</td>\n",
       "      <td>8</td>\n",
       "      <td>5.064306</td>\n",
       "      <td>0.006438</td>\n",
       "      <td>1.278074</td>\n",
       "      <td>1.063332</td>\n",
       "      <td>0.000006</td>\n",
       "      <td>0.129244</td>\n",
       "      <td>0.073684</td>\n",
       "      <td>2.513528</td>\n",
       "      <td>0.00</td>\n",
       "      <td>0.000000</td>\n",
       "    </tr>\n",
       "    <tr>\n",
       "      <th>2</th>\n",
       "      <td>2015</td>\n",
       "      <td>9</td>\n",
       "      <td>96.254380</td>\n",
       "      <td>3.879504</td>\n",
       "      <td>1.356528</td>\n",
       "      <td>62.787651</td>\n",
       "      <td>0.610292</td>\n",
       "      <td>16.379990</td>\n",
       "      <td>5.038266</td>\n",
       "      <td>6.202149</td>\n",
       "      <td>0.00</td>\n",
       "      <td>0.000000</td>\n",
       "    </tr>\n",
       "    <tr>\n",
       "      <th>3</th>\n",
       "      <td>2015</td>\n",
       "      <td>10</td>\n",
       "      <td>170.156297</td>\n",
       "      <td>6.144711</td>\n",
       "      <td>12.622480</td>\n",
       "      <td>84.672532</td>\n",
       "      <td>3.444075</td>\n",
       "      <td>24.371778</td>\n",
       "      <td>6.973711</td>\n",
       "      <td>31.927011</td>\n",
       "      <td>0.00</td>\n",
       "      <td>0.000000</td>\n",
       "    </tr>\n",
       "    <tr>\n",
       "      <th>4</th>\n",
       "      <td>2015</td>\n",
       "      <td>11</td>\n",
       "      <td>51.216220</td>\n",
       "      <td>4.220630</td>\n",
       "      <td>1.275469</td>\n",
       "      <td>14.172116</td>\n",
       "      <td>0.168633</td>\n",
       "      <td>19.561574</td>\n",
       "      <td>6.595767</td>\n",
       "      <td>5.222032</td>\n",
       "      <td>0.00</td>\n",
       "      <td>0.000000</td>\n",
       "    </tr>\n",
       "    <tr>\n",
       "      <th>5</th>\n",
       "      <td>2015</td>\n",
       "      <td>12</td>\n",
       "      <td>106.745312</td>\n",
       "      <td>5.397502</td>\n",
       "      <td>3.063360</td>\n",
       "      <td>56.705419</td>\n",
       "      <td>1.067307</td>\n",
       "      <td>22.503756</td>\n",
       "      <td>6.826938</td>\n",
       "      <td>11.181030</td>\n",
       "      <td>0.00</td>\n",
       "      <td>0.000000</td>\n",
       "    </tr>\n",
       "    <tr>\n",
       "      <th>6</th>\n",
       "      <td>2016</td>\n",
       "      <td>1</td>\n",
       "      <td>74.196000</td>\n",
       "      <td>4.380000</td>\n",
       "      <td>0.456000</td>\n",
       "      <td>4.200000</td>\n",
       "      <td>0.900000</td>\n",
       "      <td>22.900000</td>\n",
       "      <td>7.370000</td>\n",
       "      <td>4.200000</td>\n",
       "      <td>2.70</td>\n",
       "      <td>27.090000</td>\n",
       "    </tr>\n",
       "    <tr>\n",
       "      <th>7</th>\n",
       "      <td>2016</td>\n",
       "      <td>2</td>\n",
       "      <td>48.052000</td>\n",
       "      <td>2.586008</td>\n",
       "      <td>1.912651</td>\n",
       "      <td>11.725555</td>\n",
       "      <td>0.596771</td>\n",
       "      <td>19.892366</td>\n",
       "      <td>6.465019</td>\n",
       "      <td>4.873630</td>\n",
       "      <td>0.00</td>\n",
       "      <td>0.000000</td>\n",
       "    </tr>\n",
       "    <tr>\n",
       "      <th>8</th>\n",
       "      <td>2016</td>\n",
       "      <td>3</td>\n",
       "      <td>100.024621</td>\n",
       "      <td>9.300000</td>\n",
       "      <td>2.100000</td>\n",
       "      <td>41.590000</td>\n",
       "      <td>0.370000</td>\n",
       "      <td>18.437818</td>\n",
       "      <td>6.217667</td>\n",
       "      <td>5.193591</td>\n",
       "      <td>0.87</td>\n",
       "      <td>15.945545</td>\n",
       "    </tr>\n",
       "    <tr>\n",
       "      <th>9</th>\n",
       "      <td>2016</td>\n",
       "      <td>4</td>\n",
       "      <td>56.848241</td>\n",
       "      <td>5.205196</td>\n",
       "      <td>0.871892</td>\n",
       "      <td>24.308354</td>\n",
       "      <td>0.034876</td>\n",
       "      <td>16.514510</td>\n",
       "      <td>5.693456</td>\n",
       "      <td>4.219958</td>\n",
       "      <td>0.00</td>\n",
       "      <td>0.000000</td>\n",
       "    </tr>\n",
       "    <tr>\n",
       "      <th>10</th>\n",
       "      <td>2016</td>\n",
       "      <td>5</td>\n",
       "      <td>78.057000</td>\n",
       "      <td>1.370000</td>\n",
       "      <td>0.770000</td>\n",
       "      <td>31.680000</td>\n",
       "      <td>0.790000</td>\n",
       "      <td>23.650000</td>\n",
       "      <td>6.800000</td>\n",
       "      <td>6.910000</td>\n",
       "      <td>1.10</td>\n",
       "      <td>4.987000</td>\n",
       "    </tr>\n",
       "    <tr>\n",
       "      <th>11</th>\n",
       "      <td>2016</td>\n",
       "      <td>6</td>\n",
       "      <td>42.834216</td>\n",
       "      <td>1.662717</td>\n",
       "      <td>1.420761</td>\n",
       "      <td>25.048541</td>\n",
       "      <td>0.045081</td>\n",
       "      <td>7.971300</td>\n",
       "      <td>2.768023</td>\n",
       "      <td>3.735516</td>\n",
       "      <td>0.00</td>\n",
       "      <td>0.000000</td>\n",
       "    </tr>\n",
       "  </tbody>\n",
       "</table>\n",
       "</div>"
      ],
      "text/plain": [
       "    Year  Month  Total Investment        TV    Digital  Sponsorship  \\\n",
       "0   2015      7         17.061775  0.215330   2.533014     7.414270   \n",
       "1   2015      8          5.064306  0.006438   1.278074     1.063332   \n",
       "2   2015      9         96.254380  3.879504   1.356528    62.787651   \n",
       "3   2015     10        170.156297  6.144711  12.622480    84.672532   \n",
       "4   2015     11         51.216220  4.220630   1.275469    14.172116   \n",
       "5   2015     12        106.745312  5.397502   3.063360    56.705419   \n",
       "6   2016      1         74.196000  4.380000   0.456000     4.200000   \n",
       "7   2016      2         48.052000  2.586008   1.912651    11.725555   \n",
       "8   2016      3        100.024621  9.300000   2.100000    41.590000   \n",
       "9   2016      4         56.848241  5.205196   0.871892    24.308354   \n",
       "10  2016      5         78.057000  1.370000   0.770000    31.680000   \n",
       "11  2016      6         42.834216  1.662717   1.420761    25.048541   \n",
       "\n",
       "    Content Marketing  Online marketing  Affiliates        SEM  Radio  \\\n",
       "0            0.000933          1.327278    0.547254   5.023697   0.00   \n",
       "1            0.000006          0.129244    0.073684   2.513528   0.00   \n",
       "2            0.610292         16.379990    5.038266   6.202149   0.00   \n",
       "3            3.444075         24.371778    6.973711  31.927011   0.00   \n",
       "4            0.168633         19.561574    6.595767   5.222032   0.00   \n",
       "5            1.067307         22.503756    6.826938  11.181030   0.00   \n",
       "6            0.900000         22.900000    7.370000   4.200000   2.70   \n",
       "7            0.596771         19.892366    6.465019   4.873630   0.00   \n",
       "8            0.370000         18.437818    6.217667   5.193591   0.87   \n",
       "9            0.034876         16.514510    5.693456   4.219958   0.00   \n",
       "10           0.790000         23.650000    6.800000   6.910000   1.10   \n",
       "11           0.045081          7.971300    2.768023   3.735516   0.00   \n",
       "\n",
       "        Other  \n",
       "0    0.000000  \n",
       "1    0.000000  \n",
       "2    0.000000  \n",
       "3    0.000000  \n",
       "4    0.000000  \n",
       "5    0.000000  \n",
       "6   27.090000  \n",
       "7    0.000000  \n",
       "8   15.945545  \n",
       "9    0.000000  \n",
       "10   4.987000  \n",
       "11   0.000000  "
      ]
     },
     "execution_count": 48,
     "metadata": {},
     "output_type": "execute_result"
    }
   ],
   "source": [
    "media_invest"
   ]
  },
  {
   "cell_type": "code",
   "execution_count": 49,
   "metadata": {},
   "outputs": [
    {
     "name": "stdout",
     "output_type": "stream",
     "text": [
      "<class 'pandas.core.frame.DataFrame'>\n",
      "Int64Index: 12 entries, 0 to 11\n",
      "Data columns (total 12 columns):\n",
      "Year                 12 non-null int64\n",
      "Month                12 non-null int64\n",
      "Total Investment     12 non-null float64\n",
      "TV                   12 non-null float64\n",
      "Digital              12 non-null float64\n",
      "Sponsorship          12 non-null float64\n",
      "Content Marketing    12 non-null float64\n",
      "Online marketing     12 non-null float64\n",
      "Affiliates           12 non-null float64\n",
      "SEM                  12 non-null float64\n",
      "Radio                12 non-null float64\n",
      "Other                12 non-null float64\n",
      "dtypes: float64(10), int64(2)\n",
      "memory usage: 1.2 KB\n"
     ]
    }
   ],
   "source": [
    "media_invest.info()"
   ]
  },
  {
   "cell_type": "markdown",
   "metadata": {},
   "source": [
    "#### Observations:\n",
    "- media_invest dataframe has 12 columns\n",
    "- `Year` and `month` columns represent the year and month of investment\n",
    "- The other 10 columns represent the monthly investments in 10 different advertising channels during the period Jul2015-Jun2016 \n",
    "\n"
   ]
  },
  {
   "cell_type": "markdown",
   "metadata": {},
   "source": [
    "## 1.3 Understanding monthly NPS score"
   ]
  },
  {
   "cell_type": "code",
   "execution_count": 50,
   "metadata": {},
   "outputs": [
    {
     "name": "stdout",
     "output_type": "stream",
     "text": [
      "Index(['Unnamed: 0', 'July'15', 'Aug'15', 'Sept'15', 'Oct'15', 'Nov'15',\n",
      "       'Dec'15', 'Jan'16', 'Feb'16', 'Mar'16', 'Apr'16', 'May'16', 'June'16'],\n",
      "      dtype='object')\n"
     ]
    }
   ],
   "source": [
    "nps_score = pd.read_excel('Media data and other information.xlsx', sheet_name='Monthly NPS Score')\n",
    "print(nps_score.columns)"
   ]
  },
  {
   "cell_type": "code",
   "execution_count": 51,
   "metadata": {},
   "outputs": [],
   "source": [
    "nps_score = nps_score.T"
   ]
  },
  {
   "cell_type": "code",
   "execution_count": 52,
   "metadata": {},
   "outputs": [],
   "source": [
    "nps_score.columns = ['NPS','Stock Index']"
   ]
  },
  {
   "cell_type": "code",
   "execution_count": 53,
   "metadata": {},
   "outputs": [],
   "source": [
    "nps_score = nps_score.iloc[1:]"
   ]
  },
  {
   "cell_type": "code",
   "execution_count": 54,
   "metadata": {},
   "outputs": [
    {
     "data": {
      "text/html": [
       "<div>\n",
       "<style scoped>\n",
       "    .dataframe tbody tr th:only-of-type {\n",
       "        vertical-align: middle;\n",
       "    }\n",
       "\n",
       "    .dataframe tbody tr th {\n",
       "        vertical-align: top;\n",
       "    }\n",
       "\n",
       "    .dataframe thead th {\n",
       "        text-align: right;\n",
       "    }\n",
       "</style>\n",
       "<table border=\"1\" class=\"dataframe\">\n",
       "  <thead>\n",
       "    <tr style=\"text-align: right;\">\n",
       "      <th></th>\n",
       "      <th>NPS</th>\n",
       "      <th>Stock Index</th>\n",
       "    </tr>\n",
       "  </thead>\n",
       "  <tbody>\n",
       "    <tr>\n",
       "      <th>July'15</th>\n",
       "      <td>54.5996</td>\n",
       "      <td>1177</td>\n",
       "    </tr>\n",
       "    <tr>\n",
       "      <th>Aug'15</th>\n",
       "      <td>59.9871</td>\n",
       "      <td>1206</td>\n",
       "    </tr>\n",
       "    <tr>\n",
       "      <th>Sept'15</th>\n",
       "      <td>46.9254</td>\n",
       "      <td>1101</td>\n",
       "    </tr>\n",
       "    <tr>\n",
       "      <th>Oct'15</th>\n",
       "      <td>44.3984</td>\n",
       "      <td>1210</td>\n",
       "    </tr>\n",
       "    <tr>\n",
       "      <th>Nov'15</th>\n",
       "      <td>47</td>\n",
       "      <td>1233</td>\n",
       "    </tr>\n",
       "    <tr>\n",
       "      <th>Dec'15</th>\n",
       "      <td>45.8</td>\n",
       "      <td>1038</td>\n",
       "    </tr>\n",
       "    <tr>\n",
       "      <th>Jan'16</th>\n",
       "      <td>47.093</td>\n",
       "      <td>1052</td>\n",
       "    </tr>\n",
       "    <tr>\n",
       "      <th>Feb'16</th>\n",
       "      <td>50.3274</td>\n",
       "      <td>1222</td>\n",
       "    </tr>\n",
       "    <tr>\n",
       "      <th>Mar'16</th>\n",
       "      <td>49.0206</td>\n",
       "      <td>1015</td>\n",
       "    </tr>\n",
       "    <tr>\n",
       "      <th>Apr'16</th>\n",
       "      <td>51.8276</td>\n",
       "      <td>1242</td>\n",
       "    </tr>\n",
       "    <tr>\n",
       "      <th>May'16</th>\n",
       "      <td>47.307</td>\n",
       "      <td>1228</td>\n",
       "    </tr>\n",
       "    <tr>\n",
       "      <th>June'16</th>\n",
       "      <td>50.5167</td>\n",
       "      <td>1194</td>\n",
       "    </tr>\n",
       "  </tbody>\n",
       "</table>\n",
       "</div>"
      ],
      "text/plain": [
       "             NPS Stock Index\n",
       "July'15  54.5996        1177\n",
       "Aug'15   59.9871        1206\n",
       "Sept'15  46.9254        1101\n",
       "Oct'15   44.3984        1210\n",
       "Nov'15        47        1233\n",
       "Dec'15      45.8        1038\n",
       "Jan'16    47.093        1052\n",
       "Feb'16   50.3274        1222\n",
       "Mar'16   49.0206        1015\n",
       "Apr'16   51.8276        1242\n",
       "May'16    47.307        1228\n",
       "June'16  50.5167        1194"
      ]
     },
     "execution_count": 54,
     "metadata": {},
     "output_type": "execute_result"
    }
   ],
   "source": [
    "nps_score"
   ]
  },
  {
   "cell_type": "code",
   "execution_count": 55,
   "metadata": {},
   "outputs": [],
   "source": [
    "nps_score.reset_index(level=0, inplace=True)"
   ]
  },
  {
   "cell_type": "code",
   "execution_count": 56,
   "metadata": {},
   "outputs": [],
   "source": [
    "#Replacing the long month names with the shorter month names to help with the datetime parsing\n",
    "nps_score = nps_score.replace('July', 'Jul', regex=True)\n",
    "nps_score = nps_score.replace('Sept', 'Sep', regex=True)\n",
    "nps_score = nps_score.replace('June', 'Jun', regex=True)"
   ]
  },
  {
   "cell_type": "code",
   "execution_count": 57,
   "metadata": {},
   "outputs": [],
   "source": [
    "nps_score['MonthYear'] =  pd.to_datetime(nps_score['index'], format=\"%b'%y\")"
   ]
  },
  {
   "cell_type": "code",
   "execution_count": 58,
   "metadata": {},
   "outputs": [],
   "source": [
    "nps_score.drop(['index'],axis=1,inplace=True)"
   ]
  },
  {
   "cell_type": "code",
   "execution_count": 59,
   "metadata": {},
   "outputs": [
    {
     "name": "stdout",
     "output_type": "stream",
     "text": [
      "<class 'pandas.core.frame.DataFrame'>\n",
      "RangeIndex: 12 entries, 0 to 11\n",
      "Data columns (total 3 columns):\n",
      "NPS            12 non-null float64\n",
      "Stock Index    12 non-null float64\n",
      "MonthYear      12 non-null datetime64[ns]\n",
      "dtypes: datetime64[ns](1), float64(2)\n",
      "memory usage: 368.0 bytes\n"
     ]
    }
   ],
   "source": [
    "nps_score.info()"
   ]
  },
  {
   "cell_type": "code",
   "execution_count": 60,
   "metadata": {},
   "outputs": [
    {
     "data": {
      "text/html": [
       "<div>\n",
       "<style scoped>\n",
       "    .dataframe tbody tr th:only-of-type {\n",
       "        vertical-align: middle;\n",
       "    }\n",
       "\n",
       "    .dataframe tbody tr th {\n",
       "        vertical-align: top;\n",
       "    }\n",
       "\n",
       "    .dataframe thead th {\n",
       "        text-align: right;\n",
       "    }\n",
       "</style>\n",
       "<table border=\"1\" class=\"dataframe\">\n",
       "  <thead>\n",
       "    <tr style=\"text-align: right;\">\n",
       "      <th></th>\n",
       "      <th>NPS</th>\n",
       "      <th>Stock Index</th>\n",
       "      <th>MonthYear</th>\n",
       "    </tr>\n",
       "  </thead>\n",
       "  <tbody>\n",
       "    <tr>\n",
       "      <th>0</th>\n",
       "      <td>54.599588</td>\n",
       "      <td>1177.0</td>\n",
       "      <td>2015-07-01</td>\n",
       "    </tr>\n",
       "    <tr>\n",
       "      <th>1</th>\n",
       "      <td>59.987101</td>\n",
       "      <td>1206.0</td>\n",
       "      <td>2015-08-01</td>\n",
       "    </tr>\n",
       "    <tr>\n",
       "      <th>2</th>\n",
       "      <td>46.925419</td>\n",
       "      <td>1101.0</td>\n",
       "      <td>2015-09-01</td>\n",
       "    </tr>\n",
       "    <tr>\n",
       "      <th>3</th>\n",
       "      <td>44.398389</td>\n",
       "      <td>1210.0</td>\n",
       "      <td>2015-10-01</td>\n",
       "    </tr>\n",
       "    <tr>\n",
       "      <th>4</th>\n",
       "      <td>47.000000</td>\n",
       "      <td>1233.0</td>\n",
       "      <td>2015-11-01</td>\n",
       "    </tr>\n",
       "    <tr>\n",
       "      <th>5</th>\n",
       "      <td>45.800000</td>\n",
       "      <td>1038.0</td>\n",
       "      <td>2015-12-01</td>\n",
       "    </tr>\n",
       "    <tr>\n",
       "      <th>6</th>\n",
       "      <td>47.093031</td>\n",
       "      <td>1052.0</td>\n",
       "      <td>2016-01-01</td>\n",
       "    </tr>\n",
       "    <tr>\n",
       "      <th>7</th>\n",
       "      <td>50.327406</td>\n",
       "      <td>1222.0</td>\n",
       "      <td>2016-02-01</td>\n",
       "    </tr>\n",
       "    <tr>\n",
       "      <th>8</th>\n",
       "      <td>49.020550</td>\n",
       "      <td>1015.0</td>\n",
       "      <td>2016-03-01</td>\n",
       "    </tr>\n",
       "    <tr>\n",
       "      <th>9</th>\n",
       "      <td>51.827605</td>\n",
       "      <td>1242.0</td>\n",
       "      <td>2016-04-01</td>\n",
       "    </tr>\n",
       "    <tr>\n",
       "      <th>10</th>\n",
       "      <td>47.306951</td>\n",
       "      <td>1228.0</td>\n",
       "      <td>2016-05-01</td>\n",
       "    </tr>\n",
       "    <tr>\n",
       "      <th>11</th>\n",
       "      <td>50.516687</td>\n",
       "      <td>1194.0</td>\n",
       "      <td>2016-06-01</td>\n",
       "    </tr>\n",
       "  </tbody>\n",
       "</table>\n",
       "</div>"
      ],
      "text/plain": [
       "          NPS  Stock Index  MonthYear\n",
       "0   54.599588       1177.0 2015-07-01\n",
       "1   59.987101       1206.0 2015-08-01\n",
       "2   46.925419       1101.0 2015-09-01\n",
       "3   44.398389       1210.0 2015-10-01\n",
       "4   47.000000       1233.0 2015-11-01\n",
       "5   45.800000       1038.0 2015-12-01\n",
       "6   47.093031       1052.0 2016-01-01\n",
       "7   50.327406       1222.0 2016-02-01\n",
       "8   49.020550       1015.0 2016-03-01\n",
       "9   51.827605       1242.0 2016-04-01\n",
       "10  47.306951       1228.0 2016-05-01\n",
       "11  50.516687       1194.0 2016-06-01"
      ]
     },
     "execution_count": 60,
     "metadata": {},
     "output_type": "execute_result"
    }
   ],
   "source": [
    "nps_score"
   ]
  },
  {
   "cell_type": "markdown",
   "metadata": {},
   "source": [
    "#### Observations:\n",
    "- nps_score dataframe has 3 columns\n",
    "- `NPS` column represents the NPS score for the corresponding month value reprsented by `MonthYear` column\n",
    "- `Stock Index` column represents the company stock price for the corresponding month value reprsented by `MonthYear` column"
   ]
  },
  {
   "cell_type": "markdown",
   "metadata": {},
   "source": [
    "## 1.4 Understanding Special Sale Calendar (Krishnan)"
   ]
  },
  {
   "cell_type": "code",
   "execution_count": 61,
   "metadata": {},
   "outputs": [
    {
     "data": {
      "text/plain": [
       "Index(['Unnamed: 0', 'Unnamed: 1', 'Sales Calendar'], dtype='object')"
      ]
     },
     "execution_count": 61,
     "metadata": {},
     "output_type": "execute_result"
    }
   ],
   "source": [
    "spl_sales = pd.read_excel('Media data and other information.xlsx', sheet_name='Special Sale Calendar')\n",
    "spl_sales.columns"
   ]
  },
  {
   "cell_type": "code",
   "execution_count": 62,
   "metadata": {},
   "outputs": [],
   "source": [
    "#Dropping the first column \n",
    "spl_sales.drop(['Unnamed: 0'],axis=1,inplace=True)"
   ]
  },
  {
   "cell_type": "code",
   "execution_count": 63,
   "metadata": {},
   "outputs": [],
   "source": [
    "#Renaming the column to Year column as it contains year values\n",
    "spl_sales.rename(columns={\"Unnamed: 1\": \"Year\"},inplace=True)\n",
    "\n",
    "#Replacing all the missing values with zeros\n",
    "spl_sales['Year'].fillna(0,inplace=True)"
   ]
  },
  {
   "cell_type": "code",
   "execution_count": 64,
   "metadata": {},
   "outputs": [],
   "source": [
    "#Retaining only the rows corresponding to the special sale dates\n",
    "spl_sales.drop(spl_sales[spl_sales.index > 11].index,inplace=True)"
   ]
  },
  {
   "cell_type": "code",
   "execution_count": 65,
   "metadata": {},
   "outputs": [],
   "source": [
    "#Converting the year and month values to integer values from floating points\n",
    "spl_sales = spl_sales.astype({\"Year\":'int64'}) "
   ]
  },
  {
   "cell_type": "code",
   "execution_count": 66,
   "metadata": {},
   "outputs": [],
   "source": [
    "#Filling up all the Year column values with the appropriate values\n",
    "spl_sales.at[(spl_sales.index >= 1) & (spl_sales.index<=5),'Year']=2015\n",
    "spl_sales.at[(spl_sales.index >= 7) & (spl_sales.index<=11),'Year']=2016"
   ]
  },
  {
   "cell_type": "code",
   "execution_count": 67,
   "metadata": {},
   "outputs": [],
   "source": [
    "#Creating a column with the row index values\n",
    "spl_sales['rowIndex'] = spl_sales.index"
   ]
  },
  {
   "cell_type": "code",
   "execution_count": 68,
   "metadata": {},
   "outputs": [],
   "source": [
    "import datetime\n",
    "\n",
    "#Custom function for extracting the start and end dates of the sale\n",
    "def extractSaleDates(index, daterange):\n",
    "    \n",
    "    #Removing any trailing/leading white spaces\n",
    "    datestr = daterange.strip()\n",
    "    \n",
    "    if(index != 5):\n",
    "        \n",
    "        if(index < 5):\n",
    "            year=2015\n",
    "        else:\n",
    "            year=2016\n",
    "    \n",
    "        #Replacing 'th' with empty spaces\n",
    "        datestr = datestr.replace(\"th\",\"\")\n",
    "   \n",
    "        #Splitting into day and month parts\n",
    "        datestr = datestr.split(\" \")\n",
    "    \n",
    "        days = datestr[0][1:].split(\"-\")\n",
    "        month = datestr[1][0:3]\n",
    "    \n",
    "        #Converting month name to a number\n",
    "        monthNo = datetime.datetime.strptime(month, '%b').month\n",
    "        startDay = int(days[0])\n",
    "        endDay = int(days[1])\n",
    "          \n",
    "        startDate = datetime.datetime(year=year, month=monthNo, day=startDay)\n",
    "        endDate = datetime.datetime(year=year, month=monthNo, day=endDay)\n",
    "    \n",
    "        if(startDate < endDate):    \n",
    "            dateinfo = [startDate,endDate]\n",
    "        else:\n",
    "            dateinfo = [endDate,startDate]\n",
    "            \n",
    "    else:\n",
    "        # Special case (25th Dec'15 - 3rd Jan'16)\n",
    "        \n",
    "        #Replacing 'th' with empty spaces\n",
    "        datestr = datestr.replace(\"th\",\"\")\n",
    "        datestr = datestr.replace(\"rd\",\"\")\n",
    "        \n",
    "        \n",
    "        #Splitting the string into two parts\n",
    "        datestr = datestr.split(\"-\")\n",
    "        startDatestr = datestr[0].replace(\" \",\"\")[1:]\n",
    "        endDatestr = datestr[1].replace(\" \",\"\")[:-1]\n",
    "        \n",
    "        startDate = datetime.datetime.strptime(startDatestr, \"%d%b'%y\")\n",
    "        endDate = datetime.datetime.strptime(endDatestr, \"%d%b'%y\")\n",
    "        \n",
    "        \n",
    "        dateinfo = [startDate,endDate]\n",
    "           \n",
    "               \n",
    "    return dateinfo\n",
    "    "
   ]
  },
  {
   "cell_type": "code",
   "execution_count": 69,
   "metadata": {},
   "outputs": [],
   "source": [
    "#Creating the \"Start Date\" and \"End Date\" columns to represent the start and end dates of the special sale window\n",
    "spl_sales['Start Date'] = spl_sales.apply(lambda x: extractSaleDates(x['rowIndex'],x['Sales Calendar'])[0],axis=1)\n",
    "spl_sales['End Date'] = spl_sales.apply(lambda x: extractSaleDates(x['rowIndex'],x['Sales Calendar'])[1],axis=1)"
   ]
  },
  {
   "cell_type": "code",
   "execution_count": 70,
   "metadata": {},
   "outputs": [],
   "source": [
    "#Dropping the columns that are no longer required\n",
    "spl_sales.drop(['rowIndex'],axis=1,inplace=True)\n",
    "spl_sales.drop(['Year'],axis=1,inplace=True)\n",
    "spl_sales.drop(['Sales Calendar'],axis=1,inplace=True)"
   ]
  },
  {
   "cell_type": "code",
   "execution_count": 71,
   "metadata": {},
   "outputs": [
    {
     "data": {
      "text/html": [
       "<div>\n",
       "<style scoped>\n",
       "    .dataframe tbody tr th:only-of-type {\n",
       "        vertical-align: middle;\n",
       "    }\n",
       "\n",
       "    .dataframe tbody tr th {\n",
       "        vertical-align: top;\n",
       "    }\n",
       "\n",
       "    .dataframe thead th {\n",
       "        text-align: right;\n",
       "    }\n",
       "</style>\n",
       "<table border=\"1\" class=\"dataframe\">\n",
       "  <thead>\n",
       "    <tr style=\"text-align: right;\">\n",
       "      <th></th>\n",
       "      <th>Start Date</th>\n",
       "      <th>End Date</th>\n",
       "    </tr>\n",
       "  </thead>\n",
       "  <tbody>\n",
       "    <tr>\n",
       "      <th>0</th>\n",
       "      <td>2015-07-18</td>\n",
       "      <td>2015-07-19</td>\n",
       "    </tr>\n",
       "    <tr>\n",
       "      <th>1</th>\n",
       "      <td>2015-08-15</td>\n",
       "      <td>2015-08-17</td>\n",
       "    </tr>\n",
       "    <tr>\n",
       "      <th>2</th>\n",
       "      <td>2015-08-28</td>\n",
       "      <td>2015-08-30</td>\n",
       "    </tr>\n",
       "    <tr>\n",
       "      <th>3</th>\n",
       "      <td>2015-10-15</td>\n",
       "      <td>2015-10-17</td>\n",
       "    </tr>\n",
       "    <tr>\n",
       "      <th>4</th>\n",
       "      <td>2015-11-07</td>\n",
       "      <td>2015-11-14</td>\n",
       "    </tr>\n",
       "    <tr>\n",
       "      <th>5</th>\n",
       "      <td>2015-12-25</td>\n",
       "      <td>2016-01-03</td>\n",
       "    </tr>\n",
       "    <tr>\n",
       "      <th>6</th>\n",
       "      <td>2016-01-20</td>\n",
       "      <td>2016-01-22</td>\n",
       "    </tr>\n",
       "    <tr>\n",
       "      <th>7</th>\n",
       "      <td>2016-02-01</td>\n",
       "      <td>2016-02-02</td>\n",
       "    </tr>\n",
       "    <tr>\n",
       "      <th>8</th>\n",
       "      <td>2016-02-20</td>\n",
       "      <td>2016-02-21</td>\n",
       "    </tr>\n",
       "    <tr>\n",
       "      <th>9</th>\n",
       "      <td>2016-02-14</td>\n",
       "      <td>2016-02-15</td>\n",
       "    </tr>\n",
       "    <tr>\n",
       "      <th>10</th>\n",
       "      <td>2016-03-07</td>\n",
       "      <td>2016-03-09</td>\n",
       "    </tr>\n",
       "    <tr>\n",
       "      <th>11</th>\n",
       "      <td>2016-05-25</td>\n",
       "      <td>2016-05-27</td>\n",
       "    </tr>\n",
       "  </tbody>\n",
       "</table>\n",
       "</div>"
      ],
      "text/plain": [
       "   Start Date   End Date\n",
       "0  2015-07-18 2015-07-19\n",
       "1  2015-08-15 2015-08-17\n",
       "2  2015-08-28 2015-08-30\n",
       "3  2015-10-15 2015-10-17\n",
       "4  2015-11-07 2015-11-14\n",
       "5  2015-12-25 2016-01-03\n",
       "6  2016-01-20 2016-01-22\n",
       "7  2016-02-01 2016-02-02\n",
       "8  2016-02-20 2016-02-21\n",
       "9  2016-02-14 2016-02-15\n",
       "10 2016-03-07 2016-03-09\n",
       "11 2016-05-25 2016-05-27"
      ]
     },
     "execution_count": 71,
     "metadata": {},
     "output_type": "execute_result"
    }
   ],
   "source": [
    "spl_sales"
   ]
  },
  {
   "cell_type": "markdown",
   "metadata": {},
   "source": [
    "#### Observations:\n",
    "- `spl_sales` dataframe contains the special sale calendar between the period July 2015 - Jun 2016\n",
    "- `spl_sales` dataframe contains two columns `Start Date` and `End Date` that contain the start and end dates for each special sale"
   ]
  },
  {
   "cell_type": "markdown",
   "metadata": {},
   "source": [
    "## 1.5 Understanding Climate Data (Krishnan)"
   ]
  },
  {
   "cell_type": "code",
   "execution_count": 72,
   "metadata": {},
   "outputs": [],
   "source": [
    "#Creating climate data frame from the ONTARIO-20xx.xlsx\n",
    "\n",
    "from pandas import ExcelWriter\n",
    "from pandas import ExcelFile\n",
    "\n",
    "climate2015 = pd.read_excel('ONTARIO-2015.xlsx', sheet_name='ONTARIO-2015',skiprows=24)\n",
    "climate2016 = pd.read_excel('ONTARIO-2016.xlsx', sheet_name='ONTARIO-2016',skiprows=24)"
   ]
  },
  {
   "cell_type": "code",
   "execution_count": 73,
   "metadata": {},
   "outputs": [
    {
     "name": "stdout",
     "output_type": "stream",
     "text": [
      "<class 'pandas.core.frame.DataFrame'>\n",
      "RangeIndex: 365 entries, 0 to 364\n",
      "Data columns (total 27 columns):\n",
      "Date/Time                    365 non-null datetime64[ns]\n",
      "Year                         365 non-null int64\n",
      "Month                        365 non-null int64\n",
      "Day                          365 non-null int64\n",
      "Data Quality                 229 non-null object\n",
      "Max Temp (°C)                216 non-null float64\n",
      "Max Temp Flag                13 non-null object\n",
      "Min Temp (°C)                190 non-null float64\n",
      "Min Temp Flag                39 non-null object\n",
      "Mean Temp (°C)               190 non-null float64\n",
      "Mean Temp Flag               39 non-null object\n",
      "Heat Deg Days (°C)           190 non-null float64\n",
      "Heat Deg Days Flag           39 non-null object\n",
      "Cool Deg Days (°C)           190 non-null float64\n",
      "Cool Deg Days Flag           39 non-null object\n",
      "Total Rain (mm)              229 non-null float64\n",
      "Total Rain Flag              7 non-null object\n",
      "Total Snow (cm)              229 non-null float64\n",
      "Total Snow Flag              9 non-null object\n",
      "Total Precip (mm)            229 non-null float64\n",
      "Total Precip Flag            12 non-null object\n",
      "Snow on Grnd (cm)            229 non-null float64\n",
      "Snow on Grnd Flag            2 non-null object\n",
      "Dir of Max Gust (10s deg)    0 non-null float64\n",
      "Dir of Max Gust Flag         0 non-null float64\n",
      "Spd of Max Gust (km/h)       0 non-null float64\n",
      "Spd of Max Gust Flag         0 non-null float64\n",
      "dtypes: datetime64[ns](1), float64(13), int64(3), object(10)\n",
      "memory usage: 77.1+ KB\n"
     ]
    }
   ],
   "source": [
    "climate2015.info()"
   ]
  },
  {
   "cell_type": "code",
   "execution_count": 74,
   "metadata": {},
   "outputs": [
    {
     "name": "stdout",
     "output_type": "stream",
     "text": [
      "<class 'pandas.core.frame.DataFrame'>\n",
      "RangeIndex: 366 entries, 0 to 365\n",
      "Data columns (total 27 columns):\n",
      "Date/Time                    366 non-null datetime64[ns]\n",
      "Year                         366 non-null int64\n",
      "Month                        366 non-null int64\n",
      "Day                          366 non-null int64\n",
      "Data Quality                 227 non-null object\n",
      "Max Temp (°C)                226 non-null float64\n",
      "Max Temp Flag                1 non-null object\n",
      "Min Temp (°C)                219 non-null float64\n",
      "Min Temp Flag                8 non-null object\n",
      "Mean Temp (°C)               219 non-null float64\n",
      "Mean Temp Flag               8 non-null object\n",
      "Heat Deg Days (°C)           219 non-null float64\n",
      "Heat Deg Days Flag           8 non-null object\n",
      "Cool Deg Days (°C)           219 non-null float64\n",
      "Cool Deg Days Flag           8 non-null object\n",
      "Total Rain (mm)              227 non-null float64\n",
      "Total Rain Flag              3 non-null object\n",
      "Total Snow (cm)              227 non-null float64\n",
      "Total Snow Flag              7 non-null object\n",
      "Total Precip (mm)            227 non-null float64\n",
      "Total Precip Flag            7 non-null object\n",
      "Snow on Grnd (cm)            227 non-null float64\n",
      "Snow on Grnd Flag            6 non-null object\n",
      "Dir of Max Gust (10s deg)    0 non-null float64\n",
      "Dir of Max Gust Flag         0 non-null float64\n",
      "Spd of Max Gust (km/h)       0 non-null float64\n",
      "Spd of Max Gust Flag         0 non-null float64\n",
      "dtypes: datetime64[ns](1), float64(13), int64(3), object(10)\n",
      "memory usage: 77.3+ KB\n"
     ]
    }
   ],
   "source": [
    "climate2016.info()"
   ]
  },
  {
   "cell_type": "code",
   "execution_count": 75,
   "metadata": {},
   "outputs": [],
   "source": [
    "climate = climate2015.append(climate2016,ignore_index=True)"
   ]
  },
  {
   "cell_type": "code",
   "execution_count": 76,
   "metadata": {},
   "outputs": [
    {
     "name": "stdout",
     "output_type": "stream",
     "text": [
      "<class 'pandas.core.frame.DataFrame'>\n",
      "RangeIndex: 731 entries, 0 to 730\n",
      "Data columns (total 27 columns):\n",
      "Date/Time                    731 non-null datetime64[ns]\n",
      "Year                         731 non-null int64\n",
      "Month                        731 non-null int64\n",
      "Day                          731 non-null int64\n",
      "Data Quality                 456 non-null object\n",
      "Max Temp (°C)                442 non-null float64\n",
      "Max Temp Flag                14 non-null object\n",
      "Min Temp (°C)                409 non-null float64\n",
      "Min Temp Flag                47 non-null object\n",
      "Mean Temp (°C)               409 non-null float64\n",
      "Mean Temp Flag               47 non-null object\n",
      "Heat Deg Days (°C)           409 non-null float64\n",
      "Heat Deg Days Flag           47 non-null object\n",
      "Cool Deg Days (°C)           409 non-null float64\n",
      "Cool Deg Days Flag           47 non-null object\n",
      "Total Rain (mm)              456 non-null float64\n",
      "Total Rain Flag              10 non-null object\n",
      "Total Snow (cm)              456 non-null float64\n",
      "Total Snow Flag              16 non-null object\n",
      "Total Precip (mm)            456 non-null float64\n",
      "Total Precip Flag            19 non-null object\n",
      "Snow on Grnd (cm)            456 non-null float64\n",
      "Snow on Grnd Flag            8 non-null object\n",
      "Dir of Max Gust (10s deg)    0 non-null float64\n",
      "Dir of Max Gust Flag         0 non-null float64\n",
      "Spd of Max Gust (km/h)       0 non-null float64\n",
      "Spd of Max Gust Flag         0 non-null float64\n",
      "dtypes: datetime64[ns](1), float64(13), int64(3), object(10)\n",
      "memory usage: 154.3+ KB\n"
     ]
    }
   ],
   "source": [
    "climate.info()"
   ]
  },
  {
   "cell_type": "code",
   "execution_count": 77,
   "metadata": {},
   "outputs": [
    {
     "data": {
      "text/html": [
       "<div>\n",
       "<style scoped>\n",
       "    .dataframe tbody tr th:only-of-type {\n",
       "        vertical-align: middle;\n",
       "    }\n",
       "\n",
       "    .dataframe tbody tr th {\n",
       "        vertical-align: top;\n",
       "    }\n",
       "\n",
       "    .dataframe thead th {\n",
       "        text-align: right;\n",
       "    }\n",
       "</style>\n",
       "<table border=\"1\" class=\"dataframe\">\n",
       "  <thead>\n",
       "    <tr style=\"text-align: right;\">\n",
       "      <th></th>\n",
       "      <th>Date/Time</th>\n",
       "      <th>Year</th>\n",
       "      <th>Month</th>\n",
       "      <th>Day</th>\n",
       "      <th>Data Quality</th>\n",
       "      <th>Max Temp (°C)</th>\n",
       "      <th>Max Temp Flag</th>\n",
       "      <th>Min Temp (°C)</th>\n",
       "      <th>Min Temp Flag</th>\n",
       "      <th>Mean Temp (°C)</th>\n",
       "      <th>...</th>\n",
       "      <th>Total Snow (cm)</th>\n",
       "      <th>Total Snow Flag</th>\n",
       "      <th>Total Precip (mm)</th>\n",
       "      <th>Total Precip Flag</th>\n",
       "      <th>Snow on Grnd (cm)</th>\n",
       "      <th>Snow on Grnd Flag</th>\n",
       "      <th>Dir of Max Gust (10s deg)</th>\n",
       "      <th>Dir of Max Gust Flag</th>\n",
       "      <th>Spd of Max Gust (km/h)</th>\n",
       "      <th>Spd of Max Gust Flag</th>\n",
       "    </tr>\n",
       "  </thead>\n",
       "  <tbody>\n",
       "    <tr>\n",
       "      <th>0</th>\n",
       "      <td>2015-07-01</td>\n",
       "      <td>2015</td>\n",
       "      <td>7</td>\n",
       "      <td>1</td>\n",
       "      <td>†</td>\n",
       "      <td>24.5</td>\n",
       "      <td>NaN</td>\n",
       "      <td>17.0</td>\n",
       "      <td>NaN</td>\n",
       "      <td>20.8</td>\n",
       "      <td>...</td>\n",
       "      <td>0.0</td>\n",
       "      <td>NaN</td>\n",
       "      <td>0.0</td>\n",
       "      <td>NaN</td>\n",
       "      <td>0.0</td>\n",
       "      <td>NaN</td>\n",
       "      <td>NaN</td>\n",
       "      <td>NaN</td>\n",
       "      <td>NaN</td>\n",
       "      <td>NaN</td>\n",
       "    </tr>\n",
       "    <tr>\n",
       "      <th>1</th>\n",
       "      <td>2015-07-02</td>\n",
       "      <td>2015</td>\n",
       "      <td>7</td>\n",
       "      <td>2</td>\n",
       "      <td>†</td>\n",
       "      <td>24.0</td>\n",
       "      <td>NaN</td>\n",
       "      <td>14.0</td>\n",
       "      <td>NaN</td>\n",
       "      <td>19.0</td>\n",
       "      <td>...</td>\n",
       "      <td>0.0</td>\n",
       "      <td>NaN</td>\n",
       "      <td>0.0</td>\n",
       "      <td>NaN</td>\n",
       "      <td>0.0</td>\n",
       "      <td>NaN</td>\n",
       "      <td>NaN</td>\n",
       "      <td>NaN</td>\n",
       "      <td>NaN</td>\n",
       "      <td>NaN</td>\n",
       "    </tr>\n",
       "    <tr>\n",
       "      <th>2</th>\n",
       "      <td>2015-07-03</td>\n",
       "      <td>2015</td>\n",
       "      <td>7</td>\n",
       "      <td>3</td>\n",
       "      <td>†</td>\n",
       "      <td>25.0</td>\n",
       "      <td>NaN</td>\n",
       "      <td>10.0</td>\n",
       "      <td>NaN</td>\n",
       "      <td>17.5</td>\n",
       "      <td>...</td>\n",
       "      <td>0.0</td>\n",
       "      <td>NaN</td>\n",
       "      <td>0.0</td>\n",
       "      <td>NaN</td>\n",
       "      <td>0.0</td>\n",
       "      <td>NaN</td>\n",
       "      <td>NaN</td>\n",
       "      <td>NaN</td>\n",
       "      <td>NaN</td>\n",
       "      <td>NaN</td>\n",
       "    </tr>\n",
       "    <tr>\n",
       "      <th>3</th>\n",
       "      <td>2015-07-04</td>\n",
       "      <td>2015</td>\n",
       "      <td>7</td>\n",
       "      <td>4</td>\n",
       "      <td>†</td>\n",
       "      <td>26.0</td>\n",
       "      <td>NaN</td>\n",
       "      <td>11.0</td>\n",
       "      <td>NaN</td>\n",
       "      <td>18.5</td>\n",
       "      <td>...</td>\n",
       "      <td>0.0</td>\n",
       "      <td>NaN</td>\n",
       "      <td>0.0</td>\n",
       "      <td>NaN</td>\n",
       "      <td>0.0</td>\n",
       "      <td>NaN</td>\n",
       "      <td>NaN</td>\n",
       "      <td>NaN</td>\n",
       "      <td>NaN</td>\n",
       "      <td>NaN</td>\n",
       "    </tr>\n",
       "    <tr>\n",
       "      <th>4</th>\n",
       "      <td>2015-07-05</td>\n",
       "      <td>2015</td>\n",
       "      <td>7</td>\n",
       "      <td>5</td>\n",
       "      <td>†</td>\n",
       "      <td>28.0</td>\n",
       "      <td>NaN</td>\n",
       "      <td>14.0</td>\n",
       "      <td>NaN</td>\n",
       "      <td>21.0</td>\n",
       "      <td>...</td>\n",
       "      <td>0.0</td>\n",
       "      <td>NaN</td>\n",
       "      <td>0.0</td>\n",
       "      <td>NaN</td>\n",
       "      <td>0.0</td>\n",
       "      <td>NaN</td>\n",
       "      <td>NaN</td>\n",
       "      <td>NaN</td>\n",
       "      <td>NaN</td>\n",
       "      <td>NaN</td>\n",
       "    </tr>\n",
       "  </tbody>\n",
       "</table>\n",
       "<p>5 rows × 27 columns</p>\n",
       "</div>"
      ],
      "text/plain": [
       "   Date/Time  Year  Month  Day Data Quality  Max Temp (°C) Max Temp Flag  \\\n",
       "0 2015-07-01  2015      7    1            †           24.5           NaN   \n",
       "1 2015-07-02  2015      7    2            †           24.0           NaN   \n",
       "2 2015-07-03  2015      7    3            †           25.0           NaN   \n",
       "3 2015-07-04  2015      7    4            †           26.0           NaN   \n",
       "4 2015-07-05  2015      7    5            †           28.0           NaN   \n",
       "\n",
       "   Min Temp (°C) Min Temp Flag  Mean Temp (°C)          ...           \\\n",
       "0           17.0           NaN            20.8          ...            \n",
       "1           14.0           NaN            19.0          ...            \n",
       "2           10.0           NaN            17.5          ...            \n",
       "3           11.0           NaN            18.5          ...            \n",
       "4           14.0           NaN            21.0          ...            \n",
       "\n",
       "  Total Snow (cm)  Total Snow Flag Total Precip (mm)  Total Precip Flag  \\\n",
       "0             0.0              NaN               0.0                NaN   \n",
       "1             0.0              NaN               0.0                NaN   \n",
       "2             0.0              NaN               0.0                NaN   \n",
       "3             0.0              NaN               0.0                NaN   \n",
       "4             0.0              NaN               0.0                NaN   \n",
       "\n",
       "  Snow on Grnd (cm)  Snow on Grnd Flag Dir of Max Gust (10s deg)  \\\n",
       "0               0.0                NaN                       NaN   \n",
       "1               0.0                NaN                       NaN   \n",
       "2               0.0                NaN                       NaN   \n",
       "3               0.0                NaN                       NaN   \n",
       "4               0.0                NaN                       NaN   \n",
       "\n",
       "   Dir of Max Gust Flag Spd of Max Gust (km/h)  Spd of Max Gust Flag  \n",
       "0                   NaN                    NaN                   NaN  \n",
       "1                   NaN                    NaN                   NaN  \n",
       "2                   NaN                    NaN                   NaN  \n",
       "3                   NaN                    NaN                   NaN  \n",
       "4                   NaN                    NaN                   NaN  \n",
       "\n",
       "[5 rows x 27 columns]"
      ]
     },
     "execution_count": 77,
     "metadata": {},
     "output_type": "execute_result"
    }
   ],
   "source": [
    "#Retaining only the rows corresponding to the period July 2015 - Jun 2016\n",
    "startDate = datetime.datetime(2015, 7, 1)\n",
    "endDate = datetime.datetime(2016,6,30)\n",
    "climate = climate[(climate['Date/Time'] >= startDate) & (climate['Date/Time'] <= endDate)] \n",
    "climate = climate.reset_index(drop=True)\n",
    "climate.head()"
   ]
  },
  {
   "cell_type": "code",
   "execution_count": 78,
   "metadata": {},
   "outputs": [
    {
     "name": "stdout",
     "output_type": "stream",
     "text": [
      "<class 'pandas.core.frame.DataFrame'>\n",
      "RangeIndex: 366 entries, 0 to 365\n",
      "Data columns (total 27 columns):\n",
      "Date/Time                    366 non-null datetime64[ns]\n",
      "Year                         366 non-null int64\n",
      "Month                        366 non-null int64\n",
      "Day                          366 non-null int64\n",
      "Data Quality                 215 non-null object\n",
      "Max Temp (°C)                208 non-null float64\n",
      "Max Temp Flag                7 non-null object\n",
      "Min Temp (°C)                191 non-null float64\n",
      "Min Temp Flag                24 non-null object\n",
      "Mean Temp (°C)               191 non-null float64\n",
      "Mean Temp Flag               24 non-null object\n",
      "Heat Deg Days (°C)           191 non-null float64\n",
      "Heat Deg Days Flag           24 non-null object\n",
      "Cool Deg Days (°C)           191 non-null float64\n",
      "Cool Deg Days Flag           24 non-null object\n",
      "Total Rain (mm)              215 non-null float64\n",
      "Total Rain Flag              7 non-null object\n",
      "Total Snow (cm)              215 non-null float64\n",
      "Total Snow Flag              6 non-null object\n",
      "Total Precip (mm)            215 non-null float64\n",
      "Total Precip Flag            11 non-null object\n",
      "Snow on Grnd (cm)            215 non-null float64\n",
      "Snow on Grnd Flag            6 non-null object\n",
      "Dir of Max Gust (10s deg)    0 non-null float64\n",
      "Dir of Max Gust Flag         0 non-null float64\n",
      "Spd of Max Gust (km/h)       0 non-null float64\n",
      "Spd of Max Gust Flag         0 non-null float64\n",
      "dtypes: datetime64[ns](1), float64(13), int64(3), object(10)\n",
      "memory usage: 77.3+ KB\n"
     ]
    }
   ],
   "source": [
    "climate.info()"
   ]
  },
  {
   "cell_type": "code",
   "execution_count": 79,
   "metadata": {},
   "outputs": [],
   "source": [
    "#Dropping columns that have only null values\n",
    "climate.drop(['Dir of Max Gust (10s deg)','Dir of Max Gust Flag','Spd of Max Gust (km/h)','Spd of Max Gust Flag'],axis=1,inplace=True)\n"
   ]
  },
  {
   "cell_type": "code",
   "execution_count": 80,
   "metadata": {},
   "outputs": [
    {
     "name": "stdout",
     "output_type": "stream",
     "text": [
      "<class 'pandas.core.frame.DataFrame'>\n",
      "RangeIndex: 366 entries, 0 to 365\n",
      "Data columns (total 23 columns):\n",
      "Date/Time             366 non-null datetime64[ns]\n",
      "Year                  366 non-null int64\n",
      "Month                 366 non-null int64\n",
      "Day                   366 non-null int64\n",
      "Data Quality          215 non-null object\n",
      "Max Temp (°C)         208 non-null float64\n",
      "Max Temp Flag         7 non-null object\n",
      "Min Temp (°C)         191 non-null float64\n",
      "Min Temp Flag         24 non-null object\n",
      "Mean Temp (°C)        191 non-null float64\n",
      "Mean Temp Flag        24 non-null object\n",
      "Heat Deg Days (°C)    191 non-null float64\n",
      "Heat Deg Days Flag    24 non-null object\n",
      "Cool Deg Days (°C)    191 non-null float64\n",
      "Cool Deg Days Flag    24 non-null object\n",
      "Total Rain (mm)       215 non-null float64\n",
      "Total Rain Flag       7 non-null object\n",
      "Total Snow (cm)       215 non-null float64\n",
      "Total Snow Flag       6 non-null object\n",
      "Total Precip (mm)     215 non-null float64\n",
      "Total Precip Flag     11 non-null object\n",
      "Snow on Grnd (cm)     215 non-null float64\n",
      "Snow on Grnd Flag     6 non-null object\n",
      "dtypes: datetime64[ns](1), float64(9), int64(3), object(10)\n",
      "memory usage: 65.8+ KB\n"
     ]
    }
   ],
   "source": [
    "climate.info()"
   ]
  },
  {
   "cell_type": "code",
   "execution_count": 81,
   "metadata": {},
   "outputs": [],
   "source": [
    "#Renaming the columns appropriately\n",
    "climate.rename(columns={\"Date/Time\": \"Date\",\n",
    "                        \"Data Quality\":\"Data Quality Review\"\n",
    "                       },inplace=True)"
   ]
  },
  {
   "cell_type": "code",
   "execution_count": 82,
   "metadata": {},
   "outputs": [
    {
     "name": "stdout",
     "output_type": "stream",
     "text": [
      "<class 'pandas.core.frame.DataFrame'>\n",
      "RangeIndex: 366 entries, 0 to 365\n",
      "Data columns (total 23 columns):\n",
      "Date                   366 non-null datetime64[ns]\n",
      "Year                   366 non-null int64\n",
      "Month                  366 non-null int64\n",
      "Day                    366 non-null int64\n",
      "Data Quality Review    215 non-null object\n",
      "Max Temp (°C)          208 non-null float64\n",
      "Max Temp Flag          7 non-null object\n",
      "Min Temp (°C)          191 non-null float64\n",
      "Min Temp Flag          24 non-null object\n",
      "Mean Temp (°C)         191 non-null float64\n",
      "Mean Temp Flag         24 non-null object\n",
      "Heat Deg Days (°C)     191 non-null float64\n",
      "Heat Deg Days Flag     24 non-null object\n",
      "Cool Deg Days (°C)     191 non-null float64\n",
      "Cool Deg Days Flag     24 non-null object\n",
      "Total Rain (mm)        215 non-null float64\n",
      "Total Rain Flag        7 non-null object\n",
      "Total Snow (cm)        215 non-null float64\n",
      "Total Snow Flag        6 non-null object\n",
      "Total Precip (mm)      215 non-null float64\n",
      "Total Precip Flag      11 non-null object\n",
      "Snow on Grnd (cm)      215 non-null float64\n",
      "Snow on Grnd Flag      6 non-null object\n",
      "dtypes: datetime64[ns](1), float64(9), int64(3), object(10)\n",
      "memory usage: 65.8+ KB\n"
     ]
    }
   ],
   "source": [
    "climate.info()"
   ]
  },
  {
   "cell_type": "code",
   "execution_count": 83,
   "metadata": {},
   "outputs": [
    {
     "data": {
      "text/plain": [
       "†      215\n",
       "NaN    151\n",
       "Name: Data Quality Review, dtype: int64"
      ]
     },
     "execution_count": 83,
     "metadata": {},
     "output_type": "execute_result"
    }
   ],
   "source": [
    "climate['Data Quality Review'].astype('category').value_counts(dropna=False)"
   ]
  },
  {
   "cell_type": "code",
   "execution_count": 84,
   "metadata": {},
   "outputs": [
    {
     "data": {
      "text/plain": [
       "No     215\n",
       "Yes    151\n",
       "Name: Data Quality Review, dtype: int64"
      ]
     },
     "execution_count": 84,
     "metadata": {},
     "output_type": "execute_result"
    }
   ],
   "source": [
    "climate['Data Quality Review'].replace(np.nan,\"Yes\",inplace=True)\n",
    "climate['Data Quality Review'].replace('†',\"No\",inplace=True)\n",
    "climate['Data Quality Review'].astype('category').value_counts(dropna=False)"
   ]
  },
  {
   "cell_type": "code",
   "execution_count": 85,
   "metadata": {},
   "outputs": [
    {
     "data": {
      "text/plain": [
       "count    208.000000\n",
       "mean      19.177885\n",
       "std        9.855212\n",
       "min       -8.500000\n",
       "25%       11.500000\n",
       "50%       20.500000\n",
       "75%       27.625000\n",
       "max       35.000000\n",
       "Name: Max Temp (°C), dtype: float64"
      ]
     },
     "execution_count": 85,
     "metadata": {},
     "output_type": "execute_result"
    }
   ],
   "source": [
    "climate['Max Temp (°C)'].describe()"
   ]
  },
  {
   "cell_type": "code",
   "execution_count": 86,
   "metadata": {},
   "outputs": [
    {
     "data": {
      "text/plain": [
       "NaN    359\n",
       "M        7\n",
       "Name: Max Temp Flag, dtype: int64"
      ]
     },
     "execution_count": 86,
     "metadata": {},
     "output_type": "execute_result"
    }
   ],
   "source": [
    "climate['Max Temp Flag'].astype('category').value_counts(dropna=False)"
   ]
  },
  {
   "cell_type": "code",
   "execution_count": 87,
   "metadata": {},
   "outputs": [
    {
     "data": {
      "text/plain": [
       "count    191.000000\n",
       "mean       8.696335\n",
       "std        8.757970\n",
       "min      -18.000000\n",
       "25%        2.750000\n",
       "50%       10.000000\n",
       "75%       16.000000\n",
       "max       22.000000\n",
       "Name: Min Temp (°C), dtype: float64"
      ]
     },
     "execution_count": 87,
     "metadata": {},
     "output_type": "execute_result"
    }
   ],
   "source": [
    "climate['Min Temp (°C)'].describe()"
   ]
  },
  {
   "cell_type": "code",
   "execution_count": 88,
   "metadata": {},
   "outputs": [
    {
     "data": {
      "text/plain": [
       "NaN    342\n",
       "M       24\n",
       "Name: Min Temp Flag, dtype: int64"
      ]
     },
     "execution_count": 88,
     "metadata": {},
     "output_type": "execute_result"
    }
   ],
   "source": [
    "climate['Min Temp Flag'].astype('category').value_counts(dropna=False)"
   ]
  },
  {
   "cell_type": "code",
   "execution_count": 89,
   "metadata": {},
   "outputs": [
    {
     "data": {
      "text/plain": [
       "count    191.000000\n",
       "mean      14.241361\n",
       "std        8.941613\n",
       "min      -12.300000\n",
       "25%        8.000000\n",
       "50%       15.300000\n",
       "75%       21.800000\n",
       "max       27.500000\n",
       "Name: Mean Temp (°C), dtype: float64"
      ]
     },
     "execution_count": 89,
     "metadata": {},
     "output_type": "execute_result"
    }
   ],
   "source": [
    "climate['Mean Temp (°C)'].describe()"
   ]
  },
  {
   "cell_type": "code",
   "execution_count": 90,
   "metadata": {},
   "outputs": [
    {
     "data": {
      "text/plain": [
       "NaN    342\n",
       "M       24\n",
       "Name: Mean Temp Flag, dtype: int64"
      ]
     },
     "execution_count": 90,
     "metadata": {},
     "output_type": "execute_result"
    }
   ],
   "source": [
    "climate['Mean Temp Flag'].astype('category').value_counts(dropna=False)"
   ]
  },
  {
   "cell_type": "code",
   "execution_count": 91,
   "metadata": {},
   "outputs": [
    {
     "data": {
      "text/plain": [
       "count    191.000000\n",
       "mean       5.712042\n",
       "std        7.043183\n",
       "min        0.000000\n",
       "25%        0.000000\n",
       "50%        2.700000\n",
       "75%       10.000000\n",
       "max       30.300000\n",
       "Name: Heat Deg Days (°C), dtype: float64"
      ]
     },
     "execution_count": 91,
     "metadata": {},
     "output_type": "execute_result"
    }
   ],
   "source": [
    "climate['Heat Deg Days (°C)'].describe()"
   ]
  },
  {
   "cell_type": "code",
   "execution_count": 92,
   "metadata": {},
   "outputs": [
    {
     "data": {
      "text/plain": [
       "NaN    342\n",
       "M       24\n",
       "Name: Heat Deg Days Flag, dtype: int64"
      ]
     },
     "execution_count": 92,
     "metadata": {},
     "output_type": "execute_result"
    }
   ],
   "source": [
    "climate['Heat Deg Days Flag'].astype('category').value_counts(dropna=False)"
   ]
  },
  {
   "cell_type": "code",
   "execution_count": 93,
   "metadata": {},
   "outputs": [
    {
     "data": {
      "text/plain": [
       "count    191.000000\n",
       "mean       1.953403\n",
       "std        2.812954\n",
       "min        0.000000\n",
       "25%        0.000000\n",
       "50%        0.000000\n",
       "75%        3.800000\n",
       "max        9.500000\n",
       "Name: Cool Deg Days (°C), dtype: float64"
      ]
     },
     "execution_count": 93,
     "metadata": {},
     "output_type": "execute_result"
    }
   ],
   "source": [
    "climate['Cool Deg Days (°C)'].describe()"
   ]
  },
  {
   "cell_type": "code",
   "execution_count": 94,
   "metadata": {},
   "outputs": [
    {
     "data": {
      "text/plain": [
       "NaN    342\n",
       "M       24\n",
       "Name: Cool Deg Days Flag, dtype: int64"
      ]
     },
     "execution_count": 94,
     "metadata": {},
     "output_type": "execute_result"
    }
   ],
   "source": [
    "climate['Cool Deg Days Flag'].astype('category').value_counts(dropna=False)"
   ]
  },
  {
   "cell_type": "code",
   "execution_count": 95,
   "metadata": {},
   "outputs": [
    {
     "data": {
      "text/plain": [
       "count    215.000000\n",
       "mean       2.583721\n",
       "std        6.684405\n",
       "min        0.000000\n",
       "25%        0.000000\n",
       "50%        0.000000\n",
       "75%        1.400000\n",
       "max       57.200000\n",
       "Name: Total Rain (mm), dtype: float64"
      ]
     },
     "execution_count": 95,
     "metadata": {},
     "output_type": "execute_result"
    }
   ],
   "source": [
    "climate['Total Rain (mm)'].describe()"
   ]
  },
  {
   "cell_type": "code",
   "execution_count": 96,
   "metadata": {},
   "outputs": [
    {
     "data": {
      "text/plain": [
       "NaN    359\n",
       "T        7\n",
       "Name: Total Rain Flag, dtype: int64"
      ]
     },
     "execution_count": 96,
     "metadata": {},
     "output_type": "execute_result"
    }
   ],
   "source": [
    "climate['Total Rain Flag'].astype('category').value_counts(dropna=False)"
   ]
  },
  {
   "cell_type": "code",
   "execution_count": 97,
   "metadata": {},
   "outputs": [
    {
     "data": {
      "text/plain": [
       "count    215.000000\n",
       "mean       0.204651\n",
       "std        1.132104\n",
       "min        0.000000\n",
       "25%        0.000000\n",
       "50%        0.000000\n",
       "75%        0.000000\n",
       "max       10.000000\n",
       "Name: Total Snow (cm), dtype: float64"
      ]
     },
     "execution_count": 97,
     "metadata": {},
     "output_type": "execute_result"
    }
   ],
   "source": [
    "climate['Total Snow (cm)'].describe()"
   ]
  },
  {
   "cell_type": "code",
   "execution_count": 98,
   "metadata": {},
   "outputs": [
    {
     "data": {
      "text/plain": [
       "NaN    360\n",
       "T        6\n",
       "Name: Total Snow Flag, dtype: int64"
      ]
     },
     "execution_count": 98,
     "metadata": {},
     "output_type": "execute_result"
    }
   ],
   "source": [
    "climate['Total Snow Flag'].astype('category').value_counts(dropna=False)"
   ]
  },
  {
   "cell_type": "code",
   "execution_count": 99,
   "metadata": {},
   "outputs": [
    {
     "data": {
      "text/plain": [
       "count    215.000000\n",
       "mean       2.788372\n",
       "std        6.827481\n",
       "min        0.000000\n",
       "25%        0.000000\n",
       "50%        0.000000\n",
       "75%        2.100000\n",
       "max       57.200000\n",
       "Name: Total Precip (mm), dtype: float64"
      ]
     },
     "execution_count": 99,
     "metadata": {},
     "output_type": "execute_result"
    }
   ],
   "source": [
    "climate['Total Precip (mm)'].describe()"
   ]
  },
  {
   "cell_type": "code",
   "execution_count": 100,
   "metadata": {},
   "outputs": [
    {
     "data": {
      "text/plain": [
       "NaN    355\n",
       "T       11\n",
       "Name: Total Precip Flag, dtype: int64"
      ]
     },
     "execution_count": 100,
     "metadata": {},
     "output_type": "execute_result"
    }
   ],
   "source": [
    "climate['Total Precip Flag'].astype('category').value_counts(dropna=False)"
   ]
  },
  {
   "cell_type": "code",
   "execution_count": 101,
   "metadata": {},
   "outputs": [
    {
     "data": {
      "text/plain": [
       "count    215.000000\n",
       "mean       0.288372\n",
       "std        1.497850\n",
       "min        0.000000\n",
       "25%        0.000000\n",
       "50%        0.000000\n",
       "75%        0.000000\n",
       "max       12.000000\n",
       "Name: Snow on Grnd (cm), dtype: float64"
      ]
     },
     "execution_count": 101,
     "metadata": {},
     "output_type": "execute_result"
    }
   ],
   "source": [
    "climate['Snow on Grnd (cm)'].describe()"
   ]
  },
  {
   "cell_type": "code",
   "execution_count": 102,
   "metadata": {},
   "outputs": [
    {
     "data": {
      "text/plain": [
       "NaN    360\n",
       "T        6\n",
       "Name: Snow on Grnd Flag, dtype: int64"
      ]
     },
     "execution_count": 102,
     "metadata": {},
     "output_type": "execute_result"
    }
   ],
   "source": [
    "climate['Snow on Grnd Flag'].astype('category').value_counts(dropna=False)"
   ]
  },
  {
   "cell_type": "markdown",
   "metadata": {},
   "source": [
    "# Phase 2: Data Preparation"
   ]
  },
  {
   "cell_type": "markdown",
   "metadata": {},
   "source": [
    "## 2.1 Data preparation for order level data(NG)"
   ]
  },
  {
   "cell_type": "code",
   "execution_count": 103,
   "metadata": {},
   "outputs": [
    {
     "name": "stdout",
     "output_type": "stream",
     "text": [
      "<class 'pandas.core.frame.DataFrame'>\n",
      "Int64Index: 509512 entries, 2 to 1647171\n",
      "Data columns (total 20 columns):\n",
      "fsn_id                             509512 non-null object\n",
      "order_date                         509512 non-null datetime64[ns]\n",
      "Year                               509512 non-null int64\n",
      "Month                              509512 non-null int64\n",
      "order_id                           509512 non-null int64\n",
      "order_item_id                      509512 non-null int64\n",
      "gmv                                509512 non-null float64\n",
      "units                              509512 non-null int64\n",
      "s1_fact.order_payment_type         509512 non-null object\n",
      "sla                                509512 non-null int64\n",
      "cust_id                            509512 non-null float64\n",
      "pincode                            509512 non-null float64\n",
      "product_analytic_super_category    509512 non-null object\n",
      "product_analytic_category          509512 non-null object\n",
      "product_analytic_sub_category      509512 non-null object\n",
      "product_analytic_vertical          509512 non-null object\n",
      "product_mrp                        509512 non-null int64\n",
      "product_procurement_sla            509512 non-null int64\n",
      "day                                509512 non-null int64\n",
      "Week_Number                        509512 non-null int64\n",
      "dtypes: datetime64[ns](1), float64(3), int64(10), object(6)\n",
      "memory usage: 81.6+ MB\n"
     ]
    }
   ],
   "source": [
    "products_filtered.info()"
   ]
  },
  {
   "cell_type": "markdown",
   "metadata": {},
   "source": [
    "## There are 509512 data points and all the null values and outliers are handled"
   ]
  },
  {
   "cell_type": "markdown",
   "metadata": {},
   "source": [
    "## 2.2 Data preparation for media investment"
   ]
  },
  {
   "cell_type": "code",
   "execution_count": 104,
   "metadata": {},
   "outputs": [
    {
     "data": {
      "text/html": [
       "<div>\n",
       "<style scoped>\n",
       "    .dataframe tbody tr th:only-of-type {\n",
       "        vertical-align: middle;\n",
       "    }\n",
       "\n",
       "    .dataframe tbody tr th {\n",
       "        vertical-align: top;\n",
       "    }\n",
       "\n",
       "    .dataframe thead th {\n",
       "        text-align: right;\n",
       "    }\n",
       "</style>\n",
       "<table border=\"1\" class=\"dataframe\">\n",
       "  <thead>\n",
       "    <tr style=\"text-align: right;\">\n",
       "      <th></th>\n",
       "      <th>Year</th>\n",
       "      <th>Month</th>\n",
       "      <th>Total Investment</th>\n",
       "      <th>TV</th>\n",
       "      <th>Digital</th>\n",
       "      <th>Sponsorship</th>\n",
       "      <th>Content Marketing</th>\n",
       "      <th>Online marketing</th>\n",
       "      <th>Affiliates</th>\n",
       "      <th>SEM</th>\n",
       "      <th>Radio</th>\n",
       "      <th>Other</th>\n",
       "    </tr>\n",
       "  </thead>\n",
       "  <tbody>\n",
       "    <tr>\n",
       "      <th>0</th>\n",
       "      <td>2015</td>\n",
       "      <td>7</td>\n",
       "      <td>17.061775</td>\n",
       "      <td>0.215330</td>\n",
       "      <td>2.533014</td>\n",
       "      <td>7.414270</td>\n",
       "      <td>0.000933</td>\n",
       "      <td>1.327278</td>\n",
       "      <td>0.547254</td>\n",
       "      <td>5.023697</td>\n",
       "      <td>0.00</td>\n",
       "      <td>0.000000</td>\n",
       "    </tr>\n",
       "    <tr>\n",
       "      <th>1</th>\n",
       "      <td>2015</td>\n",
       "      <td>8</td>\n",
       "      <td>5.064306</td>\n",
       "      <td>0.006438</td>\n",
       "      <td>1.278074</td>\n",
       "      <td>1.063332</td>\n",
       "      <td>0.000006</td>\n",
       "      <td>0.129244</td>\n",
       "      <td>0.073684</td>\n",
       "      <td>2.513528</td>\n",
       "      <td>0.00</td>\n",
       "      <td>0.000000</td>\n",
       "    </tr>\n",
       "    <tr>\n",
       "      <th>2</th>\n",
       "      <td>2015</td>\n",
       "      <td>9</td>\n",
       "      <td>96.254380</td>\n",
       "      <td>3.879504</td>\n",
       "      <td>1.356528</td>\n",
       "      <td>62.787651</td>\n",
       "      <td>0.610292</td>\n",
       "      <td>16.379990</td>\n",
       "      <td>5.038266</td>\n",
       "      <td>6.202149</td>\n",
       "      <td>0.00</td>\n",
       "      <td>0.000000</td>\n",
       "    </tr>\n",
       "    <tr>\n",
       "      <th>3</th>\n",
       "      <td>2015</td>\n",
       "      <td>10</td>\n",
       "      <td>170.156297</td>\n",
       "      <td>6.144711</td>\n",
       "      <td>12.622480</td>\n",
       "      <td>84.672532</td>\n",
       "      <td>3.444075</td>\n",
       "      <td>24.371778</td>\n",
       "      <td>6.973711</td>\n",
       "      <td>31.927011</td>\n",
       "      <td>0.00</td>\n",
       "      <td>0.000000</td>\n",
       "    </tr>\n",
       "    <tr>\n",
       "      <th>4</th>\n",
       "      <td>2015</td>\n",
       "      <td>11</td>\n",
       "      <td>51.216220</td>\n",
       "      <td>4.220630</td>\n",
       "      <td>1.275469</td>\n",
       "      <td>14.172116</td>\n",
       "      <td>0.168633</td>\n",
       "      <td>19.561574</td>\n",
       "      <td>6.595767</td>\n",
       "      <td>5.222032</td>\n",
       "      <td>0.00</td>\n",
       "      <td>0.000000</td>\n",
       "    </tr>\n",
       "    <tr>\n",
       "      <th>5</th>\n",
       "      <td>2015</td>\n",
       "      <td>12</td>\n",
       "      <td>106.745312</td>\n",
       "      <td>5.397502</td>\n",
       "      <td>3.063360</td>\n",
       "      <td>56.705419</td>\n",
       "      <td>1.067307</td>\n",
       "      <td>22.503756</td>\n",
       "      <td>6.826938</td>\n",
       "      <td>11.181030</td>\n",
       "      <td>0.00</td>\n",
       "      <td>0.000000</td>\n",
       "    </tr>\n",
       "    <tr>\n",
       "      <th>6</th>\n",
       "      <td>2016</td>\n",
       "      <td>1</td>\n",
       "      <td>74.196000</td>\n",
       "      <td>4.380000</td>\n",
       "      <td>0.456000</td>\n",
       "      <td>4.200000</td>\n",
       "      <td>0.900000</td>\n",
       "      <td>22.900000</td>\n",
       "      <td>7.370000</td>\n",
       "      <td>4.200000</td>\n",
       "      <td>2.70</td>\n",
       "      <td>27.090000</td>\n",
       "    </tr>\n",
       "    <tr>\n",
       "      <th>7</th>\n",
       "      <td>2016</td>\n",
       "      <td>2</td>\n",
       "      <td>48.052000</td>\n",
       "      <td>2.586008</td>\n",
       "      <td>1.912651</td>\n",
       "      <td>11.725555</td>\n",
       "      <td>0.596771</td>\n",
       "      <td>19.892366</td>\n",
       "      <td>6.465019</td>\n",
       "      <td>4.873630</td>\n",
       "      <td>0.00</td>\n",
       "      <td>0.000000</td>\n",
       "    </tr>\n",
       "    <tr>\n",
       "      <th>8</th>\n",
       "      <td>2016</td>\n",
       "      <td>3</td>\n",
       "      <td>100.024621</td>\n",
       "      <td>9.300000</td>\n",
       "      <td>2.100000</td>\n",
       "      <td>41.590000</td>\n",
       "      <td>0.370000</td>\n",
       "      <td>18.437818</td>\n",
       "      <td>6.217667</td>\n",
       "      <td>5.193591</td>\n",
       "      <td>0.87</td>\n",
       "      <td>15.945545</td>\n",
       "    </tr>\n",
       "    <tr>\n",
       "      <th>9</th>\n",
       "      <td>2016</td>\n",
       "      <td>4</td>\n",
       "      <td>56.848241</td>\n",
       "      <td>5.205196</td>\n",
       "      <td>0.871892</td>\n",
       "      <td>24.308354</td>\n",
       "      <td>0.034876</td>\n",
       "      <td>16.514510</td>\n",
       "      <td>5.693456</td>\n",
       "      <td>4.219958</td>\n",
       "      <td>0.00</td>\n",
       "      <td>0.000000</td>\n",
       "    </tr>\n",
       "    <tr>\n",
       "      <th>10</th>\n",
       "      <td>2016</td>\n",
       "      <td>5</td>\n",
       "      <td>78.057000</td>\n",
       "      <td>1.370000</td>\n",
       "      <td>0.770000</td>\n",
       "      <td>31.680000</td>\n",
       "      <td>0.790000</td>\n",
       "      <td>23.650000</td>\n",
       "      <td>6.800000</td>\n",
       "      <td>6.910000</td>\n",
       "      <td>1.10</td>\n",
       "      <td>4.987000</td>\n",
       "    </tr>\n",
       "    <tr>\n",
       "      <th>11</th>\n",
       "      <td>2016</td>\n",
       "      <td>6</td>\n",
       "      <td>42.834216</td>\n",
       "      <td>1.662717</td>\n",
       "      <td>1.420761</td>\n",
       "      <td>25.048541</td>\n",
       "      <td>0.045081</td>\n",
       "      <td>7.971300</td>\n",
       "      <td>2.768023</td>\n",
       "      <td>3.735516</td>\n",
       "      <td>0.00</td>\n",
       "      <td>0.000000</td>\n",
       "    </tr>\n",
       "  </tbody>\n",
       "</table>\n",
       "</div>"
      ],
      "text/plain": [
       "    Year  Month  Total Investment        TV    Digital  Sponsorship  \\\n",
       "0   2015      7         17.061775  0.215330   2.533014     7.414270   \n",
       "1   2015      8          5.064306  0.006438   1.278074     1.063332   \n",
       "2   2015      9         96.254380  3.879504   1.356528    62.787651   \n",
       "3   2015     10        170.156297  6.144711  12.622480    84.672532   \n",
       "4   2015     11         51.216220  4.220630   1.275469    14.172116   \n",
       "5   2015     12        106.745312  5.397502   3.063360    56.705419   \n",
       "6   2016      1         74.196000  4.380000   0.456000     4.200000   \n",
       "7   2016      2         48.052000  2.586008   1.912651    11.725555   \n",
       "8   2016      3        100.024621  9.300000   2.100000    41.590000   \n",
       "9   2016      4         56.848241  5.205196   0.871892    24.308354   \n",
       "10  2016      5         78.057000  1.370000   0.770000    31.680000   \n",
       "11  2016      6         42.834216  1.662717   1.420761    25.048541   \n",
       "\n",
       "    Content Marketing  Online marketing  Affiliates        SEM  Radio  \\\n",
       "0            0.000933          1.327278    0.547254   5.023697   0.00   \n",
       "1            0.000006          0.129244    0.073684   2.513528   0.00   \n",
       "2            0.610292         16.379990    5.038266   6.202149   0.00   \n",
       "3            3.444075         24.371778    6.973711  31.927011   0.00   \n",
       "4            0.168633         19.561574    6.595767   5.222032   0.00   \n",
       "5            1.067307         22.503756    6.826938  11.181030   0.00   \n",
       "6            0.900000         22.900000    7.370000   4.200000   2.70   \n",
       "7            0.596771         19.892366    6.465019   4.873630   0.00   \n",
       "8            0.370000         18.437818    6.217667   5.193591   0.87   \n",
       "9            0.034876         16.514510    5.693456   4.219958   0.00   \n",
       "10           0.790000         23.650000    6.800000   6.910000   1.10   \n",
       "11           0.045081          7.971300    2.768023   3.735516   0.00   \n",
       "\n",
       "        Other  \n",
       "0    0.000000  \n",
       "1    0.000000  \n",
       "2    0.000000  \n",
       "3    0.000000  \n",
       "4    0.000000  \n",
       "5    0.000000  \n",
       "6   27.090000  \n",
       "7    0.000000  \n",
       "8   15.945545  \n",
       "9    0.000000  \n",
       "10   4.987000  \n",
       "11   0.000000  "
      ]
     },
     "execution_count": 104,
     "metadata": {},
     "output_type": "execute_result"
    }
   ],
   "source": [
    "media_invest"
   ]
  },
  {
   "cell_type": "code",
   "execution_count": 105,
   "metadata": {},
   "outputs": [
    {
     "name": "stdout",
     "output_type": "stream",
     "text": [
      "<class 'pandas.core.frame.DataFrame'>\n",
      "Int64Index: 12 entries, 0 to 11\n",
      "Data columns (total 12 columns):\n",
      "Year                 12 non-null int64\n",
      "Month                12 non-null int64\n",
      "Total Investment     12 non-null float64\n",
      "TV                   12 non-null float64\n",
      "Digital              12 non-null float64\n",
      "Sponsorship          12 non-null float64\n",
      "Content Marketing    12 non-null float64\n",
      "Online marketing     12 non-null float64\n",
      "Affiliates           12 non-null float64\n",
      "SEM                  12 non-null float64\n",
      "Radio                12 non-null float64\n",
      "Other                12 non-null float64\n",
      "dtypes: float64(10), int64(2)\n",
      "memory usage: 1.2 KB\n"
     ]
    }
   ],
   "source": [
    "media_invest.info()"
   ]
  },
  {
   "cell_type": "markdown",
   "metadata": {},
   "source": [
    "#### Observations:\n",
    "- There are no missing values"
   ]
  },
  {
   "cell_type": "markdown",
   "metadata": {},
   "source": [
    "## 2.3 Data preparation for special sale calendar & pay day"
   ]
  },
  {
   "cell_type": "code",
   "execution_count": 106,
   "metadata": {},
   "outputs": [
    {
     "data": {
      "text/html": [
       "<div>\n",
       "<style scoped>\n",
       "    .dataframe tbody tr th:only-of-type {\n",
       "        vertical-align: middle;\n",
       "    }\n",
       "\n",
       "    .dataframe tbody tr th {\n",
       "        vertical-align: top;\n",
       "    }\n",
       "\n",
       "    .dataframe thead th {\n",
       "        text-align: right;\n",
       "    }\n",
       "</style>\n",
       "<table border=\"1\" class=\"dataframe\">\n",
       "  <thead>\n",
       "    <tr style=\"text-align: right;\">\n",
       "      <th></th>\n",
       "      <th>Start Date</th>\n",
       "      <th>End Date</th>\n",
       "    </tr>\n",
       "  </thead>\n",
       "  <tbody>\n",
       "    <tr>\n",
       "      <th>0</th>\n",
       "      <td>2015-07-18</td>\n",
       "      <td>2015-07-19</td>\n",
       "    </tr>\n",
       "    <tr>\n",
       "      <th>1</th>\n",
       "      <td>2015-08-15</td>\n",
       "      <td>2015-08-17</td>\n",
       "    </tr>\n",
       "    <tr>\n",
       "      <th>2</th>\n",
       "      <td>2015-08-28</td>\n",
       "      <td>2015-08-30</td>\n",
       "    </tr>\n",
       "    <tr>\n",
       "      <th>3</th>\n",
       "      <td>2015-10-15</td>\n",
       "      <td>2015-10-17</td>\n",
       "    </tr>\n",
       "    <tr>\n",
       "      <th>4</th>\n",
       "      <td>2015-11-07</td>\n",
       "      <td>2015-11-14</td>\n",
       "    </tr>\n",
       "    <tr>\n",
       "      <th>5</th>\n",
       "      <td>2015-12-25</td>\n",
       "      <td>2016-01-03</td>\n",
       "    </tr>\n",
       "    <tr>\n",
       "      <th>6</th>\n",
       "      <td>2016-01-20</td>\n",
       "      <td>2016-01-22</td>\n",
       "    </tr>\n",
       "    <tr>\n",
       "      <th>7</th>\n",
       "      <td>2016-02-01</td>\n",
       "      <td>2016-02-02</td>\n",
       "    </tr>\n",
       "    <tr>\n",
       "      <th>8</th>\n",
       "      <td>2016-02-20</td>\n",
       "      <td>2016-02-21</td>\n",
       "    </tr>\n",
       "    <tr>\n",
       "      <th>9</th>\n",
       "      <td>2016-02-14</td>\n",
       "      <td>2016-02-15</td>\n",
       "    </tr>\n",
       "    <tr>\n",
       "      <th>10</th>\n",
       "      <td>2016-03-07</td>\n",
       "      <td>2016-03-09</td>\n",
       "    </tr>\n",
       "    <tr>\n",
       "      <th>11</th>\n",
       "      <td>2016-05-25</td>\n",
       "      <td>2016-05-27</td>\n",
       "    </tr>\n",
       "  </tbody>\n",
       "</table>\n",
       "</div>"
      ],
      "text/plain": [
       "   Start Date   End Date\n",
       "0  2015-07-18 2015-07-19\n",
       "1  2015-08-15 2015-08-17\n",
       "2  2015-08-28 2015-08-30\n",
       "3  2015-10-15 2015-10-17\n",
       "4  2015-11-07 2015-11-14\n",
       "5  2015-12-25 2016-01-03\n",
       "6  2016-01-20 2016-01-22\n",
       "7  2016-02-01 2016-02-02\n",
       "8  2016-02-20 2016-02-21\n",
       "9  2016-02-14 2016-02-15\n",
       "10 2016-03-07 2016-03-09\n",
       "11 2016-05-25 2016-05-27"
      ]
     },
     "execution_count": 106,
     "metadata": {},
     "output_type": "execute_result"
    }
   ],
   "source": [
    "spl_sales"
   ]
  },
  {
   "cell_type": "markdown",
   "metadata": {},
   "source": [
    "#### Observations:\n",
    "- spl_sales dataframe contains the special sale calendar between the period July 2015 - Jun 2016\n",
    "- spl_sales dataframe contains two columns Start Date and End Date that contain the start and end dates for each special sale\n",
    "- Data does not containing any missing values"
   ]
  },
  {
   "cell_type": "code",
   "execution_count": 107,
   "metadata": {},
   "outputs": [],
   "source": [
    "#Creating a data frame for storing special sales and pay day info at a daily level\n",
    "startDate = datetime.datetime(2015, 7, 1)\n",
    "endDate = datetime.datetime(2016,6,30)\n",
    "\n",
    "column_names = [\"Week_Number\",\"order_date\", \"Is Special Sale\",\"Is Pay Day\"]\n",
    "sales_pay_daily_info = pd.DataFrame(columns = column_names)\n",
    "\n",
    "i = startDate\n",
    "while (i <= endDate):\n",
    "\n",
    "    isSpecialSale = 0\n",
    "    isPayDay = 0\n",
    "\n",
    "    for ind in spl_sales.index:\n",
    "        if (i >= spl_sales['Start Date'][ind] and i <= spl_sales['End Date'][ind] ):\n",
    "            isSpecialSale = 1\n",
    "            break\n",
    "    \n",
    "    \n",
    "    if(i.day == 1 or i.day == 15):\n",
    "        isPayDay = 1\n",
    "    \n",
    "    sales_pay_daily_info = sales_pay_daily_info.append({'Week_Number': i.isocalendar()[1],\n",
    "                                                         'order_date' : i , \n",
    "                                                         'Is Special Sale' : isSpecialSale,\n",
    "                                                         'Is Pay Day': isPayDay\n",
    "                                                       },\n",
    "                                                       ignore_index=True)\n",
    "    \n",
    "    i += datetime.timedelta(days=1)   "
   ]
  },
  {
   "cell_type": "code",
   "execution_count": 108,
   "metadata": {},
   "outputs": [
    {
     "data": {
      "text/html": [
       "<div>\n",
       "<style scoped>\n",
       "    .dataframe tbody tr th:only-of-type {\n",
       "        vertical-align: middle;\n",
       "    }\n",
       "\n",
       "    .dataframe tbody tr th {\n",
       "        vertical-align: top;\n",
       "    }\n",
       "\n",
       "    .dataframe thead th {\n",
       "        text-align: right;\n",
       "    }\n",
       "</style>\n",
       "<table border=\"1\" class=\"dataframe\">\n",
       "  <thead>\n",
       "    <tr style=\"text-align: right;\">\n",
       "      <th></th>\n",
       "      <th>Week_Number</th>\n",
       "      <th>order_date</th>\n",
       "      <th>Is Special Sale</th>\n",
       "      <th>Is Pay Day</th>\n",
       "    </tr>\n",
       "  </thead>\n",
       "  <tbody>\n",
       "    <tr>\n",
       "      <th>0</th>\n",
       "      <td>27</td>\n",
       "      <td>2015-07-01</td>\n",
       "      <td>0</td>\n",
       "      <td>1</td>\n",
       "    </tr>\n",
       "    <tr>\n",
       "      <th>1</th>\n",
       "      <td>27</td>\n",
       "      <td>2015-07-02</td>\n",
       "      <td>0</td>\n",
       "      <td>0</td>\n",
       "    </tr>\n",
       "    <tr>\n",
       "      <th>2</th>\n",
       "      <td>27</td>\n",
       "      <td>2015-07-03</td>\n",
       "      <td>0</td>\n",
       "      <td>0</td>\n",
       "    </tr>\n",
       "    <tr>\n",
       "      <th>3</th>\n",
       "      <td>27</td>\n",
       "      <td>2015-07-04</td>\n",
       "      <td>0</td>\n",
       "      <td>0</td>\n",
       "    </tr>\n",
       "    <tr>\n",
       "      <th>4</th>\n",
       "      <td>27</td>\n",
       "      <td>2015-07-05</td>\n",
       "      <td>0</td>\n",
       "      <td>0</td>\n",
       "    </tr>\n",
       "  </tbody>\n",
       "</table>\n",
       "</div>"
      ],
      "text/plain": [
       "  Week_Number order_date Is Special Sale Is Pay Day\n",
       "0          27 2015-07-01               0          1\n",
       "1          27 2015-07-02               0          0\n",
       "2          27 2015-07-03               0          0\n",
       "3          27 2015-07-04               0          0\n",
       "4          27 2015-07-05               0          0"
      ]
     },
     "execution_count": 108,
     "metadata": {},
     "output_type": "execute_result"
    }
   ],
   "source": [
    "sales_pay_daily_info.head()"
   ]
  },
  {
   "cell_type": "code",
   "execution_count": 109,
   "metadata": {},
   "outputs": [],
   "source": [
    "#Grouping the data frame by the week number\n",
    "sales_pay_info_by_week = sales_pay_daily_info.groupby(['Week_Number'])"
   ]
  },
  {
   "cell_type": "code",
   "execution_count": 110,
   "metadata": {},
   "outputs": [],
   "source": [
    "#Calculating the no. of special sale days and pay days in each week\n",
    "sspc_week = pd.DataFrame(sales_pay_info_by_week.agg({'Is Special Sale':['sum'],'Is Pay Day':['sum']}).reset_index())"
   ]
  },
  {
   "cell_type": "code",
   "execution_count": 111,
   "metadata": {},
   "outputs": [],
   "source": [
    "sspc_week.columns = ['Week_Number','Special Sale Day Count','Pay Day Count']"
   ]
  },
  {
   "cell_type": "code",
   "execution_count": 112,
   "metadata": {},
   "outputs": [
    {
     "data": {
      "text/html": [
       "<div>\n",
       "<style scoped>\n",
       "    .dataframe tbody tr th:only-of-type {\n",
       "        vertical-align: middle;\n",
       "    }\n",
       "\n",
       "    .dataframe tbody tr th {\n",
       "        vertical-align: top;\n",
       "    }\n",
       "\n",
       "    .dataframe thead th {\n",
       "        text-align: right;\n",
       "    }\n",
       "</style>\n",
       "<table border=\"1\" class=\"dataframe\">\n",
       "  <thead>\n",
       "    <tr style=\"text-align: right;\">\n",
       "      <th></th>\n",
       "      <th>Week_Number</th>\n",
       "      <th>Special Sale Day Count</th>\n",
       "      <th>Pay Day Count</th>\n",
       "    </tr>\n",
       "  </thead>\n",
       "  <tbody>\n",
       "    <tr>\n",
       "      <th>0</th>\n",
       "      <td>1</td>\n",
       "      <td>0</td>\n",
       "      <td>0</td>\n",
       "    </tr>\n",
       "    <tr>\n",
       "      <th>1</th>\n",
       "      <td>2</td>\n",
       "      <td>0</td>\n",
       "      <td>1</td>\n",
       "    </tr>\n",
       "    <tr>\n",
       "      <th>2</th>\n",
       "      <td>3</td>\n",
       "      <td>3</td>\n",
       "      <td>0</td>\n",
       "    </tr>\n",
       "    <tr>\n",
       "      <th>3</th>\n",
       "      <td>4</td>\n",
       "      <td>0</td>\n",
       "      <td>0</td>\n",
       "    </tr>\n",
       "    <tr>\n",
       "      <th>4</th>\n",
       "      <td>5</td>\n",
       "      <td>2</td>\n",
       "      <td>1</td>\n",
       "    </tr>\n",
       "  </tbody>\n",
       "</table>\n",
       "</div>"
      ],
      "text/plain": [
       "   Week_Number  Special Sale Day Count  Pay Day Count\n",
       "0            1                       0              0\n",
       "1            2                       0              1\n",
       "2            3                       3              0\n",
       "3            4                       0              0\n",
       "4            5                       2              1"
      ]
     },
     "execution_count": 112,
     "metadata": {},
     "output_type": "execute_result"
    }
   ],
   "source": [
    "# Dataframe containing the no. of special sale days in each of the 53 weeks\n",
    "sspc_week.head()"
   ]
  },
  {
   "cell_type": "markdown",
   "metadata": {},
   "source": [
    "## 2.4 Data preparation for monthly NPS score"
   ]
  },
  {
   "cell_type": "code",
   "execution_count": 113,
   "metadata": {},
   "outputs": [
    {
     "data": {
      "text/html": [
       "<div>\n",
       "<style scoped>\n",
       "    .dataframe tbody tr th:only-of-type {\n",
       "        vertical-align: middle;\n",
       "    }\n",
       "\n",
       "    .dataframe tbody tr th {\n",
       "        vertical-align: top;\n",
       "    }\n",
       "\n",
       "    .dataframe thead th {\n",
       "        text-align: right;\n",
       "    }\n",
       "</style>\n",
       "<table border=\"1\" class=\"dataframe\">\n",
       "  <thead>\n",
       "    <tr style=\"text-align: right;\">\n",
       "      <th></th>\n",
       "      <th>NPS</th>\n",
       "      <th>Stock Index</th>\n",
       "      <th>MonthYear</th>\n",
       "    </tr>\n",
       "  </thead>\n",
       "  <tbody>\n",
       "    <tr>\n",
       "      <th>0</th>\n",
       "      <td>54.599588</td>\n",
       "      <td>1177.0</td>\n",
       "      <td>2015-07-01</td>\n",
       "    </tr>\n",
       "    <tr>\n",
       "      <th>1</th>\n",
       "      <td>59.987101</td>\n",
       "      <td>1206.0</td>\n",
       "      <td>2015-08-01</td>\n",
       "    </tr>\n",
       "    <tr>\n",
       "      <th>2</th>\n",
       "      <td>46.925419</td>\n",
       "      <td>1101.0</td>\n",
       "      <td>2015-09-01</td>\n",
       "    </tr>\n",
       "    <tr>\n",
       "      <th>3</th>\n",
       "      <td>44.398389</td>\n",
       "      <td>1210.0</td>\n",
       "      <td>2015-10-01</td>\n",
       "    </tr>\n",
       "    <tr>\n",
       "      <th>4</th>\n",
       "      <td>47.000000</td>\n",
       "      <td>1233.0</td>\n",
       "      <td>2015-11-01</td>\n",
       "    </tr>\n",
       "    <tr>\n",
       "      <th>5</th>\n",
       "      <td>45.800000</td>\n",
       "      <td>1038.0</td>\n",
       "      <td>2015-12-01</td>\n",
       "    </tr>\n",
       "    <tr>\n",
       "      <th>6</th>\n",
       "      <td>47.093031</td>\n",
       "      <td>1052.0</td>\n",
       "      <td>2016-01-01</td>\n",
       "    </tr>\n",
       "    <tr>\n",
       "      <th>7</th>\n",
       "      <td>50.327406</td>\n",
       "      <td>1222.0</td>\n",
       "      <td>2016-02-01</td>\n",
       "    </tr>\n",
       "    <tr>\n",
       "      <th>8</th>\n",
       "      <td>49.020550</td>\n",
       "      <td>1015.0</td>\n",
       "      <td>2016-03-01</td>\n",
       "    </tr>\n",
       "    <tr>\n",
       "      <th>9</th>\n",
       "      <td>51.827605</td>\n",
       "      <td>1242.0</td>\n",
       "      <td>2016-04-01</td>\n",
       "    </tr>\n",
       "    <tr>\n",
       "      <th>10</th>\n",
       "      <td>47.306951</td>\n",
       "      <td>1228.0</td>\n",
       "      <td>2016-05-01</td>\n",
       "    </tr>\n",
       "    <tr>\n",
       "      <th>11</th>\n",
       "      <td>50.516687</td>\n",
       "      <td>1194.0</td>\n",
       "      <td>2016-06-01</td>\n",
       "    </tr>\n",
       "  </tbody>\n",
       "</table>\n",
       "</div>"
      ],
      "text/plain": [
       "          NPS  Stock Index  MonthYear\n",
       "0   54.599588       1177.0 2015-07-01\n",
       "1   59.987101       1206.0 2015-08-01\n",
       "2   46.925419       1101.0 2015-09-01\n",
       "3   44.398389       1210.0 2015-10-01\n",
       "4   47.000000       1233.0 2015-11-01\n",
       "5   45.800000       1038.0 2015-12-01\n",
       "6   47.093031       1052.0 2016-01-01\n",
       "7   50.327406       1222.0 2016-02-01\n",
       "8   49.020550       1015.0 2016-03-01\n",
       "9   51.827605       1242.0 2016-04-01\n",
       "10  47.306951       1228.0 2016-05-01\n",
       "11  50.516687       1194.0 2016-06-01"
      ]
     },
     "execution_count": 113,
     "metadata": {},
     "output_type": "execute_result"
    }
   ],
   "source": [
    "nps_score"
   ]
  },
  {
   "cell_type": "markdown",
   "metadata": {},
   "source": [
    "#### Observations:\n",
    "\n",
    "- nps_score dataframe has 3 columns\n",
    "- NPS column represents the NPS score for the corresponding month value reprsented by MonthYear column\n",
    "- Stock Index column represents the company stock price for the corresponding month value reprsented by MonthYear column"
   ]
  },
  {
   "cell_type": "code",
   "execution_count": 114,
   "metadata": {},
   "outputs": [],
   "source": [
    "#Creating a data frame for storing nps and stock price values at a daily level\n",
    "startDate = datetime.datetime(2015, 7, 1)\n",
    "endDate = datetime.datetime(2016,6,30)\n",
    "\n",
    "column_names = [\"Week_Number\",\"order_date\", \"NPS\",\"Stock Index\"]\n",
    "nps_daily_info = pd.DataFrame(columns = column_names)\n",
    "\n",
    "i = startDate\n",
    "while (i <= endDate):\n",
    "\n",
    "\n",
    "    for ind in nps_score.index:\n",
    "        if (i.month == nps_score['MonthYear'][ind].month):\n",
    "            nps_daily_info = nps_daily_info.append({'Week_Number': i.isocalendar()[1],\n",
    "                                                    'order_date' : i, \n",
    "                                                    'NPS' : nps_score['NPS'][ind],\n",
    "                                                    'Stock Index': nps_score['Stock Index'][ind]\n",
    "                                                    },\n",
    "                                                   ignore_index=True)\n",
    "            break\n",
    "    \n",
    "    i += datetime.timedelta(days=1)   "
   ]
  },
  {
   "cell_type": "code",
   "execution_count": 115,
   "metadata": {},
   "outputs": [
    {
     "data": {
      "text/html": [
       "<div>\n",
       "<style scoped>\n",
       "    .dataframe tbody tr th:only-of-type {\n",
       "        vertical-align: middle;\n",
       "    }\n",
       "\n",
       "    .dataframe tbody tr th {\n",
       "        vertical-align: top;\n",
       "    }\n",
       "\n",
       "    .dataframe thead th {\n",
       "        text-align: right;\n",
       "    }\n",
       "</style>\n",
       "<table border=\"1\" class=\"dataframe\">\n",
       "  <thead>\n",
       "    <tr style=\"text-align: right;\">\n",
       "      <th></th>\n",
       "      <th>Week_Number</th>\n",
       "      <th>order_date</th>\n",
       "      <th>NPS</th>\n",
       "      <th>Stock Index</th>\n",
       "    </tr>\n",
       "  </thead>\n",
       "  <tbody>\n",
       "    <tr>\n",
       "      <th>0</th>\n",
       "      <td>27</td>\n",
       "      <td>2015-07-01</td>\n",
       "      <td>54.599588</td>\n",
       "      <td>1177.0</td>\n",
       "    </tr>\n",
       "    <tr>\n",
       "      <th>1</th>\n",
       "      <td>27</td>\n",
       "      <td>2015-07-02</td>\n",
       "      <td>54.599588</td>\n",
       "      <td>1177.0</td>\n",
       "    </tr>\n",
       "    <tr>\n",
       "      <th>2</th>\n",
       "      <td>27</td>\n",
       "      <td>2015-07-03</td>\n",
       "      <td>54.599588</td>\n",
       "      <td>1177.0</td>\n",
       "    </tr>\n",
       "    <tr>\n",
       "      <th>3</th>\n",
       "      <td>27</td>\n",
       "      <td>2015-07-04</td>\n",
       "      <td>54.599588</td>\n",
       "      <td>1177.0</td>\n",
       "    </tr>\n",
       "    <tr>\n",
       "      <th>4</th>\n",
       "      <td>27</td>\n",
       "      <td>2015-07-05</td>\n",
       "      <td>54.599588</td>\n",
       "      <td>1177.0</td>\n",
       "    </tr>\n",
       "    <tr>\n",
       "      <th>5</th>\n",
       "      <td>28</td>\n",
       "      <td>2015-07-06</td>\n",
       "      <td>54.599588</td>\n",
       "      <td>1177.0</td>\n",
       "    </tr>\n",
       "    <tr>\n",
       "      <th>6</th>\n",
       "      <td>28</td>\n",
       "      <td>2015-07-07</td>\n",
       "      <td>54.599588</td>\n",
       "      <td>1177.0</td>\n",
       "    </tr>\n",
       "    <tr>\n",
       "      <th>7</th>\n",
       "      <td>28</td>\n",
       "      <td>2015-07-08</td>\n",
       "      <td>54.599588</td>\n",
       "      <td>1177.0</td>\n",
       "    </tr>\n",
       "    <tr>\n",
       "      <th>8</th>\n",
       "      <td>28</td>\n",
       "      <td>2015-07-09</td>\n",
       "      <td>54.599588</td>\n",
       "      <td>1177.0</td>\n",
       "    </tr>\n",
       "    <tr>\n",
       "      <th>9</th>\n",
       "      <td>28</td>\n",
       "      <td>2015-07-10</td>\n",
       "      <td>54.599588</td>\n",
       "      <td>1177.0</td>\n",
       "    </tr>\n",
       "    <tr>\n",
       "      <th>10</th>\n",
       "      <td>28</td>\n",
       "      <td>2015-07-11</td>\n",
       "      <td>54.599588</td>\n",
       "      <td>1177.0</td>\n",
       "    </tr>\n",
       "    <tr>\n",
       "      <th>11</th>\n",
       "      <td>28</td>\n",
       "      <td>2015-07-12</td>\n",
       "      <td>54.599588</td>\n",
       "      <td>1177.0</td>\n",
       "    </tr>\n",
       "    <tr>\n",
       "      <th>12</th>\n",
       "      <td>29</td>\n",
       "      <td>2015-07-13</td>\n",
       "      <td>54.599588</td>\n",
       "      <td>1177.0</td>\n",
       "    </tr>\n",
       "    <tr>\n",
       "      <th>13</th>\n",
       "      <td>29</td>\n",
       "      <td>2015-07-14</td>\n",
       "      <td>54.599588</td>\n",
       "      <td>1177.0</td>\n",
       "    </tr>\n",
       "    <tr>\n",
       "      <th>14</th>\n",
       "      <td>29</td>\n",
       "      <td>2015-07-15</td>\n",
       "      <td>54.599588</td>\n",
       "      <td>1177.0</td>\n",
       "    </tr>\n",
       "    <tr>\n",
       "      <th>15</th>\n",
       "      <td>29</td>\n",
       "      <td>2015-07-16</td>\n",
       "      <td>54.599588</td>\n",
       "      <td>1177.0</td>\n",
       "    </tr>\n",
       "    <tr>\n",
       "      <th>16</th>\n",
       "      <td>29</td>\n",
       "      <td>2015-07-17</td>\n",
       "      <td>54.599588</td>\n",
       "      <td>1177.0</td>\n",
       "    </tr>\n",
       "    <tr>\n",
       "      <th>17</th>\n",
       "      <td>29</td>\n",
       "      <td>2015-07-18</td>\n",
       "      <td>54.599588</td>\n",
       "      <td>1177.0</td>\n",
       "    </tr>\n",
       "    <tr>\n",
       "      <th>18</th>\n",
       "      <td>29</td>\n",
       "      <td>2015-07-19</td>\n",
       "      <td>54.599588</td>\n",
       "      <td>1177.0</td>\n",
       "    </tr>\n",
       "    <tr>\n",
       "      <th>19</th>\n",
       "      <td>30</td>\n",
       "      <td>2015-07-20</td>\n",
       "      <td>54.599588</td>\n",
       "      <td>1177.0</td>\n",
       "    </tr>\n",
       "  </tbody>\n",
       "</table>\n",
       "</div>"
      ],
      "text/plain": [
       "   Week_Number order_date        NPS  Stock Index\n",
       "0           27 2015-07-01  54.599588       1177.0\n",
       "1           27 2015-07-02  54.599588       1177.0\n",
       "2           27 2015-07-03  54.599588       1177.0\n",
       "3           27 2015-07-04  54.599588       1177.0\n",
       "4           27 2015-07-05  54.599588       1177.0\n",
       "5           28 2015-07-06  54.599588       1177.0\n",
       "6           28 2015-07-07  54.599588       1177.0\n",
       "7           28 2015-07-08  54.599588       1177.0\n",
       "8           28 2015-07-09  54.599588       1177.0\n",
       "9           28 2015-07-10  54.599588       1177.0\n",
       "10          28 2015-07-11  54.599588       1177.0\n",
       "11          28 2015-07-12  54.599588       1177.0\n",
       "12          29 2015-07-13  54.599588       1177.0\n",
       "13          29 2015-07-14  54.599588       1177.0\n",
       "14          29 2015-07-15  54.599588       1177.0\n",
       "15          29 2015-07-16  54.599588       1177.0\n",
       "16          29 2015-07-17  54.599588       1177.0\n",
       "17          29 2015-07-18  54.599588       1177.0\n",
       "18          29 2015-07-19  54.599588       1177.0\n",
       "19          30 2015-07-20  54.599588       1177.0"
      ]
     },
     "execution_count": 115,
     "metadata": {},
     "output_type": "execute_result"
    }
   ],
   "source": [
    "nps_daily_info.head(20)"
   ]
  },
  {
   "cell_type": "code",
   "execution_count": 116,
   "metadata": {},
   "outputs": [],
   "source": [
    "#Grouping the data frame by the week number\n",
    "nps_info_by_week = nps_daily_info.groupby(['Week_Number'])"
   ]
  },
  {
   "cell_type": "code",
   "execution_count": 117,
   "metadata": {},
   "outputs": [],
   "source": [
    "#Calculating the no. of special sale days and pay days in each week\n",
    "nps_week = pd.DataFrame(nps_info_by_week.agg({'NPS':['mean'],'Stock Index':['mean']}).reset_index())"
   ]
  },
  {
   "cell_type": "code",
   "execution_count": 118,
   "metadata": {},
   "outputs": [],
   "source": [
    "nps_week.columns = ['Week_Number','NPS','Stock Index']"
   ]
  },
  {
   "cell_type": "code",
   "execution_count": 119,
   "metadata": {},
   "outputs": [
    {
     "data": {
      "text/html": [
       "<div>\n",
       "<style scoped>\n",
       "    .dataframe tbody tr th:only-of-type {\n",
       "        vertical-align: middle;\n",
       "    }\n",
       "\n",
       "    .dataframe tbody tr th {\n",
       "        vertical-align: top;\n",
       "    }\n",
       "\n",
       "    .dataframe thead th {\n",
       "        text-align: right;\n",
       "    }\n",
       "</style>\n",
       "<table border=\"1\" class=\"dataframe\">\n",
       "  <thead>\n",
       "    <tr style=\"text-align: right;\">\n",
       "      <th></th>\n",
       "      <th>Week_Number</th>\n",
       "      <th>NPS</th>\n",
       "      <th>Stock Index</th>\n",
       "    </tr>\n",
       "  </thead>\n",
       "  <tbody>\n",
       "    <tr>\n",
       "      <th>0</th>\n",
       "      <td>1</td>\n",
       "      <td>47.093031</td>\n",
       "      <td>1052.0</td>\n",
       "    </tr>\n",
       "    <tr>\n",
       "      <th>1</th>\n",
       "      <td>2</td>\n",
       "      <td>47.093031</td>\n",
       "      <td>1052.0</td>\n",
       "    </tr>\n",
       "    <tr>\n",
       "      <th>2</th>\n",
       "      <td>3</td>\n",
       "      <td>47.093031</td>\n",
       "      <td>1052.0</td>\n",
       "    </tr>\n",
       "    <tr>\n",
       "      <th>3</th>\n",
       "      <td>4</td>\n",
       "      <td>47.093031</td>\n",
       "      <td>1052.0</td>\n",
       "    </tr>\n",
       "    <tr>\n",
       "      <th>4</th>\n",
       "      <td>5</td>\n",
       "      <td>50.327406</td>\n",
       "      <td>1222.0</td>\n",
       "    </tr>\n",
       "  </tbody>\n",
       "</table>\n",
       "</div>"
      ],
      "text/plain": [
       "   Week_Number        NPS  Stock Index\n",
       "0            1  47.093031       1052.0\n",
       "1            2  47.093031       1052.0\n",
       "2            3  47.093031       1052.0\n",
       "3            4  47.093031       1052.0\n",
       "4            5  50.327406       1222.0"
      ]
     },
     "execution_count": 119,
     "metadata": {},
     "output_type": "execute_result"
    }
   ],
   "source": [
    "# Dataframe containing the NPS and Stock Index values to be used for each of the 53 weeks\n",
    "nps_week.head()"
   ]
  },
  {
   "cell_type": "markdown",
   "metadata": {},
   "source": [
    "## 2.5 Data preparation for climate data"
   ]
  },
  {
   "cell_type": "code",
   "execution_count": 120,
   "metadata": {},
   "outputs": [
    {
     "name": "stdout",
     "output_type": "stream",
     "text": [
      "<class 'pandas.core.frame.DataFrame'>\n",
      "RangeIndex: 366 entries, 0 to 365\n",
      "Data columns (total 23 columns):\n",
      "Date                   366 non-null datetime64[ns]\n",
      "Year                   366 non-null int64\n",
      "Month                  366 non-null int64\n",
      "Day                    366 non-null int64\n",
      "Data Quality Review    366 non-null object\n",
      "Max Temp (°C)          208 non-null float64\n",
      "Max Temp Flag          7 non-null object\n",
      "Min Temp (°C)          191 non-null float64\n",
      "Min Temp Flag          24 non-null object\n",
      "Mean Temp (°C)         191 non-null float64\n",
      "Mean Temp Flag         24 non-null object\n",
      "Heat Deg Days (°C)     191 non-null float64\n",
      "Heat Deg Days Flag     24 non-null object\n",
      "Cool Deg Days (°C)     191 non-null float64\n",
      "Cool Deg Days Flag     24 non-null object\n",
      "Total Rain (mm)        215 non-null float64\n",
      "Total Rain Flag        7 non-null object\n",
      "Total Snow (cm)        215 non-null float64\n",
      "Total Snow Flag        6 non-null object\n",
      "Total Precip (mm)      215 non-null float64\n",
      "Total Precip Flag      11 non-null object\n",
      "Snow on Grnd (cm)      215 non-null float64\n",
      "Snow on Grnd Flag      6 non-null object\n",
      "dtypes: datetime64[ns](1), float64(9), int64(3), object(10)\n",
      "memory usage: 65.8+ KB\n"
     ]
    }
   ],
   "source": [
    "climate.info()"
   ]
  },
  {
   "cell_type": "code",
   "execution_count": 121,
   "metadata": {},
   "outputs": [
    {
     "data": {
      "text/html": [
       "<div>\n",
       "<style scoped>\n",
       "    .dataframe tbody tr th:only-of-type {\n",
       "        vertical-align: middle;\n",
       "    }\n",
       "\n",
       "    .dataframe tbody tr th {\n",
       "        vertical-align: top;\n",
       "    }\n",
       "\n",
       "    .dataframe thead th {\n",
       "        text-align: right;\n",
       "    }\n",
       "</style>\n",
       "<table border=\"1\" class=\"dataframe\">\n",
       "  <thead>\n",
       "    <tr style=\"text-align: right;\">\n",
       "      <th></th>\n",
       "      <th>Date</th>\n",
       "      <th>Year</th>\n",
       "      <th>Month</th>\n",
       "      <th>Day</th>\n",
       "      <th>Data Quality Review</th>\n",
       "      <th>Max Temp (°C)</th>\n",
       "      <th>Max Temp Flag</th>\n",
       "      <th>Min Temp (°C)</th>\n",
       "      <th>Min Temp Flag</th>\n",
       "      <th>Mean Temp (°C)</th>\n",
       "      <th>...</th>\n",
       "      <th>Cool Deg Days (°C)</th>\n",
       "      <th>Cool Deg Days Flag</th>\n",
       "      <th>Total Rain (mm)</th>\n",
       "      <th>Total Rain Flag</th>\n",
       "      <th>Total Snow (cm)</th>\n",
       "      <th>Total Snow Flag</th>\n",
       "      <th>Total Precip (mm)</th>\n",
       "      <th>Total Precip Flag</th>\n",
       "      <th>Snow on Grnd (cm)</th>\n",
       "      <th>Snow on Grnd Flag</th>\n",
       "    </tr>\n",
       "  </thead>\n",
       "  <tbody>\n",
       "    <tr>\n",
       "      <th>0</th>\n",
       "      <td>2015-07-01</td>\n",
       "      <td>2015</td>\n",
       "      <td>7</td>\n",
       "      <td>1</td>\n",
       "      <td>No</td>\n",
       "      <td>24.5</td>\n",
       "      <td>NaN</td>\n",
       "      <td>17.0</td>\n",
       "      <td>NaN</td>\n",
       "      <td>20.8</td>\n",
       "      <td>...</td>\n",
       "      <td>2.8</td>\n",
       "      <td>NaN</td>\n",
       "      <td>0.0</td>\n",
       "      <td>NaN</td>\n",
       "      <td>0.0</td>\n",
       "      <td>NaN</td>\n",
       "      <td>0.0</td>\n",
       "      <td>NaN</td>\n",
       "      <td>0.0</td>\n",
       "      <td>NaN</td>\n",
       "    </tr>\n",
       "    <tr>\n",
       "      <th>1</th>\n",
       "      <td>2015-07-02</td>\n",
       "      <td>2015</td>\n",
       "      <td>7</td>\n",
       "      <td>2</td>\n",
       "      <td>No</td>\n",
       "      <td>24.0</td>\n",
       "      <td>NaN</td>\n",
       "      <td>14.0</td>\n",
       "      <td>NaN</td>\n",
       "      <td>19.0</td>\n",
       "      <td>...</td>\n",
       "      <td>1.0</td>\n",
       "      <td>NaN</td>\n",
       "      <td>0.0</td>\n",
       "      <td>NaN</td>\n",
       "      <td>0.0</td>\n",
       "      <td>NaN</td>\n",
       "      <td>0.0</td>\n",
       "      <td>NaN</td>\n",
       "      <td>0.0</td>\n",
       "      <td>NaN</td>\n",
       "    </tr>\n",
       "    <tr>\n",
       "      <th>2</th>\n",
       "      <td>2015-07-03</td>\n",
       "      <td>2015</td>\n",
       "      <td>7</td>\n",
       "      <td>3</td>\n",
       "      <td>No</td>\n",
       "      <td>25.0</td>\n",
       "      <td>NaN</td>\n",
       "      <td>10.0</td>\n",
       "      <td>NaN</td>\n",
       "      <td>17.5</td>\n",
       "      <td>...</td>\n",
       "      <td>0.0</td>\n",
       "      <td>NaN</td>\n",
       "      <td>0.0</td>\n",
       "      <td>NaN</td>\n",
       "      <td>0.0</td>\n",
       "      <td>NaN</td>\n",
       "      <td>0.0</td>\n",
       "      <td>NaN</td>\n",
       "      <td>0.0</td>\n",
       "      <td>NaN</td>\n",
       "    </tr>\n",
       "    <tr>\n",
       "      <th>3</th>\n",
       "      <td>2015-07-04</td>\n",
       "      <td>2015</td>\n",
       "      <td>7</td>\n",
       "      <td>4</td>\n",
       "      <td>No</td>\n",
       "      <td>26.0</td>\n",
       "      <td>NaN</td>\n",
       "      <td>11.0</td>\n",
       "      <td>NaN</td>\n",
       "      <td>18.5</td>\n",
       "      <td>...</td>\n",
       "      <td>0.5</td>\n",
       "      <td>NaN</td>\n",
       "      <td>0.0</td>\n",
       "      <td>NaN</td>\n",
       "      <td>0.0</td>\n",
       "      <td>NaN</td>\n",
       "      <td>0.0</td>\n",
       "      <td>NaN</td>\n",
       "      <td>0.0</td>\n",
       "      <td>NaN</td>\n",
       "    </tr>\n",
       "    <tr>\n",
       "      <th>4</th>\n",
       "      <td>2015-07-05</td>\n",
       "      <td>2015</td>\n",
       "      <td>7</td>\n",
       "      <td>5</td>\n",
       "      <td>No</td>\n",
       "      <td>28.0</td>\n",
       "      <td>NaN</td>\n",
       "      <td>14.0</td>\n",
       "      <td>NaN</td>\n",
       "      <td>21.0</td>\n",
       "      <td>...</td>\n",
       "      <td>3.0</td>\n",
       "      <td>NaN</td>\n",
       "      <td>0.0</td>\n",
       "      <td>NaN</td>\n",
       "      <td>0.0</td>\n",
       "      <td>NaN</td>\n",
       "      <td>0.0</td>\n",
       "      <td>NaN</td>\n",
       "      <td>0.0</td>\n",
       "      <td>NaN</td>\n",
       "    </tr>\n",
       "  </tbody>\n",
       "</table>\n",
       "<p>5 rows × 23 columns</p>\n",
       "</div>"
      ],
      "text/plain": [
       "        Date  Year  Month  Day Data Quality Review  Max Temp (°C)  \\\n",
       "0 2015-07-01  2015      7    1                  No           24.5   \n",
       "1 2015-07-02  2015      7    2                  No           24.0   \n",
       "2 2015-07-03  2015      7    3                  No           25.0   \n",
       "3 2015-07-04  2015      7    4                  No           26.0   \n",
       "4 2015-07-05  2015      7    5                  No           28.0   \n",
       "\n",
       "  Max Temp Flag  Min Temp (°C) Min Temp Flag  Mean Temp (°C)  \\\n",
       "0           NaN           17.0           NaN            20.8   \n",
       "1           NaN           14.0           NaN            19.0   \n",
       "2           NaN           10.0           NaN            17.5   \n",
       "3           NaN           11.0           NaN            18.5   \n",
       "4           NaN           14.0           NaN            21.0   \n",
       "\n",
       "         ...         Cool Deg Days (°C)  Cool Deg Days Flag Total Rain (mm)  \\\n",
       "0        ...                        2.8                 NaN             0.0   \n",
       "1        ...                        1.0                 NaN             0.0   \n",
       "2        ...                        0.0                 NaN             0.0   \n",
       "3        ...                        0.5                 NaN             0.0   \n",
       "4        ...                        3.0                 NaN             0.0   \n",
       "\n",
       "   Total Rain Flag Total Snow (cm)  Total Snow Flag Total Precip (mm)  \\\n",
       "0              NaN             0.0              NaN               0.0   \n",
       "1              NaN             0.0              NaN               0.0   \n",
       "2              NaN             0.0              NaN               0.0   \n",
       "3              NaN             0.0              NaN               0.0   \n",
       "4              NaN             0.0              NaN               0.0   \n",
       "\n",
       "   Total Precip Flag Snow on Grnd (cm)  Snow on Grnd Flag  \n",
       "0                NaN               0.0                NaN  \n",
       "1                NaN               0.0                NaN  \n",
       "2                NaN               0.0                NaN  \n",
       "3                NaN               0.0                NaN  \n",
       "4                NaN               0.0                NaN  \n",
       "\n",
       "[5 rows x 23 columns]"
      ]
     },
     "execution_count": 121,
     "metadata": {},
     "output_type": "execute_result"
    }
   ],
   "source": [
    "climate.head()"
   ]
  },
  {
   "cell_type": "markdown",
   "metadata": {},
   "source": [
    "# Phase 3: Exploratory Data Analysis"
   ]
  },
  {
   "cell_type": "code",
   "execution_count": null,
   "metadata": {},
   "outputs": [],
   "source": []
  },
  {
   "cell_type": "markdown",
   "metadata": {},
   "source": [
    "# Phase 4: Feature Engineering"
   ]
  },
  {
   "cell_type": "code",
   "execution_count": 122,
   "metadata": {},
   "outputs": [
    {
     "name": "stdout",
     "output_type": "stream",
     "text": [
      "<class 'pandas.core.frame.DataFrame'>\n",
      "Int64Index: 509512 entries, 2 to 1647171\n",
      "Data columns (total 20 columns):\n",
      "fsn_id                             509512 non-null object\n",
      "order_date                         509512 non-null datetime64[ns]\n",
      "Year                               509512 non-null int64\n",
      "Month                              509512 non-null int64\n",
      "order_id                           509512 non-null int64\n",
      "order_item_id                      509512 non-null int64\n",
      "gmv                                509512 non-null float64\n",
      "units                              509512 non-null int64\n",
      "s1_fact.order_payment_type         509512 non-null object\n",
      "sla                                509512 non-null int64\n",
      "cust_id                            509512 non-null float64\n",
      "pincode                            509512 non-null float64\n",
      "product_analytic_super_category    509512 non-null object\n",
      "product_analytic_category          509512 non-null object\n",
      "product_analytic_sub_category      509512 non-null object\n",
      "product_analytic_vertical          509512 non-null object\n",
      "product_mrp                        509512 non-null int64\n",
      "product_procurement_sla            509512 non-null int64\n",
      "day                                509512 non-null int64\n",
      "Week_Number                        509512 non-null int64\n",
      "dtypes: datetime64[ns](1), float64(3), int64(10), object(6)\n",
      "memory usage: 81.6+ MB\n"
     ]
    }
   ],
   "source": [
    "products_filtered.info()"
   ]
  },
  {
   "cell_type": "code",
   "execution_count": 123,
   "metadata": {},
   "outputs": [],
   "source": [
    "products_filtered['Is Prepaid'] = np.where(products_filtered['s1_fact.order_payment_type']=='Prepaid',1,0)\n",
    "products_filtered['Prepaid Count'] = products_filtered['Is Prepaid'] * products_filtered['units']"
   ]
  },
  {
   "cell_type": "code",
   "execution_count": 124,
   "metadata": {},
   "outputs": [],
   "source": [
    "#Creating a column with the percentage discount for each product\n",
    "products_filtered['Discount %'] = (products_filtered['product_mrp'] - (products_filtered['gmv']/products_filtered['units']))*100/products_filtered['product_mrp']\n"
   ]
  },
  {
   "cell_type": "code",
   "execution_count": 125,
   "metadata": {},
   "outputs": [],
   "source": [
    "#Creating product order data frames for each of the 3 product subcategories\n",
    "prd_CameraAccessory=pd.DataFrame(products_filtered[products_filtered.product_analytic_sub_category.isin(['CameraAccessory'])])\n",
    "prd_GamingAccessory=pd.DataFrame(products_filtered[products_filtered.product_analytic_sub_category.isin(['GamingAccessory'])])\n",
    "prd_HomeAudio=pd.DataFrame(products_filtered[products_filtered.product_analytic_sub_category.isin(['HomeAudio'])])"
   ]
  },
  {
   "cell_type": "markdown",
   "metadata": {},
   "source": [
    "## 4.1 Order KPI features - total_gmv, gmv_units, total_units, order_cnt"
   ]
  },
  {
   "cell_type": "code",
   "execution_count": 126,
   "metadata": {},
   "outputs": [
    {
     "data": {
      "text/html": [
       "<div>\n",
       "<style scoped>\n",
       "    .dataframe tbody tr th:only-of-type {\n",
       "        vertical-align: middle;\n",
       "    }\n",
       "\n",
       "    .dataframe tbody tr th {\n",
       "        vertical-align: top;\n",
       "    }\n",
       "\n",
       "    .dataframe thead th {\n",
       "        text-align: right;\n",
       "    }\n",
       "</style>\n",
       "<table border=\"1\" class=\"dataframe\">\n",
       "  <thead>\n",
       "    <tr style=\"text-align: right;\">\n",
       "      <th></th>\n",
       "      <th>Week_Number</th>\n",
       "      <th>total_gmv</th>\n",
       "      <th>gmv_units</th>\n",
       "      <th>total_units</th>\n",
       "      <th>order_cnt</th>\n",
       "    </tr>\n",
       "  </thead>\n",
       "  <tbody>\n",
       "    <tr>\n",
       "      <th>0</th>\n",
       "      <td>1</td>\n",
       "      <td>2695255.0</td>\n",
       "      <td>528.397485</td>\n",
       "      <td>5123.0</td>\n",
       "      <td>5009.0</td>\n",
       "    </tr>\n",
       "    <tr>\n",
       "      <th>1</th>\n",
       "      <td>2</td>\n",
       "      <td>2076847.0</td>\n",
       "      <td>571.873425</td>\n",
       "      <td>3644.0</td>\n",
       "      <td>3571.0</td>\n",
       "    </tr>\n",
       "    <tr>\n",
       "      <th>2</th>\n",
       "      <td>3</td>\n",
       "      <td>2683274.0</td>\n",
       "      <td>567.865327</td>\n",
       "      <td>4756.0</td>\n",
       "      <td>4652.0</td>\n",
       "    </tr>\n",
       "    <tr>\n",
       "      <th>3</th>\n",
       "      <td>4</td>\n",
       "      <td>2186104.0</td>\n",
       "      <td>665.147531</td>\n",
       "      <td>3311.0</td>\n",
       "      <td>3240.0</td>\n",
       "    </tr>\n",
       "    <tr>\n",
       "      <th>4</th>\n",
       "      <td>5</td>\n",
       "      <td>2848712.0</td>\n",
       "      <td>538.983211</td>\n",
       "      <td>5318.0</td>\n",
       "      <td>5182.0</td>\n",
       "    </tr>\n",
       "  </tbody>\n",
       "</table>\n",
       "</div>"
      ],
      "text/plain": [
       "   Week_Number  total_gmv   gmv_units  total_units  order_cnt\n",
       "0            1  2695255.0  528.397485       5123.0     5009.0\n",
       "1            2  2076847.0  571.873425       3644.0     3571.0\n",
       "2            3  2683274.0  567.865327       4756.0     4652.0\n",
       "3            4  2186104.0  665.147531       3311.0     3240.0\n",
       "4            5  2848712.0  538.983211       5318.0     5182.0"
      ]
     },
     "execution_count": 126,
     "metadata": {},
     "output_type": "execute_result"
    }
   ],
   "source": [
    "prd_CameraAccessory_feature=prd_CameraAccessory.groupby('Week_Number') \\\n",
    "  .apply(lambda x: pd.Series({\n",
    "      'total_gmv'   : round(x['gmv'].sum(),2),\n",
    "      'gmv_units'   : (x['gmv']/x['units']).mean(),\n",
    "      'total_units' : x['units'].sum(),\n",
    "      'order_cnt' : x['order_id'].count()\n",
    "  })\n",
    ")\n",
    "\n",
    "prd_CameraAccessory_feature.reset_index(inplace=True)\n",
    "prd_CameraAccessory_feature.head()"
   ]
  },
  {
   "cell_type": "code",
   "execution_count": 127,
   "metadata": {},
   "outputs": [
    {
     "data": {
      "text/html": [
       "<div>\n",
       "<style scoped>\n",
       "    .dataframe tbody tr th:only-of-type {\n",
       "        vertical-align: middle;\n",
       "    }\n",
       "\n",
       "    .dataframe tbody tr th {\n",
       "        vertical-align: top;\n",
       "    }\n",
       "\n",
       "    .dataframe thead th {\n",
       "        text-align: right;\n",
       "    }\n",
       "</style>\n",
       "<table border=\"1\" class=\"dataframe\">\n",
       "  <thead>\n",
       "    <tr style=\"text-align: right;\">\n",
       "      <th></th>\n",
       "      <th>Week_Number</th>\n",
       "      <th>total_gmv</th>\n",
       "      <th>gmv_units</th>\n",
       "      <th>total_units</th>\n",
       "      <th>order_cnt</th>\n",
       "    </tr>\n",
       "  </thead>\n",
       "  <tbody>\n",
       "    <tr>\n",
       "      <th>0</th>\n",
       "      <td>1</td>\n",
       "      <td>2956408.00</td>\n",
       "      <td>685.716404</td>\n",
       "      <td>4360.0</td>\n",
       "      <td>4249.0</td>\n",
       "    </tr>\n",
       "    <tr>\n",
       "      <th>1</th>\n",
       "      <td>2</td>\n",
       "      <td>2632506.00</td>\n",
       "      <td>690.224880</td>\n",
       "      <td>3855.0</td>\n",
       "      <td>3762.0</td>\n",
       "    </tr>\n",
       "    <tr>\n",
       "      <th>2</th>\n",
       "      <td>3</td>\n",
       "      <td>3904175.30</td>\n",
       "      <td>759.455642</td>\n",
       "      <td>5204.0</td>\n",
       "      <td>5038.0</td>\n",
       "    </tr>\n",
       "    <tr>\n",
       "      <th>3</th>\n",
       "      <td>4</td>\n",
       "      <td>2374740.50</td>\n",
       "      <td>703.027125</td>\n",
       "      <td>3403.0</td>\n",
       "      <td>3318.0</td>\n",
       "    </tr>\n",
       "    <tr>\n",
       "      <th>4</th>\n",
       "      <td>5</td>\n",
       "      <td>2489931.85</td>\n",
       "      <td>621.102775</td>\n",
       "      <td>4050.0</td>\n",
       "      <td>3946.0</td>\n",
       "    </tr>\n",
       "  </tbody>\n",
       "</table>\n",
       "</div>"
      ],
      "text/plain": [
       "   Week_Number   total_gmv   gmv_units  total_units  order_cnt\n",
       "0            1  2956408.00  685.716404       4360.0     4249.0\n",
       "1            2  2632506.00  690.224880       3855.0     3762.0\n",
       "2            3  3904175.30  759.455642       5204.0     5038.0\n",
       "3            4  2374740.50  703.027125       3403.0     3318.0\n",
       "4            5  2489931.85  621.102775       4050.0     3946.0"
      ]
     },
     "execution_count": 127,
     "metadata": {},
     "output_type": "execute_result"
    }
   ],
   "source": [
    "prd_GamingAccessory_feature=prd_GamingAccessory.groupby('Week_Number') \\\n",
    "  .apply(lambda x: pd.Series({\n",
    "      'total_gmv'   : round(x['gmv'].sum(),2),\n",
    "      'gmv_units'   : (x['gmv']/x['units']).mean(),\n",
    "      'total_units' : x['units'].sum(),\n",
    "      'order_cnt' : x['order_id'].count()\n",
    "  })\n",
    ")\n",
    "\n",
    "prd_GamingAccessory_feature.reset_index(inplace=True)\n",
    "prd_GamingAccessory_feature.head()"
   ]
  },
  {
   "cell_type": "code",
   "execution_count": 128,
   "metadata": {},
   "outputs": [
    {
     "data": {
      "text/html": [
       "<div>\n",
       "<style scoped>\n",
       "    .dataframe tbody tr th:only-of-type {\n",
       "        vertical-align: middle;\n",
       "    }\n",
       "\n",
       "    .dataframe tbody tr th {\n",
       "        vertical-align: top;\n",
       "    }\n",
       "\n",
       "    .dataframe thead th {\n",
       "        text-align: right;\n",
       "    }\n",
       "</style>\n",
       "<table border=\"1\" class=\"dataframe\">\n",
       "  <thead>\n",
       "    <tr style=\"text-align: right;\">\n",
       "      <th></th>\n",
       "      <th>Week_Number</th>\n",
       "      <th>total_gmv</th>\n",
       "      <th>gmv_units</th>\n",
       "      <th>total_units</th>\n",
       "      <th>order_cnt</th>\n",
       "    </tr>\n",
       "  </thead>\n",
       "  <tbody>\n",
       "    <tr>\n",
       "      <th>0</th>\n",
       "      <td>1</td>\n",
       "      <td>6077631.00</td>\n",
       "      <td>1929.780356</td>\n",
       "      <td>3154.0</td>\n",
       "      <td>3146.0</td>\n",
       "    </tr>\n",
       "    <tr>\n",
       "      <th>1</th>\n",
       "      <td>2</td>\n",
       "      <td>4000777.00</td>\n",
       "      <td>1894.724645</td>\n",
       "      <td>2115.0</td>\n",
       "      <td>2110.0</td>\n",
       "    </tr>\n",
       "    <tr>\n",
       "      <th>2</th>\n",
       "      <td>3</td>\n",
       "      <td>4479235.45</td>\n",
       "      <td>1802.297674</td>\n",
       "      <td>2491.0</td>\n",
       "      <td>2474.0</td>\n",
       "    </tr>\n",
       "    <tr>\n",
       "      <th>3</th>\n",
       "      <td>4</td>\n",
       "      <td>3721562.00</td>\n",
       "      <td>1812.699366</td>\n",
       "      <td>2060.0</td>\n",
       "      <td>2049.0</td>\n",
       "    </tr>\n",
       "    <tr>\n",
       "      <th>4</th>\n",
       "      <td>5</td>\n",
       "      <td>6108654.00</td>\n",
       "      <td>1967.052886</td>\n",
       "      <td>3115.0</td>\n",
       "      <td>3101.0</td>\n",
       "    </tr>\n",
       "  </tbody>\n",
       "</table>\n",
       "</div>"
      ],
      "text/plain": [
       "   Week_Number   total_gmv    gmv_units  total_units  order_cnt\n",
       "0            1  6077631.00  1929.780356       3154.0     3146.0\n",
       "1            2  4000777.00  1894.724645       2115.0     2110.0\n",
       "2            3  4479235.45  1802.297674       2491.0     2474.0\n",
       "3            4  3721562.00  1812.699366       2060.0     2049.0\n",
       "4            5  6108654.00  1967.052886       3115.0     3101.0"
      ]
     },
     "execution_count": 128,
     "metadata": {},
     "output_type": "execute_result"
    }
   ],
   "source": [
    "prd_HomeAudio_feature=prd_HomeAudio.groupby('Week_Number') \\\n",
    "  .apply(lambda x: pd.Series({\n",
    "      'total_gmv'   : round(x['gmv'].sum(),2),\n",
    "      'gmv_units'   : (x['gmv']/x['units']).mean(),\n",
    "      'total_units' : x['units'].sum(),\n",
    "      'order_cnt' : x['order_id'].count()\n",
    "  })\n",
    ")\n",
    "\n",
    "prd_HomeAudio_feature.reset_index(inplace=True)\n",
    "prd_HomeAudio_feature.head()"
   ]
  },
  {
   "cell_type": "markdown",
   "metadata": {},
   "source": [
    "## 4.2 Advertising Expense KPI Features"
   ]
  },
  {
   "cell_type": "code",
   "execution_count": 129,
   "metadata": {},
   "outputs": [
    {
     "data": {
      "text/html": [
       "<div>\n",
       "<style scoped>\n",
       "    .dataframe tbody tr th:only-of-type {\n",
       "        vertical-align: middle;\n",
       "    }\n",
       "\n",
       "    .dataframe tbody tr th {\n",
       "        vertical-align: top;\n",
       "    }\n",
       "\n",
       "    .dataframe thead th {\n",
       "        text-align: right;\n",
       "    }\n",
       "</style>\n",
       "<table border=\"1\" class=\"dataframe\">\n",
       "  <thead>\n",
       "    <tr style=\"text-align: right;\">\n",
       "      <th></th>\n",
       "      <th>Year</th>\n",
       "      <th>Month</th>\n",
       "      <th>Total Investment</th>\n",
       "      <th>TV</th>\n",
       "      <th>Digital</th>\n",
       "      <th>Sponsorship</th>\n",
       "      <th>Content Marketing</th>\n",
       "      <th>Online marketing</th>\n",
       "      <th>Affiliates</th>\n",
       "      <th>SEM</th>\n",
       "      <th>Radio</th>\n",
       "      <th>Other</th>\n",
       "    </tr>\n",
       "  </thead>\n",
       "  <tbody>\n",
       "    <tr>\n",
       "      <th>0</th>\n",
       "      <td>2015</td>\n",
       "      <td>7</td>\n",
       "      <td>17.061775</td>\n",
       "      <td>0.215330</td>\n",
       "      <td>2.533014</td>\n",
       "      <td>7.414270</td>\n",
       "      <td>0.000933</td>\n",
       "      <td>1.327278</td>\n",
       "      <td>0.547254</td>\n",
       "      <td>5.023697</td>\n",
       "      <td>0.0</td>\n",
       "      <td>0.0</td>\n",
       "    </tr>\n",
       "    <tr>\n",
       "      <th>1</th>\n",
       "      <td>2015</td>\n",
       "      <td>8</td>\n",
       "      <td>5.064306</td>\n",
       "      <td>0.006438</td>\n",
       "      <td>1.278074</td>\n",
       "      <td>1.063332</td>\n",
       "      <td>0.000006</td>\n",
       "      <td>0.129244</td>\n",
       "      <td>0.073684</td>\n",
       "      <td>2.513528</td>\n",
       "      <td>0.0</td>\n",
       "      <td>0.0</td>\n",
       "    </tr>\n",
       "    <tr>\n",
       "      <th>2</th>\n",
       "      <td>2015</td>\n",
       "      <td>9</td>\n",
       "      <td>96.254380</td>\n",
       "      <td>3.879504</td>\n",
       "      <td>1.356528</td>\n",
       "      <td>62.787651</td>\n",
       "      <td>0.610292</td>\n",
       "      <td>16.379990</td>\n",
       "      <td>5.038266</td>\n",
       "      <td>6.202149</td>\n",
       "      <td>0.0</td>\n",
       "      <td>0.0</td>\n",
       "    </tr>\n",
       "    <tr>\n",
       "      <th>3</th>\n",
       "      <td>2015</td>\n",
       "      <td>10</td>\n",
       "      <td>170.156297</td>\n",
       "      <td>6.144711</td>\n",
       "      <td>12.622480</td>\n",
       "      <td>84.672532</td>\n",
       "      <td>3.444075</td>\n",
       "      <td>24.371778</td>\n",
       "      <td>6.973711</td>\n",
       "      <td>31.927011</td>\n",
       "      <td>0.0</td>\n",
       "      <td>0.0</td>\n",
       "    </tr>\n",
       "    <tr>\n",
       "      <th>4</th>\n",
       "      <td>2015</td>\n",
       "      <td>11</td>\n",
       "      <td>51.216220</td>\n",
       "      <td>4.220630</td>\n",
       "      <td>1.275469</td>\n",
       "      <td>14.172116</td>\n",
       "      <td>0.168633</td>\n",
       "      <td>19.561574</td>\n",
       "      <td>6.595767</td>\n",
       "      <td>5.222032</td>\n",
       "      <td>0.0</td>\n",
       "      <td>0.0</td>\n",
       "    </tr>\n",
       "  </tbody>\n",
       "</table>\n",
       "</div>"
      ],
      "text/plain": [
       "   Year  Month  Total Investment        TV    Digital  Sponsorship  \\\n",
       "0  2015      7         17.061775  0.215330   2.533014     7.414270   \n",
       "1  2015      8          5.064306  0.006438   1.278074     1.063332   \n",
       "2  2015      9         96.254380  3.879504   1.356528    62.787651   \n",
       "3  2015     10        170.156297  6.144711  12.622480    84.672532   \n",
       "4  2015     11         51.216220  4.220630   1.275469    14.172116   \n",
       "\n",
       "   Content Marketing  Online marketing  Affiliates        SEM  Radio  Other  \n",
       "0           0.000933          1.327278    0.547254   5.023697    0.0    0.0  \n",
       "1           0.000006          0.129244    0.073684   2.513528    0.0    0.0  \n",
       "2           0.610292         16.379990    5.038266   6.202149    0.0    0.0  \n",
       "3           3.444075         24.371778    6.973711  31.927011    0.0    0.0  \n",
       "4           0.168633         19.561574    6.595767   5.222032    0.0    0.0  "
      ]
     },
     "execution_count": 129,
     "metadata": {},
     "output_type": "execute_result"
    }
   ],
   "source": [
    "media_invest.head()"
   ]
  },
  {
   "cell_type": "code",
   "execution_count": 130,
   "metadata": {},
   "outputs": [],
   "source": [
    "media_invest['day']=1\n",
    "media_invest['date']=pd.to_datetime(media_invest[['Year', 'Month','day']])\n",
    "\n",
    "#Calculating the avg daily expense for each of the advertising channels across the months\n",
    "media_invest['tv_per_day_expense']=media_invest.TV/media_invest.date.dt.daysinmonth\n",
    "media_invest['Digi_per_day_expense']=media_invest.Digital/media_invest.date.dt.daysinmonth\n",
    "media_invest['Spon_per_day_expense']=media_invest.Sponsorship/media_invest.date.dt.daysinmonth\n",
    "media_invest['cm_per_day_expense']=media_invest['Content Marketing']/media_invest.date.dt.daysinmonth\n",
    "media_invest['om_per_day_expense']=media_invest['Online marketing']/media_invest.date.dt.daysinmonth\n",
    "media_invest['aff_per_day_expense']=media_invest['Affiliates']/media_invest.date.dt.daysinmonth\n",
    "media_invest['sem_per_day_expense']=media_invest['SEM']/media_invest.date.dt.daysinmonth\n",
    "media_invest['radio_per_day_expense']=media_invest['Radio']/media_invest.date.dt.daysinmonth\n",
    "media_invest['Other_per_day_expense']=media_invest['Other']/media_invest.date.dt.daysinmonth"
   ]
  },
  {
   "cell_type": "code",
   "execution_count": 131,
   "metadata": {},
   "outputs": [],
   "source": [
    "#Creating a data frame for storing the advertising expenses at a daily level\n",
    "startDate = datetime.datetime(2015, 7, 1)\n",
    "endDate = datetime.datetime(2016,6,30)\n",
    "\n",
    "column_names = [\"Week_Number\",\"date\", \"TV\",\"Digital\",\"Sponsorship\",\"Content Marketing\",\"Online marketing\",\"Affiliates\",\"SEM\",\"Radio\",\"Other\"]\n",
    "expense_daily_info = pd.DataFrame(columns = column_names)\n",
    "\n",
    "i = startDate\n",
    "while (i <= endDate):\n",
    "\n",
    "\n",
    "    for ind in media_invest.index:\n",
    "        if (i.month == media_invest['Month'][ind]):\n",
    "            expense_daily_info = expense_daily_info.append({'Week_Number': i.isocalendar()[1],\n",
    "                                                            'date' : i, \n",
    "                                                            'TV' : media_invest['tv_per_day_expense'][ind],\n",
    "                                                            'Digital': media_invest['Digi_per_day_expense'][ind],\n",
    "                                                            'Sponsorship': media_invest['Spon_per_day_expense'][ind],\n",
    "                                                            'Content Marketing': media_invest['cm_per_day_expense'][ind],\n",
    "                                                            'Online marketing': media_invest['om_per_day_expense'][ind],\n",
    "                                                            'Affiliates': media_invest['aff_per_day_expense'][ind],\n",
    "                                                            'SEM': media_invest['sem_per_day_expense'][ind],\n",
    "                                                            'Radio': media_invest['radio_per_day_expense'][ind],\n",
    "                                                            'Other': media_invest['Other_per_day_expense'][ind]\n",
    "                                                            },\n",
    "                                                            ignore_index=True)\n",
    "            break\n",
    "    \n",
    "    i += datetime.timedelta(days=1)   "
   ]
  },
  {
   "cell_type": "code",
   "execution_count": 132,
   "metadata": {},
   "outputs": [
    {
     "data": {
      "text/html": [
       "<div>\n",
       "<style scoped>\n",
       "    .dataframe tbody tr th:only-of-type {\n",
       "        vertical-align: middle;\n",
       "    }\n",
       "\n",
       "    .dataframe tbody tr th {\n",
       "        vertical-align: top;\n",
       "    }\n",
       "\n",
       "    .dataframe thead th {\n",
       "        text-align: right;\n",
       "    }\n",
       "</style>\n",
       "<table border=\"1\" class=\"dataframe\">\n",
       "  <thead>\n",
       "    <tr style=\"text-align: right;\">\n",
       "      <th></th>\n",
       "      <th>Week_Number</th>\n",
       "      <th>date</th>\n",
       "      <th>TV</th>\n",
       "      <th>Digital</th>\n",
       "      <th>Sponsorship</th>\n",
       "      <th>Content Marketing</th>\n",
       "      <th>Online marketing</th>\n",
       "      <th>Affiliates</th>\n",
       "      <th>SEM</th>\n",
       "      <th>Radio</th>\n",
       "      <th>Other</th>\n",
       "    </tr>\n",
       "  </thead>\n",
       "  <tbody>\n",
       "    <tr>\n",
       "      <th>0</th>\n",
       "      <td>27</td>\n",
       "      <td>2015-07-01</td>\n",
       "      <td>0.006946</td>\n",
       "      <td>0.08171</td>\n",
       "      <td>0.23917</td>\n",
       "      <td>0.00003</td>\n",
       "      <td>0.042815</td>\n",
       "      <td>0.017653</td>\n",
       "      <td>0.162055</td>\n",
       "      <td>0.0</td>\n",
       "      <td>0.0</td>\n",
       "    </tr>\n",
       "    <tr>\n",
       "      <th>1</th>\n",
       "      <td>27</td>\n",
       "      <td>2015-07-02</td>\n",
       "      <td>0.006946</td>\n",
       "      <td>0.08171</td>\n",
       "      <td>0.23917</td>\n",
       "      <td>0.00003</td>\n",
       "      <td>0.042815</td>\n",
       "      <td>0.017653</td>\n",
       "      <td>0.162055</td>\n",
       "      <td>0.0</td>\n",
       "      <td>0.0</td>\n",
       "    </tr>\n",
       "    <tr>\n",
       "      <th>2</th>\n",
       "      <td>27</td>\n",
       "      <td>2015-07-03</td>\n",
       "      <td>0.006946</td>\n",
       "      <td>0.08171</td>\n",
       "      <td>0.23917</td>\n",
       "      <td>0.00003</td>\n",
       "      <td>0.042815</td>\n",
       "      <td>0.017653</td>\n",
       "      <td>0.162055</td>\n",
       "      <td>0.0</td>\n",
       "      <td>0.0</td>\n",
       "    </tr>\n",
       "    <tr>\n",
       "      <th>3</th>\n",
       "      <td>27</td>\n",
       "      <td>2015-07-04</td>\n",
       "      <td>0.006946</td>\n",
       "      <td>0.08171</td>\n",
       "      <td>0.23917</td>\n",
       "      <td>0.00003</td>\n",
       "      <td>0.042815</td>\n",
       "      <td>0.017653</td>\n",
       "      <td>0.162055</td>\n",
       "      <td>0.0</td>\n",
       "      <td>0.0</td>\n",
       "    </tr>\n",
       "    <tr>\n",
       "      <th>4</th>\n",
       "      <td>27</td>\n",
       "      <td>2015-07-05</td>\n",
       "      <td>0.006946</td>\n",
       "      <td>0.08171</td>\n",
       "      <td>0.23917</td>\n",
       "      <td>0.00003</td>\n",
       "      <td>0.042815</td>\n",
       "      <td>0.017653</td>\n",
       "      <td>0.162055</td>\n",
       "      <td>0.0</td>\n",
       "      <td>0.0</td>\n",
       "    </tr>\n",
       "  </tbody>\n",
       "</table>\n",
       "</div>"
      ],
      "text/plain": [
       "  Week_Number       date        TV  Digital  Sponsorship  Content Marketing  \\\n",
       "0          27 2015-07-01  0.006946  0.08171      0.23917            0.00003   \n",
       "1          27 2015-07-02  0.006946  0.08171      0.23917            0.00003   \n",
       "2          27 2015-07-03  0.006946  0.08171      0.23917            0.00003   \n",
       "3          27 2015-07-04  0.006946  0.08171      0.23917            0.00003   \n",
       "4          27 2015-07-05  0.006946  0.08171      0.23917            0.00003   \n",
       "\n",
       "   Online marketing  Affiliates       SEM  Radio  Other  \n",
       "0          0.042815    0.017653  0.162055    0.0    0.0  \n",
       "1          0.042815    0.017653  0.162055    0.0    0.0  \n",
       "2          0.042815    0.017653  0.162055    0.0    0.0  \n",
       "3          0.042815    0.017653  0.162055    0.0    0.0  \n",
       "4          0.042815    0.017653  0.162055    0.0    0.0  "
      ]
     },
     "execution_count": 132,
     "metadata": {},
     "output_type": "execute_result"
    }
   ],
   "source": [
    "expense_daily_info.head()"
   ]
  },
  {
   "cell_type": "code",
   "execution_count": 133,
   "metadata": {},
   "outputs": [
    {
     "data": {
      "text/html": [
       "<div>\n",
       "<style scoped>\n",
       "    .dataframe tbody tr th:only-of-type {\n",
       "        vertical-align: middle;\n",
       "    }\n",
       "\n",
       "    .dataframe tbody tr th {\n",
       "        vertical-align: top;\n",
       "    }\n",
       "\n",
       "    .dataframe thead th {\n",
       "        text-align: right;\n",
       "    }\n",
       "</style>\n",
       "<table border=\"1\" class=\"dataframe\">\n",
       "  <thead>\n",
       "    <tr style=\"text-align: right;\">\n",
       "      <th></th>\n",
       "      <th>Week_Number</th>\n",
       "      <th>TV</th>\n",
       "      <th>Digital</th>\n",
       "      <th>Sponsorship</th>\n",
       "      <th>Content Marketing</th>\n",
       "      <th>Online marketing</th>\n",
       "      <th>Affiliates</th>\n",
       "      <th>SEM</th>\n",
       "      <th>Radio</th>\n",
       "      <th>Other</th>\n",
       "    </tr>\n",
       "  </thead>\n",
       "  <tbody>\n",
       "    <tr>\n",
       "      <th>0</th>\n",
       "      <td>1</td>\n",
       "      <td>0.989032</td>\n",
       "      <td>0.102968</td>\n",
       "      <td>0.948387</td>\n",
       "      <td>0.203226</td>\n",
       "      <td>5.170968</td>\n",
       "      <td>1.664194</td>\n",
       "      <td>0.948387</td>\n",
       "      <td>0.609677</td>\n",
       "      <td>6.117097</td>\n",
       "    </tr>\n",
       "    <tr>\n",
       "      <th>1</th>\n",
       "      <td>2</td>\n",
       "      <td>0.989032</td>\n",
       "      <td>0.102968</td>\n",
       "      <td>0.948387</td>\n",
       "      <td>0.203226</td>\n",
       "      <td>5.170968</td>\n",
       "      <td>1.664194</td>\n",
       "      <td>0.948387</td>\n",
       "      <td>0.609677</td>\n",
       "      <td>6.117097</td>\n",
       "    </tr>\n",
       "    <tr>\n",
       "      <th>2</th>\n",
       "      <td>3</td>\n",
       "      <td>0.989032</td>\n",
       "      <td>0.102968</td>\n",
       "      <td>0.948387</td>\n",
       "      <td>0.203226</td>\n",
       "      <td>5.170968</td>\n",
       "      <td>1.664194</td>\n",
       "      <td>0.948387</td>\n",
       "      <td>0.609677</td>\n",
       "      <td>6.117097</td>\n",
       "    </tr>\n",
       "    <tr>\n",
       "      <th>3</th>\n",
       "      <td>4</td>\n",
       "      <td>0.989032</td>\n",
       "      <td>0.102968</td>\n",
       "      <td>0.948387</td>\n",
       "      <td>0.203226</td>\n",
       "      <td>5.170968</td>\n",
       "      <td>1.664194</td>\n",
       "      <td>0.948387</td>\n",
       "      <td>0.609677</td>\n",
       "      <td>6.117097</td>\n",
       "    </tr>\n",
       "    <tr>\n",
       "      <th>4</th>\n",
       "      <td>5</td>\n",
       "      <td>0.624209</td>\n",
       "      <td>0.461674</td>\n",
       "      <td>2.830306</td>\n",
       "      <td>0.144048</td>\n",
       "      <td>4.801606</td>\n",
       "      <td>1.560522</td>\n",
       "      <td>1.176393</td>\n",
       "      <td>0.000000</td>\n",
       "      <td>0.000000</td>\n",
       "    </tr>\n",
       "  </tbody>\n",
       "</table>\n",
       "</div>"
      ],
      "text/plain": [
       "   Week_Number        TV   Digital  Sponsorship  Content Marketing  \\\n",
       "0            1  0.989032  0.102968     0.948387           0.203226   \n",
       "1            2  0.989032  0.102968     0.948387           0.203226   \n",
       "2            3  0.989032  0.102968     0.948387           0.203226   \n",
       "3            4  0.989032  0.102968     0.948387           0.203226   \n",
       "4            5  0.624209  0.461674     2.830306           0.144048   \n",
       "\n",
       "   Online marketing  Affiliates       SEM     Radio     Other  \n",
       "0          5.170968    1.664194  0.948387  0.609677  6.117097  \n",
       "1          5.170968    1.664194  0.948387  0.609677  6.117097  \n",
       "2          5.170968    1.664194  0.948387  0.609677  6.117097  \n",
       "3          5.170968    1.664194  0.948387  0.609677  6.117097  \n",
       "4          4.801606    1.560522  1.176393  0.000000  0.000000  "
      ]
     },
     "execution_count": 133,
     "metadata": {},
     "output_type": "execute_result"
    }
   ],
   "source": [
    "expense_weekly_feature=expense_daily_info.groupby('Week_Number') \\\n",
    "  .apply(lambda x: pd.Series({\n",
    "     'TV'   : x['TV'].sum(),\n",
    "     'Digital'   : x['Digital'].sum(),\n",
    "     'Sponsorship'   : x['Sponsorship'].sum(),\n",
    "     'Content Marketing'   : x['Content Marketing'].sum(),\n",
    "     'Online marketing'   : x['Online marketing'].sum(),\n",
    "     'Affiliates'   : x['Affiliates'].sum(),\n",
    "     'SEM'   : x['SEM'].sum(),\n",
    "     'Radio'   : x['Radio'].sum(),\n",
    "     'Other'   : x['Other'].sum()\n",
    "      \n",
    "  })\n",
    ")\n",
    "\n",
    "expense_weekly_feature.reset_index(inplace=True)\n",
    "expense_weekly_feature.head()"
   ]
  },
  {
   "cell_type": "markdown",
   "metadata": {},
   "source": [
    "## 4.3 Prepaid Count\n",
    "- Items are either purchased in 2 ways - Prepaid & COD (Cash On Delivery)\n",
    "- A numeric column `Prepaid Count` is created which indicates the number of items purchased via Prepaid mode"
   ]
  },
  {
   "cell_type": "code",
   "execution_count": 134,
   "metadata": {},
   "outputs": [],
   "source": [
    "ppc_CameraAccessory_feature = prd_CameraAccessory.groupby(['Week_Number']).agg({'Prepaid Count':'sum'}).reset_index()\n",
    "ppc_GamingAccessory_feature = prd_GamingAccessory.groupby(['Week_Number']).agg({'Prepaid Count':'sum'}).reset_index()\n",
    "ppc_HomeAudio_feature = prd_HomeAudio.groupby(['Week_Number']).agg({'Prepaid Count':'sum'}).reset_index()"
   ]
  },
  {
   "cell_type": "code",
   "execution_count": 135,
   "metadata": {},
   "outputs": [
    {
     "name": "stdout",
     "output_type": "stream",
     "text": [
      "<class 'pandas.core.frame.DataFrame'>\n",
      "RangeIndex: 52 entries, 0 to 51\n",
      "Data columns (total 2 columns):\n",
      "Week_Number      52 non-null int64\n",
      "Prepaid Count    52 non-null int64\n",
      "dtypes: int64(2)\n",
      "memory usage: 912.0 bytes\n"
     ]
    }
   ],
   "source": [
    "ppc_CameraAccessory_feature.info()"
   ]
  },
  {
   "cell_type": "code",
   "execution_count": 136,
   "metadata": {},
   "outputs": [
    {
     "data": {
      "text/html": [
       "<div>\n",
       "<style scoped>\n",
       "    .dataframe tbody tr th:only-of-type {\n",
       "        vertical-align: middle;\n",
       "    }\n",
       "\n",
       "    .dataframe tbody tr th {\n",
       "        vertical-align: top;\n",
       "    }\n",
       "\n",
       "    .dataframe thead th {\n",
       "        text-align: right;\n",
       "    }\n",
       "</style>\n",
       "<table border=\"1\" class=\"dataframe\">\n",
       "  <thead>\n",
       "    <tr style=\"text-align: right;\">\n",
       "      <th></th>\n",
       "      <th>Week_Number</th>\n",
       "      <th>Prepaid Count</th>\n",
       "    </tr>\n",
       "  </thead>\n",
       "  <tbody>\n",
       "    <tr>\n",
       "      <th>0</th>\n",
       "      <td>1</td>\n",
       "      <td>948</td>\n",
       "    </tr>\n",
       "    <tr>\n",
       "      <th>1</th>\n",
       "      <td>2</td>\n",
       "      <td>752</td>\n",
       "    </tr>\n",
       "    <tr>\n",
       "      <th>2</th>\n",
       "      <td>3</td>\n",
       "      <td>1094</td>\n",
       "    </tr>\n",
       "    <tr>\n",
       "      <th>3</th>\n",
       "      <td>4</td>\n",
       "      <td>658</td>\n",
       "    </tr>\n",
       "    <tr>\n",
       "      <th>4</th>\n",
       "      <td>5</td>\n",
       "      <td>1076</td>\n",
       "    </tr>\n",
       "  </tbody>\n",
       "</table>\n",
       "</div>"
      ],
      "text/plain": [
       "   Week_Number  Prepaid Count\n",
       "0            1            948\n",
       "1            2            752\n",
       "2            3           1094\n",
       "3            4            658\n",
       "4            5           1076"
      ]
     },
     "execution_count": 136,
     "metadata": {},
     "output_type": "execute_result"
    }
   ],
   "source": [
    "ppc_CameraAccessory_feature.head()"
   ]
  },
  {
   "cell_type": "code",
   "execution_count": 137,
   "metadata": {},
   "outputs": [
    {
     "name": "stdout",
     "output_type": "stream",
     "text": [
      "<class 'pandas.core.frame.DataFrame'>\n",
      "RangeIndex: 53 entries, 0 to 52\n",
      "Data columns (total 2 columns):\n",
      "Week_Number      53 non-null int64\n",
      "Prepaid Count    53 non-null int64\n",
      "dtypes: int64(2)\n",
      "memory usage: 928.0 bytes\n"
     ]
    }
   ],
   "source": [
    "ppc_GamingAccessory_feature.info()"
   ]
  },
  {
   "cell_type": "code",
   "execution_count": 138,
   "metadata": {},
   "outputs": [
    {
     "data": {
      "text/html": [
       "<div>\n",
       "<style scoped>\n",
       "    .dataframe tbody tr th:only-of-type {\n",
       "        vertical-align: middle;\n",
       "    }\n",
       "\n",
       "    .dataframe tbody tr th {\n",
       "        vertical-align: top;\n",
       "    }\n",
       "\n",
       "    .dataframe thead th {\n",
       "        text-align: right;\n",
       "    }\n",
       "</style>\n",
       "<table border=\"1\" class=\"dataframe\">\n",
       "  <thead>\n",
       "    <tr style=\"text-align: right;\">\n",
       "      <th></th>\n",
       "      <th>Week_Number</th>\n",
       "      <th>Prepaid Count</th>\n",
       "    </tr>\n",
       "  </thead>\n",
       "  <tbody>\n",
       "    <tr>\n",
       "      <th>0</th>\n",
       "      <td>1</td>\n",
       "      <td>698</td>\n",
       "    </tr>\n",
       "    <tr>\n",
       "      <th>1</th>\n",
       "      <td>2</td>\n",
       "      <td>646</td>\n",
       "    </tr>\n",
       "    <tr>\n",
       "      <th>2</th>\n",
       "      <td>3</td>\n",
       "      <td>1060</td>\n",
       "    </tr>\n",
       "    <tr>\n",
       "      <th>3</th>\n",
       "      <td>4</td>\n",
       "      <td>603</td>\n",
       "    </tr>\n",
       "    <tr>\n",
       "      <th>4</th>\n",
       "      <td>5</td>\n",
       "      <td>733</td>\n",
       "    </tr>\n",
       "  </tbody>\n",
       "</table>\n",
       "</div>"
      ],
      "text/plain": [
       "   Week_Number  Prepaid Count\n",
       "0            1            698\n",
       "1            2            646\n",
       "2            3           1060\n",
       "3            4            603\n",
       "4            5            733"
      ]
     },
     "execution_count": 138,
     "metadata": {},
     "output_type": "execute_result"
    }
   ],
   "source": [
    "ppc_GamingAccessory_feature.head()"
   ]
  },
  {
   "cell_type": "code",
   "execution_count": 139,
   "metadata": {},
   "outputs": [
    {
     "name": "stdout",
     "output_type": "stream",
     "text": [
      "<class 'pandas.core.frame.DataFrame'>\n",
      "RangeIndex: 50 entries, 0 to 49\n",
      "Data columns (total 2 columns):\n",
      "Week_Number      50 non-null int64\n",
      "Prepaid Count    50 non-null int64\n",
      "dtypes: int64(2)\n",
      "memory usage: 880.0 bytes\n"
     ]
    }
   ],
   "source": [
    "ppc_HomeAudio_feature.info()"
   ]
  },
  {
   "cell_type": "code",
   "execution_count": 140,
   "metadata": {},
   "outputs": [
    {
     "data": {
      "text/html": [
       "<div>\n",
       "<style scoped>\n",
       "    .dataframe tbody tr th:only-of-type {\n",
       "        vertical-align: middle;\n",
       "    }\n",
       "\n",
       "    .dataframe tbody tr th {\n",
       "        vertical-align: top;\n",
       "    }\n",
       "\n",
       "    .dataframe thead th {\n",
       "        text-align: right;\n",
       "    }\n",
       "</style>\n",
       "<table border=\"1\" class=\"dataframe\">\n",
       "  <thead>\n",
       "    <tr style=\"text-align: right;\">\n",
       "      <th></th>\n",
       "      <th>Week_Number</th>\n",
       "      <th>Prepaid Count</th>\n",
       "    </tr>\n",
       "  </thead>\n",
       "  <tbody>\n",
       "    <tr>\n",
       "      <th>0</th>\n",
       "      <td>1</td>\n",
       "      <td>416</td>\n",
       "    </tr>\n",
       "    <tr>\n",
       "      <th>1</th>\n",
       "      <td>2</td>\n",
       "      <td>363</td>\n",
       "    </tr>\n",
       "    <tr>\n",
       "      <th>2</th>\n",
       "      <td>3</td>\n",
       "      <td>484</td>\n",
       "    </tr>\n",
       "    <tr>\n",
       "      <th>3</th>\n",
       "      <td>4</td>\n",
       "      <td>358</td>\n",
       "    </tr>\n",
       "    <tr>\n",
       "      <th>4</th>\n",
       "      <td>5</td>\n",
       "      <td>479</td>\n",
       "    </tr>\n",
       "  </tbody>\n",
       "</table>\n",
       "</div>"
      ],
      "text/plain": [
       "   Week_Number  Prepaid Count\n",
       "0            1            416\n",
       "1            2            363\n",
       "2            3            484\n",
       "3            4            358\n",
       "4            5            479"
      ]
     },
     "execution_count": 140,
     "metadata": {},
     "output_type": "execute_result"
    }
   ],
   "source": [
    "ppc_HomeAudio_feature.head()"
   ]
  },
  {
   "cell_type": "markdown",
   "metadata": {},
   "source": [
    "## 4.4 Avg Delivery SLA\n",
    "- `sla` represents the no. of days in which the product is expected to be delivered\n",
    "- A numeric column `Avg Delivery SLA` is created which represents the avg. no. of days in which the product will be delivered"
   ]
  },
  {
   "cell_type": "code",
   "execution_count": 141,
   "metadata": {},
   "outputs": [],
   "source": [
    "avg_del_sla_CameraAcessory_feature = prd_CameraAccessory.groupby(['Week_Number']).agg({'sla':'mean'}).reset_index()\n",
    "avg_del_sla_GamingAcessory_feature = prd_GamingAccessory.groupby(['Week_Number']).agg({'sla':'mean'}).reset_index()\n",
    "avg_del_sla_HomeAudio_feature = prd_HomeAudio.groupby(['Week_Number']).agg({'sla':'mean'}).reset_index()"
   ]
  },
  {
   "cell_type": "code",
   "execution_count": 142,
   "metadata": {},
   "outputs": [],
   "source": [
    "avg_del_sla_CameraAcessory_feature.rename(columns={\"sla\": \"Avg Delivery SLA\"},inplace=True)\n",
    "avg_del_sla_GamingAcessory_feature.rename(columns={\"sla\": \"Avg Delivery SLA\"},inplace=True)\n",
    "avg_del_sla_HomeAudio_feature.rename(columns={\"sla\": \"Avg Delivery SLA\"},inplace=True)"
   ]
  },
  {
   "cell_type": "code",
   "execution_count": 143,
   "metadata": {},
   "outputs": [
    {
     "data": {
      "text/html": [
       "<div>\n",
       "<style scoped>\n",
       "    .dataframe tbody tr th:only-of-type {\n",
       "        vertical-align: middle;\n",
       "    }\n",
       "\n",
       "    .dataframe tbody tr th {\n",
       "        vertical-align: top;\n",
       "    }\n",
       "\n",
       "    .dataframe thead th {\n",
       "        text-align: right;\n",
       "    }\n",
       "</style>\n",
       "<table border=\"1\" class=\"dataframe\">\n",
       "  <thead>\n",
       "    <tr style=\"text-align: right;\">\n",
       "      <th></th>\n",
       "      <th>Week_Number</th>\n",
       "      <th>Avg Delivery SLA</th>\n",
       "    </tr>\n",
       "  </thead>\n",
       "  <tbody>\n",
       "    <tr>\n",
       "      <th>0</th>\n",
       "      <td>1</td>\n",
       "      <td>5.916750</td>\n",
       "    </tr>\n",
       "    <tr>\n",
       "      <th>1</th>\n",
       "      <td>2</td>\n",
       "      <td>6.675721</td>\n",
       "    </tr>\n",
       "    <tr>\n",
       "      <th>2</th>\n",
       "      <td>3</td>\n",
       "      <td>6.452064</td>\n",
       "    </tr>\n",
       "    <tr>\n",
       "      <th>3</th>\n",
       "      <td>4</td>\n",
       "      <td>6.692284</td>\n",
       "    </tr>\n",
       "    <tr>\n",
       "      <th>4</th>\n",
       "      <td>5</td>\n",
       "      <td>6.385951</td>\n",
       "    </tr>\n",
       "  </tbody>\n",
       "</table>\n",
       "</div>"
      ],
      "text/plain": [
       "   Week_Number  Avg Delivery SLA\n",
       "0            1          5.916750\n",
       "1            2          6.675721\n",
       "2            3          6.452064\n",
       "3            4          6.692284\n",
       "4            5          6.385951"
      ]
     },
     "execution_count": 143,
     "metadata": {},
     "output_type": "execute_result"
    }
   ],
   "source": [
    "avg_del_sla_CameraAcessory_feature.head()"
   ]
  },
  {
   "cell_type": "code",
   "execution_count": 144,
   "metadata": {},
   "outputs": [
    {
     "data": {
      "text/html": [
       "<div>\n",
       "<style scoped>\n",
       "    .dataframe tbody tr th:only-of-type {\n",
       "        vertical-align: middle;\n",
       "    }\n",
       "\n",
       "    .dataframe tbody tr th {\n",
       "        vertical-align: top;\n",
       "    }\n",
       "\n",
       "    .dataframe thead th {\n",
       "        text-align: right;\n",
       "    }\n",
       "</style>\n",
       "<table border=\"1\" class=\"dataframe\">\n",
       "  <thead>\n",
       "    <tr style=\"text-align: right;\">\n",
       "      <th></th>\n",
       "      <th>Week_Number</th>\n",
       "      <th>Avg Delivery SLA</th>\n",
       "    </tr>\n",
       "  </thead>\n",
       "  <tbody>\n",
       "    <tr>\n",
       "      <th>0</th>\n",
       "      <td>1</td>\n",
       "      <td>5.894093</td>\n",
       "    </tr>\n",
       "    <tr>\n",
       "      <th>1</th>\n",
       "      <td>2</td>\n",
       "      <td>5.921053</td>\n",
       "    </tr>\n",
       "    <tr>\n",
       "      <th>2</th>\n",
       "      <td>3</td>\n",
       "      <td>6.036125</td>\n",
       "    </tr>\n",
       "    <tr>\n",
       "      <th>3</th>\n",
       "      <td>4</td>\n",
       "      <td>6.107896</td>\n",
       "    </tr>\n",
       "    <tr>\n",
       "      <th>4</th>\n",
       "      <td>5</td>\n",
       "      <td>5.978713</td>\n",
       "    </tr>\n",
       "  </tbody>\n",
       "</table>\n",
       "</div>"
      ],
      "text/plain": [
       "   Week_Number  Avg Delivery SLA\n",
       "0            1          5.894093\n",
       "1            2          5.921053\n",
       "2            3          6.036125\n",
       "3            4          6.107896\n",
       "4            5          5.978713"
      ]
     },
     "execution_count": 144,
     "metadata": {},
     "output_type": "execute_result"
    }
   ],
   "source": [
    "avg_del_sla_GamingAcessory_feature.head()"
   ]
  },
  {
   "cell_type": "code",
   "execution_count": 145,
   "metadata": {},
   "outputs": [
    {
     "data": {
      "text/html": [
       "<div>\n",
       "<style scoped>\n",
       "    .dataframe tbody tr th:only-of-type {\n",
       "        vertical-align: middle;\n",
       "    }\n",
       "\n",
       "    .dataframe tbody tr th {\n",
       "        vertical-align: top;\n",
       "    }\n",
       "\n",
       "    .dataframe thead th {\n",
       "        text-align: right;\n",
       "    }\n",
       "</style>\n",
       "<table border=\"1\" class=\"dataframe\">\n",
       "  <thead>\n",
       "    <tr style=\"text-align: right;\">\n",
       "      <th></th>\n",
       "      <th>Week_Number</th>\n",
       "      <th>Avg Delivery SLA</th>\n",
       "    </tr>\n",
       "  </thead>\n",
       "  <tbody>\n",
       "    <tr>\n",
       "      <th>0</th>\n",
       "      <td>1</td>\n",
       "      <td>4.814367</td>\n",
       "    </tr>\n",
       "    <tr>\n",
       "      <th>1</th>\n",
       "      <td>2</td>\n",
       "      <td>5.502844</td>\n",
       "    </tr>\n",
       "    <tr>\n",
       "      <th>2</th>\n",
       "      <td>3</td>\n",
       "      <td>5.798302</td>\n",
       "    </tr>\n",
       "    <tr>\n",
       "      <th>3</th>\n",
       "      <td>4</td>\n",
       "      <td>5.720351</td>\n",
       "    </tr>\n",
       "    <tr>\n",
       "      <th>4</th>\n",
       "      <td>5</td>\n",
       "      <td>4.915834</td>\n",
       "    </tr>\n",
       "  </tbody>\n",
       "</table>\n",
       "</div>"
      ],
      "text/plain": [
       "   Week_Number  Avg Delivery SLA\n",
       "0            1          4.814367\n",
       "1            2          5.502844\n",
       "2            3          5.798302\n",
       "3            4          5.720351\n",
       "4            5          4.915834"
      ]
     },
     "execution_count": 145,
     "metadata": {},
     "output_type": "execute_result"
    }
   ],
   "source": [
    "avg_del_sla_HomeAudio_feature.head()"
   ]
  },
  {
   "cell_type": "markdown",
   "metadata": {},
   "source": [
    "## 4.5 Avg Procurement SLA\n",
    "- `product_procurement_sla` represents the no. of days in which the product will be procured\n",
    "- A numeric column `Avg Proc SLA` is created which represents the avg. no. of days in which the product will be procured"
   ]
  },
  {
   "cell_type": "code",
   "execution_count": 146,
   "metadata": {},
   "outputs": [],
   "source": [
    "ap_sla_CameraAccessory_feature = prd_CameraAccessory.groupby(['Week_Number']).agg({'product_procurement_sla':'mean'}).reset_index()\n",
    "ap_sla_GamingAccessory_feature = prd_GamingAccessory.groupby(['Week_Number']).agg({'product_procurement_sla':'mean'}).reset_index()\n",
    "ap_sla_HomeAudio_feature = prd_HomeAudio.groupby(['Week_Number']).agg({'product_procurement_sla':'mean'}).reset_index()"
   ]
  },
  {
   "cell_type": "code",
   "execution_count": 147,
   "metadata": {},
   "outputs": [],
   "source": [
    "ap_sla_CameraAccessory_feature.rename(columns={\"product_procurement_sla\": \"Avg Proc SLA\"},inplace=True)\n",
    "ap_sla_GamingAccessory_feature.rename(columns={\"product_procurement_sla\": \"Avg Proc SLA\"},inplace=True)\n",
    "ap_sla_HomeAudio_feature.rename(columns={\"product_procurement_sla\": \"Avg Proc SLA\"},inplace=True)"
   ]
  },
  {
   "cell_type": "code",
   "execution_count": 148,
   "metadata": {},
   "outputs": [
    {
     "data": {
      "text/html": [
       "<div>\n",
       "<style scoped>\n",
       "    .dataframe tbody tr th:only-of-type {\n",
       "        vertical-align: middle;\n",
       "    }\n",
       "\n",
       "    .dataframe tbody tr th {\n",
       "        vertical-align: top;\n",
       "    }\n",
       "\n",
       "    .dataframe thead th {\n",
       "        text-align: right;\n",
       "    }\n",
       "</style>\n",
       "<table border=\"1\" class=\"dataframe\">\n",
       "  <thead>\n",
       "    <tr style=\"text-align: right;\">\n",
       "      <th></th>\n",
       "      <th>Week_Number</th>\n",
       "      <th>Avg Proc SLA</th>\n",
       "    </tr>\n",
       "  </thead>\n",
       "  <tbody>\n",
       "    <tr>\n",
       "      <th>0</th>\n",
       "      <td>1</td>\n",
       "      <td>2.863645</td>\n",
       "    </tr>\n",
       "    <tr>\n",
       "      <th>1</th>\n",
       "      <td>2</td>\n",
       "      <td>2.608513</td>\n",
       "    </tr>\n",
       "    <tr>\n",
       "      <th>2</th>\n",
       "      <td>3</td>\n",
       "      <td>2.678633</td>\n",
       "    </tr>\n",
       "    <tr>\n",
       "      <th>3</th>\n",
       "      <td>4</td>\n",
       "      <td>2.611111</td>\n",
       "    </tr>\n",
       "    <tr>\n",
       "      <th>4</th>\n",
       "      <td>5</td>\n",
       "      <td>2.733694</td>\n",
       "    </tr>\n",
       "  </tbody>\n",
       "</table>\n",
       "</div>"
      ],
      "text/plain": [
       "   Week_Number  Avg Proc SLA\n",
       "0            1      2.863645\n",
       "1            2      2.608513\n",
       "2            3      2.678633\n",
       "3            4      2.611111\n",
       "4            5      2.733694"
      ]
     },
     "execution_count": 148,
     "metadata": {},
     "output_type": "execute_result"
    }
   ],
   "source": [
    "ap_sla_CameraAccessory_feature.head()"
   ]
  },
  {
   "cell_type": "code",
   "execution_count": 149,
   "metadata": {},
   "outputs": [
    {
     "data": {
      "text/html": [
       "<div>\n",
       "<style scoped>\n",
       "    .dataframe tbody tr th:only-of-type {\n",
       "        vertical-align: middle;\n",
       "    }\n",
       "\n",
       "    .dataframe tbody tr th {\n",
       "        vertical-align: top;\n",
       "    }\n",
       "\n",
       "    .dataframe thead th {\n",
       "        text-align: right;\n",
       "    }\n",
       "</style>\n",
       "<table border=\"1\" class=\"dataframe\">\n",
       "  <thead>\n",
       "    <tr style=\"text-align: right;\">\n",
       "      <th></th>\n",
       "      <th>Week_Number</th>\n",
       "      <th>Avg Proc SLA</th>\n",
       "    </tr>\n",
       "  </thead>\n",
       "  <tbody>\n",
       "    <tr>\n",
       "      <th>0</th>\n",
       "      <td>1</td>\n",
       "      <td>2.732878</td>\n",
       "    </tr>\n",
       "    <tr>\n",
       "      <th>1</th>\n",
       "      <td>2</td>\n",
       "      <td>2.679692</td>\n",
       "    </tr>\n",
       "    <tr>\n",
       "      <th>2</th>\n",
       "      <td>3</td>\n",
       "      <td>2.845574</td>\n",
       "    </tr>\n",
       "    <tr>\n",
       "      <th>3</th>\n",
       "      <td>4</td>\n",
       "      <td>2.726944</td>\n",
       "    </tr>\n",
       "    <tr>\n",
       "      <th>4</th>\n",
       "      <td>5</td>\n",
       "      <td>2.628991</td>\n",
       "    </tr>\n",
       "  </tbody>\n",
       "</table>\n",
       "</div>"
      ],
      "text/plain": [
       "   Week_Number  Avg Proc SLA\n",
       "0            1      2.732878\n",
       "1            2      2.679692\n",
       "2            3      2.845574\n",
       "3            4      2.726944\n",
       "4            5      2.628991"
      ]
     },
     "execution_count": 149,
     "metadata": {},
     "output_type": "execute_result"
    }
   ],
   "source": [
    "ap_sla_GamingAccessory_feature.head()"
   ]
  },
  {
   "cell_type": "code",
   "execution_count": 150,
   "metadata": {},
   "outputs": [
    {
     "data": {
      "text/html": [
       "<div>\n",
       "<style scoped>\n",
       "    .dataframe tbody tr th:only-of-type {\n",
       "        vertical-align: middle;\n",
       "    }\n",
       "\n",
       "    .dataframe tbody tr th {\n",
       "        vertical-align: top;\n",
       "    }\n",
       "\n",
       "    .dataframe thead th {\n",
       "        text-align: right;\n",
       "    }\n",
       "</style>\n",
       "<table border=\"1\" class=\"dataframe\">\n",
       "  <thead>\n",
       "    <tr style=\"text-align: right;\">\n",
       "      <th></th>\n",
       "      <th>Week_Number</th>\n",
       "      <th>Avg Proc SLA</th>\n",
       "    </tr>\n",
       "  </thead>\n",
       "  <tbody>\n",
       "    <tr>\n",
       "      <th>0</th>\n",
       "      <td>1</td>\n",
       "      <td>2.898919</td>\n",
       "    </tr>\n",
       "    <tr>\n",
       "      <th>1</th>\n",
       "      <td>2</td>\n",
       "      <td>2.872038</td>\n",
       "    </tr>\n",
       "    <tr>\n",
       "      <th>2</th>\n",
       "      <td>3</td>\n",
       "      <td>2.716653</td>\n",
       "    </tr>\n",
       "    <tr>\n",
       "      <th>3</th>\n",
       "      <td>4</td>\n",
       "      <td>2.668619</td>\n",
       "    </tr>\n",
       "    <tr>\n",
       "      <th>4</th>\n",
       "      <td>5</td>\n",
       "      <td>2.825863</td>\n",
       "    </tr>\n",
       "  </tbody>\n",
       "</table>\n",
       "</div>"
      ],
      "text/plain": [
       "   Week_Number  Avg Proc SLA\n",
       "0            1      2.898919\n",
       "1            2      2.872038\n",
       "2            3      2.716653\n",
       "3            4      2.668619\n",
       "4            5      2.825863"
      ]
     },
     "execution_count": 150,
     "metadata": {},
     "output_type": "execute_result"
    }
   ],
   "source": [
    "ap_sla_HomeAudio_feature.head()"
   ]
  },
  {
   "cell_type": "markdown",
   "metadata": {},
   "source": [
    "## 4.6 Avg MRP\n",
    "- `product_mrp` represents the mrp of the product\n",
    "- A numeric column `Avg MRP` is created which represents the avg. mrp of all the products"
   ]
  },
  {
   "cell_type": "code",
   "execution_count": 151,
   "metadata": {},
   "outputs": [],
   "source": [
    "avg_mrp_CameraAccessory_feature = prd_CameraAccessory.groupby(['Week_Number']).agg({'product_mrp':'mean'}).reset_index()\n",
    "avg_mrp_GamingAccessory_feature = prd_GamingAccessory.groupby(['Week_Number']).agg({'product_mrp':'mean'}).reset_index()\n",
    "avg_mrp_HomeAudio_feature = prd_HomeAudio.groupby(['Week_Number']).agg({'product_mrp':'mean'}).reset_index()"
   ]
  },
  {
   "cell_type": "code",
   "execution_count": 152,
   "metadata": {},
   "outputs": [],
   "source": [
    "avg_mrp_CameraAccessory_feature.rename(columns={\"product_mrp\": \"Avg MRP\"},inplace=True)\n",
    "avg_mrp_GamingAccessory_feature.rename(columns={\"product_mrp\": \"Avg MRP\"},inplace=True)\n",
    "avg_mrp_HomeAudio_feature.rename(columns={\"product_mrp\": \"Avg MRP\"},inplace=True)"
   ]
  },
  {
   "cell_type": "code",
   "execution_count": 153,
   "metadata": {},
   "outputs": [
    {
     "data": {
      "text/html": [
       "<div>\n",
       "<style scoped>\n",
       "    .dataframe tbody tr th:only-of-type {\n",
       "        vertical-align: middle;\n",
       "    }\n",
       "\n",
       "    .dataframe tbody tr th {\n",
       "        vertical-align: top;\n",
       "    }\n",
       "\n",
       "    .dataframe thead th {\n",
       "        text-align: right;\n",
       "    }\n",
       "</style>\n",
       "<table border=\"1\" class=\"dataframe\">\n",
       "  <thead>\n",
       "    <tr style=\"text-align: right;\">\n",
       "      <th></th>\n",
       "      <th>Week_Number</th>\n",
       "      <th>Avg MRP</th>\n",
       "    </tr>\n",
       "  </thead>\n",
       "  <tbody>\n",
       "    <tr>\n",
       "      <th>0</th>\n",
       "      <td>1</td>\n",
       "      <td>1232.377121</td>\n",
       "    </tr>\n",
       "    <tr>\n",
       "      <th>1</th>\n",
       "      <td>2</td>\n",
       "      <td>1297.492859</td>\n",
       "    </tr>\n",
       "    <tr>\n",
       "      <th>2</th>\n",
       "      <td>3</td>\n",
       "      <td>1234.543207</td>\n",
       "    </tr>\n",
       "    <tr>\n",
       "      <th>3</th>\n",
       "      <td>4</td>\n",
       "      <td>1377.846296</td>\n",
       "    </tr>\n",
       "    <tr>\n",
       "      <th>4</th>\n",
       "      <td>5</td>\n",
       "      <td>1292.669626</td>\n",
       "    </tr>\n",
       "  </tbody>\n",
       "</table>\n",
       "</div>"
      ],
      "text/plain": [
       "   Week_Number      Avg MRP\n",
       "0            1  1232.377121\n",
       "1            2  1297.492859\n",
       "2            3  1234.543207\n",
       "3            4  1377.846296\n",
       "4            5  1292.669626"
      ]
     },
     "execution_count": 153,
     "metadata": {},
     "output_type": "execute_result"
    }
   ],
   "source": [
    "avg_mrp_CameraAccessory_feature.head()"
   ]
  },
  {
   "cell_type": "code",
   "execution_count": 154,
   "metadata": {},
   "outputs": [
    {
     "data": {
      "text/html": [
       "<div>\n",
       "<style scoped>\n",
       "    .dataframe tbody tr th:only-of-type {\n",
       "        vertical-align: middle;\n",
       "    }\n",
       "\n",
       "    .dataframe tbody tr th {\n",
       "        vertical-align: top;\n",
       "    }\n",
       "\n",
       "    .dataframe thead th {\n",
       "        text-align: right;\n",
       "    }\n",
       "</style>\n",
       "<table border=\"1\" class=\"dataframe\">\n",
       "  <thead>\n",
       "    <tr style=\"text-align: right;\">\n",
       "      <th></th>\n",
       "      <th>Week_Number</th>\n",
       "      <th>Avg MRP</th>\n",
       "    </tr>\n",
       "  </thead>\n",
       "  <tbody>\n",
       "    <tr>\n",
       "      <th>0</th>\n",
       "      <td>1</td>\n",
       "      <td>2555.836667</td>\n",
       "    </tr>\n",
       "    <tr>\n",
       "      <th>1</th>\n",
       "      <td>2</td>\n",
       "      <td>2303.019670</td>\n",
       "    </tr>\n",
       "    <tr>\n",
       "      <th>2</th>\n",
       "      <td>3</td>\n",
       "      <td>2380.872965</td>\n",
       "    </tr>\n",
       "    <tr>\n",
       "      <th>3</th>\n",
       "      <td>4</td>\n",
       "      <td>1572.798373</td>\n",
       "    </tr>\n",
       "    <tr>\n",
       "      <th>4</th>\n",
       "      <td>5</td>\n",
       "      <td>1311.985048</td>\n",
       "    </tr>\n",
       "  </tbody>\n",
       "</table>\n",
       "</div>"
      ],
      "text/plain": [
       "   Week_Number      Avg MRP\n",
       "0            1  2555.836667\n",
       "1            2  2303.019670\n",
       "2            3  2380.872965\n",
       "3            4  1572.798373\n",
       "4            5  1311.985048"
      ]
     },
     "execution_count": 154,
     "metadata": {},
     "output_type": "execute_result"
    }
   ],
   "source": [
    "avg_mrp_GamingAccessory_feature.head()"
   ]
  },
  {
   "cell_type": "code",
   "execution_count": 155,
   "metadata": {},
   "outputs": [
    {
     "data": {
      "text/html": [
       "<div>\n",
       "<style scoped>\n",
       "    .dataframe tbody tr th:only-of-type {\n",
       "        vertical-align: middle;\n",
       "    }\n",
       "\n",
       "    .dataframe tbody tr th {\n",
       "        vertical-align: top;\n",
       "    }\n",
       "\n",
       "    .dataframe thead th {\n",
       "        text-align: right;\n",
       "    }\n",
       "</style>\n",
       "<table border=\"1\" class=\"dataframe\">\n",
       "  <thead>\n",
       "    <tr style=\"text-align: right;\">\n",
       "      <th></th>\n",
       "      <th>Week_Number</th>\n",
       "      <th>Avg MRP</th>\n",
       "    </tr>\n",
       "  </thead>\n",
       "  <tbody>\n",
       "    <tr>\n",
       "      <th>0</th>\n",
       "      <td>1</td>\n",
       "      <td>4253.120788</td>\n",
       "    </tr>\n",
       "    <tr>\n",
       "      <th>1</th>\n",
       "      <td>2</td>\n",
       "      <td>3783.647393</td>\n",
       "    </tr>\n",
       "    <tr>\n",
       "      <th>2</th>\n",
       "      <td>3</td>\n",
       "      <td>3566.171382</td>\n",
       "    </tr>\n",
       "    <tr>\n",
       "      <th>3</th>\n",
       "      <td>4</td>\n",
       "      <td>3458.745242</td>\n",
       "    </tr>\n",
       "    <tr>\n",
       "      <th>4</th>\n",
       "      <td>5</td>\n",
       "      <td>4009.675911</td>\n",
       "    </tr>\n",
       "  </tbody>\n",
       "</table>\n",
       "</div>"
      ],
      "text/plain": [
       "   Week_Number      Avg MRP\n",
       "0            1  4253.120788\n",
       "1            2  3783.647393\n",
       "2            3  3566.171382\n",
       "3            4  3458.745242\n",
       "4            5  4009.675911"
      ]
     },
     "execution_count": 155,
     "metadata": {},
     "output_type": "execute_result"
    }
   ],
   "source": [
    "avg_mrp_HomeAudio_feature.head()"
   ]
  },
  {
   "cell_type": "markdown",
   "metadata": {},
   "source": [
    "## 4.7 Pay Day\n",
    "- 1st & 15th of every month is a pay day\n",
    "- A numeric column called `Pay Day Count` is created to indicate the number of pay days in the week"
   ]
  },
  {
   "cell_type": "code",
   "execution_count": 156,
   "metadata": {},
   "outputs": [
    {
     "data": {
      "text/html": [
       "<div>\n",
       "<style scoped>\n",
       "    .dataframe tbody tr th:only-of-type {\n",
       "        vertical-align: middle;\n",
       "    }\n",
       "\n",
       "    .dataframe tbody tr th {\n",
       "        vertical-align: top;\n",
       "    }\n",
       "\n",
       "    .dataframe thead th {\n",
       "        text-align: right;\n",
       "    }\n",
       "</style>\n",
       "<table border=\"1\" class=\"dataframe\">\n",
       "  <thead>\n",
       "    <tr style=\"text-align: right;\">\n",
       "      <th></th>\n",
       "      <th>Week_Number</th>\n",
       "      <th>Special Sale Day Count</th>\n",
       "      <th>Pay Day Count</th>\n",
       "    </tr>\n",
       "  </thead>\n",
       "  <tbody>\n",
       "    <tr>\n",
       "      <th>0</th>\n",
       "      <td>1</td>\n",
       "      <td>0</td>\n",
       "      <td>0</td>\n",
       "    </tr>\n",
       "    <tr>\n",
       "      <th>1</th>\n",
       "      <td>2</td>\n",
       "      <td>0</td>\n",
       "      <td>1</td>\n",
       "    </tr>\n",
       "    <tr>\n",
       "      <th>2</th>\n",
       "      <td>3</td>\n",
       "      <td>3</td>\n",
       "      <td>0</td>\n",
       "    </tr>\n",
       "    <tr>\n",
       "      <th>3</th>\n",
       "      <td>4</td>\n",
       "      <td>0</td>\n",
       "      <td>0</td>\n",
       "    </tr>\n",
       "    <tr>\n",
       "      <th>4</th>\n",
       "      <td>5</td>\n",
       "      <td>2</td>\n",
       "      <td>1</td>\n",
       "    </tr>\n",
       "  </tbody>\n",
       "</table>\n",
       "</div>"
      ],
      "text/plain": [
       "   Week_Number  Special Sale Day Count  Pay Day Count\n",
       "0            1                       0              0\n",
       "1            2                       0              1\n",
       "2            3                       3              0\n",
       "3            4                       0              0\n",
       "4            5                       2              1"
      ]
     },
     "execution_count": 156,
     "metadata": {},
     "output_type": "execute_result"
    }
   ],
   "source": [
    "sspc_week.head()"
   ]
  },
  {
   "cell_type": "markdown",
   "metadata": {},
   "source": [
    "## 4.8 Special Sale Day\n",
    "- A numeric column called `Special Sale Day Count` is created to indicate the no. of special sale days in the week\n"
   ]
  },
  {
   "cell_type": "code",
   "execution_count": 157,
   "metadata": {},
   "outputs": [
    {
     "data": {
      "text/html": [
       "<div>\n",
       "<style scoped>\n",
       "    .dataframe tbody tr th:only-of-type {\n",
       "        vertical-align: middle;\n",
       "    }\n",
       "\n",
       "    .dataframe tbody tr th {\n",
       "        vertical-align: top;\n",
       "    }\n",
       "\n",
       "    .dataframe thead th {\n",
       "        text-align: right;\n",
       "    }\n",
       "</style>\n",
       "<table border=\"1\" class=\"dataframe\">\n",
       "  <thead>\n",
       "    <tr style=\"text-align: right;\">\n",
       "      <th></th>\n",
       "      <th>Week_Number</th>\n",
       "      <th>Special Sale Day Count</th>\n",
       "      <th>Pay Day Count</th>\n",
       "    </tr>\n",
       "  </thead>\n",
       "  <tbody>\n",
       "    <tr>\n",
       "      <th>0</th>\n",
       "      <td>1</td>\n",
       "      <td>0</td>\n",
       "      <td>0</td>\n",
       "    </tr>\n",
       "    <tr>\n",
       "      <th>1</th>\n",
       "      <td>2</td>\n",
       "      <td>0</td>\n",
       "      <td>1</td>\n",
       "    </tr>\n",
       "    <tr>\n",
       "      <th>2</th>\n",
       "      <td>3</td>\n",
       "      <td>3</td>\n",
       "      <td>0</td>\n",
       "    </tr>\n",
       "    <tr>\n",
       "      <th>3</th>\n",
       "      <td>4</td>\n",
       "      <td>0</td>\n",
       "      <td>0</td>\n",
       "    </tr>\n",
       "    <tr>\n",
       "      <th>4</th>\n",
       "      <td>5</td>\n",
       "      <td>2</td>\n",
       "      <td>1</td>\n",
       "    </tr>\n",
       "  </tbody>\n",
       "</table>\n",
       "</div>"
      ],
      "text/plain": [
       "   Week_Number  Special Sale Day Count  Pay Day Count\n",
       "0            1                       0              0\n",
       "1            2                       0              1\n",
       "2            3                       3              0\n",
       "3            4                       0              0\n",
       "4            5                       2              1"
      ]
     },
     "execution_count": 157,
     "metadata": {},
     "output_type": "execute_result"
    }
   ],
   "source": [
    "sspc_week.head()"
   ]
  },
  {
   "cell_type": "markdown",
   "metadata": {},
   "source": [
    "## 4.9 NPS & Stock Index Price\n",
    "- It is assumed that the stock index price and NPS values for a given day are equal to corresponding values for the month to which the day belongs\n",
    "- Two columns `Stock Index` and `NPS` are created that represent the avg stock index price and the avg NPS values for the week"
   ]
  },
  {
   "cell_type": "code",
   "execution_count": 158,
   "metadata": {},
   "outputs": [
    {
     "data": {
      "text/html": [
       "<div>\n",
       "<style scoped>\n",
       "    .dataframe tbody tr th:only-of-type {\n",
       "        vertical-align: middle;\n",
       "    }\n",
       "\n",
       "    .dataframe tbody tr th {\n",
       "        vertical-align: top;\n",
       "    }\n",
       "\n",
       "    .dataframe thead th {\n",
       "        text-align: right;\n",
       "    }\n",
       "</style>\n",
       "<table border=\"1\" class=\"dataframe\">\n",
       "  <thead>\n",
       "    <tr style=\"text-align: right;\">\n",
       "      <th></th>\n",
       "      <th>Week_Number</th>\n",
       "      <th>NPS</th>\n",
       "      <th>Stock Index</th>\n",
       "    </tr>\n",
       "  </thead>\n",
       "  <tbody>\n",
       "    <tr>\n",
       "      <th>0</th>\n",
       "      <td>1</td>\n",
       "      <td>47.093031</td>\n",
       "      <td>1052.0</td>\n",
       "    </tr>\n",
       "    <tr>\n",
       "      <th>1</th>\n",
       "      <td>2</td>\n",
       "      <td>47.093031</td>\n",
       "      <td>1052.0</td>\n",
       "    </tr>\n",
       "    <tr>\n",
       "      <th>2</th>\n",
       "      <td>3</td>\n",
       "      <td>47.093031</td>\n",
       "      <td>1052.0</td>\n",
       "    </tr>\n",
       "    <tr>\n",
       "      <th>3</th>\n",
       "      <td>4</td>\n",
       "      <td>47.093031</td>\n",
       "      <td>1052.0</td>\n",
       "    </tr>\n",
       "    <tr>\n",
       "      <th>4</th>\n",
       "      <td>5</td>\n",
       "      <td>50.327406</td>\n",
       "      <td>1222.0</td>\n",
       "    </tr>\n",
       "  </tbody>\n",
       "</table>\n",
       "</div>"
      ],
      "text/plain": [
       "   Week_Number        NPS  Stock Index\n",
       "0            1  47.093031       1052.0\n",
       "1            2  47.093031       1052.0\n",
       "2            3  47.093031       1052.0\n",
       "3            4  47.093031       1052.0\n",
       "4            5  50.327406       1222.0"
      ]
     },
     "execution_count": 158,
     "metadata": {},
     "output_type": "execute_result"
    }
   ],
   "source": [
    "nps_week.head()"
   ]
  },
  {
   "cell_type": "markdown",
   "metadata": {},
   "source": [
    "## 4.10 Discount\n",
    "- A numeric column `Avg Discount %` is created to represent the Avg Discount % for all products"
   ]
  },
  {
   "cell_type": "code",
   "execution_count": 159,
   "metadata": {},
   "outputs": [],
   "source": [
    "avg_discpct_CameraAccessory_feature = prd_CameraAccessory.groupby(['Week_Number']).agg({'Discount %':'mean'}).reset_index()\n",
    "avg_discpct_GamingAccessory_feature = prd_GamingAccessory.groupby(['Week_Number']).agg({'Discount %':'mean'}).reset_index()\n",
    "avg_discpct_HomeAudio_feature = prd_HomeAudio.groupby(['Week_Number']).agg({'Discount %':'mean'}).reset_index()"
   ]
  },
  {
   "cell_type": "code",
   "execution_count": 160,
   "metadata": {},
   "outputs": [],
   "source": [
    "avg_discpct_CameraAccessory_feature.rename(columns={\"Discount %\": \"Avg Discount %\"},inplace=True)\n",
    "avg_discpct_GamingAccessory_feature.rename(columns={\"Discount %\": \"Avg Discount %\"},inplace=True)\n",
    "avg_discpct_HomeAudio_feature.rename(columns={\"Discount %\": \"Avg Discount %\"},inplace=True)"
   ]
  },
  {
   "cell_type": "code",
   "execution_count": 161,
   "metadata": {},
   "outputs": [
    {
     "data": {
      "text/html": [
       "<div>\n",
       "<style scoped>\n",
       "    .dataframe tbody tr th:only-of-type {\n",
       "        vertical-align: middle;\n",
       "    }\n",
       "\n",
       "    .dataframe tbody tr th {\n",
       "        vertical-align: top;\n",
       "    }\n",
       "\n",
       "    .dataframe thead th {\n",
       "        text-align: right;\n",
       "    }\n",
       "</style>\n",
       "<table border=\"1\" class=\"dataframe\">\n",
       "  <thead>\n",
       "    <tr style=\"text-align: right;\">\n",
       "      <th></th>\n",
       "      <th>Week_Number</th>\n",
       "      <th>Avg Discount %</th>\n",
       "    </tr>\n",
       "  </thead>\n",
       "  <tbody>\n",
       "    <tr>\n",
       "      <th>0</th>\n",
       "      <td>1</td>\n",
       "      <td>50.401244</td>\n",
       "    </tr>\n",
       "    <tr>\n",
       "      <th>1</th>\n",
       "      <td>2</td>\n",
       "      <td>49.745695</td>\n",
       "    </tr>\n",
       "    <tr>\n",
       "      <th>2</th>\n",
       "      <td>3</td>\n",
       "      <td>49.652850</td>\n",
       "    </tr>\n",
       "    <tr>\n",
       "      <th>3</th>\n",
       "      <td>4</td>\n",
       "      <td>44.976952</td>\n",
       "    </tr>\n",
       "    <tr>\n",
       "      <th>4</th>\n",
       "      <td>5</td>\n",
       "      <td>52.290783</td>\n",
       "    </tr>\n",
       "  </tbody>\n",
       "</table>\n",
       "</div>"
      ],
      "text/plain": [
       "   Week_Number  Avg Discount %\n",
       "0            1       50.401244\n",
       "1            2       49.745695\n",
       "2            3       49.652850\n",
       "3            4       44.976952\n",
       "4            5       52.290783"
      ]
     },
     "execution_count": 161,
     "metadata": {},
     "output_type": "execute_result"
    }
   ],
   "source": [
    "avg_discpct_CameraAccessory_feature.head()"
   ]
  },
  {
   "cell_type": "code",
   "execution_count": 162,
   "metadata": {},
   "outputs": [
    {
     "data": {
      "text/html": [
       "<div>\n",
       "<style scoped>\n",
       "    .dataframe tbody tr th:only-of-type {\n",
       "        vertical-align: middle;\n",
       "    }\n",
       "\n",
       "    .dataframe tbody tr th {\n",
       "        vertical-align: top;\n",
       "    }\n",
       "\n",
       "    .dataframe thead th {\n",
       "        text-align: right;\n",
       "    }\n",
       "</style>\n",
       "<table border=\"1\" class=\"dataframe\">\n",
       "  <thead>\n",
       "    <tr style=\"text-align: right;\">\n",
       "      <th></th>\n",
       "      <th>Week_Number</th>\n",
       "      <th>Avg Discount %</th>\n",
       "    </tr>\n",
       "  </thead>\n",
       "  <tbody>\n",
       "    <tr>\n",
       "      <th>0</th>\n",
       "      <td>1</td>\n",
       "      <td>47.876333</td>\n",
       "    </tr>\n",
       "    <tr>\n",
       "      <th>1</th>\n",
       "      <td>2</td>\n",
       "      <td>45.578609</td>\n",
       "    </tr>\n",
       "    <tr>\n",
       "      <th>2</th>\n",
       "      <td>3</td>\n",
       "      <td>46.309516</td>\n",
       "    </tr>\n",
       "    <tr>\n",
       "      <th>3</th>\n",
       "      <td>4</td>\n",
       "      <td>44.488841</td>\n",
       "    </tr>\n",
       "    <tr>\n",
       "      <th>4</th>\n",
       "      <td>5</td>\n",
       "      <td>45.621655</td>\n",
       "    </tr>\n",
       "  </tbody>\n",
       "</table>\n",
       "</div>"
      ],
      "text/plain": [
       "   Week_Number  Avg Discount %\n",
       "0            1       47.876333\n",
       "1            2       45.578609\n",
       "2            3       46.309516\n",
       "3            4       44.488841\n",
       "4            5       45.621655"
      ]
     },
     "execution_count": 162,
     "metadata": {},
     "output_type": "execute_result"
    }
   ],
   "source": [
    "avg_discpct_GamingAccessory_feature.head()"
   ]
  },
  {
   "cell_type": "code",
   "execution_count": 163,
   "metadata": {},
   "outputs": [
    {
     "data": {
      "text/html": [
       "<div>\n",
       "<style scoped>\n",
       "    .dataframe tbody tr th:only-of-type {\n",
       "        vertical-align: middle;\n",
       "    }\n",
       "\n",
       "    .dataframe tbody tr th {\n",
       "        vertical-align: top;\n",
       "    }\n",
       "\n",
       "    .dataframe thead th {\n",
       "        text-align: right;\n",
       "    }\n",
       "</style>\n",
       "<table border=\"1\" class=\"dataframe\">\n",
       "  <thead>\n",
       "    <tr style=\"text-align: right;\">\n",
       "      <th></th>\n",
       "      <th>Week_Number</th>\n",
       "      <th>Avg Discount %</th>\n",
       "    </tr>\n",
       "  </thead>\n",
       "  <tbody>\n",
       "    <tr>\n",
       "      <th>0</th>\n",
       "      <td>1</td>\n",
       "      <td>45.383762</td>\n",
       "    </tr>\n",
       "    <tr>\n",
       "      <th>1</th>\n",
       "      <td>2</td>\n",
       "      <td>39.548386</td>\n",
       "    </tr>\n",
       "    <tr>\n",
       "      <th>2</th>\n",
       "      <td>3</td>\n",
       "      <td>40.273357</td>\n",
       "    </tr>\n",
       "    <tr>\n",
       "      <th>3</th>\n",
       "      <td>4</td>\n",
       "      <td>37.979152</td>\n",
       "    </tr>\n",
       "    <tr>\n",
       "      <th>4</th>\n",
       "      <td>5</td>\n",
       "      <td>42.683294</td>\n",
       "    </tr>\n",
       "  </tbody>\n",
       "</table>\n",
       "</div>"
      ],
      "text/plain": [
       "   Week_Number  Avg Discount %\n",
       "0            1       45.383762\n",
       "1            2       39.548386\n",
       "2            3       40.273357\n",
       "3            4       37.979152\n",
       "4            5       42.683294"
      ]
     },
     "execution_count": 163,
     "metadata": {},
     "output_type": "execute_result"
    }
   ],
   "source": [
    "avg_discpct_HomeAudio_feature.head()"
   ]
  },
  {
   "cell_type": "markdown",
   "metadata": {},
   "source": [
    "## Climate Feature Engineering"
   ]
  },
  {
   "cell_type": "code",
   "execution_count": 164,
   "metadata": {},
   "outputs": [
    {
     "data": {
      "text/html": [
       "<div>\n",
       "<style scoped>\n",
       "    .dataframe tbody tr th:only-of-type {\n",
       "        vertical-align: middle;\n",
       "    }\n",
       "\n",
       "    .dataframe tbody tr th {\n",
       "        vertical-align: top;\n",
       "    }\n",
       "\n",
       "    .dataframe thead th {\n",
       "        text-align: right;\n",
       "    }\n",
       "</style>\n",
       "<table border=\"1\" class=\"dataframe\">\n",
       "  <thead>\n",
       "    <tr style=\"text-align: right;\">\n",
       "      <th></th>\n",
       "      <th>Date</th>\n",
       "      <th>Year</th>\n",
       "      <th>Month</th>\n",
       "      <th>Day</th>\n",
       "      <th>Data Quality Review</th>\n",
       "      <th>Max Temp (°C)</th>\n",
       "      <th>Max Temp Flag</th>\n",
       "      <th>Min Temp (°C)</th>\n",
       "      <th>Min Temp Flag</th>\n",
       "      <th>Mean Temp (°C)</th>\n",
       "      <th>...</th>\n",
       "      <th>Cool Deg Days (°C)</th>\n",
       "      <th>Cool Deg Days Flag</th>\n",
       "      <th>Total Rain (mm)</th>\n",
       "      <th>Total Rain Flag</th>\n",
       "      <th>Total Snow (cm)</th>\n",
       "      <th>Total Snow Flag</th>\n",
       "      <th>Total Precip (mm)</th>\n",
       "      <th>Total Precip Flag</th>\n",
       "      <th>Snow on Grnd (cm)</th>\n",
       "      <th>Snow on Grnd Flag</th>\n",
       "    </tr>\n",
       "  </thead>\n",
       "  <tbody>\n",
       "    <tr>\n",
       "      <th>0</th>\n",
       "      <td>2015-07-01</td>\n",
       "      <td>2015</td>\n",
       "      <td>7</td>\n",
       "      <td>1</td>\n",
       "      <td>No</td>\n",
       "      <td>24.5</td>\n",
       "      <td>NaN</td>\n",
       "      <td>17.0</td>\n",
       "      <td>NaN</td>\n",
       "      <td>20.8</td>\n",
       "      <td>...</td>\n",
       "      <td>2.8</td>\n",
       "      <td>NaN</td>\n",
       "      <td>0.0</td>\n",
       "      <td>NaN</td>\n",
       "      <td>0.0</td>\n",
       "      <td>NaN</td>\n",
       "      <td>0.0</td>\n",
       "      <td>NaN</td>\n",
       "      <td>0.0</td>\n",
       "      <td>NaN</td>\n",
       "    </tr>\n",
       "    <tr>\n",
       "      <th>1</th>\n",
       "      <td>2015-07-02</td>\n",
       "      <td>2015</td>\n",
       "      <td>7</td>\n",
       "      <td>2</td>\n",
       "      <td>No</td>\n",
       "      <td>24.0</td>\n",
       "      <td>NaN</td>\n",
       "      <td>14.0</td>\n",
       "      <td>NaN</td>\n",
       "      <td>19.0</td>\n",
       "      <td>...</td>\n",
       "      <td>1.0</td>\n",
       "      <td>NaN</td>\n",
       "      <td>0.0</td>\n",
       "      <td>NaN</td>\n",
       "      <td>0.0</td>\n",
       "      <td>NaN</td>\n",
       "      <td>0.0</td>\n",
       "      <td>NaN</td>\n",
       "      <td>0.0</td>\n",
       "      <td>NaN</td>\n",
       "    </tr>\n",
       "    <tr>\n",
       "      <th>2</th>\n",
       "      <td>2015-07-03</td>\n",
       "      <td>2015</td>\n",
       "      <td>7</td>\n",
       "      <td>3</td>\n",
       "      <td>No</td>\n",
       "      <td>25.0</td>\n",
       "      <td>NaN</td>\n",
       "      <td>10.0</td>\n",
       "      <td>NaN</td>\n",
       "      <td>17.5</td>\n",
       "      <td>...</td>\n",
       "      <td>0.0</td>\n",
       "      <td>NaN</td>\n",
       "      <td>0.0</td>\n",
       "      <td>NaN</td>\n",
       "      <td>0.0</td>\n",
       "      <td>NaN</td>\n",
       "      <td>0.0</td>\n",
       "      <td>NaN</td>\n",
       "      <td>0.0</td>\n",
       "      <td>NaN</td>\n",
       "    </tr>\n",
       "    <tr>\n",
       "      <th>3</th>\n",
       "      <td>2015-07-04</td>\n",
       "      <td>2015</td>\n",
       "      <td>7</td>\n",
       "      <td>4</td>\n",
       "      <td>No</td>\n",
       "      <td>26.0</td>\n",
       "      <td>NaN</td>\n",
       "      <td>11.0</td>\n",
       "      <td>NaN</td>\n",
       "      <td>18.5</td>\n",
       "      <td>...</td>\n",
       "      <td>0.5</td>\n",
       "      <td>NaN</td>\n",
       "      <td>0.0</td>\n",
       "      <td>NaN</td>\n",
       "      <td>0.0</td>\n",
       "      <td>NaN</td>\n",
       "      <td>0.0</td>\n",
       "      <td>NaN</td>\n",
       "      <td>0.0</td>\n",
       "      <td>NaN</td>\n",
       "    </tr>\n",
       "    <tr>\n",
       "      <th>4</th>\n",
       "      <td>2015-07-05</td>\n",
       "      <td>2015</td>\n",
       "      <td>7</td>\n",
       "      <td>5</td>\n",
       "      <td>No</td>\n",
       "      <td>28.0</td>\n",
       "      <td>NaN</td>\n",
       "      <td>14.0</td>\n",
       "      <td>NaN</td>\n",
       "      <td>21.0</td>\n",
       "      <td>...</td>\n",
       "      <td>3.0</td>\n",
       "      <td>NaN</td>\n",
       "      <td>0.0</td>\n",
       "      <td>NaN</td>\n",
       "      <td>0.0</td>\n",
       "      <td>NaN</td>\n",
       "      <td>0.0</td>\n",
       "      <td>NaN</td>\n",
       "      <td>0.0</td>\n",
       "      <td>NaN</td>\n",
       "    </tr>\n",
       "  </tbody>\n",
       "</table>\n",
       "<p>5 rows × 23 columns</p>\n",
       "</div>"
      ],
      "text/plain": [
       "        Date  Year  Month  Day Data Quality Review  Max Temp (°C)  \\\n",
       "0 2015-07-01  2015      7    1                  No           24.5   \n",
       "1 2015-07-02  2015      7    2                  No           24.0   \n",
       "2 2015-07-03  2015      7    3                  No           25.0   \n",
       "3 2015-07-04  2015      7    4                  No           26.0   \n",
       "4 2015-07-05  2015      7    5                  No           28.0   \n",
       "\n",
       "  Max Temp Flag  Min Temp (°C) Min Temp Flag  Mean Temp (°C)  \\\n",
       "0           NaN           17.0           NaN            20.8   \n",
       "1           NaN           14.0           NaN            19.0   \n",
       "2           NaN           10.0           NaN            17.5   \n",
       "3           NaN           11.0           NaN            18.5   \n",
       "4           NaN           14.0           NaN            21.0   \n",
       "\n",
       "         ...         Cool Deg Days (°C)  Cool Deg Days Flag Total Rain (mm)  \\\n",
       "0        ...                        2.8                 NaN             0.0   \n",
       "1        ...                        1.0                 NaN             0.0   \n",
       "2        ...                        0.0                 NaN             0.0   \n",
       "3        ...                        0.5                 NaN             0.0   \n",
       "4        ...                        3.0                 NaN             0.0   \n",
       "\n",
       "   Total Rain Flag Total Snow (cm)  Total Snow Flag Total Precip (mm)  \\\n",
       "0              NaN             0.0              NaN               0.0   \n",
       "1              NaN             0.0              NaN               0.0   \n",
       "2              NaN             0.0              NaN               0.0   \n",
       "3              NaN             0.0              NaN               0.0   \n",
       "4              NaN             0.0              NaN               0.0   \n",
       "\n",
       "   Total Precip Flag Snow on Grnd (cm)  Snow on Grnd Flag  \n",
       "0                NaN               0.0                NaN  \n",
       "1                NaN               0.0                NaN  \n",
       "2                NaN               0.0                NaN  \n",
       "3                NaN               0.0                NaN  \n",
       "4                NaN               0.0                NaN  \n",
       "\n",
       "[5 rows x 23 columns]"
      ]
     },
     "execution_count": 164,
     "metadata": {},
     "output_type": "execute_result"
    }
   ],
   "source": [
    "climate.head()"
   ]
  },
  {
   "cell_type": "code",
   "execution_count": 165,
   "metadata": {},
   "outputs": [],
   "source": [
    "climate['Week_Number'] = climate.Date.dt.week"
   ]
  },
  {
   "cell_type": "code",
   "execution_count": 166,
   "metadata": {},
   "outputs": [],
   "source": [
    "climate_not_null=climate[~climate['Mean Temp (°C)'].isna()]\n",
    "climate_grp = climate_not_null.groupby('Week_Number')\n",
    "averag_temp = climate_grp['Mean Temp (°C)'].mean()\n",
    "averag_temp[3]=(averag_temp[2]+averag_temp[4])/2\n",
    "\n",
    "def replace_mean(x) :\n",
    "    if np.isnan(x['Mean Temp (°C)']) :\n",
    "        return averag_temp[x['Week_Number']]\n",
    "    else:\n",
    "        return x['Mean Temp (°C)']\n",
    "        \n",
    "climate['Mean Temp (°C)']= climate.apply(replace_mean,axis=1)"
   ]
  },
  {
   "cell_type": "code",
   "execution_count": 167,
   "metadata": {},
   "outputs": [],
   "source": [
    "climate['has_rained']=((climate['Total Rain (mm)'] > 0) | (climate['Total Rain Flag'] =='T')).astype(int)\n",
    "climate['has_snowed']=((climate['Total Snow (cm)'] > 0) | (climate['Total Snow Flag'] =='T')).astype(int)\n",
    "\n",
    "climate['has_precipitated']=((climate['Total Precip (mm)'] > 0) | (climate['Total Precip Flag'] =='T')).astype(int)"
   ]
  },
  {
   "cell_type": "code",
   "execution_count": 168,
   "metadata": {},
   "outputs": [],
   "source": [
    "climate_weekly=climate.groupby('Week_Number')\\\n",
    "  .apply(lambda x: pd.Series({\n",
    "      'mean_temp'   :x['Mean Temp (°C)'].mean(),\n",
    "      'days_snowed'   :x['has_snowed'].sum(),\n",
    "      'days_rained'   :x['has_rained'].sum(),\n",
    "      'days_precipitated'   :x['has_precipitated'].sum()\n",
    "  })\n",
    ")"
   ]
  },
  {
   "cell_type": "markdown",
   "metadata": {},
   "source": [
    "### Product ladder KPI"
   ]
  },
  {
   "cell_type": "code",
   "execution_count": 169,
   "metadata": {},
   "outputs": [
    {
     "name": "stdout",
     "output_type": "stream",
     "text": [
      "count    215993.000000\n",
      "mean       1379.753816\n",
      "std        1382.060052\n",
      "min          63.000000\n",
      "25%         599.000000\n",
      "50%         999.000000\n",
      "75%        1990.000000\n",
      "max       35500.000000\n",
      "Name: product_mrp, dtype: float64\n",
      "count    183526.000000\n",
      "mean       1920.606056\n",
      "std        5566.433684\n",
      "min         120.000000\n",
      "25%         599.000000\n",
      "50%         950.000000\n",
      "75%        1599.000000\n",
      "max       50000.000000\n",
      "Name: product_mrp, dtype: float64\n",
      "count    109993.000000\n",
      "mean       3296.813234\n",
      "std        2550.156404\n",
      "min         189.000000\n",
      "25%        1390.000000\n",
      "50%        2895.000000\n",
      "75%        4999.000000\n",
      "max       39999.000000\n",
      "Name: product_mrp, dtype: float64\n"
     ]
    }
   ],
   "source": [
    "print(prd_CameraAccessory.product_mrp.describe())\n",
    "print(prd_GamingAccessory.product_mrp.describe())\n",
    "print(prd_HomeAudio.product_mrp.describe())\n",
    "order_data_camera_subcatg=prd_CameraAccessory\n",
    "order_data_gaming_subcatg=prd_GamingAccessory\n",
    "order_data_homeaudio_subcatg=prd_HomeAudio"
   ]
  },
  {
   "cell_type": "code",
   "execution_count": 170,
   "metadata": {},
   "outputs": [
    {
     "name": "stdout",
     "output_type": "stream",
     "text": [
      "[  999.  1990.  1990.  2950.  3000.  5750. 35500.]\n",
      "product_ladder\n",
      "HIGH        40998\n",
      "LOW        105622\n",
      "MID         67251\n",
      "PREMIUM      2122\n",
      "Name: product_mrp, dtype: int64\n"
     ]
    }
   ],
   "source": [
    "print(np.percentile(order_data_camera_subcatg.product_mrp,[50,75,80,90,95,99,100]))\n",
    "def sort(x):\n",
    "    if x['product_mrp']<999:\n",
    "        return 'LOW'\n",
    "    elif x['product_mrp']>=999 and x['product_mrp']<=1990:\n",
    "        return 'MID'\n",
    "    elif x['product_mrp']>1990 and x['product_mrp']<=5750:\n",
    "        return 'HIGH'\n",
    "    elif x['product_mrp']>5750:\n",
    "        return 'PREMIUM'\n",
    "## For camera accessories subcategory there are LOW : 63-999, MID: 999-1990 , HIGH : 1990-5750, Permium : >5750\n",
    "order_data_camera_subcatg['product_ladder'] = order_data_camera_subcatg.apply(sort,axis=1)\n",
    "print(order_data_camera_subcatg.groupby('product_ladder').product_mrp.count())\n"
   ]
  },
  {
   "cell_type": "code",
   "execution_count": 171,
   "metadata": {},
   "outputs": [
    {
     "data": {
      "text/html": [
       "<div>\n",
       "<style scoped>\n",
       "    .dataframe tbody tr th:only-of-type {\n",
       "        vertical-align: middle;\n",
       "    }\n",
       "\n",
       "    .dataframe tbody tr th {\n",
       "        vertical-align: top;\n",
       "    }\n",
       "\n",
       "    .dataframe thead th {\n",
       "        text-align: right;\n",
       "    }\n",
       "</style>\n",
       "<table border=\"1\" class=\"dataframe\">\n",
       "  <thead>\n",
       "    <tr style=\"text-align: right;\">\n",
       "      <th></th>\n",
       "      <th>high_price_seg</th>\n",
       "      <th>low_price_seg</th>\n",
       "      <th>mid_price_seg</th>\n",
       "      <th>premium_price_seg</th>\n",
       "    </tr>\n",
       "    <tr>\n",
       "      <th>Week_Number</th>\n",
       "      <th></th>\n",
       "      <th></th>\n",
       "      <th></th>\n",
       "      <th></th>\n",
       "    </tr>\n",
       "  </thead>\n",
       "  <tbody>\n",
       "    <tr>\n",
       "      <th>1</th>\n",
       "      <td>598</td>\n",
       "      <td>2957</td>\n",
       "      <td>1533</td>\n",
       "      <td>35</td>\n",
       "    </tr>\n",
       "    <tr>\n",
       "      <th>2</th>\n",
       "      <td>521</td>\n",
       "      <td>1852</td>\n",
       "      <td>1239</td>\n",
       "      <td>32</td>\n",
       "    </tr>\n",
       "    <tr>\n",
       "      <th>3</th>\n",
       "      <td>595</td>\n",
       "      <td>2971</td>\n",
       "      <td>1145</td>\n",
       "      <td>45</td>\n",
       "    </tr>\n",
       "    <tr>\n",
       "      <th>4</th>\n",
       "      <td>605</td>\n",
       "      <td>1730</td>\n",
       "      <td>936</td>\n",
       "      <td>40</td>\n",
       "    </tr>\n",
       "    <tr>\n",
       "      <th>5</th>\n",
       "      <td>811</td>\n",
       "      <td>2914</td>\n",
       "      <td>1533</td>\n",
       "      <td>60</td>\n",
       "    </tr>\n",
       "  </tbody>\n",
       "</table>\n",
       "</div>"
      ],
      "text/plain": [
       "             high_price_seg  low_price_seg  mid_price_seg  premium_price_seg\n",
       "Week_Number                                                                 \n",
       "1                       598           2957           1533                 35\n",
       "2                       521           1852           1239                 32\n",
       "3                       595           2971           1145                 45\n",
       "4                       605           1730            936                 40\n",
       "5                       811           2914           1533                 60"
      ]
     },
     "execution_count": 171,
     "metadata": {},
     "output_type": "execute_result"
    }
   ],
   "source": [
    "ladder_dummies=pd.get_dummies(order_data_camera_subcatg['product_ladder'])\n",
    "\n",
    "ladder_dummies.head()\n",
    "\n",
    "order_data_camera_ladder = pd.concat([order_data_camera_subcatg, ladder_dummies], axis=1)\n",
    "\n",
    "prd_CameraAccessory_productLadder_feature=order_data_camera_ladder.groupby('Week_Number')\\\n",
    "  .apply(lambda x: pd.Series({\n",
    "      'high_price_seg'   :(x['units']*x['HIGH']).sum(),\n",
    "      'low_price_seg'   :(x['units']*x['LOW']).sum(),\n",
    "      'mid_price_seg'   :(x['units']*x['MID']).sum(),\n",
    "      'premium_price_seg':(x['units']*x['PREMIUM']).sum()\n",
    "  })\n",
    ")\n",
    "\n",
    "prd_CameraAccessory_productLadder_feature.head()"
   ]
  },
  {
   "cell_type": "code",
   "execution_count": 172,
   "metadata": {},
   "outputs": [
    {
     "name": "stdout",
     "output_type": "stream",
     "text": [
      "[ 1599.  1995.  3001.  3999. 50000.]\n",
      "product_ladder\n",
      "HIGH       37412\n",
      "LOW        44059\n",
      "MID        93854\n",
      "PREMIUM     5876\n",
      "Name: product_mrp, dtype: int64\n"
     ]
    }
   ],
   "source": [
    "print(np.percentile(order_data_gaming_subcatg.product_mrp,[75,80,90,95,100]))\n",
    "\n",
    "def sort(x):\n",
    "    if x['product_mrp']<599:\n",
    "        return 'LOW'\n",
    "    elif x['product_mrp']>=599 and x['product_mrp']<=1599:\n",
    "        return 'MID'\n",
    "    elif x['product_mrp']>1599 and x['product_mrp']<=3999:\n",
    "        return 'HIGH'\n",
    "    elif x['product_mrp']>3999 and x['product_mrp']<=35500:\n",
    "        return 'PREMIUM'\n",
    "## 120 - 599 : LOW , 599- 1599 : MID , 1599-3999 : HIGH, > 3999 : Premium\n",
    "order_data_gaming_subcatg['product_ladder']=order_data_gaming_subcatg.apply(sort,axis=1)\n",
    "print(order_data_gaming_subcatg.groupby('product_ladder').product_mrp.count())"
   ]
  },
  {
   "cell_type": "code",
   "execution_count": 173,
   "metadata": {},
   "outputs": [
    {
     "data": {
      "text/html": [
       "<div>\n",
       "<style scoped>\n",
       "    .dataframe tbody tr th:only-of-type {\n",
       "        vertical-align: middle;\n",
       "    }\n",
       "\n",
       "    .dataframe tbody tr th {\n",
       "        vertical-align: top;\n",
       "    }\n",
       "\n",
       "    .dataframe thead th {\n",
       "        text-align: right;\n",
       "    }\n",
       "</style>\n",
       "<table border=\"1\" class=\"dataframe\">\n",
       "  <thead>\n",
       "    <tr style=\"text-align: right;\">\n",
       "      <th></th>\n",
       "      <th>high_price_seg</th>\n",
       "      <th>low_price_seg</th>\n",
       "      <th>mid_price_seg</th>\n",
       "      <th>premium_price_seg</th>\n",
       "    </tr>\n",
       "    <tr>\n",
       "      <th>Week_Number</th>\n",
       "      <th></th>\n",
       "      <th></th>\n",
       "      <th></th>\n",
       "      <th></th>\n",
       "    </tr>\n",
       "  </thead>\n",
       "  <tbody>\n",
       "    <tr>\n",
       "      <th>1</th>\n",
       "      <td>1104</td>\n",
       "      <td>1103</td>\n",
       "      <td>1875</td>\n",
       "      <td>176</td>\n",
       "    </tr>\n",
       "    <tr>\n",
       "      <th>2</th>\n",
       "      <td>794</td>\n",
       "      <td>874</td>\n",
       "      <td>1985</td>\n",
       "      <td>126</td>\n",
       "    </tr>\n",
       "    <tr>\n",
       "      <th>3</th>\n",
       "      <td>1007</td>\n",
       "      <td>964</td>\n",
       "      <td>2921</td>\n",
       "      <td>208</td>\n",
       "    </tr>\n",
       "    <tr>\n",
       "      <th>4</th>\n",
       "      <td>552</td>\n",
       "      <td>812</td>\n",
       "      <td>1902</td>\n",
       "      <td>118</td>\n",
       "    </tr>\n",
       "    <tr>\n",
       "      <th>5</th>\n",
       "      <td>635</td>\n",
       "      <td>1043</td>\n",
       "      <td>2295</td>\n",
       "      <td>66</td>\n",
       "    </tr>\n",
       "  </tbody>\n",
       "</table>\n",
       "</div>"
      ],
      "text/plain": [
       "             high_price_seg  low_price_seg  mid_price_seg  premium_price_seg\n",
       "Week_Number                                                                 \n",
       "1                      1104           1103           1875                176\n",
       "2                       794            874           1985                126\n",
       "3                      1007            964           2921                208\n",
       "4                       552            812           1902                118\n",
       "5                       635           1043           2295                 66"
      ]
     },
     "execution_count": 173,
     "metadata": {},
     "output_type": "execute_result"
    }
   ],
   "source": [
    "ladder_dummies=pd.get_dummies(order_data_gaming_subcatg['product_ladder'])\n",
    "\n",
    "ladder_dummies.head()\n",
    "\n",
    "order_data_gaming_ladder = pd.concat([order_data_gaming_subcatg, ladder_dummies], axis=1)\n",
    "\n",
    "prd_GamingAccessory_productLadder_feature=order_data_gaming_ladder.groupby('Week_Number')\\\n",
    "  .apply(lambda x: pd.Series({\n",
    "      'high_price_seg'   :(x['units']*x['HIGH']).sum(),\n",
    "      'low_price_seg'   :(x['units']*x['LOW']).sum(),\n",
    "      'mid_price_seg'   :(x['units']*x['MID']).sum(),\n",
    "      'premium_price_seg':(x['units']*x['PREMIUM']).sum()\n",
    "  })\n",
    ")\n",
    "\n",
    "prd_GamingAccessory_productLadder_feature.head()"
   ]
  },
  {
   "cell_type": "code",
   "execution_count": 174,
   "metadata": {},
   "outputs": [
    {
     "name": "stdout",
     "output_type": "stream",
     "text": [
      "[ 4999.  5399.  6990.  6990. 39999.]\n",
      "product_ladder\n",
      "HIGH    27165\n",
      "LOW     28084\n",
      "MID     54744\n",
      "Name: product_mrp, dtype: int64\n"
     ]
    }
   ],
   "source": [
    "print(np.percentile(order_data_homeaudio_subcatg.product_mrp,[75,80,90,95,100]))\n",
    "def sort(x):\n",
    "    if x['product_mrp']<=1390:\n",
    "        return 'LOW'\n",
    "    elif x['product_mrp']>1390 and x['product_mrp']<=4999:\n",
    "        return 'MID'\n",
    "    elif x['product_mrp']>4999 and x['product_mrp']<=39999:\n",
    "        return 'HIGH'\n",
    "## For home audio subcategory there are LOW : 189-1390, MID: 1390-4999 , HIGH : 4999-39999\n",
    "order_data_homeaudio_subcatg['product_ladder'] = order_data_homeaudio_subcatg.apply(sort,axis=1)\n",
    "print(order_data_homeaudio_subcatg.groupby('product_ladder').product_mrp.count())"
   ]
  },
  {
   "cell_type": "code",
   "execution_count": 175,
   "metadata": {},
   "outputs": [
    {
     "data": {
      "text/html": [
       "<div>\n",
       "<style scoped>\n",
       "    .dataframe tbody tr th:only-of-type {\n",
       "        vertical-align: middle;\n",
       "    }\n",
       "\n",
       "    .dataframe tbody tr th {\n",
       "        vertical-align: top;\n",
       "    }\n",
       "\n",
       "    .dataframe thead th {\n",
       "        text-align: right;\n",
       "    }\n",
       "</style>\n",
       "<table border=\"1\" class=\"dataframe\">\n",
       "  <thead>\n",
       "    <tr style=\"text-align: right;\">\n",
       "      <th></th>\n",
       "      <th>high_price_seg</th>\n",
       "      <th>low_price_seg</th>\n",
       "      <th>mid_price_seg</th>\n",
       "    </tr>\n",
       "    <tr>\n",
       "      <th>Week_Number</th>\n",
       "      <th></th>\n",
       "      <th></th>\n",
       "      <th></th>\n",
       "    </tr>\n",
       "  </thead>\n",
       "  <tbody>\n",
       "    <tr>\n",
       "      <th>1</th>\n",
       "      <td>1294</td>\n",
       "      <td>477</td>\n",
       "      <td>1383</td>\n",
       "    </tr>\n",
       "    <tr>\n",
       "      <th>2</th>\n",
       "      <td>688</td>\n",
       "      <td>411</td>\n",
       "      <td>1016</td>\n",
       "    </tr>\n",
       "    <tr>\n",
       "      <th>3</th>\n",
       "      <td>710</td>\n",
       "      <td>502</td>\n",
       "      <td>1279</td>\n",
       "    </tr>\n",
       "    <tr>\n",
       "      <th>4</th>\n",
       "      <td>584</td>\n",
       "      <td>480</td>\n",
       "      <td>996</td>\n",
       "    </tr>\n",
       "    <tr>\n",
       "      <th>5</th>\n",
       "      <td>1218</td>\n",
       "      <td>536</td>\n",
       "      <td>1361</td>\n",
       "    </tr>\n",
       "  </tbody>\n",
       "</table>\n",
       "</div>"
      ],
      "text/plain": [
       "             high_price_seg  low_price_seg  mid_price_seg\n",
       "Week_Number                                              \n",
       "1                      1294            477           1383\n",
       "2                       688            411           1016\n",
       "3                       710            502           1279\n",
       "4                       584            480            996\n",
       "5                      1218            536           1361"
      ]
     },
     "execution_count": 175,
     "metadata": {},
     "output_type": "execute_result"
    }
   ],
   "source": [
    "ladder_dummies=pd.get_dummies(order_data_homeaudio_subcatg['product_ladder'])\n",
    "\n",
    "ladder_dummies.head()\n",
    "\n",
    "order_data_audio_ladder = pd.concat([order_data_homeaudio_subcatg, ladder_dummies], axis=1)\n",
    "\n",
    "prd_HomeAudio_productLadder_feature=order_data_audio_ladder.groupby('Week_Number')\\\n",
    "  .apply(lambda x: pd.Series({\n",
    "      'high_price_seg'   :(x['units']*x['HIGH']).sum(),\n",
    "      'low_price_seg'   :(x['units']*x['LOW']).sum(),\n",
    "      'mid_price_seg'   :(x['units']*x['MID']).sum()\n",
    "  })\n",
    ")\n",
    "\n",
    "prd_HomeAudio_productLadder_feature.head()"
   ]
  },
  {
   "cell_type": "markdown",
   "metadata": {},
   "source": [
    "# Phase 5: Creating the market mix models"
   ]
  },
  {
   "cell_type": "markdown",
   "metadata": {},
   "source": [
    "## 5.1 Creating the consolidated data frames with all the features"
   ]
  },
  {
   "cell_type": "code",
   "execution_count": 176,
   "metadata": {},
   "outputs": [],
   "source": [
    "#Create the consolidated data frames for storing all the features for each of the 3 sub-categories\n",
    "all_features_CA_subcatg = pd.DataFrame(prd_CameraAccessory_feature)\n",
    "all_features_GA_subcatg = pd.DataFrame(prd_GamingAccessory_feature)\n",
    "all_features_HA_subcatg = pd.DataFrame(prd_HomeAudio_feature)"
   ]
  },
  {
   "cell_type": "code",
   "execution_count": 177,
   "metadata": {},
   "outputs": [],
   "source": [
    "#Adding the advertising expense features\n",
    "all_features_CA_subcatg = all_features_CA_subcatg.merge(expense_weekly_feature,on='Week_Number')\n",
    "all_features_GA_subcatg = all_features_GA_subcatg.merge(expense_weekly_feature,on='Week_Number')\n",
    "all_features_HA_subcatg = all_features_HA_subcatg.merge(expense_weekly_feature,on='Week_Number')"
   ]
  },
  {
   "cell_type": "code",
   "execution_count": 178,
   "metadata": {},
   "outputs": [],
   "source": [
    "#Adding the Prepaid Count features\n",
    "all_features_CA_subcatg = all_features_CA_subcatg.merge(ppc_CameraAccessory_feature,on='Week_Number')\n",
    "all_features_GA_subcatg = all_features_GA_subcatg.merge(ppc_GamingAccessory_feature,on='Week_Number')\n",
    "all_features_HA_subcatg = all_features_HA_subcatg.merge(ppc_HomeAudio_feature,on='Week_Number')"
   ]
  },
  {
   "cell_type": "code",
   "execution_count": 179,
   "metadata": {},
   "outputs": [],
   "source": [
    "#Adding the Avg Delivery SLA features\n",
    "all_features_CA_subcatg = all_features_CA_subcatg.merge(avg_del_sla_CameraAcessory_feature,on='Week_Number')\n",
    "all_features_GA_subcatg = all_features_GA_subcatg.merge(avg_del_sla_GamingAcessory_feature,on='Week_Number')\n",
    "all_features_HA_subcatg = all_features_HA_subcatg.merge(avg_del_sla_HomeAudio_feature,on='Week_Number')"
   ]
  },
  {
   "cell_type": "code",
   "execution_count": 180,
   "metadata": {},
   "outputs": [],
   "source": [
    "#Adding the Avg Procurement SLA features\n",
    "all_features_CA_subcatg = all_features_CA_subcatg.merge(ap_sla_CameraAccessory_feature,on='Week_Number')\n",
    "all_features_GA_subcatg = all_features_GA_subcatg.merge(ap_sla_GamingAccessory_feature,on='Week_Number')\n",
    "all_features_HA_subcatg = all_features_HA_subcatg.merge(ap_sla_HomeAudio_feature,on='Week_Number')"
   ]
  },
  {
   "cell_type": "code",
   "execution_count": 181,
   "metadata": {},
   "outputs": [],
   "source": [
    "#Adding the Avg MRP features\n",
    "all_features_CA_subcatg = all_features_CA_subcatg.merge(avg_mrp_CameraAccessory_feature,on='Week_Number')\n",
    "all_features_GA_subcatg = all_features_GA_subcatg.merge(avg_mrp_CameraAccessory_feature,on='Week_Number')\n",
    "all_features_HA_subcatg = all_features_HA_subcatg.merge(avg_mrp_CameraAccessory_feature,on='Week_Number')"
   ]
  },
  {
   "cell_type": "code",
   "execution_count": 182,
   "metadata": {},
   "outputs": [],
   "source": [
    "#Adding the NPS and Stock Index features\n",
    "all_features_CA_subcatg = all_features_CA_subcatg.merge(nps_week,on='Week_Number')\n",
    "all_features_GA_subcatg = all_features_GA_subcatg.merge(nps_week,on='Week_Number')\n",
    "all_features_HA_subcatg = all_features_HA_subcatg.merge(nps_week,on='Week_Number')"
   ]
  },
  {
   "cell_type": "code",
   "execution_count": 183,
   "metadata": {},
   "outputs": [],
   "source": [
    "#Adding the Special Sale Day Count and Pay Day Count features\n",
    "all_features_CA_subcatg = all_features_CA_subcatg.merge(sspc_week,on='Week_Number')\n",
    "all_features_GA_subcatg = all_features_GA_subcatg.merge(sspc_week,on='Week_Number')\n",
    "all_features_HA_subcatg = all_features_HA_subcatg.merge(sspc_week,on='Week_Number')"
   ]
  },
  {
   "cell_type": "code",
   "execution_count": 184,
   "metadata": {},
   "outputs": [],
   "source": [
    "#Adding the Avg Discount % features\n",
    "all_features_CA_subcatg = all_features_CA_subcatg.merge(avg_discpct_CameraAccessory_feature,on='Week_Number')\n",
    "all_features_GA_subcatg = all_features_GA_subcatg.merge(avg_discpct_GamingAccessory_feature,on='Week_Number')\n",
    "all_features_HA_subcatg = all_features_HA_subcatg.merge(avg_discpct_HomeAudio_feature,on='Week_Number')"
   ]
  },
  {
   "cell_type": "code",
   "execution_count": 185,
   "metadata": {},
   "outputs": [],
   "source": [
    "all_features_CA_subcatg = all_features_CA_subcatg.merge(climate_weekly,on='Week_Number')\n",
    "all_features_GA_subcatg = all_features_GA_subcatg.merge(climate_weekly,on='Week_Number')\n",
    "all_features_HA_subcatg = all_features_HA_subcatg.merge(climate_weekly,on='Week_Number')"
   ]
  },
  {
   "cell_type": "code",
   "execution_count": 186,
   "metadata": {},
   "outputs": [],
   "source": [
    "all_features_CA_subcatg = all_features_CA_subcatg.merge(prd_CameraAccessory_productLadder_feature,on='Week_Number')\n",
    "all_features_GA_subcatg = all_features_GA_subcatg.merge(prd_GamingAccessory_productLadder_feature,on='Week_Number')\n",
    "all_features_HA_subcatg = all_features_HA_subcatg.merge(prd_HomeAudio_productLadder_feature,on='Week_Number')"
   ]
  },
  {
   "cell_type": "code",
   "execution_count": 187,
   "metadata": {},
   "outputs": [
    {
     "name": "stdout",
     "output_type": "stream",
     "text": [
      "<class 'pandas.core.frame.DataFrame'>\n",
      "Int64Index: 52 entries, 0 to 51\n",
      "Data columns (total 31 columns):\n",
      "Week_Number               52 non-null int64\n",
      "total_gmv                 52 non-null float64\n",
      "gmv_units                 52 non-null float64\n",
      "total_units               52 non-null float64\n",
      "order_cnt                 52 non-null float64\n",
      "TV                        52 non-null float64\n",
      "Digital                   52 non-null float64\n",
      "Sponsorship               52 non-null float64\n",
      "Content Marketing         52 non-null float64\n",
      "Online marketing          52 non-null float64\n",
      "Affiliates                52 non-null float64\n",
      "SEM                       52 non-null float64\n",
      "Radio                     52 non-null float64\n",
      "Other                     52 non-null float64\n",
      "Prepaid Count             52 non-null int64\n",
      "Avg Delivery SLA          52 non-null float64\n",
      "Avg Proc SLA              52 non-null float64\n",
      "Avg MRP                   52 non-null float64\n",
      "NPS                       52 non-null float64\n",
      "Stock Index               52 non-null float64\n",
      "Special Sale Day Count    52 non-null int64\n",
      "Pay Day Count             52 non-null int64\n",
      "Avg Discount %            52 non-null float64\n",
      "mean_temp                 52 non-null float64\n",
      "days_snowed               52 non-null float64\n",
      "days_rained               52 non-null float64\n",
      "days_precipitated         52 non-null float64\n",
      "high_price_seg            52 non-null int64\n",
      "low_price_seg             52 non-null int64\n",
      "mid_price_seg             52 non-null int64\n",
      "premium_price_seg         52 non-null int64\n",
      "dtypes: float64(23), int64(8)\n",
      "memory usage: 13.0 KB\n"
     ]
    }
   ],
   "source": [
    "all_features_CA_subcatg.info()"
   ]
  },
  {
   "cell_type": "code",
   "execution_count": 188,
   "metadata": {},
   "outputs": [
    {
     "name": "stdout",
     "output_type": "stream",
     "text": [
      "<class 'pandas.core.frame.DataFrame'>\n",
      "Int64Index: 52 entries, 0 to 51\n",
      "Data columns (total 31 columns):\n",
      "Week_Number               52 non-null int64\n",
      "total_gmv                 52 non-null float64\n",
      "gmv_units                 52 non-null float64\n",
      "total_units               52 non-null float64\n",
      "order_cnt                 52 non-null float64\n",
      "TV                        52 non-null float64\n",
      "Digital                   52 non-null float64\n",
      "Sponsorship               52 non-null float64\n",
      "Content Marketing         52 non-null float64\n",
      "Online marketing          52 non-null float64\n",
      "Affiliates                52 non-null float64\n",
      "SEM                       52 non-null float64\n",
      "Radio                     52 non-null float64\n",
      "Other                     52 non-null float64\n",
      "Prepaid Count             52 non-null int64\n",
      "Avg Delivery SLA          52 non-null float64\n",
      "Avg Proc SLA              52 non-null float64\n",
      "Avg MRP                   52 non-null float64\n",
      "NPS                       52 non-null float64\n",
      "Stock Index               52 non-null float64\n",
      "Special Sale Day Count    52 non-null int64\n",
      "Pay Day Count             52 non-null int64\n",
      "Avg Discount %            52 non-null float64\n",
      "mean_temp                 52 non-null float64\n",
      "days_snowed               52 non-null float64\n",
      "days_rained               52 non-null float64\n",
      "days_precipitated         52 non-null float64\n",
      "high_price_seg            52 non-null int64\n",
      "low_price_seg             52 non-null int64\n",
      "mid_price_seg             52 non-null int64\n",
      "premium_price_seg         52 non-null int64\n",
      "dtypes: float64(23), int64(8)\n",
      "memory usage: 13.0 KB\n"
     ]
    }
   ],
   "source": [
    "all_features_GA_subcatg.info()"
   ]
  },
  {
   "cell_type": "code",
   "execution_count": 189,
   "metadata": {},
   "outputs": [
    {
     "name": "stdout",
     "output_type": "stream",
     "text": [
      "<class 'pandas.core.frame.DataFrame'>\n",
      "Int64Index: 50 entries, 0 to 49\n",
      "Data columns (total 30 columns):\n",
      "Week_Number               50 non-null int64\n",
      "total_gmv                 50 non-null float64\n",
      "gmv_units                 50 non-null float64\n",
      "total_units               50 non-null float64\n",
      "order_cnt                 50 non-null float64\n",
      "TV                        50 non-null float64\n",
      "Digital                   50 non-null float64\n",
      "Sponsorship               50 non-null float64\n",
      "Content Marketing         50 non-null float64\n",
      "Online marketing          50 non-null float64\n",
      "Affiliates                50 non-null float64\n",
      "SEM                       50 non-null float64\n",
      "Radio                     50 non-null float64\n",
      "Other                     50 non-null float64\n",
      "Prepaid Count             50 non-null int64\n",
      "Avg Delivery SLA          50 non-null float64\n",
      "Avg Proc SLA              50 non-null float64\n",
      "Avg MRP                   50 non-null float64\n",
      "NPS                       50 non-null float64\n",
      "Stock Index               50 non-null float64\n",
      "Special Sale Day Count    50 non-null int64\n",
      "Pay Day Count             50 non-null int64\n",
      "Avg Discount %            50 non-null float64\n",
      "mean_temp                 50 non-null float64\n",
      "days_snowed               50 non-null float64\n",
      "days_rained               50 non-null float64\n",
      "days_precipitated         50 non-null float64\n",
      "high_price_seg            50 non-null int64\n",
      "low_price_seg             50 non-null int64\n",
      "mid_price_seg             50 non-null int64\n",
      "dtypes: float64(23), int64(7)\n",
      "memory usage: 12.1 KB\n"
     ]
    }
   ],
   "source": [
    "all_features_HA_subcatg.info()"
   ]
  },
  {
   "cell_type": "markdown",
   "metadata": {},
   "source": [
    "## 5.2 Scaling"
   ]
  },
  {
   "cell_type": "code",
   "execution_count": 190,
   "metadata": {},
   "outputs": [],
   "source": [
    "#Split into X and y\n",
    "\n",
    "#Product Sub-category - Computer Acccessory\n",
    "y_CA = all_features_CA_subcatg['total_gmv']\n",
    "X_CA = all_features_CA_subcatg.drop(['total_gmv'],axis=1)"
   ]
  },
  {
   "cell_type": "code",
   "execution_count": 191,
   "metadata": {},
   "outputs": [
    {
     "data": {
      "text/plain": [
       "30"
      ]
     },
     "execution_count": 191,
     "metadata": {},
     "output_type": "execute_result"
    }
   ],
   "source": [
    "X_CA.columns.size"
   ]
  },
  {
   "cell_type": "code",
   "execution_count": 192,
   "metadata": {},
   "outputs": [
    {
     "data": {
      "text/html": [
       "<div>\n",
       "<style scoped>\n",
       "    .dataframe tbody tr th:only-of-type {\n",
       "        vertical-align: middle;\n",
       "    }\n",
       "\n",
       "    .dataframe tbody tr th {\n",
       "        vertical-align: top;\n",
       "    }\n",
       "\n",
       "    .dataframe thead th {\n",
       "        text-align: right;\n",
       "    }\n",
       "</style>\n",
       "<table border=\"1\" class=\"dataframe\">\n",
       "  <thead>\n",
       "    <tr style=\"text-align: right;\">\n",
       "      <th></th>\n",
       "      <th>Week_Number</th>\n",
       "      <th>gmv_units</th>\n",
       "      <th>total_units</th>\n",
       "      <th>order_cnt</th>\n",
       "      <th>TV</th>\n",
       "      <th>Digital</th>\n",
       "      <th>Sponsorship</th>\n",
       "      <th>Content Marketing</th>\n",
       "      <th>Online marketing</th>\n",
       "      <th>Affiliates</th>\n",
       "      <th>...</th>\n",
       "      <th>Pay Day Count</th>\n",
       "      <th>Avg Discount %</th>\n",
       "      <th>mean_temp</th>\n",
       "      <th>days_snowed</th>\n",
       "      <th>days_rained</th>\n",
       "      <th>days_precipitated</th>\n",
       "      <th>high_price_seg</th>\n",
       "      <th>low_price_seg</th>\n",
       "      <th>mid_price_seg</th>\n",
       "      <th>premium_price_seg</th>\n",
       "    </tr>\n",
       "  </thead>\n",
       "  <tbody>\n",
       "    <tr>\n",
       "      <th>count</th>\n",
       "      <td>52.000000</td>\n",
       "      <td>52.000000</td>\n",
       "      <td>52.000000</td>\n",
       "      <td>52.000000</td>\n",
       "      <td>52.000000</td>\n",
       "      <td>52.000000</td>\n",
       "      <td>52.000000</td>\n",
       "      <td>52.000000</td>\n",
       "      <td>52.000000</td>\n",
       "      <td>52.000000</td>\n",
       "      <td>...</td>\n",
       "      <td>52.000000</td>\n",
       "      <td>52.000000</td>\n",
       "      <td>52.000000</td>\n",
       "      <td>52.000000</td>\n",
       "      <td>52.000000</td>\n",
       "      <td>52.000000</td>\n",
       "      <td>52.000000</td>\n",
       "      <td>52.000000</td>\n",
       "      <td>52.000000</td>\n",
       "      <td>52.000000</td>\n",
       "    </tr>\n",
       "    <tr>\n",
       "      <th>mean</th>\n",
       "      <td>26.865385</td>\n",
       "      <td>578.406107</td>\n",
       "      <td>4261.980769</td>\n",
       "      <td>4153.711538</td>\n",
       "      <td>0.853203</td>\n",
       "      <td>0.564839</td>\n",
       "      <td>7.021686</td>\n",
       "      <td>0.154384</td>\n",
       "      <td>3.723277</td>\n",
       "      <td>1.179868</td>\n",
       "      <td>...</td>\n",
       "      <td>0.461538</td>\n",
       "      <td>49.850530</td>\n",
       "      <td>12.025668</td>\n",
       "      <td>0.288462</td>\n",
       "      <td>1.365385</td>\n",
       "      <td>1.557692</td>\n",
       "      <td>796.807692</td>\n",
       "      <td>2106.269231</td>\n",
       "      <td>1316.634615</td>\n",
       "      <td>42.269231</td>\n",
       "    </tr>\n",
       "    <tr>\n",
       "      <th>std</th>\n",
       "      <td>15.562686</td>\n",
       "      <td>75.694436</td>\n",
       "      <td>1982.969901</td>\n",
       "      <td>1934.582402</td>\n",
       "      <td>0.577382</td>\n",
       "      <td>0.688134</td>\n",
       "      <td>5.555656</td>\n",
       "      <td>0.200328</td>\n",
       "      <td>1.820723</td>\n",
       "      <td>0.553946</td>\n",
       "      <td>...</td>\n",
       "      <td>0.503382</td>\n",
       "      <td>9.283399</td>\n",
       "      <td>8.981469</td>\n",
       "      <td>0.636675</td>\n",
       "      <td>1.029541</td>\n",
       "      <td>1.092101</td>\n",
       "      <td>427.680064</td>\n",
       "      <td>1003.334326</td>\n",
       "      <td>707.133762</td>\n",
       "      <td>21.679588</td>\n",
       "    </tr>\n",
       "    <tr>\n",
       "      <th>min</th>\n",
       "      <td>1.000000</td>\n",
       "      <td>299.000000</td>\n",
       "      <td>2.000000</td>\n",
       "      <td>2.000000</td>\n",
       "      <td>0.001454</td>\n",
       "      <td>0.102968</td>\n",
       "      <td>0.240107</td>\n",
       "      <td>0.000001</td>\n",
       "      <td>0.029184</td>\n",
       "      <td>0.016638</td>\n",
       "      <td>...</td>\n",
       "      <td>0.000000</td>\n",
       "      <td>3.353605</td>\n",
       "      <td>-7.266667</td>\n",
       "      <td>0.000000</td>\n",
       "      <td>0.000000</td>\n",
       "      <td>0.000000</td>\n",
       "      <td>0.000000</td>\n",
       "      <td>0.000000</td>\n",
       "      <td>2.000000</td>\n",
       "      <td>0.000000</td>\n",
       "    </tr>\n",
       "    <tr>\n",
       "      <th>25%</th>\n",
       "      <td>13.750000</td>\n",
       "      <td>533.702190</td>\n",
       "      <td>3135.000000</td>\n",
       "      <td>3051.000000</td>\n",
       "      <td>0.351469</td>\n",
       "      <td>0.265714</td>\n",
       "      <td>2.830306</td>\n",
       "      <td>0.010519</td>\n",
       "      <td>3.173714</td>\n",
       "      <td>0.982534</td>\n",
       "      <td>...</td>\n",
       "      <td>0.000000</td>\n",
       "      <td>45.908942</td>\n",
       "      <td>5.581667</td>\n",
       "      <td>0.000000</td>\n",
       "      <td>1.000000</td>\n",
       "      <td>1.000000</td>\n",
       "      <td>574.500000</td>\n",
       "      <td>1419.750000</td>\n",
       "      <td>1013.000000</td>\n",
       "      <td>31.750000</td>\n",
       "    </tr>\n",
       "    <tr>\n",
       "      <th>50%</th>\n",
       "      <td>26.500000</td>\n",
       "      <td>569.727886</td>\n",
       "      <td>4423.500000</td>\n",
       "      <td>4321.000000</td>\n",
       "      <td>0.984814</td>\n",
       "      <td>0.331511</td>\n",
       "      <td>5.844660</td>\n",
       "      <td>0.107125</td>\n",
       "      <td>4.409461</td>\n",
       "      <td>1.415170</td>\n",
       "      <td>...</td>\n",
       "      <td>0.000000</td>\n",
       "      <td>49.602129</td>\n",
       "      <td>12.160000</td>\n",
       "      <td>0.000000</td>\n",
       "      <td>1.000000</td>\n",
       "      <td>1.000000</td>\n",
       "      <td>686.000000</td>\n",
       "      <td>2056.500000</td>\n",
       "      <td>1261.500000</td>\n",
       "      <td>40.500000</td>\n",
       "    </tr>\n",
       "    <tr>\n",
       "      <th>75%</th>\n",
       "      <td>40.250000</td>\n",
       "      <td>646.111469</td>\n",
       "      <td>5398.500000</td>\n",
       "      <td>5254.250000</td>\n",
       "      <td>1.214546</td>\n",
       "      <td>0.478397</td>\n",
       "      <td>9.905379</td>\n",
       "      <td>0.203226</td>\n",
       "      <td>5.091080</td>\n",
       "      <td>1.546305</td>\n",
       "      <td>...</td>\n",
       "      <td>1.000000</td>\n",
       "      <td>54.227343</td>\n",
       "      <td>20.325000</td>\n",
       "      <td>0.000000</td>\n",
       "      <td>2.000000</td>\n",
       "      <td>2.000000</td>\n",
       "      <td>1053.750000</td>\n",
       "      <td>2851.500000</td>\n",
       "      <td>1588.500000</td>\n",
       "      <td>50.500000</td>\n",
       "    </tr>\n",
       "    <tr>\n",
       "      <th>max</th>\n",
       "      <td>53.000000</td>\n",
       "      <td>682.921555</td>\n",
       "      <td>9992.000000</td>\n",
       "      <td>9698.000000</td>\n",
       "      <td>2.100000</td>\n",
       "      <td>2.850237</td>\n",
       "      <td>19.119604</td>\n",
       "      <td>0.777694</td>\n",
       "      <td>5.503305</td>\n",
       "      <td>1.664194</td>\n",
       "      <td>...</td>\n",
       "      <td>1.000000</td>\n",
       "      <td>84.974874</td>\n",
       "      <td>24.566667</td>\n",
       "      <td>3.000000</td>\n",
       "      <td>4.000000</td>\n",
       "      <td>5.000000</td>\n",
       "      <td>2035.000000</td>\n",
       "      <td>5039.000000</td>\n",
       "      <td>4123.000000</td>\n",
       "      <td>110.000000</td>\n",
       "    </tr>\n",
       "  </tbody>\n",
       "</table>\n",
       "<p>8 rows × 30 columns</p>\n",
       "</div>"
      ],
      "text/plain": [
       "       Week_Number   gmv_units  total_units    order_cnt         TV  \\\n",
       "count    52.000000   52.000000    52.000000    52.000000  52.000000   \n",
       "mean     26.865385  578.406107  4261.980769  4153.711538   0.853203   \n",
       "std      15.562686   75.694436  1982.969901  1934.582402   0.577382   \n",
       "min       1.000000  299.000000     2.000000     2.000000   0.001454   \n",
       "25%      13.750000  533.702190  3135.000000  3051.000000   0.351469   \n",
       "50%      26.500000  569.727886  4423.500000  4321.000000   0.984814   \n",
       "75%      40.250000  646.111469  5398.500000  5254.250000   1.214546   \n",
       "max      53.000000  682.921555  9992.000000  9698.000000   2.100000   \n",
       "\n",
       "         Digital  Sponsorship  Content Marketing  Online marketing  \\\n",
       "count  52.000000    52.000000          52.000000         52.000000   \n",
       "mean    0.564839     7.021686           0.154384          3.723277   \n",
       "std     0.688134     5.555656           0.200328          1.820723   \n",
       "min     0.102968     0.240107           0.000001          0.029184   \n",
       "25%     0.265714     2.830306           0.010519          3.173714   \n",
       "50%     0.331511     5.844660           0.107125          4.409461   \n",
       "75%     0.478397     9.905379           0.203226          5.091080   \n",
       "max     2.850237    19.119604           0.777694          5.503305   \n",
       "\n",
       "       Affiliates        ...          Pay Day Count  Avg Discount %  \\\n",
       "count   52.000000        ...              52.000000       52.000000   \n",
       "mean     1.179868        ...               0.461538       49.850530   \n",
       "std      0.553946        ...               0.503382        9.283399   \n",
       "min      0.016638        ...               0.000000        3.353605   \n",
       "25%      0.982534        ...               0.000000       45.908942   \n",
       "50%      1.415170        ...               0.000000       49.602129   \n",
       "75%      1.546305        ...               1.000000       54.227343   \n",
       "max      1.664194        ...               1.000000       84.974874   \n",
       "\n",
       "       mean_temp  days_snowed  days_rained  days_precipitated  high_price_seg  \\\n",
       "count  52.000000    52.000000    52.000000          52.000000       52.000000   \n",
       "mean   12.025668     0.288462     1.365385           1.557692      796.807692   \n",
       "std     8.981469     0.636675     1.029541           1.092101      427.680064   \n",
       "min    -7.266667     0.000000     0.000000           0.000000        0.000000   \n",
       "25%     5.581667     0.000000     1.000000           1.000000      574.500000   \n",
       "50%    12.160000     0.000000     1.000000           1.000000      686.000000   \n",
       "75%    20.325000     0.000000     2.000000           2.000000     1053.750000   \n",
       "max    24.566667     3.000000     4.000000           5.000000     2035.000000   \n",
       "\n",
       "       low_price_seg  mid_price_seg  premium_price_seg  \n",
       "count      52.000000      52.000000          52.000000  \n",
       "mean     2106.269231    1316.634615          42.269231  \n",
       "std      1003.334326     707.133762          21.679588  \n",
       "min         0.000000       2.000000           0.000000  \n",
       "25%      1419.750000    1013.000000          31.750000  \n",
       "50%      2056.500000    1261.500000          40.500000  \n",
       "75%      2851.500000    1588.500000          50.500000  \n",
       "max      5039.000000    4123.000000         110.000000  \n",
       "\n",
       "[8 rows x 30 columns]"
      ]
     },
     "execution_count": 192,
     "metadata": {},
     "output_type": "execute_result"
    }
   ],
   "source": [
    "X_CA.describe()"
   ]
  },
  {
   "cell_type": "code",
   "execution_count": 193,
   "metadata": {},
   "outputs": [
    {
     "data": {
      "text/plain": [
       "Index(['Week_Number', 'gmv_units', 'total_units', 'order_cnt', 'TV', 'Digital',\n",
       "       'Sponsorship', 'Content Marketing', 'Online marketing', 'Affiliates',\n",
       "       'SEM', 'Radio', 'Other', 'Prepaid Count', 'Avg Delivery SLA',\n",
       "       'Avg Proc SLA', 'Avg MRP', 'NPS', 'Stock Index',\n",
       "       'Special Sale Day Count', 'Pay Day Count', 'Avg Discount %',\n",
       "       'mean_temp', 'days_snowed', 'days_rained', 'days_precipitated',\n",
       "       'high_price_seg', 'low_price_seg', 'mid_price_seg',\n",
       "       'premium_price_seg'],\n",
       "      dtype='object')"
      ]
     },
     "execution_count": 193,
     "metadata": {},
     "output_type": "execute_result"
    }
   ],
   "source": [
    "#Scaling the features\n",
    "from sklearn.preprocessing import scale\n",
    "\n",
    "# storing column names in cols, since column names are lost after scaling\n",
    "cols = X_CA.columns\n",
    "X_CA = pd.DataFrame(scale(X_CA))\n",
    "X_CA.columns = cols\n",
    "X_CA.columns"
   ]
  },
  {
   "cell_type": "code",
   "execution_count": 194,
   "metadata": {},
   "outputs": [
    {
     "data": {
      "text/html": [
       "<div>\n",
       "<style scoped>\n",
       "    .dataframe tbody tr th:only-of-type {\n",
       "        vertical-align: middle;\n",
       "    }\n",
       "\n",
       "    .dataframe tbody tr th {\n",
       "        vertical-align: top;\n",
       "    }\n",
       "\n",
       "    .dataframe thead th {\n",
       "        text-align: right;\n",
       "    }\n",
       "</style>\n",
       "<table border=\"1\" class=\"dataframe\">\n",
       "  <thead>\n",
       "    <tr style=\"text-align: right;\">\n",
       "      <th></th>\n",
       "      <th>Week_Number</th>\n",
       "      <th>gmv_units</th>\n",
       "      <th>total_units</th>\n",
       "      <th>order_cnt</th>\n",
       "      <th>TV</th>\n",
       "      <th>Digital</th>\n",
       "      <th>Sponsorship</th>\n",
       "      <th>Content Marketing</th>\n",
       "      <th>Online marketing</th>\n",
       "      <th>Affiliates</th>\n",
       "      <th>...</th>\n",
       "      <th>Pay Day Count</th>\n",
       "      <th>Avg Discount %</th>\n",
       "      <th>mean_temp</th>\n",
       "      <th>days_snowed</th>\n",
       "      <th>days_rained</th>\n",
       "      <th>days_precipitated</th>\n",
       "      <th>high_price_seg</th>\n",
       "      <th>low_price_seg</th>\n",
       "      <th>mid_price_seg</th>\n",
       "      <th>premium_price_seg</th>\n",
       "    </tr>\n",
       "  </thead>\n",
       "  <tbody>\n",
       "    <tr>\n",
       "      <th>count</th>\n",
       "      <td>5.200000e+01</td>\n",
       "      <td>5.200000e+01</td>\n",
       "      <td>5.200000e+01</td>\n",
       "      <td>5.200000e+01</td>\n",
       "      <td>5.200000e+01</td>\n",
       "      <td>5.200000e+01</td>\n",
       "      <td>5.200000e+01</td>\n",
       "      <td>5.200000e+01</td>\n",
       "      <td>5.200000e+01</td>\n",
       "      <td>5.200000e+01</td>\n",
       "      <td>...</td>\n",
       "      <td>5.200000e+01</td>\n",
       "      <td>5.200000e+01</td>\n",
       "      <td>5.200000e+01</td>\n",
       "      <td>5.200000e+01</td>\n",
       "      <td>5.200000e+01</td>\n",
       "      <td>5.200000e+01</td>\n",
       "      <td>5.200000e+01</td>\n",
       "      <td>5.200000e+01</td>\n",
       "      <td>5.200000e+01</td>\n",
       "      <td>5.200000e+01</td>\n",
       "    </tr>\n",
       "    <tr>\n",
       "      <th>mean</th>\n",
       "      <td>-1.067522e-16</td>\n",
       "      <td>-4.099285e-16</td>\n",
       "      <td>-2.231121e-16</td>\n",
       "      <td>2.273822e-16</td>\n",
       "      <td>5.871372e-17</td>\n",
       "      <td>1.766749e-16</td>\n",
       "      <td>-7.739536e-17</td>\n",
       "      <td>-1.494531e-17</td>\n",
       "      <td>5.444363e-16</td>\n",
       "      <td>4.291439e-16</td>\n",
       "      <td>...</td>\n",
       "      <td>-5.978124e-17</td>\n",
       "      <td>-3.373370e-16</td>\n",
       "      <td>1.537232e-16</td>\n",
       "      <td>2.220446e-16</td>\n",
       "      <td>-4.270089e-17</td>\n",
       "      <td>-3.416071e-17</td>\n",
       "      <td>9.073938e-17</td>\n",
       "      <td>-1.590608e-16</td>\n",
       "      <td>-1.163599e-16</td>\n",
       "      <td>1.003471e-16</td>\n",
       "    </tr>\n",
       "    <tr>\n",
       "      <th>std</th>\n",
       "      <td>1.009756e+00</td>\n",
       "      <td>1.009756e+00</td>\n",
       "      <td>1.009756e+00</td>\n",
       "      <td>1.009756e+00</td>\n",
       "      <td>1.009756e+00</td>\n",
       "      <td>1.009756e+00</td>\n",
       "      <td>1.009756e+00</td>\n",
       "      <td>1.009756e+00</td>\n",
       "      <td>1.009756e+00</td>\n",
       "      <td>1.009756e+00</td>\n",
       "      <td>...</td>\n",
       "      <td>1.009756e+00</td>\n",
       "      <td>1.009756e+00</td>\n",
       "      <td>1.009756e+00</td>\n",
       "      <td>1.009756e+00</td>\n",
       "      <td>1.009756e+00</td>\n",
       "      <td>1.009756e+00</td>\n",
       "      <td>1.009756e+00</td>\n",
       "      <td>1.009756e+00</td>\n",
       "      <td>1.009756e+00</td>\n",
       "      <td>1.009756e+00</td>\n",
       "    </tr>\n",
       "    <tr>\n",
       "      <th>min</th>\n",
       "      <td>-1.678228e+00</td>\n",
       "      <td>-3.727250e+00</td>\n",
       "      <td>-2.169242e+00</td>\n",
       "      <td>-2.166988e+00</td>\n",
       "      <td>-1.489586e+00</td>\n",
       "      <td>-6.777424e-01</td>\n",
       "      <td>-1.232571e+00</td>\n",
       "      <td>-7.781667e-01</td>\n",
       "      <td>-2.048710e+00</td>\n",
       "      <td>-2.120385e+00</td>\n",
       "      <td>...</td>\n",
       "      <td>-9.258201e-01</td>\n",
       "      <td>-5.057476e+00</td>\n",
       "      <td>-2.168972e+00</td>\n",
       "      <td>-4.574957e-01</td>\n",
       "      <td>-1.339146e+00</td>\n",
       "      <td>-1.440242e+00</td>\n",
       "      <td>-1.881270e+00</td>\n",
       "      <td>-2.119751e+00</td>\n",
       "      <td>-1.877241e+00</td>\n",
       "      <td>-1.968747e+00</td>\n",
       "    </tr>\n",
       "    <tr>\n",
       "      <th>25%</th>\n",
       "      <td>-8.509676e-01</td>\n",
       "      <td>-5.963459e-01</td>\n",
       "      <td>-5.738746e-01</td>\n",
       "      <td>-5.755609e-01</td>\n",
       "      <td>-8.774611e-01</td>\n",
       "      <td>-4.389319e-01</td>\n",
       "      <td>-7.617951e-01</td>\n",
       "      <td>-7.251537e-01</td>\n",
       "      <td>-3.047826e-01</td>\n",
       "      <td>-3.597086e-01</td>\n",
       "      <td>...</td>\n",
       "      <td>-9.258201e-01</td>\n",
       "      <td>-4.287269e-01</td>\n",
       "      <td>-7.244774e-01</td>\n",
       "      <td>-4.574957e-01</td>\n",
       "      <td>-3.583630e-01</td>\n",
       "      <td>-5.156421e-01</td>\n",
       "      <td>-5.248704e-01</td>\n",
       "      <td>-6.909134e-01</td>\n",
       "      <td>-4.335771e-01</td>\n",
       "      <td>-4.899475e-01</td>\n",
       "    </tr>\n",
       "    <tr>\n",
       "      <th>50%</th>\n",
       "      <td>-2.370731e-02</td>\n",
       "      <td>-1.157666e-01</td>\n",
       "      <td>8.224788e-02</td>\n",
       "      <td>8.731630e-02</td>\n",
       "      <td>2.301669e-01</td>\n",
       "      <td>-3.423821e-01</td>\n",
       "      <td>-2.139279e-01</td>\n",
       "      <td>-2.382101e-01</td>\n",
       "      <td>3.805508e-01</td>\n",
       "      <td>4.289184e-01</td>\n",
       "      <td>...</td>\n",
       "      <td>-9.258201e-01</td>\n",
       "      <td>-2.701854e-02</td>\n",
       "      <td>1.510244e-02</td>\n",
       "      <td>-4.574957e-01</td>\n",
       "      <td>-3.583630e-01</td>\n",
       "      <td>-5.156421e-01</td>\n",
       "      <td>-2.616179e-01</td>\n",
       "      <td>-5.008779e-02</td>\n",
       "      <td>-7.872984e-02</td>\n",
       "      <td>-8.240433e-02</td>\n",
       "    </tr>\n",
       "    <tr>\n",
       "      <th>75%</th>\n",
       "      <td>8.684362e-01</td>\n",
       "      <td>9.031829e-01</td>\n",
       "      <td>5.787317e-01</td>\n",
       "      <td>5.744266e-01</td>\n",
       "      <td>6.319350e-01</td>\n",
       "      <td>-1.268438e-01</td>\n",
       "      <td>5.241195e-01</td>\n",
       "      <td>2.461870e-01</td>\n",
       "      <td>7.585706e-01</td>\n",
       "      <td>6.679574e-01</td>\n",
       "      <td>...</td>\n",
       "      <td>1.080123e+00</td>\n",
       "      <td>4.760665e-01</td>\n",
       "      <td>9.330659e-01</td>\n",
       "      <td>-4.574957e-01</td>\n",
       "      <td>6.224200e-01</td>\n",
       "      <td>4.089576e-01</td>\n",
       "      <td>6.066430e-01</td>\n",
       "      <td>7.500007e-01</td>\n",
       "      <td>3.882120e-01</td>\n",
       "      <td>3.833593e-01</td>\n",
       "    </tr>\n",
       "    <tr>\n",
       "      <th>max</th>\n",
       "      <td>1.695697e+00</td>\n",
       "      <td>1.394226e+00</td>\n",
       "      <td>2.917807e+00</td>\n",
       "      <td>2.893844e+00</td>\n",
       "      <td>2.180465e+00</td>\n",
       "      <td>3.353556e+00</td>\n",
       "      <td>2.198831e+00</td>\n",
       "      <td>3.141799e+00</td>\n",
       "      <td>9.871868e-01</td>\n",
       "      <td>8.828489e-01</td>\n",
       "      <td>...</td>\n",
       "      <td>1.080123e+00</td>\n",
       "      <td>3.820479e+00</td>\n",
       "      <td>1.409942e+00</td>\n",
       "      <td>4.300460e+00</td>\n",
       "      <td>2.583986e+00</td>\n",
       "      <td>3.182757e+00</td>\n",
       "      <td>2.923383e+00</td>\n",
       "      <td>2.951502e+00</td>\n",
       "      <td>4.007368e+00</td>\n",
       "      <td>3.154653e+00</td>\n",
       "    </tr>\n",
       "  </tbody>\n",
       "</table>\n",
       "<p>8 rows × 30 columns</p>\n",
       "</div>"
      ],
      "text/plain": [
       "        Week_Number     gmv_units   total_units     order_cnt            TV  \\\n",
       "count  5.200000e+01  5.200000e+01  5.200000e+01  5.200000e+01  5.200000e+01   \n",
       "mean  -1.067522e-16 -4.099285e-16 -2.231121e-16  2.273822e-16  5.871372e-17   \n",
       "std    1.009756e+00  1.009756e+00  1.009756e+00  1.009756e+00  1.009756e+00   \n",
       "min   -1.678228e+00 -3.727250e+00 -2.169242e+00 -2.166988e+00 -1.489586e+00   \n",
       "25%   -8.509676e-01 -5.963459e-01 -5.738746e-01 -5.755609e-01 -8.774611e-01   \n",
       "50%   -2.370731e-02 -1.157666e-01  8.224788e-02  8.731630e-02  2.301669e-01   \n",
       "75%    8.684362e-01  9.031829e-01  5.787317e-01  5.744266e-01  6.319350e-01   \n",
       "max    1.695697e+00  1.394226e+00  2.917807e+00  2.893844e+00  2.180465e+00   \n",
       "\n",
       "            Digital   Sponsorship  Content Marketing  Online marketing  \\\n",
       "count  5.200000e+01  5.200000e+01       5.200000e+01      5.200000e+01   \n",
       "mean   1.766749e-16 -7.739536e-17      -1.494531e-17      5.444363e-16   \n",
       "std    1.009756e+00  1.009756e+00       1.009756e+00      1.009756e+00   \n",
       "min   -6.777424e-01 -1.232571e+00      -7.781667e-01     -2.048710e+00   \n",
       "25%   -4.389319e-01 -7.617951e-01      -7.251537e-01     -3.047826e-01   \n",
       "50%   -3.423821e-01 -2.139279e-01      -2.382101e-01      3.805508e-01   \n",
       "75%   -1.268438e-01  5.241195e-01       2.461870e-01      7.585706e-01   \n",
       "max    3.353556e+00  2.198831e+00       3.141799e+00      9.871868e-01   \n",
       "\n",
       "         Affiliates        ...          Pay Day Count  Avg Discount %  \\\n",
       "count  5.200000e+01        ...           5.200000e+01    5.200000e+01   \n",
       "mean   4.291439e-16        ...          -5.978124e-17   -3.373370e-16   \n",
       "std    1.009756e+00        ...           1.009756e+00    1.009756e+00   \n",
       "min   -2.120385e+00        ...          -9.258201e-01   -5.057476e+00   \n",
       "25%   -3.597086e-01        ...          -9.258201e-01   -4.287269e-01   \n",
       "50%    4.289184e-01        ...          -9.258201e-01   -2.701854e-02   \n",
       "75%    6.679574e-01        ...           1.080123e+00    4.760665e-01   \n",
       "max    8.828489e-01        ...           1.080123e+00    3.820479e+00   \n",
       "\n",
       "          mean_temp   days_snowed   days_rained  days_precipitated  \\\n",
       "count  5.200000e+01  5.200000e+01  5.200000e+01       5.200000e+01   \n",
       "mean   1.537232e-16  2.220446e-16 -4.270089e-17      -3.416071e-17   \n",
       "std    1.009756e+00  1.009756e+00  1.009756e+00       1.009756e+00   \n",
       "min   -2.168972e+00 -4.574957e-01 -1.339146e+00      -1.440242e+00   \n",
       "25%   -7.244774e-01 -4.574957e-01 -3.583630e-01      -5.156421e-01   \n",
       "50%    1.510244e-02 -4.574957e-01 -3.583630e-01      -5.156421e-01   \n",
       "75%    9.330659e-01 -4.574957e-01  6.224200e-01       4.089576e-01   \n",
       "max    1.409942e+00  4.300460e+00  2.583986e+00       3.182757e+00   \n",
       "\n",
       "       high_price_seg  low_price_seg  mid_price_seg  premium_price_seg  \n",
       "count    5.200000e+01   5.200000e+01   5.200000e+01       5.200000e+01  \n",
       "mean     9.073938e-17  -1.590608e-16  -1.163599e-16       1.003471e-16  \n",
       "std      1.009756e+00   1.009756e+00   1.009756e+00       1.009756e+00  \n",
       "min     -1.881270e+00  -2.119751e+00  -1.877241e+00      -1.968747e+00  \n",
       "25%     -5.248704e-01  -6.909134e-01  -4.335771e-01      -4.899475e-01  \n",
       "50%     -2.616179e-01  -5.008779e-02  -7.872984e-02      -8.240433e-02  \n",
       "75%      6.066430e-01   7.500007e-01   3.882120e-01       3.833593e-01  \n",
       "max      2.923383e+00   2.951502e+00   4.007368e+00       3.154653e+00  \n",
       "\n",
       "[8 rows x 30 columns]"
      ]
     },
     "execution_count": 194,
     "metadata": {},
     "output_type": "execute_result"
    }
   ],
   "source": [
    "#Checking the distribution after scaling\n",
    "X_CA.describe()"
   ]
  },
  {
   "cell_type": "markdown",
   "metadata": {},
   "source": [
    "### Creating the model"
   ]
  },
  {
   "cell_type": "code",
   "execution_count": 195,
   "metadata": {},
   "outputs": [],
   "source": [
    "import statsmodels.api as sm \n",
    "from statsmodels.stats.outliers_influence import variance_inflation_factor\n",
    "\n",
    "#Function for calculating the linear model using statsmodel package\n",
    "def computeModel(xdata,ydata):\n",
    "    \n",
    "    # Adding a constant variable \n",
    "    xdata = sm.add_constant(xdata)\n",
    "    \n",
    "    #Running the linear model\n",
    "    lm = sm.OLS(ydata,xdata).fit()\n",
    "    \n",
    "    return lm\n",
    "\n",
    "\n",
    "#Function for calculating the VIF of the linear model\n",
    "def computeVIF(x_predictors):\n",
    "    \n",
    "    vif = pd.DataFrame()\n",
    "    X = x_predictors\n",
    "    vif['Features'] = X.columns\n",
    "    vif['VIF'] = [variance_inflation_factor(X.values, i) for i in range(X.shape[1])]\n",
    "    vif['VIF'] = round(vif['VIF'], 2)\n",
    "    vif = vif.sort_values(by = \"VIF\", ascending = False)\n",
    "\n",
    "    return vif"
   ]
  },
  {
   "cell_type": "markdown",
   "metadata": {},
   "source": [
    "# 5.4 Iteratively building the model using stats package\n"
   ]
  },
  {
   "cell_type": "code",
   "execution_count": 196,
   "metadata": {},
   "outputs": [],
   "source": [
    "from sklearn.feature_selection import RFE\n",
    "from sklearn.linear_model import LinearRegression\n",
    "#Using RFE, identifying the 25 variables \n",
    "lm_CA = LinearRegression()\n",
    "lm_CA.fit(X_CA, y_CA)\n",
    "\n",
    "rfe_CA = RFE(lm_CA, 11)             # running RFE\n",
    "rfe_CA = rfe_CA.fit(X_CA, y_CA)"
   ]
  },
  {
   "cell_type": "code",
   "execution_count": 197,
   "metadata": {},
   "outputs": [
    {
     "data": {
      "text/plain": [
       "[('Week_Number', False, 20),\n",
       " ('gmv_units', True, 1),\n",
       " ('total_units', True, 1),\n",
       " ('order_cnt', False, 5),\n",
       " ('TV', True, 1),\n",
       " ('Digital', True, 1),\n",
       " ('Sponsorship', False, 7),\n",
       " ('Content Marketing', True, 1),\n",
       " ('Online marketing', False, 13),\n",
       " ('Affiliates', False, 3),\n",
       " ('SEM', True, 1),\n",
       " ('Radio', True, 1),\n",
       " ('Other', True, 1),\n",
       " ('Prepaid Count', False, 4),\n",
       " ('Avg Delivery SLA', False, 17),\n",
       " ('Avg Proc SLA', False, 15),\n",
       " ('Avg MRP', False, 14),\n",
       " ('NPS', True, 1),\n",
       " ('Stock Index', True, 1),\n",
       " ('Special Sale Day Count', False, 16),\n",
       " ('Pay Day Count', False, 18),\n",
       " ('Avg Discount %', True, 1),\n",
       " ('mean_temp', False, 9),\n",
       " ('days_snowed', False, 12),\n",
       " ('days_rained', False, 11),\n",
       " ('days_precipitated', False, 10),\n",
       " ('high_price_seg', False, 8),\n",
       " ('low_price_seg', False, 19),\n",
       " ('mid_price_seg', False, 2),\n",
       " ('premium_price_seg', False, 6)]"
      ]
     },
     "execution_count": 197,
     "metadata": {},
     "output_type": "execute_result"
    }
   ],
   "source": [
    "list(zip(X_CA.columns,rfe_CA.support_,rfe_CA.ranking_))"
   ]
  },
  {
   "cell_type": "code",
   "execution_count": 198,
   "metadata": {
    "scrolled": true
   },
   "outputs": [
    {
     "data": {
      "text/plain": [
       "Index(['gmv_units', 'total_units', 'TV', 'Digital', 'Content Marketing', 'SEM',\n",
       "       'Radio', 'Other', 'NPS', 'Stock Index', 'Avg Discount %'],\n",
       "      dtype='object')"
      ]
     },
     "execution_count": 198,
     "metadata": {},
     "output_type": "execute_result"
    }
   ],
   "source": [
    "#Following variables are identified as driver variables\n",
    "col_CA = X_CA.columns[rfe_CA.support_]\n",
    "col_CA"
   ]
  },
  {
   "cell_type": "markdown",
   "metadata": {},
   "source": [
    "## Computing the basic linear model for Product Sub-category Computer Accessory"
   ]
  },
  {
   "cell_type": "code",
   "execution_count": 199,
   "metadata": {},
   "outputs": [
    {
     "name": "stdout",
     "output_type": "stream",
     "text": [
      "                            OLS Regression Results                            \n",
      "==============================================================================\n",
      "Dep. Variable:              total_gmv   R-squared:                       0.996\n",
      "Model:                            OLS   Adj. R-squared:                  0.995\n",
      "Method:                 Least Squares   F-statistic:                     887.2\n",
      "Date:                Mon, 02 Dec 2019   Prob (F-statistic):           3.93e-44\n",
      "Time:                        11:43:08   Log-Likelihood:                -653.35\n",
      "No. Observations:                  52   AIC:                             1331.\n",
      "Df Residuals:                      40   BIC:                             1354.\n",
      "Df Model:                          11                                         \n",
      "Covariance Type:            nonrobust                                         \n",
      "=====================================================================================\n",
      "                        coef    std err          t      P>|t|      [0.025      0.975]\n",
      "-------------------------------------------------------------------------------------\n",
      "const               2.45e+06   1.09e+04    223.773      0.000    2.43e+06    2.47e+06\n",
      "gmv_units          3.183e+05   2.02e+04     15.745      0.000    2.77e+05    3.59e+05\n",
      "total_units        1.076e+06   1.52e+04     70.706      0.000    1.05e+06    1.11e+06\n",
      "TV                -6.277e+05   8.23e+04     -7.629      0.000   -7.94e+05   -4.61e+05\n",
      "Digital           -2.987e+06   3.28e+05     -9.100      0.000   -3.65e+06   -2.32e+06\n",
      "Content Marketing  4.372e+05   7.67e+04      5.701      0.000    2.82e+05    5.92e+05\n",
      "SEM                2.818e+06   3.55e+05      7.942      0.000     2.1e+06    3.54e+06\n",
      "Radio             -2.813e+06   3.26e+05     -8.626      0.000   -3.47e+06   -2.15e+06\n",
      "Other               2.89e+06   3.48e+05      8.293      0.000    2.19e+06    3.59e+06\n",
      "NPS                 2.25e+05   3.09e+04      7.283      0.000    1.63e+05    2.87e+05\n",
      "Stock Index        2.369e+05   3.78e+04      6.261      0.000     1.6e+05    3.13e+05\n",
      "Avg Discount %     1.223e+05   1.66e+04      7.361      0.000    8.87e+04    1.56e+05\n",
      "==============================================================================\n",
      "Omnibus:                       25.672   Durbin-Watson:                   1.993\n",
      "Prob(Omnibus):                  0.000   Jarque-Bera (JB):               50.720\n",
      "Skew:                          -1.473   Prob(JB):                     9.69e-12\n",
      "Kurtosis:                       6.838   Cond. No.                         121.\n",
      "==============================================================================\n",
      "\n",
      "Warnings:\n",
      "[1] Standard Errors assume that the covariance matrix of the errors is correctly specified.\n"
     ]
    }
   ],
   "source": [
    "lm1_CA = computeModel(X_CA[col_CA],y_CA)\n",
    "print(lm1_CA.summary())"
   ]
  },
  {
   "cell_type": "markdown",
   "metadata": {},
   "source": [
    "## Cross Validation for the columns obtained"
   ]
  },
  {
   "cell_type": "code",
   "execution_count": 200,
   "metadata": {},
   "outputs": [
    {
     "name": "stdout",
     "output_type": "stream",
     "text": [
      "Fitting 5 folds for each of 28 candidates, totalling 140 fits\n"
     ]
    },
    {
     "name": "stderr",
     "output_type": "stream",
     "text": [
      "[Parallel(n_jobs=1)]: Done 140 out of 140 | elapsed:    0.8s finished\n"
     ]
    },
    {
     "data": {
      "text/plain": [
       "GridSearchCV(cv=5, error_score='raise',\n",
       "       estimator=Lasso(alpha=1.0, copy_X=True, fit_intercept=True, max_iter=1000,\n",
       "   normalize=False, positive=False, precompute=False, random_state=None,\n",
       "   selection='cyclic', tol=0.0001, warm_start=False),\n",
       "       fit_params=None, iid=True, n_jobs=1,\n",
       "       param_grid={'alpha': [0.0001, 0.001, 0.01, 0.05, 0.1, 0.2, 0.3, 0.4, 0.5, 0.6, 0.7, 0.8, 0.9, 1.0, 2.0, 3.0, 4.0, 5.0, 6.0, 7.0, 8.0, 9.0, 10.0, 20, 50, 100, 500, 1000]},\n",
       "       pre_dispatch='2*n_jobs', refit=True, return_train_score=True,\n",
       "       scoring='r2', verbose=1)"
      ]
     },
     "execution_count": 200,
     "metadata": {},
     "output_type": "execute_result"
    }
   ],
   "source": [
    "from sklearn.model_selection import GridSearchCV\n",
    "\n",
    "# list of alphas to tune\n",
    "params = {'alpha': [0.0001, 0.001, 0.01, 0.05, 0.1, \n",
    " 0.2, 0.3, 0.4, 0.5, 0.6, 0.7, 0.8, 0.9, 1.0, 2.0, 3.0, \n",
    " 4.0, 5.0, 6.0, 7.0, 8.0, 9.0, 10.0, 20, 50, 100, 500, 1000 ]}\n",
    "\n",
    "folds = 5\n",
    "\n",
    "# cross validation\n",
    "from sklearn.linear_model import Lasso\n",
    "lasso_ca=Lasso()\n",
    "lasso_regressor_ca = GridSearchCV(estimator = lasso_ca, \n",
    "                               param_grid = params, \n",
    "                               scoring= 'r2', \n",
    "                               cv = folds, \n",
    "                               return_train_score=True,\n",
    "                               verbose = 1)            \n",
    "\n",
    "lasso_regressor_ca.fit(X_CA[col_CA], y_CA)"
   ]
  },
  {
   "cell_type": "code",
   "execution_count": 221,
   "metadata": {},
   "outputs": [
    {
     "data": {
      "image/png": "[encoded data removed]",
      "text/plain": [
       "<Figure size 432x288 with 1 Axes>"
      ]
     },
     "metadata": {
      "needs_background": "light"
     },
     "output_type": "display_data"
    }
   ],
   "source": [
    "#Creating a data frame with the results of lasso regression\n",
    "lasso_cv_results_ca = pd.DataFrame(lasso_regressor_ca.cv_results_)\n",
    "\n",
    "# plotting mean test and train scoes with alpha \n",
    "lasso_cv_results_ca['param_alpha'] = lasso_cv_results_ca['param_alpha'].astype('float32')\n",
    "\n",
    "# plotting\n",
    "plt.plot(lasso_cv_results_ca['param_alpha'], lasso_cv_results_ca['mean_train_score'])\n",
    "plt.plot(lasso_cv_results_ca['param_alpha'], lasso_cv_results_ca['mean_test_score'])\n",
    "plt.xlabel('alpha')\n",
    "plt.ylabel('R-Squared')\n",
    "\n",
    "plt.title(\"R-Squared and alpha for sub-category computer accessoris \")\n",
    "plt.legend(['train score', 'test score'], loc='upper right')\n",
    "plt.show()"
   ]
  },
  {
   "cell_type": "code",
   "execution_count": 222,
   "metadata": {},
   "outputs": [
    {
     "name": "stdout",
     "output_type": "stream",
     "text": [
      "{'alpha': 1000}\n",
      "0.556449239392917\n"
     ]
    }
   ],
   "source": [
    "#Printing the optimal value of alpha and the corresponding R-squared value\n",
    "print(lasso_regressor_ca.best_params_)\n",
    "print(lasso_regressor_ca.best_score_)"
   ]
  },
  {
   "cell_type": "markdown",
   "metadata": {},
   "source": [
    "# Building model for Gaming accessories"
   ]
  },
  {
   "cell_type": "code",
   "execution_count": 203,
   "metadata": {},
   "outputs": [],
   "source": [
    "#Split into X and y\n",
    "\n",
    "#Product Sub-category - Gaming Acccessory\n",
    "y_GA = all_features_GA_subcatg ['total_gmv']\n",
    "X_GA = all_features_GA_subcatg.drop(['total_gmv'],axis=1)"
   ]
  },
  {
   "cell_type": "code",
   "execution_count": 204,
   "metadata": {},
   "outputs": [
    {
     "data": {
      "text/plain": [
       "Index(['Week_Number', 'gmv_units', 'total_units', 'order_cnt', 'TV', 'Digital',\n",
       "       'Sponsorship', 'Content Marketing', 'Online marketing', 'Affiliates',\n",
       "       'SEM', 'Radio', 'Other', 'Prepaid Count', 'Avg Delivery SLA',\n",
       "       'Avg Proc SLA', 'Avg MRP', 'NPS', 'Stock Index',\n",
       "       'Special Sale Day Count', 'Pay Day Count', 'Avg Discount %',\n",
       "       'mean_temp', 'days_snowed', 'days_rained', 'days_precipitated',\n",
       "       'high_price_seg', 'low_price_seg', 'mid_price_seg',\n",
       "       'premium_price_seg'],\n",
       "      dtype='object')"
      ]
     },
     "execution_count": 204,
     "metadata": {},
     "output_type": "execute_result"
    }
   ],
   "source": [
    "from sklearn.preprocessing import MinMaxScaler\n",
    "scaler = MinMaxScaler()\n",
    "cols = X_GA.columns\n",
    "X_GA[cols] = scaler.fit_transform(X_GA[cols])\n",
    "X_GA.columns = cols\n",
    "X_GA.columns"
   ]
  },
  {
   "cell_type": "code",
   "execution_count": 205,
   "metadata": {},
   "outputs": [],
   "source": [
    "from sklearn.feature_selection import RFE\n",
    "from sklearn.linear_model import LinearRegression\n",
    "#Using RFE, identifying the 25 variables \n",
    "lm_GA = LinearRegression()\n",
    "lm_GA.fit(X_GA, y_GA)\n",
    "\n",
    "rfe_GA = RFE(lm_GA, 10)             # running RFE\n",
    "rfe_GA = rfe_GA.fit(X_GA, y_GA)"
   ]
  },
  {
   "cell_type": "code",
   "execution_count": 206,
   "metadata": {},
   "outputs": [
    {
     "data": {
      "text/plain": [
       "[('Week_Number', False, 18),\n",
       " ('gmv_units', False, 8),\n",
       " ('total_units', False, 10),\n",
       " ('order_cnt', True, 1),\n",
       " ('TV', True, 1),\n",
       " ('Digital', True, 1),\n",
       " ('Sponsorship', True, 1),\n",
       " ('Content Marketing', True, 1),\n",
       " ('Online marketing', False, 4),\n",
       " ('Affiliates', True, 1),\n",
       " ('SEM', True, 1),\n",
       " ('Radio', True, 1),\n",
       " ('Other', True, 1),\n",
       " ('Prepaid Count', True, 1),\n",
       " ('Avg Delivery SLA', False, 14),\n",
       " ('Avg Proc SLA', False, 16),\n",
       " ('Avg MRP', False, 7),\n",
       " ('NPS', False, 15),\n",
       " ('Stock Index', False, 3),\n",
       " ('Special Sale Day Count', False, 19),\n",
       " ('Pay Day Count', False, 20),\n",
       " ('Avg Discount %', False, 13),\n",
       " ('mean_temp', False, 9),\n",
       " ('days_snowed', False, 21),\n",
       " ('days_rained', False, 12),\n",
       " ('days_precipitated', False, 11),\n",
       " ('high_price_seg', False, 17),\n",
       " ('low_price_seg', False, 6),\n",
       " ('mid_price_seg', False, 5),\n",
       " ('premium_price_seg', False, 2)]"
      ]
     },
     "execution_count": 206,
     "metadata": {},
     "output_type": "execute_result"
    }
   ],
   "source": [
    "list(zip(X_GA.columns,rfe_GA.support_,rfe_GA.ranking_))"
   ]
  },
  {
   "cell_type": "code",
   "execution_count": 207,
   "metadata": {},
   "outputs": [
    {
     "data": {
      "text/plain": [
       "Index(['order_cnt', 'TV', 'Digital', 'Sponsorship', 'Content Marketing',\n",
       "       'Affiliates', 'SEM', 'Radio', 'Other', 'Prepaid Count'],\n",
       "      dtype='object')"
      ]
     },
     "execution_count": 207,
     "metadata": {},
     "output_type": "execute_result"
    }
   ],
   "source": [
    "#Following variables are identified as driver variables\n",
    "col_GA = X_GA.columns[rfe_GA.support_]\n",
    "col_GA"
   ]
  },
  {
   "cell_type": "markdown",
   "metadata": {},
   "source": [
    "## Computing the basic linear model for Product Sub-category Gamming Accessory"
   ]
  },
  {
   "cell_type": "code",
   "execution_count": 208,
   "metadata": {},
   "outputs": [
    {
     "name": "stdout",
     "output_type": "stream",
     "text": [
      "                            OLS Regression Results                            \n",
      "==============================================================================\n",
      "Dep. Variable:              total_gmv   R-squared:                       0.981\n",
      "Model:                            OLS   Adj. R-squared:                  0.977\n",
      "Method:                 Least Squares   F-statistic:                     217.1\n",
      "Date:                Mon, 02 Dec 2019   Prob (F-statistic):           3.38e-32\n",
      "Time:                        11:43:10   Log-Likelihood:                -693.61\n",
      "No. Observations:                  52   AIC:                             1409.\n",
      "Df Residuals:                      41   BIC:                             1431.\n",
      "Df Model:                          10                                         \n",
      "Covariance Type:            nonrobust                                         \n",
      "=====================================================================================\n",
      "                        coef    std err          t      P>|t|      [0.025      0.975]\n",
      "-------------------------------------------------------------------------------------\n",
      "const               2.28e+05   1.49e+05      1.529      0.134   -7.31e+04    5.29e+05\n",
      "order_cnt          4.768e+06   3.27e+05     14.578      0.000    4.11e+06    5.43e+06\n",
      "TV                 -6.73e+06    1.3e+06     -5.166      0.000   -9.36e+06    -4.1e+06\n",
      "Digital           -5.767e+06   2.21e+06     -2.615      0.012   -1.02e+07   -1.31e+06\n",
      "Sponsorship        2.503e+06   3.37e+05      7.420      0.000    1.82e+06    3.18e+06\n",
      "Content Marketing -6.228e+06   1.11e+06     -5.610      0.000   -8.47e+06   -3.99e+06\n",
      "Affiliates         2.474e+06   5.28e+05      4.686      0.000    1.41e+06    3.54e+06\n",
      "SEM                1.183e+07   3.07e+06      3.850      0.000    5.63e+06     1.8e+07\n",
      "Radio              -1.05e+07   2.72e+06     -3.865      0.000    -1.6e+07   -5.01e+06\n",
      "Other              1.242e+07   2.84e+06      4.367      0.000    6.67e+06    1.82e+07\n",
      "Prepaid Count      1.592e+06   3.16e+05      5.036      0.000    9.53e+05    2.23e+06\n",
      "==============================================================================\n",
      "Omnibus:                        1.964   Durbin-Watson:                   1.923\n",
      "Prob(Omnibus):                  0.375   Jarque-Bera (JB):                1.762\n",
      "Skew:                           0.441   Prob(JB):                        0.414\n",
      "Kurtosis:                       2.813   Cond. No.                         354.\n",
      "==============================================================================\n",
      "\n",
      "Warnings:\n",
      "[1] Standard Errors assume that the covariance matrix of the errors is correctly specified.\n"
     ]
    }
   ],
   "source": [
    "lm1_GA = computeModel(X_GA[col_GA],y_GA)\n",
    "print(lm1_GA.summary())"
   ]
  },
  {
   "cell_type": "code",
   "execution_count": 209,
   "metadata": {},
   "outputs": [
    {
     "name": "stdout",
     "output_type": "stream",
     "text": [
      "Fitting 5 folds for each of 28 candidates, totalling 140 fits\n"
     ]
    },
    {
     "name": "stderr",
     "output_type": "stream",
     "text": [
      "[Parallel(n_jobs=1)]: Done 140 out of 140 | elapsed:    0.7s finished\n"
     ]
    },
    {
     "data": {
      "text/plain": [
       "GridSearchCV(cv=5, error_score='raise',\n",
       "       estimator=Lasso(alpha=1.0, copy_X=True, fit_intercept=True, max_iter=1000,\n",
       "   normalize=False, positive=False, precompute=False, random_state=None,\n",
       "   selection='cyclic', tol=0.0001, warm_start=False),\n",
       "       fit_params=None, iid=True, n_jobs=1,\n",
       "       param_grid={'alpha': [0.0001, 0.001, 0.01, 0.05, 0.1, 0.2, 0.3, 0.4, 0.5, 0.6, 0.7, 0.8, 0.9, 1.0, 2.0, 3.0, 4.0, 5.0, 6.0, 7.0, 8.0, 9.0, 10.0, 20, 50, 100, 500, 1000]},\n",
       "       pre_dispatch='2*n_jobs', refit=True, return_train_score=True,\n",
       "       scoring='r2', verbose=1)"
      ]
     },
     "execution_count": 209,
     "metadata": {},
     "output_type": "execute_result"
    }
   ],
   "source": [
    "from sklearn.model_selection import GridSearchCV\n",
    "\n",
    "# list of alphas to tune\n",
    "params = {'alpha': [0.0001, 0.001, 0.01, 0.05, 0.1, \n",
    " 0.2, 0.3, 0.4, 0.5, 0.6, 0.7, 0.8, 0.9, 1.0, 2.0, 3.0, \n",
    " 4.0, 5.0, 6.0, 7.0, 8.0, 9.0, 10.0, 20, 50, 100, 500, 1000 ]}\n",
    "\n",
    "folds = 5\n",
    "\n",
    "# cross validation\n",
    "from sklearn.linear_model import Lasso\n",
    "lasso_ga=Lasso()\n",
    "lasso_regressor_ga = GridSearchCV(estimator = lasso_ga, \n",
    "                               param_grid = params, \n",
    "                               scoring= 'r2', \n",
    "                               cv = folds, \n",
    "                               return_train_score=True,\n",
    "                               verbose = 1)            \n",
    "\n",
    "lasso_regressor_ga.fit(X_GA[col_GA], y_GA)"
   ]
  },
  {
   "cell_type": "code",
   "execution_count": 223,
   "metadata": {},
   "outputs": [
    {
     "data": {
      "image/png": "[encoded data removed]",
      "text/plain": [
       "<Figure size 432x288 with 1 Axes>"
      ]
     },
     "metadata": {
      "needs_background": "light"
     },
     "output_type": "display_data"
    }
   ],
   "source": [
    "#Creating a data frame with the results of lasso regression\n",
    "lasso_cv_results_ga = pd.DataFrame(lasso_regressor_ga.cv_results_)\n",
    "\n",
    "# plotting mean test and train scoes with alpha \n",
    "lasso_cv_results_ga['param_alpha'] = lasso_cv_results_ga['param_alpha'].astype('float32')\n",
    "\n",
    "# plotting\n",
    "plt.plot(lasso_cv_results_ga['param_alpha'], lasso_cv_results_ga['mean_train_score'])\n",
    "plt.plot(lasso_cv_results_ga['param_alpha'], lasso_cv_results_ga['mean_test_score'])\n",
    "plt.xlabel('alpha')\n",
    "plt.ylabel('R-Squared')\n",
    "\n",
    "plt.title(\"R-Squared and alpha for sub-category Gamming Accessoies \")\n",
    "plt.legend(['train score', 'test score'], loc='upper right')\n",
    "plt.show()"
   ]
  },
  {
   "cell_type": "code",
   "execution_count": 224,
   "metadata": {},
   "outputs": [
    {
     "name": "stdout",
     "output_type": "stream",
     "text": [
      "{'alpha': 1000}\n",
      "0.13510357998163178\n"
     ]
    }
   ],
   "source": [
    "#Printing the optimal value of alpha and the corresponding R-squared value\n",
    "print(lasso_regressor_ga.best_params_)\n",
    "print(lasso_regressor_ga.best_score_)"
   ]
  },
  {
   "cell_type": "markdown",
   "metadata": {},
   "source": [
    "## Building model for Home Audio"
   ]
  },
  {
   "cell_type": "code",
   "execution_count": 212,
   "metadata": {},
   "outputs": [],
   "source": [
    "#Split into X and y\n",
    "\n",
    "#Product Sub-category - Gaming Acccessory\n",
    "y_HA = all_features_HA_subcatg ['total_gmv']\n",
    "X_HA = all_features_HA_subcatg.drop(['total_gmv'],axis=1)"
   ]
  },
  {
   "cell_type": "code",
   "execution_count": 213,
   "metadata": {},
   "outputs": [
    {
     "data": {
      "text/plain": [
       "Index(['Week_Number', 'gmv_units', 'total_units', 'order_cnt', 'TV', 'Digital',\n",
       "       'Sponsorship', 'Content Marketing', 'Online marketing', 'Affiliates',\n",
       "       'SEM', 'Radio', 'Other', 'Prepaid Count', 'Avg Delivery SLA',\n",
       "       'Avg Proc SLA', 'Avg MRP', 'NPS', 'Stock Index',\n",
       "       'Special Sale Day Count', 'Pay Day Count', 'Avg Discount %',\n",
       "       'mean_temp', 'days_snowed', 'days_rained', 'days_precipitated',\n",
       "       'high_price_seg', 'low_price_seg', 'mid_price_seg'],\n",
       "      dtype='object')"
      ]
     },
     "execution_count": 213,
     "metadata": {},
     "output_type": "execute_result"
    }
   ],
   "source": [
    "scaler = MinMaxScaler()\n",
    "cols = X_HA.columns\n",
    "X_HA[cols] = scaler.fit_transform(X_HA[cols])\n",
    "X_HA.columns = cols\n",
    "X_HA.columns"
   ]
  },
  {
   "cell_type": "code",
   "execution_count": 214,
   "metadata": {},
   "outputs": [],
   "source": [
    "#Using RFE, identifying the 25 variables \n",
    "lm_HA = LinearRegression()\n",
    "lm_HA.fit(X_HA, y_HA)\n",
    "\n",
    "rfe_HA = RFE(lm_HA, 10)             # running RFE\n",
    "rfe_HA = rfe_HA.fit(X_HA, y_HA)"
   ]
  },
  {
   "cell_type": "code",
   "execution_count": 215,
   "metadata": {},
   "outputs": [
    {
     "data": {
      "text/plain": [
       "[('Week_Number', False, 8),\n",
       " ('gmv_units', False, 3),\n",
       " ('total_units', True, 1),\n",
       " ('order_cnt', False, 2),\n",
       " ('TV', True, 1),\n",
       " ('Digital', True, 1),\n",
       " ('Sponsorship', False, 6),\n",
       " ('Content Marketing', False, 13),\n",
       " ('Online marketing', False, 4),\n",
       " ('Affiliates', False, 10),\n",
       " ('SEM', True, 1),\n",
       " ('Radio', True, 1),\n",
       " ('Other', True, 1),\n",
       " ('Prepaid Count', False, 14),\n",
       " ('Avg Delivery SLA', False, 5),\n",
       " ('Avg Proc SLA', False, 9),\n",
       " ('Avg MRP', False, 15),\n",
       " ('NPS', True, 1),\n",
       " ('Stock Index', True, 1),\n",
       " ('Special Sale Day Count', False, 17),\n",
       " ('Pay Day Count', False, 19),\n",
       " ('Avg Discount %', False, 7),\n",
       " ('mean_temp', False, 12),\n",
       " ('days_snowed', False, 20),\n",
       " ('days_rained', False, 11),\n",
       " ('days_precipitated', False, 18),\n",
       " ('high_price_seg', True, 1),\n",
       " ('low_price_seg', False, 16),\n",
       " ('mid_price_seg', True, 1)]"
      ]
     },
     "execution_count": 215,
     "metadata": {},
     "output_type": "execute_result"
    }
   ],
   "source": [
    "list(zip(X_HA.columns,rfe_HA.support_,rfe_HA.ranking_))"
   ]
  },
  {
   "cell_type": "code",
   "execution_count": 216,
   "metadata": {},
   "outputs": [
    {
     "data": {
      "text/plain": [
       "Index(['total_units', 'TV', 'Digital', 'SEM', 'Radio', 'Other', 'NPS',\n",
       "       'Stock Index', 'high_price_seg', 'mid_price_seg'],\n",
       "      dtype='object')"
      ]
     },
     "execution_count": 216,
     "metadata": {},
     "output_type": "execute_result"
    }
   ],
   "source": [
    "#Following variables are identified as driver variables\n",
    "col_HA = X_HA.columns[rfe_HA.support_]\n",
    "col_HA"
   ]
  },
  {
   "cell_type": "markdown",
   "metadata": {},
   "source": [
    "## Computing the basic linear model for Product Sub-category Home Audio"
   ]
  },
  {
   "cell_type": "code",
   "execution_count": 228,
   "metadata": {
    "scrolled": false
   },
   "outputs": [
    {
     "name": "stdout",
     "output_type": "stream",
     "text": [
      "                            OLS Regression Results                            \n",
      "==============================================================================\n",
      "Dep. Variable:              total_gmv   R-squared:                       0.999\n",
      "Model:                            OLS   Adj. R-squared:                  0.998\n",
      "Method:                 Least Squares   F-statistic:                     3100.\n",
      "Date:                Mon, 02 Dec 2019   Prob (F-statistic):           2.62e-53\n",
      "Time:                        11:53:47   Log-Likelihood:                -628.81\n",
      "No. Observations:                  50   AIC:                             1280.\n",
      "Df Residuals:                      39   BIC:                             1301.\n",
      "Df Model:                          10                                         \n",
      "Covariance Type:            nonrobust                                         \n",
      "==================================================================================\n",
      "                     coef    std err          t      P>|t|      [0.025      0.975]\n",
      "----------------------------------------------------------------------------------\n",
      "const           3.409e+05    8.3e+04      4.107      0.000    1.73e+05    5.09e+05\n",
      "total_units     4.273e+06   6.27e+05      6.814      0.000       3e+06    5.54e+06\n",
      "TV              1.159e+06   3.32e+05      3.489      0.001    4.87e+05    1.83e+06\n",
      "Digital         5.185e+06   1.55e+06      3.352      0.002    2.06e+06    8.31e+06\n",
      "SEM            -5.816e+06   1.68e+06     -3.465      0.001   -9.21e+06   -2.42e+06\n",
      "Radio           4.439e+06   1.28e+06      3.455      0.001    1.84e+06    7.04e+06\n",
      "Other          -4.607e+06   1.31e+06     -3.524      0.001   -7.25e+06   -1.96e+06\n",
      "NPS            -3.373e+05   1.25e+05     -2.696      0.010    -5.9e+05   -8.42e+04\n",
      "Stock Index    -3.826e+05   1.14e+05     -3.351      0.002   -6.14e+05   -1.52e+05\n",
      "high_price_seg  3.646e+06   1.69e+05     21.587      0.000     3.3e+06    3.99e+06\n",
      "mid_price_seg   5.316e+06   5.38e+05      9.880      0.000    4.23e+06     6.4e+06\n",
      "==============================================================================\n",
      "Omnibus:                        0.956   Durbin-Watson:                   2.021\n",
      "Prob(Omnibus):                  0.620   Jarque-Bera (JB):                0.961\n",
      "Skew:                           0.183   Prob(JB):                        0.618\n",
      "Kurtosis:                       2.428   Cond. No.                         374.\n",
      "==============================================================================\n",
      "\n",
      "Warnings:\n",
      "[1] Standard Errors assume that the covariance matrix of the errors is correctly specified.\n"
     ]
    }
   ],
   "source": [
    "lm1_HA = computeModel(X_HA[col_HA],y_HA)\n",
    "print(lm1_HA.summary())"
   ]
  },
  {
   "cell_type": "code",
   "execution_count": 218,
   "metadata": {},
   "outputs": [
    {
     "name": "stdout",
     "output_type": "stream",
     "text": [
      "Fitting 5 folds for each of 28 candidates, totalling 140 fits\n"
     ]
    },
    {
     "name": "stderr",
     "output_type": "stream",
     "text": [
      "[Parallel(n_jobs=1)]: Done 140 out of 140 | elapsed:    0.7s finished\n"
     ]
    },
    {
     "data": {
      "text/plain": [
       "GridSearchCV(cv=5, error_score='raise',\n",
       "       estimator=Lasso(alpha=1.0, copy_X=True, fit_intercept=True, max_iter=1000,\n",
       "   normalize=False, positive=False, precompute=False, random_state=None,\n",
       "   selection='cyclic', tol=0.0001, warm_start=False),\n",
       "       fit_params=None, iid=True, n_jobs=1,\n",
       "       param_grid={'alpha': [0.0001, 0.001, 0.01, 0.05, 0.1, 0.2, 0.3, 0.4, 0.5, 0.6, 0.7, 0.8, 0.9, 1.0, 2.0, 3.0, 4.0, 5.0, 6.0, 7.0, 8.0, 9.0, 10.0, 20, 50, 100, 500, 1000]},\n",
       "       pre_dispatch='2*n_jobs', refit=True, return_train_score=True,\n",
       "       scoring='r2', verbose=1)"
      ]
     },
     "execution_count": 218,
     "metadata": {},
     "output_type": "execute_result"
    }
   ],
   "source": [
    "from sklearn.model_selection import GridSearchCV\n",
    "\n",
    "# list of alphas to tune\n",
    "params = {'alpha': [0.0001, 0.001, 0.01, 0.05, 0.1, \n",
    " 0.2, 0.3, 0.4, 0.5, 0.6, 0.7, 0.8, 0.9, 1.0, 2.0, 3.0, \n",
    " 4.0, 5.0, 6.0, 7.0, 8.0, 9.0, 10.0, 20, 50, 100, 500, 1000 ]}\n",
    "\n",
    "folds = 5\n",
    "\n",
    "# cross validation\n",
    "from sklearn.linear_model import Lasso\n",
    "lasso_ha=Lasso()\n",
    "lasso_regressor_ha = GridSearchCV(estimator = lasso_ha, \n",
    "                               param_grid = params, \n",
    "                               scoring= 'r2', \n",
    "                               cv = folds, \n",
    "                               return_train_score=True,\n",
    "                               verbose = 1)            \n",
    "\n",
    "lasso_regressor_ha.fit(X_HA[col_HA], y_HA)"
   ]
  },
  {
   "cell_type": "code",
   "execution_count": 225,
   "metadata": {},
   "outputs": [
    {
     "data": {
      "image/png": "[encoded data removed]",
      "text/plain": [
       "<Figure size 432x288 with 1 Axes>"
      ]
     },
     "metadata": {
      "needs_background": "light"
     },
     "output_type": "display_data"
    }
   ],
   "source": [
    "#Creating a data frame with the results of lasso regression\n",
    "lasso_cv_results_ha = pd.DataFrame(lasso_regressor_ha.cv_results_)\n",
    "\n",
    "# plotting mean test and train scoes with alpha \n",
    "lasso_cv_results_ha['param_alpha'] = lasso_cv_results_ha['param_alpha'].astype('float32')\n",
    "\n",
    "# plotting\n",
    "plt.plot(lasso_cv_results_ha['param_alpha'], lasso_cv_results_ha['mean_train_score'])\n",
    "plt.plot(lasso_cv_results_ha['param_alpha'], lasso_cv_results_ha['mean_test_score'])\n",
    "plt.xlabel('alpha')\n",
    "plt.ylabel('R-Squared')\n",
    "\n",
    "plt.title(\"R-Squared and alpha for sub-category Home Audio \")\n",
    "plt.legend(['train score', 'test score'], loc='upper right')\n",
    "plt.show()"
   ]
  },
  {
   "cell_type": "code",
   "execution_count": 226,
   "metadata": {},
   "outputs": [
    {
     "name": "stdout",
     "output_type": "stream",
     "text": [
      "{'alpha': 1000}\n",
      "0.9895040854392814\n"
     ]
    }
   ],
   "source": [
    "#Printing the optimal value of alpha and the corresponding R-squared value\n",
    "print(lasso_regressor_ha.best_params_)\n",
    "print(lasso_regressor_ha.best_score_)"
   ]
  },
  {
   "cell_type": "code",
   "execution_count": null,
   "metadata": {},
   "outputs": [],
   "source": []
  },
  {
   "cell_type": "code",
   "execution_count": null,
   "metadata": {},
   "outputs": [],
   "source": []
  },
  {
   "cell_type": "code",
   "execution_count": null,
   "metadata": {},
   "outputs": [],
   "source": []
  },
  {
   "cell_type": "code",
   "execution_count": null,
   "metadata": {},
   "outputs": [],
   "source": []
  }
 ],
 "metadata": {
  "kernelspec": {
   "display_name": "Python 3",
   "language": "python",
   "name": "python3"
  },
  "language_info": {
   "codemirror_mode": {
    "name": "ipython",
    "version": 3
   },
   "file_extension": ".py",
   "mimetype": "text/x-python",
   "name": "python",
   "nbconvert_exporter": "python",
   "pygments_lexer": "ipython3",
   "version": "3.7.0"
  }
 },
 "nbformat": 4,
 "nbformat_minor": 2
}
