{
 "cells": [
  {
   "cell_type": "code",
   "execution_count": 165,
   "metadata": {},
   "outputs": [],
   "source": [
    "import warnings\n",
    "warnings.filterwarnings('ignore')\n",
    "\n",
    "import numpy as np\n",
    "import pandas as pd\n",
    "import matplotlib.pyplot as plt\n",
    "import seaborn as sns\n",
    "import dateutil\n",
    "from dateutil.relativedelta import relativedelta\n",
    "import datetime\n"
   ]
  },
  {
   "cell_type": "code",
   "execution_count": 166,
   "metadata": {},
   "outputs": [],
   "source": [
    "df_loan = pd.read_csv(\"./data-set/loan.csv\")"
   ]
  },
  {
   "cell_type": "markdown",
   "metadata": {},
   "source": [
    "### Phase 1 : Data Understanding"
   ]
  },
  {
   "cell_type": "code",
   "execution_count": 167,
   "metadata": {},
   "outputs": [
    {
     "data": {
      "text/plain": [
       "Index(['id', 'member_id', 'loan_amnt', 'funded_amnt', 'funded_amnt_inv',\n",
       "       'term', 'int_rate', 'installment', 'grade', 'sub_grade',\n",
       "       ...\n",
       "       'num_tl_90g_dpd_24m', 'num_tl_op_past_12m', 'pct_tl_nvr_dlq',\n",
       "       'percent_bc_gt_75', 'pub_rec_bankruptcies', 'tax_liens',\n",
       "       'tot_hi_cred_lim', 'total_bal_ex_mort', 'total_bc_limit',\n",
       "       'total_il_high_credit_limit'],\n",
       "      dtype='object', length=111)"
      ]
     },
     "execution_count": 167,
     "metadata": {},
     "output_type": "execute_result"
    }
   ],
   "source": [
    "# List Columns \n",
    "df_loan.columns"
   ]
  },
  {
   "cell_type": "markdown",
   "metadata": {},
   "source": [
    "*__Our Understanding of few key columns__*"
   ]
  },
  {
   "cell_type": "markdown",
   "metadata": {},
   "source": [
    "<table>\n",
    "<thead>\n",
    "<tr>\n",
    "  <th>Column Name</th>\n",
    "  <th>Details</th>\n",
    "</tr>\n",
    "</thead>\n",
    "<tbody>\n",
    "<tr><td>collections_12_mths_ex_med</td><td>Number of collections in 12 months excluding medical collections. Can be ignored, mostly NA/0 values</td></tr>\n",
    "<tr><td>funded_amnt</td><td>Amount that was funded by the investors. In few cases this will be lesser than the Loan Amount, the remianing amount is problably lent by LC dirctly</td></tr>\n",
    "<tr><td>int_rate</td><td>Interest Rate on the loan</td></tr>\n",
    "<tr><td>last_pymnt_amnt</td><td>Last total payment amount received. This will be 0 for Charged off</td></tr>\n",
    "<tr><td>last_pymnt_d</td><td>Last month payment was received</td></tr>\n",
    "<tr><td>loan_status</td><td>Current status of the loan</td></tr>\n",
    "<tr><td>mths_since_last_major_derog</td><td>Months since most recent 90-day or worse rating</td></tr>\n",
    "<tr><td>mths_since_last_record</td><td>months since the last (derogatory) public  records</td></tr>\n",
    "<tr><td>open_acc</td><td>The number of open credit lines in the borrower's credit file. Ranges from 2 - 44</td></tr>\n",
    "<tr><td>out_prncp_inv</td><td>Remaining outstanding principal for portion of total amount funded by investors</td></tr>\n",
    "<tr><td>pub_rec</td><td>Number of derogatory public records.Another piece of data Lending Club provides is the number of public records on file. This is pulled from the credit report, so don’t confuse it with criminal public records. Credit report public records are things like bankruptcy, foreclosure, tax liens, and past-due child support.</td></tr>\n",
    "<tr><td>recoveries</td><td>Recovery after defauls</td></tr>\n",
    "<tr><td>revol_util</td><td>Revolving line utilization rate, or the amount of credit the borrower is using relative to all available revolving credit.</td></tr>\n",
    "<tr><td>sub_grade</td><td>The majority of loans is either graded as B or C?—?together these correspond to more than 50% of the loan population.While there is a considerable amount of A graded or “prime” loans (~17%), there is a small amount of G graded, or “uncollectible” loans (~0,06%). </td></tr>\n",
    "<tr><td>term</td><td>loan term.Only 2 term is available 36 months and 60 months</td></tr>\n",
    "<tr><td>total_pymnt</td><td>Payments received to date for total amount funded</td></tr>\n",
    "<tr><td>total_rec_int</td><td>Interest received to date</td></tr>\n",
    "<tr><td>verification_status</td><td>Not verified, Verified (by LC) and Source verified are the options</td></tr>\n",
    "</tbody>\n",
    "</table>"
   ]
  },
  {
   "cell_type": "markdown",
   "metadata": {},
   "source": [
    "### Phase 2 : Data Cleaning & Manipulation"
   ]
  },
  {
   "cell_type": "code",
   "execution_count": 168,
   "metadata": {},
   "outputs": [
    {
     "name": "stdout",
     "output_type": "stream",
     "text": [
      "<class 'pandas.core.frame.DataFrame'>\n",
      "RangeIndex: 39717 entries, 0 to 39716\n",
      "Data columns (total 5 columns):\n",
      "earliest_cr_line      39717 non-null datetime64[ns]\n",
      "issue_d               39717 non-null datetime64[ns]\n",
      "last_credit_pull_d    39715 non-null datetime64[ns]\n",
      "last_pymnt_d          39646 non-null datetime64[ns]\n",
      "next_pymnt_d          1140 non-null datetime64[ns]\n",
      "dtypes: datetime64[ns](5)\n",
      "memory usage: 1.5 MB\n"
     ]
    }
   ],
   "source": [
    "# Converting the relevant date columns to datetime objects\n",
    "df_loan['earliest_cr_line'] = pd.to_datetime(df_loan['earliest_cr_line'],format='%b-%y')\n",
    "df_loan['issue_d'] = pd.to_datetime(df_loan['issue_d'],format='%b-%y')\n",
    "df_loan['last_credit_pull_d'] = pd.to_datetime(df_loan['last_credit_pull_d'],format='%b-%y')\n",
    "df_loan['last_pymnt_d'] = pd.to_datetime(df_loan['last_pymnt_d'],format='%b-%y')\n",
    "df_loan['next_pymnt_d'] = pd.to_datetime(df_loan['next_pymnt_d'],format='%b-%y')\n",
    "df_loan[['earliest_cr_line','issue_d','last_credit_pull_d','last_pymnt_d','next_pymnt_d']].info()"
   ]
  },
  {
   "cell_type": "code",
   "execution_count": 169,
   "metadata": {},
   "outputs": [
    {
     "name": "stdout",
     "output_type": "stream",
     "text": [
      "earliest_cr_line:   1969-02-01 00:00:00  to  2068-12-01 00:00:00\n",
      "issue_d:   2007-06-01 00:00:00  to  2011-12-01 00:00:00\n",
      "last_credit_pull_d:   2007-05-01 00:00:00  to  2016-05-01 00:00:00\n",
      "last_pymnt_d:   2008-01-01 00:00:00  to  2016-05-01 00:00:00\n",
      "next_pymnt_d:   2016-06-01 00:00:00  to  2016-07-01 00:00:00\n"
     ]
    }
   ],
   "source": [
    "#Printing the range of the date values after formatting\n",
    "print(\"earliest_cr_line:  \", df_loan['earliest_cr_line'].min(), \" to \", df_loan['earliest_cr_line'].max())\n",
    "print(\"issue_d:  \", df_loan['issue_d'].min(), \" to \", df_loan['issue_d'].max())\n",
    "print(\"last_credit_pull_d:  \", df_loan['last_credit_pull_d'].min(), \" to \", df_loan['last_credit_pull_d'].max())\n",
    "print(\"last_pymnt_d:  \", df_loan['last_pymnt_d'].min(), \" to \", df_loan['last_pymnt_d'].max())\n",
    "print(\"next_pymnt_d:  \", df_loan['next_pymnt_d'].min(), \" to \", df_loan['next_pymnt_d'].max())"
   ]
  },
  {
   "cell_type": "code",
   "execution_count": 170,
   "metadata": {},
   "outputs": [],
   "source": [
    "#earliest_cr_line column has values in the future due to ambiguity with two-digit year value in data. So date values greater \n",
    "#than 2011 need to be adjusted to previous century (1900s)\n",
    "df_loan['earliest_cr_line_corrected'] = 0\n",
    "df_loan.loc[df_loan['earliest_cr_line'] > '2012-01-01', 'earliest_cr_line_corrected'] = df_loan['earliest_cr_line'].dt.year-100\n",
    "df_loan.loc[df_loan['earliest_cr_line'] < '2012-01-01', 'earliest_cr_line_corrected'] = df_loan['earliest_cr_line']\n",
    "df_loan['earliest_cr_line_corrected'] = pd.to_datetime(df_loan['earliest_cr_line_corrected'])\n",
    "df_loan['earliest_cr_line_corrected']\n",
    "df_loan = df_loan.drop(['earliest_cr_line'],axis=1)\n",
    "df_loan.rename(columns = {'earliest_cr_line_corrected':'earliest_cr_line'}, inplace = True)"
   ]
  },
  {
   "cell_type": "code",
   "execution_count": 171,
   "metadata": {},
   "outputs": [
    {
     "name": "stdout",
     "output_type": "stream",
     "text": [
      "earliest_cr_line:   1969-02-01 00:00:00  to  2008-11-01 00:00:00\n"
     ]
    }
   ],
   "source": [
    "#Checking the range of date values for the earliest_cr_line column\n",
    "print(\"earliest_cr_line:  \", df_loan['earliest_cr_line'].min(), \" to \", df_loan['earliest_cr_line'].max())"
   ]
  },
  {
   "cell_type": "code",
   "execution_count": 172,
   "metadata": {},
   "outputs": [
    {
     "name": "stdout",
     "output_type": "stream",
     "text": [
      "<class 'pandas.core.frame.DataFrame'>\n",
      "RangeIndex: 39717 entries, 0 to 39716\n",
      "Data columns (total 28 columns):\n",
      "installment                    39717 non-null float64\n",
      "dti                            39717 non-null float64\n",
      "delinq_2yrs                    39717 non-null int64\n",
      "inq_last_6mths                 39717 non-null int64\n",
      "revol_bal                      39717 non-null int64\n",
      "total_rec_prncp                39717 non-null float64\n",
      "total_rec_late_fee             39717 non-null float64\n",
      "funded_amnt                    39717 non-null int64\n",
      "mths_since_last_record         2786 non-null float64\n",
      "open_acc                       39717 non-null int64\n",
      "out_prncp_inv                  39717 non-null float64\n",
      "total_pymnt                    39717 non-null float64\n",
      "last_pymnt_amnt                39717 non-null float64\n",
      "mths_since_last_major_derog    0 non-null float64\n",
      "id                             39717 non-null int64\n",
      "int_rate                       39717 non-null object\n",
      "pub_rec                        39717 non-null int64\n",
      "revol_util                     39667 non-null object\n",
      "total_rec_int                  39717 non-null float64\n",
      "recoveries                     39717 non-null float64\n",
      "collections_12_mths_ex_med     39661 non-null float64\n",
      "loan_amnt                      39717 non-null int64\n",
      "funded_amnt_inv                39717 non-null float64\n",
      "annual_inc                     39717 non-null float64\n",
      "mths_since_last_delinq         14035 non-null float64\n",
      "total_acc                      39717 non-null int64\n",
      "out_prncp                      39717 non-null float64\n",
      "total_pymnt_inv                39717 non-null float64\n",
      "dtypes: float64(17), int64(9), object(2)\n",
      "memory usage: 8.5+ MB\n"
     ]
    }
   ],
   "source": [
    "# Checking the data types of the relevant columns containing numeric values\n",
    "df_loan[['installment',\n",
    "          'dti',\n",
    "          'delinq_2yrs',\n",
    "          'inq_last_6mths',\n",
    "          'revol_bal',\n",
    "          'total_rec_prncp',\n",
    "          'total_rec_late_fee',\n",
    "          'funded_amnt',\n",
    "          'mths_since_last_record',\n",
    "          'open_acc',\n",
    "          'out_prncp_inv',\n",
    "          'total_pymnt',\n",
    "          'last_pymnt_amnt',\n",
    "          'mths_since_last_major_derog',\n",
    "          'id',\n",
    "          'int_rate',\n",
    "          'pub_rec',\n",
    "          'revol_util',\n",
    "          'total_rec_int',\n",
    "          'recoveries',\n",
    "          'collections_12_mths_ex_med',\n",
    "          'loan_amnt',\n",
    "          'funded_amnt_inv',\n",
    "          'annual_inc',\n",
    "          'mths_since_last_delinq',\n",
    "          'total_acc',\n",
    "          'out_prncp',\n",
    "          'total_pymnt_inv']].info()"
   ]
  },
  {
   "cell_type": "code",
   "execution_count": 173,
   "metadata": {},
   "outputs": [
    {
     "data": {
      "text/html": [
       "<div>\n",
       "<style scoped>\n",
       "    .dataframe tbody tr th:only-of-type {\n",
       "        vertical-align: middle;\n",
       "    }\n",
       "\n",
       "    .dataframe tbody tr th {\n",
       "        vertical-align: top;\n",
       "    }\n",
       "\n",
       "    .dataframe thead th {\n",
       "        text-align: right;\n",
       "    }\n",
       "</style>\n",
       "<table border=\"1\" class=\"dataframe\">\n",
       "  <thead>\n",
       "    <tr style=\"text-align: right;\">\n",
       "      <th></th>\n",
       "      <th>int_rate</th>\n",
       "      <th>revol_util</th>\n",
       "    </tr>\n",
       "  </thead>\n",
       "  <tbody>\n",
       "    <tr>\n",
       "      <th>0</th>\n",
       "      <td>10.65%</td>\n",
       "      <td>83.70%</td>\n",
       "    </tr>\n",
       "    <tr>\n",
       "      <th>1</th>\n",
       "      <td>15.27%</td>\n",
       "      <td>9.40%</td>\n",
       "    </tr>\n",
       "    <tr>\n",
       "      <th>2</th>\n",
       "      <td>15.96%</td>\n",
       "      <td>98.50%</td>\n",
       "    </tr>\n",
       "    <tr>\n",
       "      <th>3</th>\n",
       "      <td>13.49%</td>\n",
       "      <td>21%</td>\n",
       "    </tr>\n",
       "    <tr>\n",
       "      <th>4</th>\n",
       "      <td>12.69%</td>\n",
       "      <td>53.90%</td>\n",
       "    </tr>\n",
       "  </tbody>\n",
       "</table>\n",
       "</div>"
      ],
      "text/plain": [
       "  int_rate revol_util\n",
       "0   10.65%     83.70%\n",
       "1   15.27%      9.40%\n",
       "2   15.96%     98.50%\n",
       "3   13.49%        21%\n",
       "4   12.69%     53.90%"
      ]
     },
     "execution_count": 173,
     "metadata": {},
     "output_type": "execute_result"
    }
   ],
   "source": [
    "#Checking the data in the 2 columns with numeric data but are not recognized as numeric data types\n",
    "df_loan[['int_rate','revol_util']].head()"
   ]
  },
  {
   "cell_type": "code",
   "execution_count": 174,
   "metadata": {},
   "outputs": [],
   "source": [
    "#Based on analysis in previous step, int_rate and revol_util columns are not being recognized as numeric data types as they \n",
    "#have % symbol in the data. So both these columns need to be converted to numeric types after stripping off the % symbol from\n",
    "#the data\n",
    "\n",
    "#Splitting the columns on % character\n",
    "int_rate = df_loan['int_rate'].str.split('%',n=1,expand=True)\n",
    "revol_util = df_loan['revol_util'].str.split('%',n=1,expand=True)\n",
    "\n",
    "#Assigning the numeric values after stripping off the % characters to the original columns\n",
    "df_loan['int_rate'] = int_rate\n",
    "df_loan['revol_util'] = revol_util\n",
    "\n",
    "#Casting the columns to float types\n",
    "df_loan['int_rate'] = df_loan['int_rate'].astype(float)\n",
    "df_loan['revol_util'] = df_loan['revol_util'].astype(float)"
   ]
  },
  {
   "cell_type": "code",
   "execution_count": 175,
   "metadata": {},
   "outputs": [
    {
     "name": "stdout",
     "output_type": "stream",
     "text": [
      "<class 'pandas.core.frame.DataFrame'>\n",
      "RangeIndex: 39717 entries, 0 to 39716\n",
      "Data columns (total 2 columns):\n",
      "int_rate      39717 non-null float64\n",
      "revol_util    39667 non-null float64\n",
      "dtypes: float64(2)\n",
      "memory usage: 620.7 KB\n"
     ]
    }
   ],
   "source": [
    "#Checking that the 2 columns int_rate and revol_util are now being recognized as numeric data types\n",
    "df_loan[['int_rate','revol_util']].info()"
   ]
  },
  {
   "cell_type": "code",
   "execution_count": 176,
   "metadata": {},
   "outputs": [],
   "source": [
    "#Adding some derived metrics for using during analysis\n",
    "\n",
    "#Adding loan_default column: 1 for Charged Off loans and 0 for other cases\n",
    "df_loan['loan_default'] = np.where(df_loan['loan_status'] == 'Charged Off',1,0)\n",
    "\n",
    "#Creating a binned column for interest rates\n",
    "int_rate_bins = [0,5,10,15,20,25]\n",
    "df_loan['int_rate_bins'] = pd.cut(df_loan['int_rate'], bins=int_rate_bins)"
   ]
  },
  {
   "cell_type": "code",
   "execution_count": null,
   "metadata": {},
   "outputs": [],
   "source": []
  }
 ],
 "metadata": {
  "kernelspec": {
   "display_name": "Python 3",
   "language": "python",
   "name": "python3"
  },
  "language_info": {
   "codemirror_mode": {
    "name": "ipython",
    "version": 3
   },
   "file_extension": ".py",
   "mimetype": "text/x-python",
   "name": "python",
   "nbconvert_exporter": "python",
   "pygments_lexer": "ipython3",
   "version": "3.7.0"
  }
 },
 "nbformat": 4,
 "nbformat_minor": 2
}
